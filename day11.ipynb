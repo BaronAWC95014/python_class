{
  "nbformat": 4,
  "nbformat_minor": 0,
  "metadata": {
    "colab": {
      "name": "day11.ipynb",
      "provenance": [],
      "toc_visible": true,
      "authorship_tag": "ABX9TyPKD1t82qPm/qHrFH78IvS/",
      "include_colab_link": true
    },
    "kernelspec": {
      "name": "python3",
      "display_name": "Python 3"
    },
    "language_info": {
      "name": "python"
    }
  },
  "cells": [
    {
      "cell_type": "markdown",
      "metadata": {
        "id": "view-in-github",
        "colab_type": "text"
      },
      "source": [
        "<a href=\"https://colab.research.google.com/github/BaronAWC95014/python_class_instructor/blob/main/day11.ipynb\" target=\"_parent\"><img src=\"https://colab.research.google.com/assets/colab-badge.svg\" alt=\"Open In Colab\"/></a>"
      ]
    },
    {
      "cell_type": "markdown",
      "metadata": {
        "id": "Kt6c6OhCqyiH"
      },
      "source": [
        "# Last Time's Review Question"
      ]
    },
    {
      "cell_type": "markdown",
      "metadata": {
        "id": "YGcFbcu2W2q8"
      },
      "source": [
        "Make a `Triangle` class that contains a constructor, a `__repr__` method, and a method that returns the perimeter. Next, create a subclass called `EquilateralTriangle` with a new constructor and a new method that computes the area. The area formula is `(sqrt(3)/2)l * l/2`."
      ]
    },
    {
      "cell_type": "code",
      "metadata": {
        "colab": {
          "base_uri": "https://localhost:8080/"
        },
        "id": "imThEozWjVUV",
        "outputId": "578b1b1b-bb45-4a52-c0ae-3fd1e9ce85da"
      },
      "source": [
        "import math\n",
        "\n",
        "class Triangle:\n",
        "    def __init__(self, side_1, side_2, side_3, center=(0.0, 0.0)):\n",
        "        self.side_1 = side_1\n",
        "        self.side_2 = side_2\n",
        "        self.side_3 = side_3\n",
        "        self.center = center\n",
        "    \n",
        "    def __repr__(self):\n",
        "        return \"Triangle(side_1={s1}, side_2={s2}, side_3={s3} center={c})\".format(s1=self.side_1,\n",
        "                                                                                   s2=self.side_2,\n",
        "                                                                                   s3=self.side_3,\n",
        "                                                                                   c=self.center)\n",
        "    \n",
        "    def compute_perimeter(self):\n",
        "        return self.side_1 + self.side_2 + self.side_3\n",
        "\n",
        "class EquilateralTriangle(Triangle):\n",
        "    def __init__(self, side, center=(0.0, 0.0)):\n",
        "        super().__init__(side, side, side, center)\n",
        "    \n",
        "    def __repr__(self):\n",
        "        return \"EquilateralTriangle(side={s}, center={c})\".format(s=self.side1,\n",
        "                                                                  c=self.center)\n",
        "    \n",
        "    def compute_area(self):\n",
        "        # it doesn't matter which side you use since the triangle is equilateral\n",
        "        return math.sqrt(3)/2 * (self.side_1 ** 2)/2\n",
        "\n",
        "t1 = Triangle(2, 3, 4)\n",
        "print(t1)\n",
        "print(t1.compute_perimeter())\n",
        "\n",
        "et1 = EquilateralTriangle(3)\n",
        "print(et1.compute_area())"
      ],
      "execution_count": 3,
      "outputs": [
        {
          "output_type": "stream",
          "text": [
            "Triangle(side_1=2, side_2=3, side_3=4 center=(0.0, 0.0))\n",
            "9\n",
            "3.8971143170299736\n"
          ],
          "name": "stdout"
        }
      ]
    },
    {
      "cell_type": "markdown",
      "metadata": {
        "id": "WSZU-xazmMLH"
      },
      "source": [
        "**EXERCISE:** Write a method in `Triangle` to check if it is a real triangle. It can only be a triangle if the sum of the 2 smaller sides is bigger than the largest side. For example, a triangle with sides 1, 5, and 7 can't be a real triangle since the sides can't \"connect\" with each other."
      ]
    },
    {
      "cell_type": "code",
      "metadata": {
        "colab": {
          "base_uri": "https://localhost:8080/"
        },
        "id": "mKGTdH24pe4M",
        "outputId": "a75b288f-d702-488a-f12f-8a371aba8aa9"
      },
      "source": [
        "import math\n",
        "\n",
        "class Triangle:\n",
        "    def __init__(self, side_1, side_2, side_3, center=(0.0, 0.0)):\n",
        "        self.side_1 = side_1\n",
        "        self.side_2 = side_2\n",
        "        self.side_3 = side_3\n",
        "        self.center = center\n",
        "    \n",
        "    def __repr__(self):\n",
        "        return \"Triangle(side_1={s1}, side_2={s2}, side_3={s3} center={c})\".format(s1=self.side_1,\n",
        "                                                                                   s2=self.side_2,\n",
        "                                                                                   s3=self.side_3,\n",
        "                                                                                   c=self.center)\n",
        "    \n",
        "    def compute_perimeter(self):\n",
        "        return self.side_1 + self.side_2 + self.side_3\n",
        "\n",
        "    def is_real_triangle(self):\n",
        "        # sort the sides from least to greatest\n",
        "        smallest, medium, largest = sorted([self.side_1, self.side_2, self.side_3])\n",
        "\n",
        "        # return true\n",
        "        return smallest + medium > largest\n",
        "\n",
        "class EquilateralTriangle(Triangle):\n",
        "    def __init__(self, side, center=(0.0, 0.0)):\n",
        "        super().__init__(side, side, side, center)\n",
        "    \n",
        "    def __repr__(self):\n",
        "        return \"EquilateralTriangle(side={s}, center={c})\".format(s=self.side1,\n",
        "                                                                  c=self.center)\n",
        "    \n",
        "    def compute_area(self):\n",
        "        # it doesn't matter which side you use since the triangle is equilateral\n",
        "        return math.sqrt(3)/2 * (self.side_1 ** 2)/2\n",
        "\n",
        "t1 = Triangle(2, 3, 4)\n",
        "\n",
        "print(t1.is_real_triangle())"
      ],
      "execution_count": 6,
      "outputs": [
        {
          "output_type": "stream",
          "text": [
            "False\n"
          ],
          "name": "stdout"
        }
      ]
    },
    {
      "cell_type": "markdown",
      "metadata": {
        "id": "LVMl8fpHdirm"
      },
      "source": [
        "# The `input()` Function"
      ]
    },
    {
      "cell_type": "markdown",
      "metadata": {
        "id": "PYebKLmFeX4f"
      },
      "source": [
        "`input()` is used to get a user input, as the name suggests."
      ]
    },
    {
      "cell_type": "code",
      "metadata": {
        "colab": {
          "base_uri": "https://localhost:8080/"
        },
        "id": "54tGTBN1eovC",
        "outputId": "4c1749e6-6dda-4982-c685-959b7a9b5c69"
      },
      "source": [
        "print(\"the user inputted '\" + input(\"type any message: \") + \"'\")"
      ],
      "execution_count": 1,
      "outputs": [
        {
          "output_type": "stream",
          "text": [
            "type any message: hello world\n",
            "the user inputted 'hello world'\n"
          ],
          "name": "stdout"
        }
      ]
    },
    {
      "cell_type": "markdown",
      "metadata": {
        "id": "ysaXsWt9kF3V"
      },
      "source": [
        "It always returns a string, even if what is returned is a number."
      ]
    },
    {
      "cell_type": "code",
      "metadata": {
        "colab": {
          "base_uri": "https://localhost:8080/"
        },
        "id": "xCxZI7fOkH5k",
        "outputId": "4297bbe5-197a-4aa1-be78-5fdf17aacf84"
      },
      "source": [
        "print(type(input(\"type any message: \")))"
      ],
      "execution_count": 2,
      "outputs": [
        {
          "output_type": "stream",
          "text": [
            "type any message: hello world\n",
            "<class 'str'>\n"
          ],
          "name": "stdout"
        }
      ]
    },
    {
      "cell_type": "markdown",
      "metadata": {
        "id": "EYAlIkCZgJaw"
      },
      "source": [
        "# Abstract Classes and Methods"
      ]
    },
    {
      "cell_type": "markdown",
      "metadata": {
        "id": "qTIkJKlwrNsG"
      },
      "source": [
        "When a class is abstract, it means that at least 1 of its methods aren't implemented yet. It is up to its children (the classes that inherit it) to finish the methods.\n",
        "\n",
        "You have to import `ABC` (abstract base class) and `abstractmethod` to do this. The class to be made abstract needs to inherit `ABC`. The methods inside need `@abstractmethod` above them to be abstract. When a class inherits the abstract class, they are required to have a method of the same name.\n",
        "\n",
        "This example is a snippet of a tic-tac-toe game I made in Python. We see that in the class `Player`, `__repr__()` and `move()` are abstract. Since `HumanPlayer` inherits `Player`, it is required to have a `__repr__()` and `move()` method."
      ]
    },
    {
      "cell_type": "code",
      "metadata": {
        "id": "bi0M9EDq7CM7"
      },
      "source": [
        "from abc import ABC, abstractmethod\n",
        "\n",
        "class Player(ABC):\n",
        "    def __init__(self, isFirstPlayer):\n",
        "        self.__symbol = 'X' if isFirstPlayer else 'O'\n",
        "\n",
        "    # abstract methods force this class' children to have their own implementation of this method\n",
        "    @abstractmethod\n",
        "    def __repr__(self):\n",
        "        pass\n",
        "    \n",
        "    # private variables remain private even to their children (classes that inherit this class), so we need a getter\n",
        "    def getSymbol(self):\n",
        "        return self.__symbol\n",
        "    \n",
        "    @abstractmethod\n",
        "    def move(self):\n",
        "        pass\n",
        "\n",
        "class HumanPlayer(Player):\n",
        "    def __init__(self, isFirstPlayer):\n",
        "        super().__init__(isFirstPlayer)\n",
        "\n",
        "    def __repr__(self):\n",
        "        return \"Human Player \" + self.getSymbol()\n",
        "\n",
        "    def move(self, availableSpaces, board):\n",
        "        '''Ask the user to input a move'''\n",
        "        space = input('You are ' + self.getSymbol() + '. Type the number corresponding to the space you want to move at: ')\n",
        "        while space not in availableSpaces:\n",
        "            space = input('\\n\"' + space + '\" is not an available space!\\nYou are' + self.getSymbol() + '. Type the number corresponding to the space you want to move at: ')\n",
        "        return space, self.getSymbol()"
      ],
      "execution_count": null,
      "outputs": []
    },
    {
      "cell_type": "markdown",
      "metadata": {
        "id": "0Y9ABUNAIALh"
      },
      "source": [
        "# Function/Method Signature"
      ]
    },
    {
      "cell_type": "markdown",
      "metadata": {
        "id": "E8VJrKxSIGN4"
      },
      "source": [
        "A method signature refers to the method name, input(s), and output (it looks like I'm returning 2 things in `move()`, but it's actually a tuple with 2 items inside). For example, this is a method signature:\n",
        "\n",
        "```\n",
        "name: move\n",
        "inputs: availableSpaces, board\n",
        "output: (space, self.getSymbol())\n",
        "```\n",
        "\n",
        "When working with multiple classes interacting with each other, it's good to have a plan on what the method signature should be. Otherwise, when you change the signature, you also have to make changes in all the places that use that method.\n",
        "\n",
        "For example, if you were looking closely at the `HumanPlayer` class, you would have noticed that in `move()`, `board` is never used. I did this because I was planning ahead and decided that if I wanted to make a bot that analyzes the board to make the best move, having the entire board would be super useful."
      ]
    },
    {
      "cell_type": "markdown",
      "metadata": {
        "id": "B19zVf9uhwTx"
      },
      "source": [
        "**EXERCISE:** What is the function signature of this function?\n",
        "\n",
        "```\n",
        "def add(a, b):\n",
        "    return a + b\n",
        "```"
      ]
    },
    {
      "cell_type": "markdown",
      "metadata": {
        "id": "iiEwH0J0iWY1"
      },
      "source": [
        "```\n",
        "name: add\n",
        "inputs: a, b\n",
        "output: a + b\n",
        "```"
      ]
    },
    {
      "cell_type": "markdown",
      "metadata": {
        "id": "VsLftlEYJU1Z"
      },
      "source": [
        "# Composition"
      ]
    },
    {
      "cell_type": "markdown",
      "metadata": {
        "id": "0VW2uzZDJYmp"
      },
      "source": [
        "As we already know, when a child class inherits a parent class, the child class gets all the same attributes as the parent. For example, a `Tesla` class inheriting a `Car` class has all the attributes as the `Car` class. The relation between `Tesla` and `Car` is that \"a Tesla **is** a car.\"\n",
        "\n",
        "Composition is when a class is utilizing other classes/objects. For example, in my tic-tac-toe game, the game itself is using 2 players (which are objects) to play the game. The relation between the game and the players is that \"the game **has** 2 players.\"\n",
        "\n",
        "Many online sources say that composition is better than inheritance, but especially in Python, it is hard to avoid inheritance. In Java, there is something called an \"Interface\" which behaves somewhat similarly to an abstract class. The main difference is that there is no inheritance involved. In Python, there is no Interface, so we resort to abstract classes and inheriting those classes. In the end, using either is fine as long as it fits the situation."
      ]
    },
    {
      "cell_type": "code",
      "metadata": {
        "colab": {
          "base_uri": "https://localhost:8080/"
        },
        "id": "_D4i4ADZOXDV",
        "outputId": "065d8807-eca4-4c0f-a678-055d1fc38d16"
      },
      "source": [
        "# a very simple example of composition\n",
        "\n",
        "# class A uses the class that is inputted\n",
        "class A:\n",
        "    def __init__(self, otherClass):\n",
        "        print(otherClass.value1)\n",
        "\n",
        "# class B is independent, and there was no inheritance\n",
        "class B:\n",
        "    def __init__(self):\n",
        "        self.value1 = \"hello\"\n",
        "\n",
        "# create obj b\n",
        "b = B()\n",
        "\n",
        "# create obj a, which uses obj b\n",
        "a = A(b)\n",
        "\n",
        "# the 2 objects interact with each other without inheritance"
      ],
      "execution_count": 3,
      "outputs": [
        {
          "output_type": "stream",
          "text": [
            "hello\n"
          ],
          "name": "stdout"
        }
      ]
    },
    {
      "cell_type": "markdown",
      "metadata": {
        "id": "_O-EMO8LRFqZ"
      },
      "source": [
        "# More on My Tic-Tac-Toe Game"
      ]
    },
    {
      "cell_type": "markdown",
      "metadata": {
        "id": "kovjhqB9mo3P"
      },
      "source": [
        "## Inheritance Version"
      ]
    },
    {
      "cell_type": "markdown",
      "metadata": {
        "id": "dWZ9OCU6RIRQ"
      },
      "source": [
        "I have a [basic version of my tic-tac-toe game](https://colab.research.google.com/drive/1mRVBZtgMm5LZj13e5m-aCqTO5Z-qBaqJ?usp=sharing) that has a single class with the 2 players inside. 1 of them must be a human player and the other must be a bot.\n",
        "\n",
        "You can inherit `TTTGame` and override one of the player methods, but expanding the game would get exponentially more difficult. More specifically, there would be `num_players choose 2` classes.\n",
        "\n"
      ]
    },
    {
      "cell_type": "markdown",
      "metadata": {
        "id": "PrSxQubkmrh4"
      },
      "source": [
        "## Composition Version"
      ]
    },
    {
      "cell_type": "markdown",
      "metadata": {
        "id": "TEDYMhp3mmfP"
      },
      "source": [
        "This is a [newer version with abstract classes, inheritance, and composition](https://colab.research.google.com/drive/1jcZsNPRRRYwE5WJSx1moZCYoiq817liI?usp=sharing) that is based on the original version. This time, you can change who the players are outside of the class.\n",
        "- The abstract class is the `Player` class. This is not an actual player but it is the base class for its children.\n",
        "    - It has 2 abstract methods called `__repr__()` and `move()`. These 2 methods must exist in the child classes.\n",
        "        - `__repr__()`, as we have showed before, is what gets printed when you print the class name. This is used to display whose turn it is.\n",
        "        - `move()` is how the player moves. In `HumanPlayer`'s case, it asks the user to input a move. In `RandomPlayer`'s case, it picks a random space.\n",
        "- Child classes inherit the abstract class to become a player. The relation between `HumanPlayer`/`RandomPlayer` and `Player` is that \"`HumanPlayer`/`RandomPlayer` **is** a `Player`.\"\n",
        "- Composition is used to input the players into `TTTGame`. The relation between `TTTGame` and the players is that \"`TTTGame` **has** 2 players.\"\n",
        "\n",
        "Since we used composition, we can add a new player whenever we want and face it off with another player. I could inherit `Player` and make a smart bot that never loses, only wins or ties. Then, I could input that bot into TTTGame and play. This way, for each new type of player, I only have to make 1 new class. There would be `num_players + 1` total classes.\n",
        "\n",
        "To see how much more efficient this version is than the inheritance version, let's suppose that we have 10 types of players. We would have 45 classes with the old version, but only 11 players in the new version."
      ]
    },
    {
      "cell_type": "markdown",
      "metadata": {
        "id": "6vJ8noOFdJ_4"
      },
      "source": [
        "**EXERCISE:** Make a new class called `FirstMovePlayer` that picks the first available move based on `availableSpaces`."
      ]
    },
    {
      "cell_type": "code",
      "metadata": {
        "id": "yNlMgLwyRIFi"
      },
      "source": [
        "class FirstMovePlayer(Player):\n",
        "    def __init__(self, isFirstPlayer):\n",
        "        super().__init__(isFirstPlayer)\n",
        "    \n",
        "    def __repr__(self):\n",
        "        return \"First-move Bot Player \" + self.getSymbol()\n",
        "\n",
        "    def move(self, availableSpaces, board):\n",
        "        '''Pick the very first space available'''\n",
        "        return availableSpaces[0], self.getSymbol()"
      ],
      "execution_count": null,
      "outputs": []
    },
    {
      "cell_type": "markdown",
      "metadata": {
        "id": "bTG8XkkudFVw"
      },
      "source": [
        "# FIRST LEGO League"
      ]
    },
    {
      "cell_type": "markdown",
      "metadata": {
        "id": "wePByHXjfDn6"
      },
      "source": [
        "If you enjoyed this class, or if you enjoy programming in general, you might like joining an FIRST LEGO League (FLL) team. FLL introduces STEM to kids with LEGO robotics and solving real-world problems.\n",
        "- Teams create a robot with LEGO pieces and program the robot to complete missions for points.\n",
        "    - You can use drag-and-drop coding, or you can also use line coding like Python. Line coding is more likely to yield a better outcome, especially when using OOP.\n",
        "- They also find a real-world problem (based on the season's theme) and think of an innovative solution.\n",
        "- Members also learn how to be a team and make a difference in the world.\n",
        "\n",
        "If this sounds interesting to you, you can go to https://www.firstinspires.org for more information."
      ]
    }
  ]
}