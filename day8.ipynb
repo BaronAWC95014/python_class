{
  "nbformat": 4,
  "nbformat_minor": 0,
  "metadata": {
    "colab": {
      "name": "day8.ipynb",
      "provenance": [],
      "collapsed_sections": [],
      "toc_visible": true,
      "include_colab_link": true
    },
    "kernelspec": {
      "name": "python3",
      "display_name": "Python 3"
    },
    "language_info": {
      "name": "python"
    }
  },
  "cells": [
    {
      "cell_type": "markdown",
      "metadata": {
        "id": "view-in-github",
        "colab_type": "text"
      },
      "source": [
        "<a href=\"https://colab.research.google.com/github/BaronAWC95014/python_class_instructor/blob/main/day8.ipynb\" target=\"_parent\"><img src=\"https://colab.research.google.com/assets/colab-badge.svg\" alt=\"Open In Colab\"/></a>"
      ]
    },
    {
      "cell_type": "markdown",
      "metadata": {
        "id": "98woxAHWCW9J"
      },
      "source": [
        "# Why We Use the Term \"Lambda\""
      ]
    },
    {
      "cell_type": "markdown",
      "metadata": {
        "id": "yhnrbHm6Ccmt"
      },
      "source": [
        "This term is derived from \"lambda calculus.\" According to Wikipedia, \"lambda calculus (also written as λ-calculus) is a formal system in mathematical logic for expressing computation based on function abstraction and application using variable binding and substitution.\"\n",
        "\n",
        "If you don't understand what that means, that's okay. But in programming, \"lambda expressions\" are anonymous functions (functions that don't have names). You can \"name\" them by assigning them to variables though.\n",
        "\n",
        "Lambda expressions provide a compact way to write a function."
      ]
    },
    {
      "cell_type": "markdown",
      "metadata": {
        "id": "3zpP9T_c4X-9"
      },
      "source": [
        "# More with Lambda Expressions"
      ]
    },
    {
      "cell_type": "markdown",
      "metadata": {
        "id": "PQDgEwr84aK5"
      },
      "source": [
        "Last time, we talked about how lambda expressions are like one-line functions. They can also be thought of as in-line functions and anonymous functions. Those names will make sense later."
      ]
    },
    {
      "cell_type": "markdown",
      "metadata": {
        "id": "eP7YKY5YA9Qf"
      },
      "source": [
        "## What Lambda is For"
      ]
    },
    {
      "cell_type": "markdown",
      "metadata": {
        "id": "GOBo8K80A_QO"
      },
      "source": [
        "It might have been confusing at first to figure out what lambda expressions are useful for if functions already exist.\n",
        "\n",
        "Lambda expressions make short and simple functions even shorter, as we saw last time."
      ]
    },
    {
      "cell_type": "code",
      "metadata": {
        "id": "3Uv5frG0A85C"
      },
      "source": [
        "# lambda expression\n",
        "x = lambda a, b : a * b\n",
        "\n",
        "# lambda expression as a function\n",
        "def y(a, b):\n",
        "    return a * b"
      ],
      "execution_count": null,
      "outputs": []
    },
    {
      "cell_type": "markdown",
      "metadata": {
        "id": "6vIDSmafB0Uh"
      },
      "source": [
        "But another useful way to use lambda expressions is to use them in-line, meaning the function is created and used on the spot.\n",
        "\n",
        "To see what this means, let's look at the `sorted()` or `sort()` function. It has a default argument called `key`. **This key is a function** that determines how to sort the items. For example, these 2 lines give different sorted lists."
      ]
    },
    {
      "cell_type": "code",
      "metadata": {
        "colab": {
          "base_uri": "https://localhost:8080/"
        },
        "id": "kh2590pKCJkF",
        "outputId": "529a70b9-c16d-4415-ae71-abf894df181b"
      },
      "source": [
        "def make_key(num):\n",
        "    return num ** (4 - num) / 5\n",
        "\n",
        "a = [1, -2, 3]\n",
        "\n",
        "# sorts normally\n",
        "print(sorted(a))\n",
        "\n",
        "# sorts based on the absolute value of each item\n",
        "print(sorted(a, key=abs))\n",
        "\n",
        "# sorts based on what is returned from \"make_key\" for each item\n",
        "print(sorted(a, key=make_key))"
      ],
      "execution_count": null,
      "outputs": [
        {
          "output_type": "stream",
          "text": [
            "[-2, 1, 3]\n",
            "[1, -2, 3]\n",
            "[1, 3, -2]\n"
          ],
          "name": "stdout"
        }
      ]
    },
    {
      "cell_type": "markdown",
      "metadata": {
        "id": "sigPxPjbDoNO"
      },
      "source": [
        "We can actually use a lambda expression for the key. Not only will this save space, but it will also make your code clearer since the function that makes the key does so on the spot, not in a different function.\n",
        "\n",
        "This example also displays how lambda expressions can be anonymous. Notice how the expression doesn't even have a name. This function can't be called elsewhere since it doesn't have a name, but for many situations, that is not a bad thing. If a function only needs to be called once, lambda expressions are great for the job."
      ]
    },
    {
      "cell_type": "code",
      "metadata": {
        "id": "OT-nt0uZDngd"
      },
      "source": [
        "a = [1, -2, 3]\n",
        "\n",
        "# sorts normally\n",
        "print(sorted(a))\n",
        "\n",
        "# sorts based on the absolute value of each item\n",
        "print(sorted(a, key=abs))\n",
        "\n",
        "# sorts based on what is returned from the lambda expression for each item\n",
        "print(sorted(a, key=lambda num: num ** (4 - num) / 5))"
      ],
      "execution_count": null,
      "outputs": []
    },
    {
      "cell_type": "markdown",
      "metadata": {
        "id": "7z44gS6eQa7s"
      },
      "source": [
        "**EXERCISE:** Using a lambda function, print a sorted version of the following tuple of strings, based on how long the string is: `(\"watermelon\", \"banana\", \"grapefruit\", \"lime\", \"apricot\")`"
      ]
    },
    {
      "cell_type": "code",
      "metadata": {
        "id": "sLhHVEIFQj76",
        "colab": {
          "base_uri": "https://localhost:8080/"
        },
        "outputId": "15426a23-f704-4a10-acc7-00326ec59c57"
      },
      "source": [
        "print(sorted((\"watermelon\", \"banana\", \"grape\", \"lime\", \"apricot\"), key=len))"
      ],
      "execution_count": 2,
      "outputs": [
        {
          "output_type": "stream",
          "text": [
            "['lime', 'grape', 'banana', 'apricot', 'watermelon']\n"
          ],
          "name": "stdout"
        }
      ]
    },
    {
      "cell_type": "markdown",
      "metadata": {
        "id": "4wnG3No3Fyq6"
      },
      "source": [
        "## Map, Filter, and Reduce"
      ]
    },
    {
      "cell_type": "markdown",
      "metadata": {
        "id": "VM_1bwNXF_c9"
      },
      "source": [
        "These are 3 functions that can use lambda functions.\n",
        "\n",
        "Last time, we have been assigning lambda expressions to variables, and we were able to use these variables as functions. This time, we will see how you can use lambda expressions without naming them."
      ]
    },
    {
      "cell_type": "markdown",
      "metadata": {
        "id": "iawRvQxjF3sT"
      },
      "source": [
        "### Map"
      ]
    },
    {
      "cell_type": "markdown",
      "metadata": {
        "id": "loOc-IcInPKm"
      },
      "source": [
        "`map()` applies a function to an iterable of items. It is written as `map(function_to_apply, list_of_inputs)`.\n",
        "\n",
        "You can achieve the same thing with loops, but `map()` is more intuitive."
      ]
    },
    {
      "cell_type": "code",
      "metadata": {
        "id": "IRRea0IGniPg",
        "colab": {
          "base_uri": "https://localhost:8080/"
        },
        "outputId": "bf928a37-1cea-407f-f253-e6022ec97ac6"
      },
      "source": [
        "# using a loop\n",
        "items1 = [1, 2, 3, 4, 5]\n",
        "squared1 = []\n",
        "for i in items1:\n",
        "    squared1.append(i**2)\n",
        "\n",
        "# using map()\n",
        "items2 = [1, 2, 3, 4, 5]\n",
        "squared2 = list(map(lambda x: x**2, items2))"
      ],
      "execution_count": 6,
      "outputs": [
        {
          "output_type": "stream",
          "text": [
            "<map object at 0x7f15e88ed150>\n"
          ],
          "name": "stdout"
        }
      ]
    },
    {
      "cell_type": "markdown",
      "metadata": {
        "id": "Z7i25tL9F8-G"
      },
      "source": [
        "### Filter"
      ]
    },
    {
      "cell_type": "markdown",
      "metadata": {
        "id": "Eu2bHcquuxQC"
      },
      "source": [
        "`filter()` is a function takes in a function (that returns `True` or `False`) and an iterable. It goes through the iterable and only keeps the items that satisfies the condition from the function."
      ]
    },
    {
      "cell_type": "code",
      "metadata": {
        "colab": {
          "base_uri": "https://localhost:8080/"
        },
        "id": "e63VeEDaut9d",
        "outputId": "5f9a7a56-6c83-4be9-95f6-b9549e863940"
      },
      "source": [
        "number_list = range(-5, 5)\n",
        "less_than_zero = list(filter(lambda x: x < 0, number_list))\n",
        "print(less_than_zero)"
      ],
      "execution_count": null,
      "outputs": [
        {
          "output_type": "stream",
          "text": [
            "[-5, -4, -3, -2, -1]\n"
          ],
          "name": "stdout"
        }
      ]
    },
    {
      "cell_type": "markdown",
      "metadata": {
        "id": "0zMJvuqwPTvJ"
      },
      "source": [
        "**EXERCISE:** Filter the following list so that only the strings remain:\n",
        "\n",
        "`[1, True, \"hello world\", \"\", True, 10.5]`"
      ]
    },
    {
      "cell_type": "code",
      "metadata": {
        "colab": {
          "base_uri": "https://localhost:8080/"
        },
        "id": "AXVo_SZSPl3r",
        "outputId": "fb6952ab-716e-4378-d7f8-1d5e395abe71"
      },
      "source": [
        "print(list(filter(lambda item: type(item) == str, [1, True, \"hello world\", \"\", True, 10.5])))"
      ],
      "execution_count": 4,
      "outputs": [
        {
          "output_type": "stream",
          "text": [
            "['hello world', '']\n"
          ],
          "name": "stdout"
        }
      ]
    },
    {
      "cell_type": "markdown",
      "metadata": {
        "id": "N331YQeVF9C-"
      },
      "source": [
        "### Reduce"
      ]
    },
    {
      "cell_type": "markdown",
      "metadata": {
        "id": "SE5MXXnk0e4F"
      },
      "source": [
        "`reduce()` has to be imported. In this case, `from functools import reduce` means that instead of importing all of `functools`, only `reduce` is imported. It's like only importing `sqrt` from `math`.\n",
        "\n",
        "`reduce()` combines items in a list to make 1 value. In this example, I find the product of 1, 2, 3, and 4."
      ]
    },
    {
      "cell_type": "code",
      "metadata": {
        "colab": {
          "base_uri": "https://localhost:8080/"
        },
        "id": "EZR_NJF45Mja",
        "outputId": "63ce13f4-814f-4ba8-b67d-7b42c1026e2d"
      },
      "source": [
        "from functools import reduce\n",
        "\n",
        "# \"reduce\" combines the 1st and 2nd items with the lambda\n",
        "# function, then it combines that with the 3rd item, etc\n",
        "product = reduce((lambda x, y: x * y), [1, 2, 3, 4])\n",
        "print(product)"
      ],
      "execution_count": null,
      "outputs": [
        {
          "output_type": "stream",
          "text": [
            "24\n",
            "4\n"
          ],
          "name": "stdout"
        }
      ]
    },
    {
      "cell_type": "markdown",
      "metadata": {
        "id": "c3e2QvoX_vpP"
      },
      "source": [
        "`reduce()` always goes from left to right. Meaning, it first combines the first 2 items, then the output combines with the 3rd item, then that output combines with the 4th item, etc."
      ]
    },
    {
      "cell_type": "code",
      "metadata": {
        "colab": {
          "base_uri": "https://localhost:8080/"
        },
        "id": "lnD8n-nMAGg1",
        "outputId": "a71383ab-62a6-4874-e9df-ade94ff58d54"
      },
      "source": [
        "from functools import reduce\n",
        "\n",
        "connected_string = reduce((lambda x, y: x + y), [\"a\", \"b\", \"c\", \"d\"])\n",
        "print(connected_string)\n",
        "\n",
        "connected_string = reduce((lambda x, y: x + y), [\"d\", \"c\", \"b\", \"a\"])\n",
        "print(connected_string)"
      ],
      "execution_count": null,
      "outputs": [
        {
          "output_type": "stream",
          "text": [
            "abcd\n",
            "dcba\n"
          ],
          "name": "stdout"
        }
      ]
    },
    {
      "cell_type": "markdown",
      "metadata": {
        "id": "HJfUb2joeqEN"
      },
      "source": [
        "**EXERCISE:** Filter the list below so that only the negative numbers remain, and then multiply all the values together using `reduce`.\n",
        "\n",
        "```\n",
        "[-2, 5, 15, -1, 0, -3, 4, -6, -1, 1]\n",
        "```"
      ]
    },
    {
      "cell_type": "code",
      "metadata": {
        "colab": {
          "base_uri": "https://localhost:8080/"
        },
        "id": "2DZ-fswyfXiq",
        "outputId": "1904c31d-409e-4dc4-9087-27b1b73910ee"
      },
      "source": [
        "from functools import reduce\n",
        "\n",
        "numlist = [-2, 5, 15, -1, 0, -3, 4, -6, -1, 1]\n",
        "\n",
        "# single line\n",
        "print(reduce((lambda x, y: x * y), filter((lambda x: x < 0), numlist)))\n",
        "\n",
        "# same thing with multiple lines\n",
        "filtered_list = filter((lambda x: x < 0), numlist)\n",
        "multiplied_list = reduce((lambda x, y: x * y), filtered_list)\n",
        "print(multiplied_list)\n",
        "\n",
        "# Same thing with functions\n",
        "def multiply_negatives(inputlist):\n",
        "    product = 1\n",
        "\n",
        "    for x in inputlist:\n",
        "        if (x < 0):\n",
        "            product *= x\n",
        "    \n",
        "    return product\n",
        "\n",
        "print(multiply_negatives(numlist))"
      ],
      "execution_count": 2,
      "outputs": [
        {
          "output_type": "stream",
          "text": [
            "-36\n",
            "-36\n",
            "-36\n"
          ],
          "name": "stdout"
        }
      ]
    }
  ]
}