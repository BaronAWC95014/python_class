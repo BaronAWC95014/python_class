{
  "nbformat": 4,
  "nbformat_minor": 0,
  "metadata": {
    "colab": {
      "name": "day8.ipynb",
      "provenance": [],
      "include_colab_link": true
    },
    "kernelspec": {
      "name": "python3",
      "display_name": "Python 3"
    },
    "language_info": {
      "name": "python"
    }
  },
  "cells": [
    {
      "cell_type": "markdown",
      "metadata": {
        "id": "view-in-github",
        "colab_type": "text"
      },
      "source": [
        "<a href=\"https://colab.research.google.com/github/BaronAWC95014/python_class_instructor/blob/main/day8.ipynb\" target=\"_parent\"><img src=\"https://colab.research.google.com/assets/colab-badge.svg\" alt=\"Open In Colab\"/></a>"
      ]
    },
    {
      "cell_type": "markdown",
      "metadata": {
        "id": "6neDCzjweqzv"
      },
      "source": [
        "# Printing Objects and String Representation"
      ]
    },
    {
      "cell_type": "markdown",
      "metadata": {
        "id": "8UgGy1ukewH2"
      },
      "source": [
        "The methods `__repr__()` and `__str__()` are methods that produce a string representation of an object. More specifically, `__repr__()` is the \"official\" representation, while `__str__()` is the \"informal\" representation. When there is no `__str__()` method in a class, its `__repr__()` is called instead.\n",
        "\n",
        "In this example, you also see a different way to print variables in the `__repr__()` and `__str__()` methods. It is relatively self-explanatory."
      ]
    },
    {
      "cell_type": "code",
      "metadata": {
        "colab": {
          "base_uri": "https://localhost:8080/"
        },
        "id": "YaXUpTfsgwbT",
        "outputId": "b3fea538-bf6a-4e86-ee83-c9559cd0528b"
      },
      "source": [
        "class Rectangle:\n",
        "    def __init__(self, width, height, center=(0.0, 0.0)):\n",
        "        self.width = width\n",
        "        self.height = height\n",
        "        self.center = center\n",
        "\n",
        "    def __repr__(self):\n",
        "        return \"Rectangle(width={w}, height={h}, center={c})\".format(h=self.height,\n",
        "                                                                     w=self.width,\n",
        "                                                                     c=self.center)\n",
        "    \n",
        "    def __str__(self):\n",
        "        return \"Rectangle with width {w}, height {h}, and center {c}\".format(h=self.height,\n",
        "                                                                             w=self.width,\n",
        "                                                                             c=self.center)\n",
        "\n",
        "    def compute_area(self):\n",
        "        return self.width * self.height\n",
        "\n",
        "    def compute_corners(self):\n",
        "        cx, cy = self.center\n",
        "        dx = self.width / 2.0\n",
        "        dy = self.height / 2.0\n",
        "        return [(cx + x, cy + y) for x,y in ((dx, dy), (dx, -dy), (-dx, -dy), (-dx, dy))]\n",
        "\n",
        "test = Rectangle(4,5)\n",
        "print(test)"
      ],
      "execution_count": null,
      "outputs": [
        {
          "output_type": "stream",
          "text": [
            "Rectangle with width 4, height 5, and center (0.0, 0.0)\n"
          ],
          "name": "stdout"
        }
      ]
    },
    {
      "cell_type": "markdown",
      "metadata": {
        "id": "rAiiX7Dd2qcs"
      },
      "source": [
        "# Methods"
      ]
    },
    {
      "cell_type": "markdown",
      "metadata": {
        "id": "Mrr0p7oH3Enc"
      },
      "source": [
        "Recall that a method is an attribute of a class that is a function. For example, “append” is a method that is defined for the `list` class and “capitalize” is a method of the `str` (string) class."
      ]
    },
    {
      "cell_type": "code",
      "metadata": {
        "colab": {
          "base_uri": "https://localhost:8080/"
        },
        "id": "hVGKAcpvxSbm",
        "outputId": "20acd145-4621-4cc2-d692-2ef3c19f818e"
      },
      "source": [
        "example_list = [1, 2, 3, 4, 5]\n",
        "example_list.append(6)\n",
        "print(example_list)\n",
        "\n",
        "example_str = \"hello world\"\n",
        "example_str = example_str.capitalize()\n",
        "print(example_str)"
      ],
      "execution_count": null,
      "outputs": [
        {
          "output_type": "stream",
          "text": [
            "[1, 2, 3, 4, 5, 6]\n",
            "Hello world\n"
          ],
          "name": "stdout"
        }
      ]
    },
    {
      "cell_type": "markdown",
      "metadata": {
        "id": "lVYKVz5C3abg"
      },
      "source": [
        "Here we will encounter three varieties of methods:\n",
        "\n",
        "* special methods\n",
        "* instance methods\n",
        "* class methods\n",
        "* static methods\n",
        "\n",
        "Almost all of the methods we have created so far were instance methods (the others were special methods). Many of the built-in methods we have used are also instance methods (for example, `append()` and `capitalize()`).\n",
        "\n"
      ]
    },
    {
      "cell_type": "markdown",
      "source": [
        "## Special Methods"
      ],
      "metadata": {
        "id": "DX-gm_hoXMvd"
      }
    },
    {
      "cell_type": "markdown",
      "source": [
        "Methods surrounded by 2 underscores are called \"special methods\" and are reserved by Python.\n",
        "\n",
        "We have worked with `__init__()` the most, which is executed whenever class-initialization is invoked. We just looked at `__repr__()` and `__str__()`, which are also special methods.\n",
        "\n",
        "The special instance method `__add__()` informs how an object interacts with the `+` operator. For example, `float.__add__()` specifies that `+` will sum the values of `float` instances, whereas `list.__add__()` specifies that `+` will concatenate `list` instances together."
      ],
      "metadata": {
        "id": "ch7DkBW-XPvS"
      }
    },
    {
      "cell_type": "markdown",
      "metadata": {
        "id": "4CcvAWwY3xc_"
      },
      "source": [
        "## Instance Methods"
      ]
    },
    {
      "cell_type": "markdown",
      "metadata": {
        "id": "e5xmHB8R3zWz"
      },
      "source": [
        "An instance method is defined whenever a function definition is specified within the body of a class. Just like the `__init__` method, `self` is the defacto first-argument for any instance method. When you call an instance method from an instance object, Python automatically passes that instance object as the first argument, in addition to any other arguments that were passed in by the user. This only applies when the method is called through and instance of an object."
      ]
    },
    {
      "cell_type": "code",
      "metadata": {
        "id": "NTTCEdTJkQ9u",
        "colab": {
          "base_uri": "https://localhost:8080/",
          "height": 222
        },
        "outputId": "1a822294-1eb9-48e9-95c9-02f92dbc2448"
      },
      "source": [
        "class InstanceMethodExample:\n",
        "    def __init__(self):\n",
        "        self.instance_attribute = \"this only works as obj.method\"\n",
        "\n",
        "    def example_inst_method(self):\n",
        "        print(self.instance_attribute)\n",
        "\n",
        "\n",
        "obj = InstanceMethodExample()\n",
        "obj.example_inst_method()\n",
        "\n",
        "# instance methods are only usable by objects, not classes\n",
        "InstanceMethodExample.example_inst_method()"
      ],
      "execution_count": null,
      "outputs": [
        {
          "output_type": "stream",
          "name": "stdout",
          "text": [
            "this only works as obj.method\n"
          ]
        },
        {
          "output_type": "error",
          "ename": "TypeError",
          "evalue": "ignored",
          "traceback": [
            "\u001b[0;31m---------------------------------------------------------------------------\u001b[0m",
            "\u001b[0;31mTypeError\u001b[0m                                 Traceback (most recent call last)",
            "\u001b[0;32m<ipython-input-12-055030afb82f>\u001b[0m in \u001b[0;36m<module>\u001b[0;34m()\u001b[0m\n\u001b[1;32m     10\u001b[0m \u001b[0mobj\u001b[0m\u001b[0;34m.\u001b[0m\u001b[0mexample_inst_method\u001b[0m\u001b[0;34m(\u001b[0m\u001b[0;34m)\u001b[0m\u001b[0;34m\u001b[0m\u001b[0;34m\u001b[0m\u001b[0m\n\u001b[1;32m     11\u001b[0m \u001b[0;34m\u001b[0m\u001b[0m\n\u001b[0;32m---> 12\u001b[0;31m \u001b[0mInstanceMethodExample\u001b[0m\u001b[0;34m.\u001b[0m\u001b[0mexample_inst_method\u001b[0m\u001b[0;34m(\u001b[0m\u001b[0;34m)\u001b[0m\u001b[0;34m\u001b[0m\u001b[0;34m\u001b[0m\u001b[0m\n\u001b[0m",
            "\u001b[0;31mTypeError\u001b[0m: example_inst_method() missing 1 required positional argument: 'self'"
          ]
        }
      ]
    },
    {
      "cell_type": "markdown",
      "metadata": {
        "id": "JurZjvDK4pVb"
      },
      "source": [
        "## Class Methods"
      ]
    },
    {
      "cell_type": "markdown",
      "metadata": {
        "id": "11_cRlc44pMi"
      },
      "source": [
        "A class method is similar to an instance method, but it has a class object passed as its first argument. Recall that, when an instance method is called from an instance object, that instance object is automatically passed as the first argument to the method. By contrast, when a class method is called from a either a class object or an instance object, the class object is automatically passed as the first argument to the method. Instead of calling this first argument `self`, the convention is to name it `cls`.\n",
        "\n",
        "To define a class method you must decorate the method definition with a special built-in decorator `@classmethod`. In a nutshell, decorators simply “tag” the method so that Python knows to treat it like a class method instead of an instance method. The following demonstrates this decoration process:"
      ]
    },
    {
      "cell_type": "code",
      "metadata": {
        "id": "2-3KRJYGkF_g",
        "colab": {
          "base_uri": "https://localhost:8080/"
        },
        "outputId": "f1ecc859-2a4c-4e39-f8be-9a99a89a64b0"
      },
      "source": [
        "class ClassMethodExample:\n",
        "    class_attribute = \"this works as either class.method() or obj.method()\"\n",
        "    \n",
        "    @classmethod\n",
        "    def example_class_method(cls):\n",
        "        print(cls.class_attribute)\n",
        "\n",
        "ClassMethodExample.example_class_method()\n",
        "\n",
        "obj = ClassMethodExample()\n",
        "obj.example_class_method()"
      ],
      "execution_count": null,
      "outputs": [
        {
          "output_type": "stream",
          "name": "stdout",
          "text": [
            "this works as either class.method() or obj.method()\n",
            "this works as either class.method() or obj.method()\n"
          ]
        }
      ]
    },
    {
      "cell_type": "markdown",
      "metadata": {
        "id": "SwlI99314ovJ"
      },
      "source": [
        "## Static Methods"
      ]
    },
    {
      "cell_type": "markdown",
      "metadata": {
        "id": "vs03kief4vNz"
      },
      "source": [
        "A static method is simply a method whose arguments must all be passed explicitly by the user. That is, Python doesn’t pass anything to a static method automatically. The built-in decorator `@staticmethod` is used to distinguish a method as being static rather than an instance method."
      ]
    },
    {
      "cell_type": "code",
      "metadata": {
        "id": "qYmIpbAWlDyK",
        "colab": {
          "base_uri": "https://localhost:8080/"
        },
        "outputId": "247facc6-245b-4619-d267-379a0b36d379"
      },
      "source": [
        "class StaticMethodExample:\n",
        "    @staticmethod\n",
        "    def example_static_method():\n",
        "        print(\"this works as either class.method() or obj.method() and can't use any class/instance attributes\")\n",
        "\n",
        "StaticMethodExample.example_static_method()\n",
        "\n",
        "obj = StaticMethodExample()\n",
        "obj.example_static_method()"
      ],
      "execution_count": null,
      "outputs": [
        {
          "output_type": "stream",
          "name": "stdout",
          "text": [
            "this works as either class.method() or obj.method() and can't use any class/instance attributes\n",
            "this works as either class.method() or obj.method() and can't use any class/instance attributes\n"
          ]
        }
      ]
    },
    {
      "cell_type": "markdown",
      "metadata": {
        "id": "mq48ofXCoW2e"
      },
      "source": [
        "## Class Methods vs. Static Methods"
      ]
    },
    {
      "cell_type": "markdown",
      "metadata": {
        "id": "Wdk0CvBLoaLf"
      },
      "source": [
        "Both class methods and static methods do not need an instance of the object created in order to be called. However, there is one key difference: class methods take the class as an intrinsic parameter while static methods have no association to the class. Therefore, if you need to access something within the class you create the method in, use the class method over the static method."
      ]
    },
    {
      "cell_type": "markdown",
      "metadata": {
        "id": "ejP4G1asMzd3"
      },
      "source": [
        "**EXERCISE:** Here is a simplified version of the `Rectangle` class. Add a method to `Rectangle` that determines whether it is a square. Return a boolean.\n",
        "\n",
        "```\n",
        "class Rectangle:\n",
        "    def __init__(self, width, height, center=(0.0, 0.0)):\n",
        "        self.width = width\n",
        "        self.height = height\n",
        "        self.center = center\n",
        "\n",
        "    def compute_area(self):\n",
        "        return self.width * self.height\n",
        "\n",
        "rect1 = Rectangle(4,5)\n",
        "print(rect1)\n",
        "```"
      ]
    },
    {
      "cell_type": "code",
      "metadata": {
        "id": "4bU8E66jNngT"
      },
      "source": [
        "def is_square(self):\n",
        "    return self.width == self.height"
      ],
      "execution_count": null,
      "outputs": []
    },
    {
      "cell_type": "markdown",
      "metadata": {
        "id": "B1mT1MVxN2Bf"
      },
      "source": [
        "**EXERCISE:** Add a method to `Rectangle` to return the perimeter."
      ]
    },
    {
      "cell_type": "code",
      "metadata": {
        "id": "i1MX0S1pN2VJ"
      },
      "source": [
        "def get_perimeter(self):\n",
        "    return 2 * self.width + 2 * self.height"
      ],
      "execution_count": null,
      "outputs": []
    },
    {
      "cell_type": "markdown",
      "metadata": {
        "id": "xNnzM-DLPGf8"
      },
      "source": [
        "**EXERCISE:** Add a `get_width()` and `get_height()`."
      ]
    },
    {
      "cell_type": "code",
      "metadata": {
        "id": "hUgih56MPGyH"
      },
      "source": [
        "def get_width(self):\n",
        "    return self.width\n",
        "\n",
        "def get_height(self):\n",
        "    return self.height"
      ],
      "execution_count": null,
      "outputs": []
    },
    {
      "cell_type": "markdown",
      "metadata": {
        "id": "g50PQj-0rlkd"
      },
      "source": [
        "# Inheritance"
      ]
    },
    {
      "cell_type": "markdown",
      "metadata": {
        "id": "5-VfFw4UrpSH"
      },
      "source": [
        "A final topic for us to discuss in this introduction to object oriented programming is the concept of inheritance. Working with inheritance provides powerful abstractions and elegant code re-use - it permits a class to inherit and build off of the attributes of another class."
      ]
    },
    {
      "cell_type": "code",
      "source": [
        "!pip install ColabTurtlePlus\n",
        "from ColabTurtlePlus.Turtle import *"
      ],
      "metadata": {
        "colab": {
          "base_uri": "https://localhost:8080/"
        },
        "id": "x8bo3vxca8X8",
        "outputId": "f8c118f9-dbf6-449e-ca8b-e906c32bb386"
      },
      "execution_count": null,
      "outputs": [
        {
          "output_type": "stream",
          "name": "stdout",
          "text": [
            "Looking in indexes: https://pypi.org/simple, https://us-python.pkg.dev/colab-wheels/public/simple/\n",
            "Collecting ColabTurtlePlus\n",
            "  Downloading ColabTurtlePlus-2.0.1-py3-none-any.whl (31 kB)\n",
            "Installing collected packages: ColabTurtlePlus\n",
            "Successfully installed ColabTurtlePlus-2.0.1\n",
            "Put clearscreen() as the first line in a cell (after the import command) to re-run turtle commands in the cell\n"
          ]
        }
      ]
    },
    {
      "cell_type": "markdown",
      "source": [
        "Let's once again look at something familiar, Turtle. Here, I have made a class that inherits Turtle called `ColabTurtlePlusPlus`. This new class has everything that `Turtle` has, and it also has the things that I added to it. I added a method that creates a star (you may remember this from day 5)."
      ],
      "metadata": {
        "id": "0fbLboaGapXd"
      }
    },
    {
      "cell_type": "code",
      "source": [
        "clearscreen()\n",
        "setup(300, 300)\n",
        "\n",
        "class ColabTurtlePlusPlus(Turtle):\n",
        "    def __init__(self):\n",
        "        # super() looks at its parent class\n",
        "        # in this case, Square will do the same initialization as Rectangle\n",
        "        super().__init__()\n",
        "        self.color(\"blue\")\n",
        "        self.width(3)\n",
        "    \n",
        "    def middle_star(self, x=0, y=0, side_len=100, sides=5):\n",
        "        if sides % 2 == 0:\n",
        "            raise Exception(\"middle_star() requires that 'sides' is an odd number\")\n",
        "        \n",
        "        # find inner/outer angle of each point\n",
        "        inner_angle = 180/sides\n",
        "        outer_angle = 180 - inner_angle # the program turns this many degrees every time it draws a line\n",
        "\n",
        "        # find x of the first point (leftmost, slightly above the center)\n",
        "        x_offset = side_len/2\n",
        "\n",
        "        # find y of the first point\n",
        "        y_offset = math.tan(math.radians(inner_angle/2)) * x_offset\n",
        "\n",
        "        # set up the environment correctly\n",
        "        self.penup()\n",
        "        self.face(0)\n",
        "        self.goto(-x_offset + x, y_offset + y)\n",
        "        self.pendown()\n",
        "\n",
        "        # draw a side and turn\n",
        "        for i in range(sides):\n",
        "            self.forward(side_len)\n",
        "            self.right(outer_angle)\n",
        "        self.done()\n",
        "\n",
        "mytim = ColabTurtlePlusPlus()\n",
        "\n",
        "\n",
        "mytim.middle_star(side_len=200, sides=9)"
      ],
      "metadata": {
        "colab": {
          "base_uri": "https://localhost:8080/",
          "height": 321
        },
        "id": "2otjBR1QasrC",
        "outputId": "b4f8b4cd-2c0d-469b-b40f-a24799ee720d"
      },
      "execution_count": null,
      "outputs": [
        {
          "output_type": "display_data",
          "data": {
            "text/plain": [
              "<IPython.core.display.HTML object>"
            ],
            "text/html": [
              "\n",
              "      <svg width=\"300\" height=\"300\">  \n",
              "        <rect width=\"100%\" height=\"100%\" style=\"fill:white;stroke:;stroke-width:1\"/>\n",
              "        \n",
              "        \n",
              "        <line x1=\"50.0\" y1=\"132.367\" x2=\"250.0\" y2=\"132.367\" stroke-linecap=\"round\" style=\"stroke:blue;stroke-width:3\" /><line x1=\"250.0\" y1=\"132.367\" x2=\"62.061\" y2=\"200.771\" stroke-linecap=\"round\" style=\"stroke:blue;stroke-width:3\" /><line x1=\"62.061\" y1=\"200.771\" x2=\"215.27\" y2=\"72.213\" stroke-linecap=\"round\" style=\"stroke:blue;stroke-width:3\" /><line x1=\"215.27\" y1=\"72.213\" x2=\"115.27\" y2=\"245.418\" stroke-linecap=\"round\" style=\"stroke:blue;stroke-width:3\" /><line x1=\"115.27\" y1=\"245.418\" x2=\"150.0\" y2=\"48.456\" stroke-linecap=\"round\" style=\"stroke:blue;stroke-width:3\" /><line x1=\"150.0\" y1=\"48.456\" x2=\"184.73\" y2=\"245.418\" stroke-linecap=\"round\" style=\"stroke:blue;stroke-width:3\" /><line x1=\"184.73\" y1=\"245.418\" x2=\"84.73\" y2=\"72.213\" stroke-linecap=\"round\" style=\"stroke:blue;stroke-width:3\" /><line x1=\"84.73\" y1=\"72.213\" x2=\"237.939\" y2=\"200.771\" stroke-linecap=\"round\" style=\"stroke:blue;stroke-width:3\" /><line x1=\"237.939\" y1=\"200.771\" x2=\"50.0\" y2=\"132.367\" stroke-linecap=\"round\" style=\"stroke:blue;stroke-width:3\" />\n",
              "        \n",
              "        \n",
              "        <g id=\"classic\" visibility=\"visible\" transform=\"rotate(-90.0,50.0,132.367) translate(50.0, 132.367)\">\n",
              "<polygon points=\"-5,-4.5 0,-2.5 5,-4.5 0,4.5\" transform=\"skewX(0) scale(1,1)\" style=\"stroke:blue;fill:blue;stroke-width:1\" />\n",
              "</g>\n",
              "      </svg>\n",
              "    "
            ]
          },
          "metadata": {}
        }
      ]
    },
    {
      "cell_type": "markdown",
      "metadata": {
        "id": "U8xSJledFHZe"
      },
      "source": [
        "Building off of the `Rectangle` class from earlier, we will be creating a `Square` class. Remember that a square is a special type of rectangle - one with equal widths and heights. Because of this, we can leverage the code that we already wrote for `Rectangle`. We can do this by defining a `Square` class that is a *subclass* of `Rectangle`. This means that `Square` will *inherit* all of the attributes of `Rectangle`, including its methods."
      ]
    },
    {
      "cell_type": "code",
      "metadata": {
        "id": "FaiupUeTFtPB",
        "colab": {
          "base_uri": "https://localhost:8080/"
        },
        "outputId": "b6dff34c-b142-410c-b624-30310c2e661f"
      },
      "source": [
        "class Square(Rectangle):\n",
        "    def __init__(self, side, center=(0.0, 0.0)):\n",
        "        # super() looks at its parent class\n",
        "        # in this case, Square will do the same initialization as Rectangle\n",
        "        super().__init__(side, side, center)\n",
        "square1 = Square(5)"
      ],
      "execution_count": null,
      "outputs": [
        {
          "output_type": "stream",
          "text": [
            "5\n"
          ],
          "name": "stdout"
        }
      ]
    },
    {
      "cell_type": "markdown",
      "metadata": {
        "id": "b05Q6L_DF9xj"
      },
      "source": [
        "Specifying class `Square(Rectangle)` signals that `Square` is a subclass of `Rectangle` and thus it will have inherited the attributes of `Rectangle`. Next, see that we overwrote the `__init__` method that `Square` inherited; instead of accepting a height and a width, `Square` should by specified by a single side length. Within this new `__init__` method, we pass in that single side length as both the width and height to `Rectangle.__init__`. `super` always refers to the “superclass” or “parent class” of a given class, thus `super` is `Rectangle` here."
      ]
    },
    {
      "cell_type": "markdown",
      "metadata": {
        "id": "QBhxZSf9I7YV"
      },
      "source": [
        "You can use all of `Rectangle`'s methods normally in `Square`: they do not need to redefined. However, if you want to change what a method does, you can override it by redefining it, just like what we did to `__init__`. To override a method, simply define it again."
      ]
    },
    {
      "cell_type": "code",
      "metadata": {
        "colab": {
          "base_uri": "https://localhost:8080/"
        },
        "id": "kyFgVoLaJQdd",
        "outputId": "a79cf260-e26f-4802-a7aa-fbd38f31240d"
      },
      "source": [
        "square = Square(2)\n",
        "\n",
        "print(square.compute_area())"
      ],
      "execution_count": null,
      "outputs": [
        {
          "output_type": "stream",
          "text": [
            "4\n"
          ],
          "name": "stdout"
        }
      ]
    },
    {
      "cell_type": "markdown",
      "metadata": {
        "id": "om-X4fKpOYez"
      },
      "source": [
        "**EXERCISE:** Override the `__repr__` method in the `Square` class so that it prints the correct words (but follow the template in `Rectangle`)."
      ]
    },
    {
      "cell_type": "code",
      "metadata": {
        "id": "d2m4DgLhOsBf"
      },
      "source": [
        "def __repr__(self):\n",
        "    return \"Square(side={s}, center={c})\".format(s=self.width, c=self.center)"
      ],
      "execution_count": null,
      "outputs": []
    },
    {
      "cell_type": "markdown",
      "metadata": {
        "id": "tn6RuSN1PexP"
      },
      "source": [
        "**EXERCISE:** Add a method that prints out `\"I'm a square!\"` to `Square`. Make sure you use the appropriate type of method."
      ]
    },
    {
      "cell_type": "code",
      "metadata": {
        "id": "kllBekN9Psl7"
      },
      "source": [
        "@classmethod\n",
        "def printSquareString(cls):\n",
        "    print(\"I'm a square!\")"
      ],
      "execution_count": null,
      "outputs": []
    },
    {
      "cell_type": "markdown",
      "metadata": {
        "id": "DoZcWqvqJlfT"
      },
      "source": [
        "There is also a built-in `issubclass` function to verify the relationship between 2 classes."
      ]
    },
    {
      "cell_type": "code",
      "metadata": {
        "colab": {
          "base_uri": "https://localhost:8080/"
        },
        "id": "iMIJnMDSJyJa",
        "outputId": "b6a3f0de-486d-4558-f635-1debaaad9b2c"
      },
      "source": [
        "issubclass(Square, Rectangle)"
      ],
      "execution_count": null,
      "outputs": [
        {
          "output_type": "execute_result",
          "data": {
            "text/plain": [
              "True"
            ]
          },
          "metadata": {
            "tags": []
          },
          "execution_count": 9
        }
      ]
    },
    {
      "cell_type": "markdown",
      "metadata": {
        "id": "QGsND9MlJzLB"
      },
      "source": [
        "A quick note: a `Square` is not a `Rectangle` like in Java. However, an instance of `Square` is also an instance of `Rectangle`."
      ]
    },
    {
      "cell_type": "markdown",
      "metadata": {
        "id": "k-CtRtbyKT8I"
      },
      "source": [
        "This is barely a scratch on the surface of inheritance, but this is a good starting point."
      ]
    },
    {
      "cell_type": "markdown",
      "metadata": {
        "id": "DJZCxXkOW0IK"
      },
      "source": [
        "# Review"
      ]
    },
    {
      "cell_type": "markdown",
      "metadata": {
        "id": "YGcFbcu2W2q8"
      },
      "source": [
        "Make a `Triangle` class that has 3 input sides and contains a constructor, a `__repr__()` method, and a method that returns the perimeter.\n",
        "\n",
        "Next, create a subclass called `EquilateralTriangle` with a new constructor and a new method that computes the area. The area formula of an equilateral triangle is `(sqrt(3)/4) * side_len^2`."
      ]
    }
  ]
}