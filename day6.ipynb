{
  "nbformat": 4,
  "nbformat_minor": 0,
  "metadata": {
    "colab": {
      "name": "day6.ipynb",
      "provenance": [],
      "collapsed_sections": [
        "kRlYD3gpHlWr",
        "Z7yG5lROHthm",
        "ZABpSdL6Hy1T"
      ],
      "toc_visible": true,
      "include_colab_link": true
    },
    "kernelspec": {
      "name": "python3",
      "display_name": "Python 3"
    },
    "language_info": {
      "name": "python"
    }
  },
  "cells": [
    {
      "cell_type": "markdown",
      "metadata": {
        "id": "view-in-github",
        "colab_type": "text"
      },
      "source": [
        "<a href=\"https://colab.research.google.com/github/BaronAWC95014/python_class_instructor/blob/main/day6.ipynb\" target=\"_parent\"><img src=\"https://colab.research.google.com/assets/colab-badge.svg\" alt=\"Open In Colab\"/></a>"
      ]
    },
    {
      "cell_type": "markdown",
      "metadata": {
        "id": "4QXDH-swuNqL"
      },
      "source": [
        "# Basics of Functions"
      ]
    },
    {
      "cell_type": "markdown",
      "metadata": {
        "id": "uQyGBznYjI7d"
      },
      "source": [
        "**Formal definition: a Python function is an object that encapsulates code. Calling the function will execute the encapsulated code and return an object. A function can be defined so that it accepts arguments, which are objects that are to be passed to the encapsulated code.**"
      ]
    },
    {
      "cell_type": "markdown",
      "metadata": {
        "id": "vos0YFqnuPrR"
      },
      "source": [
        "Defining a function allows you to encapsulate a segment of code, specifying the information that enters and leaves the code. You can make use of this “code capsule” repeatedly and in many different contexts. For example, suppose you want to count how many vowels are in a string. The following defines a function that accomplishes this:"
      ]
    },
    {
      "cell_type": "code",
      "metadata": {
        "id": "-xYC7hiTvYyM"
      },
      "source": [
        "def count_vowels(in_string):\n",
        "    \"\"\" Returns the number of vowels contained in `in_string`\"\"\"\n",
        "    num_vowels = 0\n",
        "    vowels = \"aeiouAEIOU\"\n",
        "\n",
        "    for char in in_string:\n",
        "        if char in vowels:\n",
        "            num_vowels += 1  # equivalent to num_vowels = num_vowels + 1\n",
        "    return num_vowels"
      ],
      "execution_count": null,
      "outputs": []
    },
    {
      "cell_type": "markdown",
      "metadata": {
        "id": "BE7djMC-v3af"
      },
      "source": [
        "Executing this code will define the function `count_vowels`. This function expects to be passed one object, represented by `in_string`, as an input argument, and it will return the number of vowels stored in that object. Invoking `count_vowels`, passing it an input object, is referred to as calling the function:"
      ]
    },
    {
      "cell_type": "code",
      "metadata": {
        "id": "He1nfPMtwvDA",
        "colab": {
          "base_uri": "https://localhost:8080/"
        },
        "outputId": "98725efb-27eb-4007-a828-f272c954f30d"
      },
      "source": [
        "count_vowels(\"Hi my name is Arthur\")"
      ],
      "execution_count": null,
      "outputs": [
        {
          "output_type": "execute_result",
          "data": {
            "text/plain": [
              "6"
            ]
          },
          "metadata": {
            "tags": []
          },
          "execution_count": 5
        }
      ]
    },
    {
      "cell_type": "markdown",
      "metadata": {
        "id": "8qqbdKYVLwfT"
      },
      "source": [
        "# The `def` Statement"
      ]
    },
    {
      "cell_type": "markdown",
      "metadata": {
        "id": "TJr3_LRow464"
      },
      "source": [
        "Similar to `if`, `else`, and `for`, the `def` statement is reserved by the Python language to signify the definition of functions (and a few other things that we’ll cover later). The following is the general syntax for defining a Python function:\n",
        "\n",
        "```\n",
        "def <function name>(<function signature>):\n",
        "    \"\"\" documentation string \"\"\"\n",
        "    <encapsulated code>\n",
        "    return <object>\n",
        "```"
      ]
    },
    {
      "cell_type": "markdown",
      "metadata": {
        "id": "TWwA_1R7yQ2U"
      },
      "source": [
        "* `function name` can be any valid variable name, and must be followed by parentheses and then a colon.\n",
        "\n",
        "* `function signature` specifies the input arguments to the function, and may be left blank if the function does not accept any arguments (the parentheses must still be included, but will not encapsulate anything).\n",
        "\n",
        "* The documentation string (commonly referred to as a “docstring”) may span multiple lines, and should indicate what the function’s purpose is. It is optional.\n",
        "\n",
        "* `encapsulated code` can consist of general Python code, and is demarcated by being indented relative to the def statement.\n",
        "\n",
        "* `return`, if reached by the encapsulated code, triggers the function to return the specified object and end its own execution immediately.\n",
        "\n",
        "The `return` statement is also reserved by Python. It denotes the end of a function; if reached, a `return` statement immediately concludes the execution of the function and returns the specified object.\n",
        "\n",
        "Note that, like an if-statement and a for-loop, the `def` statment must end in a colon and the body of the function is delimited by whitespace:"
      ]
    },
    {
      "cell_type": "code",
      "metadata": {
        "id": "-AJH0TZtxz6o"
      },
      "source": [
        "# wrong indentation\n",
        "def bad_func1():\n",
        "x = 1\n",
        "    return x + 2\n",
        "\n",
        "# wrong indentation\n",
        "def bad_func2():\n",
        "    x = 1\n",
        "return x + 2\n",
        "\n",
        "# missing colon\n",
        "def bad_func3()\n",
        "    x = 1\n",
        "    return x + 2\n",
        "\n",
        "# missing parenthesis\n",
        "def bad_func4:\n",
        "    x = 1\n",
        "    return x + 2\n",
        "\n",
        "# this is ok\n",
        "def ok_func():\n",
        "    x = 1\n",
        "    return x + 2"
      ],
      "execution_count": null,
      "outputs": []
    },
    {
      "cell_type": "markdown",
      "metadata": {
        "id": "NILsNyodzv2t"
      },
      "source": [
        "**EXERCISE:** Write a function named `count_even`. It should accept one input argument, named `numbers`, which will be an iterable containing integers. Have the function return the number of even-valued integers contained in the list. Include a reasonable docstring.\n",
        "\n"
      ]
    },
    {
      "cell_type": "code",
      "metadata": {
        "id": "MSmuH4fjz8ji"
      },
      "source": [
        "def count_even(numbers):\n",
        "    \"\"\" Counts the number of even integers in an iterable\"\"\"\n",
        "    total = 0\n",
        "    for num in numbers:\n",
        "        if num % 2 == 0:\n",
        "            total += 1\n",
        "    return total"
      ],
      "execution_count": null,
      "outputs": []
    },
    {
      "cell_type": "markdown",
      "metadata": {
        "id": "Jpy02KWA03kZ"
      },
      "source": [
        "# The `return` Statement"
      ]
    },
    {
      "cell_type": "markdown",
      "metadata": {
        "id": "vAw9X9Yt1VN-"
      },
      "source": [
        "In general, any Python object can follow a function’s `return` statement. Furthermore, an empty `return` statement can be specified, or the `return` statement of a function can be omitted altogether. In both of these cases, the function will `return` the `None` object."
      ]
    },
    {
      "cell_type": "code",
      "metadata": {
        "id": "M0Lg58BkLA9A"
      },
      "source": [
        "# this function returns `None`\n",
        "# an \"empty\" return statement\n",
        "def f():\n",
        "    x = 1\n",
        "    return\n",
        "\n",
        "# this function returns `None`\n",
        "# return statement is omitted\n",
        "def f():\n",
        "    x = 1"
      ],
      "execution_count": null,
      "outputs": []
    },
    {
      "cell_type": "markdown",
      "metadata": {
        "id": "QTykBlJPNrjN"
      },
      "source": [
        "All Python functions return something. Even the built-in `print` function returns `None` after it prints to standard-output."
      ]
    },
    {
      "cell_type": "code",
      "metadata": {
        "colab": {
          "base_uri": "https://localhost:8080/"
        },
        "id": "CU309rpsNwLM",
        "outputId": "6714df52-2ffe-4dba-ab40-ad68376cb965"
      },
      "source": [
        "# the `print` function returns `None`\n",
        "x = print(\"hi\")\n",
        "\n",
        "x is None"
      ],
      "execution_count": null,
      "outputs": [
        {
          "output_type": "stream",
          "text": [
            "hi\n"
          ],
          "name": "stdout"
        },
        {
          "output_type": "execute_result",
          "data": {
            "text/plain": [
              "True"
            ]
          },
          "metadata": {
            "tags": []
          },
          "execution_count": 8
        }
      ]
    },
    {
      "cell_type": "markdown",
      "metadata": {
        "id": "7YDo6c5yufBI"
      },
      "source": [
        "Multiple `return` statements: you can specify more than one `return` statement within a function. This can be useful for handling edge-cases or optimizations in your code."
      ]
    },
    {
      "cell_type": "markdown",
      "metadata": {
        "id": "w6OnlAkOvQBc"
      },
      "source": [
        "# Arguments"
      ]
    },
    {
      "cell_type": "markdown",
      "metadata": {
        "id": "reVeDzp2vfBC"
      },
      "source": [
        "A sequence of comma-separated variable names can specified in the function signature to indicated positional arguments for the function. For example, the following specifies `x`, `lower`, and `upper` as input arguments to a function, `is_bounded`:"
      ]
    },
    {
      "cell_type": "code",
      "metadata": {
        "id": "ZdT7X5i-vlaB"
      },
      "source": [
        "def is_bounded(x, lower, upper):\n",
        "    return lower <= x <= upper"
      ],
      "execution_count": null,
      "outputs": []
    },
    {
      "cell_type": "markdown",
      "metadata": {
        "id": "kRlYD3gpHlWr"
      },
      "source": [
        "## Specifying Arguments by Position"
      ]
    },
    {
      "cell_type": "markdown",
      "metadata": {
        "id": "BBevsTiYvond"
      },
      "source": [
        "The objects passed to `is_bounded` will be assigned to its input variables based on their positions. That is, `is_bounded(3, 2, 4)` will assign `x=3`, `lower=2`, and `upper=4`, in accordance with the positional ordering of the function’s input arguments. Feeding a function too few or too many arguments will raise a `TypeError`."
      ]
    },
    {
      "cell_type": "markdown",
      "metadata": {
        "id": "Z7yG5lROHthm"
      },
      "source": [
        "## Specifying Arguments by Name"
      ]
    },
    {
      "cell_type": "markdown",
      "metadata": {
        "id": "9pD3lSmeGBdZ"
      },
      "source": [
        "You can provide explicit names when specifying the inputs to a function, in which case ordering does not matter. This is very nice for writing clear and flexible code:"
      ]
    },
    {
      "cell_type": "code",
      "metadata": {
        "colab": {
          "base_uri": "https://localhost:8080/"
        },
        "id": "k9UuAkc-GDHH",
        "outputId": "b262eefb-960f-460b-a3cd-284d38a93c8c"
      },
      "source": [
        "is_bounded(3, upper=4, lower=2)"
      ],
      "execution_count": null,
      "outputs": [
        {
          "output_type": "execute_result",
          "data": {
            "text/plain": [
              "True"
            ]
          },
          "metadata": {
            "tags": []
          },
          "execution_count": 10
        }
      ]
    },
    {
      "cell_type": "markdown",
      "metadata": {
        "id": "iidCTYbzGFI5"
      },
      "source": [
        "You can mix-and-match positional and named input by using position-based inputs first (note: if you provide a named input, all the inputs following it must also be named):"
      ]
    },
    {
      "cell_type": "code",
      "metadata": {
        "colab": {
          "base_uri": "https://localhost:8080/"
        },
        "id": "lJ3y8DMgGIuh",
        "outputId": "e628f2a8-1808-43ca-b8a6-d7c2e90a8866"
      },
      "source": [
        "is_bounded(3, upper=4, lower=2)"
      ],
      "execution_count": null,
      "outputs": [
        {
          "output_type": "execute_result",
          "data": {
            "text/plain": [
              "True"
            ]
          },
          "metadata": {
            "tags": []
          },
          "execution_count": 11
        }
      ]
    },
    {
      "cell_type": "markdown",
      "metadata": {
        "id": "ZABpSdL6Hy1T"
      },
      "source": [
        "## Default-Valued Arguments"
      ]
    },
    {
      "cell_type": "markdown",
      "metadata": {
        "id": "Zi3mNf_CH27Y"
      },
      "source": [
        "You can specify default values for input arguments to a function. Their default values are utilized if a user does not specify these inputs when calling the function. Recall our `count_vowels` function. Suppose we want the ability to include “y” as a vowel. We know, however, that people will typically want to exclude “y” from their vowels, so we can exclude “y” by default:"
      ]
    },
    {
      "cell_type": "code",
      "metadata": {
        "id": "kEVhpyXPH-Hr"
      },
      "source": [
        "def count_vowels(in_string, include_y=False):\n",
        "    \"\"\" Returns the number of vowels contained in `in_string`\"\"\"\n",
        "    vowels = \"aeiouAEIOU\"\n",
        "    if include_y:\n",
        "        vowels += \"yY\"  # add \"y\" to vowels\n",
        "    return sum(1 for char in in_string if char in vowels)"
      ],
      "execution_count": null,
      "outputs": []
    },
    {
      "cell_type": "markdown",
      "metadata": {
        "id": "azJmxrabIDNI"
      },
      "source": [
        "Now, if only `in_string` is specified when calling `count_vowels`, `include_y` will be passed the value `False` by default."
      ]
    },
    {
      "cell_type": "markdown",
      "metadata": {
        "id": "7PRY6j8SIWOq"
      },
      "source": [
        "Default-valued input arguments must come after all positional input arguments in the function signature:"
      ]
    },
    {
      "cell_type": "code",
      "metadata": {
        "id": "pMGder5jIXno"
      },
      "source": [
        "# this is ok\n",
        "def f(x, y, z, count=1, upper=2):\n",
        "    # ...\n",
        "\n",
        "# this will raise a syntax error\n",
        "def f(x, y, count=1, upper=2, z):\n",
        "    # ..."
      ],
      "execution_count": null,
      "outputs": []
    },
    {
      "cell_type": "markdown",
      "metadata": {
        "id": "zt2VvWIgIkPH"
      },
      "source": [
        "**EXERCISE:** Write a function, `max_or_min`, which accepts two positional arguments, `x` and `y` (which will hold numerical values), and a `mode` variable that has the default value `\"max\"`.\n",
        "\n",
        "The function should return `min(x, y)` or `max(x, y)` according to the `mode`. Have the function return `None` if mode is neither `\"max\"` nor `\"min\"`.\n",
        "\n"
      ]
    },
    {
      "cell_type": "code",
      "metadata": {
        "id": "Iw032eLAI_EG"
      },
      "source": [
        "def max_or_min(x, y, mode=\"max\"):\n",
        "    \"\"\" Return either `max(x,y)` or `min(x,y)`,\n",
        "        according to the `mode` argument.\n",
        "\n",
        "        Parameters\n",
        "        ----------\n",
        "        x : Number\n",
        "\n",
        "        y : Number\n",
        "\n",
        "        mode : str\n",
        "           Either 'max' or 'min'\n",
        "\n",
        "        Returns\n",
        "        -------\n",
        "        The max or min of the two values. `None` is\n",
        "        returned if an invalid mode was specified.\"\"\"\n",
        "    if mode == \"max\":\n",
        "        return max(x, y)\n",
        "    elif mode == \"min\":\n",
        "        return min(x, y)\n",
        "    else:\n",
        "        return None"
      ],
      "execution_count": null,
      "outputs": []
    },
    {
      "cell_type": "markdown",
      "metadata": {
        "id": "J1EoNMenJCow"
      },
      "source": [
        "## Accommodating an Arbitrary Number of Positional Arguments"
      ]
    },
    {
      "cell_type": "markdown",
      "metadata": {
        "id": "vmIpQ-bCJPzl"
      },
      "source": [
        "Python provides us with a syntax for defining a function, which can be called with an arbitrary number of positional arguments. This is signaled by the syntax `def f(*<var_name>)`.\n",
        "\n"
      ]
    },
    {
      "cell_type": "code",
      "metadata": {
        "id": "48xII9ttJci2"
      },
      "source": [
        "# The * symbol indicates that an arbitrary number of\n",
        "# arguments can be passed to `args`, when calling `f`.\n",
        "def f(*args):\n",
        "    #  All arguments passed to `f` will be \"packed\" into a\n",
        "    #  tuple that is assigned to the variable `args`.\n",
        "    # `f()`  will assign `args = tuple()`\n",
        "    # `f(x, y, ...)` will assign `args = (x, y, ...)`\n",
        "    return args"
      ],
      "execution_count": null,
      "outputs": []
    },
    {
      "cell_type": "markdown",
      "metadata": {
        "id": "Hc6AE06gJkGP"
      },
      "source": [
        "Because Python cannot foresee how many arguments will be passed to `f`, all of the objects that are passed to it will be packed into a tuple, which is then assigned to the variable `args`."
      ]
    },
    {
      "cell_type": "markdown",
      "metadata": {
        "id": "GYkaM9lMJrTe"
      },
      "source": [
        "This syntax can be combined with positional arguments and default arguments. *Any variables specified after a packed variable must be called by name*."
      ]
    },
    {
      "cell_type": "markdown",
      "metadata": {
        "id": "WD7teTmTKAH5"
      },
      "source": [
        "**EXERCISE:** Write a function named `mean`, which accepts and arbitrary number of numerical arguments, and computes the mean of all of the values passed to the function. Thus `mean(1, 2, 3)` should return `2.0`.\n",
        "\n",
        "This function should return `0.` if no arguments are passed to it. Be sure to test your function, and include a docstring."
      ]
    },
    {
      "cell_type": "code",
      "metadata": {
        "id": "R3LUXVcjKY-B"
      },
      "source": [
        "def mean(*seq):\n",
        "    \"\"\" Returns the mean of the function's arguments \"\"\"\n",
        "    if len(seq) == 0:\n",
        "        return 0\n",
        "\n",
        "    total = 0\n",
        "    for num in seq:\n",
        "        total += num\n",
        "    return total / len(seq)"
      ],
      "execution_count": null,
      "outputs": []
    },
    {
      "cell_type": "markdown",
      "metadata": {
        "id": "7l9VZzvdMJK8"
      },
      "source": [
        "We see that `*` indicates the packing of an arbitrary number of arguments into a tuple, when used in the signature of a function definition. Simultaneously, `*` signals the unpacking of an iterable to pass each of its members as a positional argument to a function, when used in the context of calling a function:"
      ]
    },
    {
      "cell_type": "code",
      "metadata": {
        "colab": {
          "base_uri": "https://localhost:8080/"
        },
        "id": "Nf3LM8BhMQF5",
        "outputId": "6c4b1faf-2e7a-40cd-e970-104291bbf9bf"
      },
      "source": [
        "# Using `*` when calling a function, to unpack an\n",
        "# iterable. Passing its members as distinct arguments\n",
        "# to the function\n",
        "\n",
        "def f(x, y, z):\n",
        "    return x + y + z\n",
        "\n",
        "print(f(1, 2, 3))\n",
        "\n",
        "# `*` means: unpack the contents of [1, 2, 3]\n",
        "# passing each item as x, y, and z,\n",
        "# respectively\n",
        "print(f(*[1, 2, 3]))  # equivalent to: f(1, 2, 3)"
      ],
      "execution_count": null,
      "outputs": [
        {
          "output_type": "stream",
          "text": [
            "6\n",
            "6\n"
          ],
          "name": "stdout"
        }
      ]
    },
    {
      "cell_type": "markdown",
      "metadata": {
        "id": "grTCJdeoMaBu"
      },
      "source": [
        "## Accommodating an Arbitrary Number of Keyword Arguments"
      ]
    },
    {
      "cell_type": "markdown",
      "metadata": {
        "id": "7PPyo8xFMk88"
      },
      "source": [
        "We can also define a function that is able to accept an arbitrary number of keyword arguments, using the syntax: `def f(**<var_name>)`\n",
        "\n",
        "Note that a single asterisk, `*`, was used to denote an arbitrary number of positional arguments, whereas `**` signals the acceptance of an arbitrary number of keyword arguments."
      ]
    },
    {
      "cell_type": "code",
      "metadata": {
        "id": "7iVmoFtTMuYh"
      },
      "source": [
        "# The ** symbol indicates that an arbitrary number of\n",
        "# keyword arguments can be passed to `args`, when calling `f`.\n",
        "def f(**args):\n",
        "    #  All keyword arguments passed to `f` will be \"packed\" into a\n",
        "    #  dictionary that is assigned to the variable `args`.\n",
        "    # `f()`  will assign `args = {}` (an empty dictionary)\n",
        "    # `f(x=1, y=2, ...)` will assign `args = {\"x\":1, \"y\":2, ...}`\n",
        "    return args"
      ],
      "execution_count": null,
      "outputs": []
    },
    {
      "cell_type": "markdown",
      "metadata": {
        "id": "P9EgksASMwts"
      },
      "source": [
        "Because Python cannot foresee how many arguments will be passed to `f`, all of the keyword arguments that are passed to it will be packed into a dictionary, where a given keyword is set as a key (cast as a string) that maps to the corresponding value. This dictionary is then assigned to the variable `args`."
      ]
    },
    {
      "cell_type": "code",
      "metadata": {
        "colab": {
          "base_uri": "https://localhost:8080/"
        },
        "id": "UhDapbF_M-qd",
        "outputId": "207cc51f-b9fb-4a09-d4a6-dd95a11bba0f"
      },
      "source": [
        "f(x=(0, 1), val=True, moo=\"cow\")  # pass three arguments to `f`"
      ],
      "execution_count": null,
      "outputs": [
        {
          "output_type": "execute_result",
          "data": {
            "text/plain": [
              "{'moo': 'cow', 'val': True, 'x': (0, 1)}"
            ]
          },
          "metadata": {
            "tags": []
          },
          "execution_count": 18
        }
      ]
    },
    {
      "cell_type": "markdown",
      "metadata": {
        "id": "6QiDhpi8OAe8"
      },
      "source": [
        "This syntax can be combined with positional arguments and default arguments. No additional arguments may come after a `**` entry."
      ]
    },
    {
      "cell_type": "markdown",
      "metadata": {
        "id": "bRT7mIW3OTJu"
      },
      "source": [
        "We see that `**` indicates the packing of an arbitrary number of keyword arguments into a dictionary, when used in the signature of a function definition. Simultaneously, `**` signals the unpacking of a dictionary to pass each of its key-value pairs as a keyword argument to a function, when used in the context of calling a function."
      ]
    },
    {
      "cell_type": "markdown",
      "metadata": {
        "id": "wnQv9bnHOd5g"
      },
      "source": [
        "# Functions as Objects"
      ]
    },
    {
      "cell_type": "markdown",
      "metadata": {
        "id": "QVnY1sZvOgkn"
      },
      "source": [
        "Once defined, a function behaves like any other Python object, like a list or string or integer. You can assign a variable to a function-object:"
      ]
    },
    {
      "cell_type": "code",
      "metadata": {
        "colab": {
          "base_uri": "https://localhost:8080/"
        },
        "id": "SgdqHWIUOiyM",
        "outputId": "53ce6799-542b-4ed6-8f81-ee8d0e2215ab"
      },
      "source": [
        "var = count_vowels  # `var` now references the function `count_vowels`\n",
        "var(\"Hello\")        # you can now \"call\" `var`"
      ],
      "execution_count": null,
      "outputs": [
        {
          "output_type": "execute_result",
          "data": {
            "text/plain": [
              "2"
            ]
          },
          "metadata": {
            "tags": []
          },
          "execution_count": 19
        }
      ]
    },
    {
      "cell_type": "markdown",
      "metadata": {
        "id": "UkJoh_GPOmxm"
      },
      "source": [
        "You can store functions in a list:"
      ]
    },
    {
      "cell_type": "code",
      "metadata": {
        "colab": {
          "base_uri": "https://localhost:8080/"
        },
        "id": "Tpe8i-LhOpdy",
        "outputId": "5e871c2d-1f0c-466a-8c50-bd0c3f27ddb2"
      },
      "source": [
        "my_list = [count_vowels, print]\n",
        "\n",
        "for func in my_list:\n",
        "    func(\"hello\")\n",
        "\n",
        "# iteration 0: calls `count_vowels(\"hello\")`\n",
        "# iteration 1: calls `print(\"hello\")`"
      ],
      "execution_count": null,
      "outputs": [
        {
          "output_type": "stream",
          "text": [
            "hello\n"
          ],
          "name": "stdout"
        }
      ]
    },
    {
      "cell_type": "markdown",
      "metadata": {
        "id": "zboSVPtSOr3r"
      },
      "source": [
        "You can also call functions anywhere, and their return-value will be returned in-place:"
      ]
    },
    {
      "cell_type": "code",
      "metadata": {
        "colab": {
          "base_uri": "https://localhost:8080/"
        },
        "id": "zny5poGBOzR5",
        "outputId": "3d1010e1-2250-4da4-d0b1-849ae674239b"
      },
      "source": [
        "if count_vowels(\"onomatopoeia\") > 5:\n",
        "    print(\"that's a lot of vowels!\")"
      ],
      "execution_count": null,
      "outputs": [
        {
          "output_type": "stream",
          "text": [
            "that's a lot of vowels!\n"
          ],
          "name": "stdout"
        }
      ]
    },
    {
      "cell_type": "markdown",
      "metadata": {
        "id": "xJmlQG2LO4Lv"
      },
      "source": [
        "“Printing” a function isn’t very revealing. It simply tells you the memory address where the function-object is stored."
      ]
    },
    {
      "cell_type": "markdown",
      "metadata": {
        "id": "OqqxPmbF45wu"
      },
      "source": [
        "# Lambda Expressions"
      ]
    },
    {
      "cell_type": "markdown",
      "metadata": {
        "id": "ARXr6xvn48f2"
      },
      "source": [
        "We won't cover this much because it is outside the scope of our workshop, but a lambda expression can be represented by a function:"
      ]
    },
    {
      "cell_type": "code",
      "metadata": {
        "colab": {
          "base_uri": "https://localhost:8080/"
        },
        "id": "4Yi9Q2N-5Fo9",
        "outputId": "e3281352-0606-4b46-f620-df47beb01d6f"
      },
      "source": [
        "# lambda expression\n",
        "x = lambda a, b : a * b\n",
        "\n",
        "# lambda expression as a function\n",
        "def y(a, b):\n",
        "    return a * b\n",
        "\n",
        "print(x(3,4))\n",
        "print(y(3,4))"
      ],
      "execution_count": null,
      "outputs": [
        {
          "output_type": "stream",
          "text": [
            "12\n",
            "12\n"
          ],
          "name": "stdout"
        }
      ]
    },
    {
      "cell_type": "markdown",
      "metadata": {
        "id": "lzstjzRxLioE"
      },
      "source": [
        "# Function Overloading"
      ]
    },
    {
      "cell_type": "markdown",
      "metadata": {
        "id": "YSF6DR55Lk8_"
      },
      "source": [
        "In Java, function overloading means that you can have 2 functions with the same name with different parameters, and you can use both functions based on what parameters you put in.\n",
        "\n",
        "Both of these are functions (in Java) that add 2 numbers, but 1 is for 2 integers and the other is for 2 doubles (basically floats). Since integers and doubles are different, Java knows which function to run.\n",
        "\n",
        "```\n",
        "static int add(int x, int y) {\n",
        "    return x + y;\n",
        "}\n",
        "\n",
        "static double add(double x, double y) {\n",
        "    return x + y;\n",
        "}\n",
        "```\n",
        "\n",
        "In Python, this is not the case. If 2 functions have the same name, the last one is the only function that works."
      ]
    },
    {
      "cell_type": "markdown",
      "metadata": {
        "id": "DUd57YFFPEAB"
      },
      "source": [
        "# Review"
      ]
    },
    {
      "cell_type": "markdown",
      "metadata": {
        "id": "2zNw94vb_PlT"
      },
      "source": [
        "1. Write a function named `meanUnder21`, which accepts an arbitrary number of numerical arguments, and computes the mean of all of the values under 21 (not including 21) passed to the function. Thus `meanUnder21(1, 2, 3)` should return `2.0`, and `meanUnder21(10, 20, 30)` should return `15.0`. This function should return `0.` if no arguments are passed to it."
      ]
    },
    {
      "cell_type": "code",
      "metadata": {
        "id": "gxY221sHZ8DT"
      },
      "source": [
        "def meanUnder21(*seq):    \n",
        "    totalSum = 0\n",
        "    totalNums = len(seq)\n",
        "    for num in seq:\n",
        "        if num < 21:\n",
        "            totalSum += num\n",
        "        else:\n",
        "            totalNums -= 1\n",
        "    \n",
        "    if totalNums == 0:\n",
        "        return 0\n",
        "\n",
        "    return totalSum / totalNums"
      ],
      "execution_count": null,
      "outputs": []
    },
    {
      "cell_type": "markdown",
      "metadata": {
        "id": "oPOEA4A5atik"
      },
      "source": [
        "2. Write a Python function to sum all the numbers in a list."
      ]
    },
    {
      "cell_type": "code",
      "metadata": {
        "id": "6PstmdpVauhB"
      },
      "source": [
        "def sum(numbers):\n",
        "    total = 0\n",
        "    for x in numbers:\n",
        "        total += x\n",
        "    return total"
      ],
      "execution_count": null,
      "outputs": []
    },
    {
      "cell_type": "markdown",
      "metadata": {
        "id": "WC0k1GQXbRQU"
      },
      "source": [
        "3. Write a Python function to check whether a number is between 1 and 100 (inclusive)."
      ]
    },
    {
      "cell_type": "code",
      "metadata": {
        "id": "L99cnJyVbR7a"
      },
      "source": [
        "def test_range(n):\n",
        "    if n in range(1,101):\n",
        "        print(n, \"is in the range.\")\n",
        "    else:\n",
        "        print(n, \"is outside the given range.\")"
      ],
      "execution_count": null,
      "outputs": []
    },
    {
      "cell_type": "markdown",
      "metadata": {
        "id": "2bb77TCKcCIw"
      },
      "source": [
        "4. Write a Python program to print the even numbers from a given list."
      ]
    },
    {
      "cell_type": "code",
      "metadata": {
        "id": "Kzur3RxicDDt"
      },
      "source": [
        "def is_even_num(numList):\n",
        "    evenNum = []\n",
        "    for n in numList:\n",
        "        if n % 2 == 0:\n",
        "            evenNum.append(n)\n",
        "    return evenNum"
      ],
      "execution_count": null,
      "outputs": []
    }
  ]
}