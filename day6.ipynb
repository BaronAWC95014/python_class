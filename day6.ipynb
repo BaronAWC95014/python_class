{
  "nbformat": 4,
  "nbformat_minor": 0,
  "metadata": {
    "colab": {
      "name": "day6.ipynb",
      "provenance": [],
      "collapsed_sections": [
        "kRlYD3gpHlWr",
        "Z7yG5lROHthm",
        "ZABpSdL6Hy1T"
      ],
      "toc_visible": true,
      "include_colab_link": true
    },
    "kernelspec": {
      "name": "python3",
      "display_name": "Python 3"
    },
    "language_info": {
      "name": "python"
    }
  },
  "cells": [
    {
      "cell_type": "markdown",
      "metadata": {
        "id": "view-in-github",
        "colab_type": "text"
      },
      "source": [
        "<a href=\"https://colab.research.google.com/github/BaronAWC95014/python_class_instructor/blob/main/day6.ipynb\" target=\"_parent\"><img src=\"https://colab.research.google.com/assets/colab-badge.svg\" alt=\"Open In Colab\"/></a>"
      ]
    },
    {
      "cell_type": "markdown",
      "metadata": {
        "id": "4QXDH-swuNqL"
      },
      "source": [
        "# Basics of Functions"
      ]
    },
    {
      "cell_type": "markdown",
      "metadata": {
        "id": "uQyGBznYjI7d"
      },
      "source": [
        "**Formal definition: a Python function is an object that encapsulates code. Calling the function will execute the encapsulated code and return an object. A function can be defined so that it accepts arguments, which are objects that are to be passed to the encapsulated code.**"
      ]
    },
    {
      "cell_type": "markdown",
      "metadata": {
        "id": "vos0YFqnuPrR"
      },
      "source": [
        "Defining a function allows you to encapsulate a segment of code, specifying the information that enters and leaves the code. You can make use of this “code capsule” repeatedly and in many different contexts. For example, suppose you want to count how many vowels are in a string. The following defines a function that accomplishes this:"
      ]
    },
    {
      "cell_type": "code",
      "metadata": {
        "id": "-xYC7hiTvYyM"
      },
      "source": [
        "def count_vowels(in_string):\n",
        "    \"\"\"Returns the number of vowels contained in `in_string`\"\"\"\n",
        "    num_vowels = 0\n",
        "    vowels = \"aeiouAEIOU\"\n",
        "\n",
        "    # iterate through each character from \"in_string\"\n",
        "    for char in in_string:\n",
        "        # check if \"char\" is a vowel\n",
        "        if char in vowels:\n",
        "            # if so, increment the number of vowels by 1\n",
        "            num_vowels += 1  # equivalent to num_vowels = num_vowels + 1\n",
        "    # give back \"num_vowels\"\n",
        "    return num_vowels"
      ],
      "execution_count": null,
      "outputs": []
    },
    {
      "cell_type": "markdown",
      "metadata": {
        "id": "BE7djMC-v3af"
      },
      "source": [
        "Executing this code will define the function `count_vowels`. This function expects to be passed one object, represented by `in_string`, as an input argument, and it will return the number of vowels stored in that object. Invoking `count_vowels`, passing it an input object, is referred to as calling the function:"
      ]
    },
    {
      "cell_type": "code",
      "metadata": {
        "id": "He1nfPMtwvDA",
        "colab": {
          "base_uri": "https://localhost:8080/"
        },
        "outputId": "98725efb-27eb-4007-a828-f272c954f30d"
      },
      "source": [
        "count_vowels(\"Hi my name is Arthur\")"
      ],
      "execution_count": null,
      "outputs": [
        {
          "output_type": "execute_result",
          "data": {
            "text/plain": [
              "6"
            ]
          },
          "metadata": {
            "tags": []
          },
          "execution_count": 5
        }
      ]
    },
    {
      "cell_type": "markdown",
      "metadata": {
        "id": "weWk24vjlBSl"
      },
      "source": [
        "A Python function is similar to a math function.\n",
        "\n",
        "```\n",
        "MATH\n",
        "\n",
        "f(x) = x + 2\n",
        "y = f(3)\n",
        "```\n",
        "\n",
        "```\n",
        "PYTHON\n",
        "\n",
        "def f(x):\n",
        "    return x + 2\n",
        "y = f(3)\n",
        "```"
      ]
    },
    {
      "cell_type": "markdown",
      "metadata": {
        "id": "8qqbdKYVLwfT"
      },
      "source": [
        "## Syntax"
      ]
    },
    {
      "cell_type": "markdown",
      "metadata": {
        "id": "TJr3_LRow464"
      },
      "source": [
        "Similar to `if`, `else`, and `for`, the `def` statement is reserved by the Python language to signify the definition of functions (and a few other things that we’ll cover later). The following is the general syntax for defining a Python function:\n",
        "\n",
        "```\n",
        "def <function name>(<function signature>):\n",
        "    \"\"\" documentation string \"\"\"\n",
        "    <encapsulated code>\n",
        "    return <object>\n",
        "```"
      ]
    },
    {
      "cell_type": "markdown",
      "metadata": {
        "id": "TWwA_1R7yQ2U"
      },
      "source": [
        "* `function name` can be any valid variable name, and must be followed by parentheses and then a colon.\n",
        "\n",
        "* `function signature` specifies the input arguments to the function, and may be left blank if the function does not accept any arguments (the parentheses must still be included, but will not encapsulate anything).\n",
        "\n",
        "* The documentation string (commonly referred to as a “docstring”) may span multiple lines, and should indicate what the function’s purpose is. It is optional, but if you type `<function name>?`, the docstring will be displayed.\n",
        "\n",
        "* `encapsulated code` can consist of general Python code, and is demarcated by being indented relative to the def statement.\n",
        "\n",
        "* `return`, if reached by the encapsulated code, triggers the function to return the specified object and end its own execution immediately.\n",
        "\n",
        "The `return` statement is also reserved by Python. It denotes the end of a function; if reached, a `return` statement immediately concludes the execution of the function and returns the specified object.\n",
        "\n",
        "Note that, like an if-statement and a for-loop, the `def` statment must end in a colon and the body of the function is delimited by whitespace."
      ]
    },
    {
      "cell_type": "markdown",
      "metadata": {
        "id": "FgV5otF8qrk_"
      },
      "source": [
        "**EXERCISE:** What is wrong with each of these functions?"
      ]
    },
    {
      "cell_type": "code",
      "metadata": {
        "id": "-AJH0TZtxz6o"
      },
      "source": [
        "# indentation error on assignment\n",
        "def func1():\n",
        "x = 1\n",
        "    return x + 2\n",
        "\n",
        "# missing parentheses\n",
        "def func2:\n",
        "    x = 1\n",
        "    return x + 2\n",
        "\n",
        "# indentation error on return\n",
        "def func3():\n",
        "    x = 1\n",
        "return x + 2\n",
        "\n",
        "# nothing wrong\n",
        "def func4():\n",
        "    x = 1\n",
        "    return x + 2\n",
        "\n",
        "# missing colon\n",
        "def func5()\n",
        "    x = 1\n",
        "    return x + 2"
      ],
      "execution_count": null,
      "outputs": []
    },
    {
      "cell_type": "markdown",
      "metadata": {
        "id": "1ljj7fIotsLp"
      },
      "source": [
        "**EXERCISE:** Make the following function:\n",
        "- name: getAverage\n",
        "- docstring: Finds the average of the numbers in the iterable 'numbers'\n",
        "- parameters: `numbers` (iterable)\n",
        "- returns: average/mean of the numbers"
      ]
    },
    {
      "cell_type": "code",
      "metadata": {
        "colab": {
          "base_uri": "https://localhost:8080/"
        },
        "id": "sJxQ6XQItUu-",
        "outputId": "8d72fb0f-d747-49cf-f8a7-a194abf65581"
      },
      "source": [
        "def getAverage(numbers):\n",
        "    \"\"\"Finds the average of the numbers in the iterable 'numbers'\"\"\"\n",
        "    return sum(numbers) / len(numbers)\n",
        "\n",
        "print(getAverage([3, 4, 8]))"
      ],
      "execution_count": null,
      "outputs": [
        {
          "output_type": "stream",
          "text": [
            "5.0\n"
          ],
          "name": "stdout"
        }
      ]
    },
    {
      "cell_type": "markdown",
      "metadata": {
        "id": "NILsNyodzv2t"
      },
      "source": [
        "**EXERCISE:** Write a function named `count_even`. It should accept one input argument, named `numbers`, which will be an iterable containing integers. Have the function return the number of even-valued integers contained in the list. Include a reasonable docstring.\n",
        "\n"
      ]
    },
    {
      "cell_type": "code",
      "metadata": {
        "id": "MSmuH4fjz8ji"
      },
      "source": [
        "def count_even(numbers):\n",
        "    \"\"\"Counts the number of even integers in an iterable\"\"\"\n",
        "    total = 0\n",
        "    for num in numbers:\n",
        "        if num % 2 == 0:\n",
        "            total += 1\n",
        "    return total\n",
        "\n",
        "print(count_even([2, 3, 4, 7, 10]))"
      ],
      "execution_count": null,
      "outputs": []
    },
    {
      "cell_type": "markdown",
      "metadata": {
        "id": "w6OnlAkOvQBc"
      },
      "source": [
        "## Arguments"
      ]
    },
    {
      "cell_type": "markdown",
      "metadata": {
        "id": "reVeDzp2vfBC"
      },
      "source": [
        "A sequence of comma-separated variable names can specified in the function signature to indicated positional arguments for the function. For example, the following specifies `x`, `lower`, and `upper` as input arguments to a function, `is_bounded`:"
      ]
    },
    {
      "cell_type": "code",
      "metadata": {
        "id": "ZdT7X5i-vlaB"
      },
      "source": [
        "def is_bounded(x, lower, upper):\n",
        "    return lower <= x <= upper\n",
        "\n",
        "print(is_bounded(3, 2, 4))"
      ],
      "execution_count": null,
      "outputs": []
    },
    {
      "cell_type": "markdown",
      "metadata": {
        "id": "BBevsTiYvond"
      },
      "source": [
        "The objects passed to `is_bounded` will be assigned to its input variables based on their positions. That is, `is_bounded(3, 2, 4)` will assign `x=3`, `lower=2`, and `upper=4`, in accordance with the positional ordering of the function’s input arguments. Feeding a function too few or too many arguments will raise a `TypeError`."
      ]
    },
    {
      "cell_type": "markdown",
      "metadata": {
        "id": "PpeKFcN5cnow"
      },
      "source": [
        "## Purpose"
      ]
    },
    {
      "cell_type": "markdown",
      "metadata": {
        "id": "pv11lSv4Ssn4"
      },
      "source": [
        "The purpose of using functions is mainly to **reuse code**. You can use a function multiple times in different places.\n",
        "\n",
        "Another good use of functions is to **make your code clearer** (easier to understand and read), given that you give the functions and variables good names. For example, to find the largest prime under a certain number, you first need to figure out if a number is prime.\n",
        "\n",
        "Using functions also **makes bug-fixing easier**. If `is_prime()` had a bug, I could just fix it there instead of fixing it in 2 places (`highest_prime_under_limit` and `lowest_prime_over_limit`)."
      ]
    },
    {
      "cell_type": "code",
      "metadata": {
        "colab": {
          "base_uri": "https://localhost:8080/"
        },
        "id": "Rmzu-v_PS3Yi",
        "outputId": "35813824-750a-4dc7-ac6d-a82d7710df13"
      },
      "source": [
        "def is_prime(num):\n",
        "    # figure out if the number is prime\n",
        "\n",
        "    prime = True\n",
        "    # if it's 2 or more, it might be prime\n",
        "    if num > 1:\n",
        "        for a in range(2, int(num/2)):\n",
        "            # if it is divisible by something, it's not prime\n",
        "            if (num % a) == 0:\n",
        "                prime = False\n",
        "                break\n",
        "    # if it's 1 or less, it's not prime\n",
        "    else:\n",
        "        prime = False\n",
        "    return prime\n",
        "\n",
        "def highest_prime_under_limit(limit):\n",
        "    # find the highest prime under \"num\"\n",
        "\n",
        "    # iterate starting from \"num - 1\" down to 2, including both ends\n",
        "    for num in reversed(range(2, limit)):\n",
        "        # if it's prime, return the number\n",
        "        if is_prime(num):\n",
        "            return num\n",
        "\n",
        "def lowest_prime_over_limit(limit):\n",
        "    # find the highest prime under \"num\"\n",
        "\n",
        "    # start at \"limit + 1\"\n",
        "    num = limit + 1\n",
        "    # keep incrementing by 1 until the number is prime\n",
        "    while not is_prime(num):\n",
        "        num += 1\n",
        "    # return result\n",
        "    return num\n",
        "\n",
        "print(highest_prime_under_limit(1000000)) # 1 million\n",
        "print(lowest_prime_over_limit(1000))"
      ],
      "execution_count": null,
      "outputs": [
        {
          "output_type": "stream",
          "text": [
            "999983\n",
            "1009\n"
          ],
          "name": "stdout"
        }
      ]
    },
    {
      "cell_type": "markdown",
      "metadata": {
        "id": "wnQv9bnHOd5g"
      },
      "source": [
        "# Functions as Objects"
      ]
    },
    {
      "cell_type": "markdown",
      "metadata": {
        "id": "QVnY1sZvOgkn"
      },
      "source": [
        "Once defined, a function behaves like any other Python object, like a list or string or integer. You can assign a variable to a function-object:"
      ]
    },
    {
      "cell_type": "code",
      "metadata": {
        "colab": {
          "base_uri": "https://localhost:8080/"
        },
        "id": "SgdqHWIUOiyM",
        "outputId": "53ce6799-542b-4ed6-8f81-ee8d0e2215ab"
      },
      "source": [
        "var = count_vowels  # `var` now references the function `count_vowels`\n",
        "var(\"Hello\")        # you can now \"call\" `var`"
      ],
      "execution_count": null,
      "outputs": [
        {
          "output_type": "execute_result",
          "data": {
            "text/plain": [
              "2"
            ]
          },
          "metadata": {
            "tags": []
          },
          "execution_count": 19
        }
      ]
    },
    {
      "cell_type": "markdown",
      "metadata": {
        "id": "UkJoh_GPOmxm"
      },
      "source": [
        "You can store functions in a list:"
      ]
    },
    {
      "cell_type": "code",
      "metadata": {
        "colab": {
          "base_uri": "https://localhost:8080/"
        },
        "id": "Tpe8i-LhOpdy",
        "outputId": "ab1e228e-e8b0-49c9-f02a-9200709e667a"
      },
      "source": [
        "my_list = [count_vowels, print]\n",
        "\n",
        "for func in my_list:\n",
        "    func(\"hello\")\n",
        "\n",
        "# iteration 0: calls `count_vowels(\"hello\")` (it doesn't print anything, it only returns something)\n",
        "# iteration 1: calls `print(\"hello\")`"
      ],
      "execution_count": null,
      "outputs": [
        {
          "output_type": "stream",
          "text": [
            "hello\n"
          ],
          "name": "stdout"
        }
      ]
    },
    {
      "cell_type": "markdown",
      "metadata": {
        "id": "zboSVPtSOr3r"
      },
      "source": [
        "You can also call functions anywhere, and their return-value will be returned in-place:"
      ]
    },
    {
      "cell_type": "code",
      "metadata": {
        "colab": {
          "base_uri": "https://localhost:8080/"
        },
        "id": "zny5poGBOzR5",
        "outputId": "3d1010e1-2250-4da4-d0b1-849ae674239b"
      },
      "source": [
        "if count_vowels(\"onomatopoeia\") > 5:\n",
        "    print(\"that's a lot of vowels!\")"
      ],
      "execution_count": null,
      "outputs": [
        {
          "output_type": "stream",
          "text": [
            "that's a lot of vowels!\n"
          ],
          "name": "stdout"
        }
      ]
    },
    {
      "cell_type": "markdown",
      "metadata": {
        "id": "xJmlQG2LO4Lv"
      },
      "source": [
        "You can print a function with its arguments to show what it returns, but “printing” the function name itself isn’t very revealing. It simply tells you the memory address where the function-object is stored."
      ]
    },
    {
      "cell_type": "code",
      "metadata": {
        "colab": {
          "base_uri": "https://localhost:8080/"
        },
        "id": "_TtNkWOr7UUA",
        "outputId": "58c2e2ab-865b-4efc-adeb-774ec5ca1d4e"
      },
      "source": [
        "print(count_vowels(\"hello world\"))\n",
        "print(count_vowels)"
      ],
      "execution_count": null,
      "outputs": [
        {
          "output_type": "stream",
          "text": [
            "3\n",
            "<function count_vowels at 0x7f34b75f0cb0>\n"
          ],
          "name": "stdout"
        }
      ]
    },
    {
      "cell_type": "markdown",
      "metadata": {
        "id": "lzstjzRxLioE"
      },
      "source": [
        "# Function Overloading"
      ]
    },
    {
      "cell_type": "markdown",
      "metadata": {
        "id": "YSF6DR55Lk8_"
      },
      "source": [
        "In Java, function overloading means that you can have 2 functions with the same name with different parameters, and you can use both functions based on what parameters you put in.\n",
        "\n",
        "Both of these are functions (in Java) that add 2 numbers, but 1 is for 2 integers and the other is for 2 doubles (basically floats). Since integers and doubles are different, Java knows which function to run.\n",
        "\n",
        "```\n",
        "static int add(int x, int y) {\n",
        "    return x + y;\n",
        "}\n",
        "\n",
        "static double add(double x, double y) {\n",
        "    return x + y;\n",
        "}\n",
        "```\n",
        "\n",
        "In Python, this is not the case. If 2 functions have the same name, the last one is the only function that works."
      ]
    },
    {
      "cell_type": "markdown",
      "metadata": {
        "id": "DUd57YFFPEAB"
      },
      "source": [
        "# Review"
      ]
    },
    {
      "cell_type": "markdown",
      "metadata": {
        "id": "oPOEA4A5atik"
      },
      "source": [
        "1. Write a Python function to sum all the numbers in a list, without `sum()`."
      ]
    },
    {
      "cell_type": "code",
      "metadata": {
        "id": "6PstmdpVauhB"
      },
      "source": [
        "def getSum(numbers):\n",
        "    total = 0\n",
        "    for x in numbers:\n",
        "        total += x\n",
        "    return total"
      ],
      "execution_count": null,
      "outputs": []
    },
    {
      "cell_type": "markdown",
      "metadata": {
        "id": "WC0k1GQXbRQU"
      },
      "source": [
        "2. Write a Python function to check whether a number is between 1 and 100 (inclusive)."
      ]
    },
    {
      "cell_type": "code",
      "metadata": {
        "id": "L99cnJyVbR7a"
      },
      "source": [
        "def test_range(n):\n",
        "    if n in range(1,101):\n",
        "        print(n, \"is in the range.\")\n",
        "    else:\n",
        "        print(n, \"is outside the given range.\")"
      ],
      "execution_count": null,
      "outputs": []
    },
    {
      "cell_type": "markdown",
      "metadata": {
        "id": "2bb77TCKcCIw"
      },
      "source": [
        "3. Write a function that takes a list and returns a version of that list with only the even numbers."
      ]
    },
    {
      "cell_type": "code",
      "metadata": {
        "id": "Kzur3RxicDDt"
      },
      "source": [
        "def keep_even_nums(numList):\n",
        "    evenNums = []\n",
        "    for n in numList:\n",
        "        if n % 2 == 0:\n",
        "            evenNums.append(n)\n",
        "    return evenNums"
      ],
      "execution_count": null,
      "outputs": []
    }
  ]
}