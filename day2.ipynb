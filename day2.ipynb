{
  "nbformat": 4,
  "nbformat_minor": 0,
  "metadata": {
    "colab": {
      "name": "day2.ipynb",
      "provenance": [],
      "collapsed_sections": [],
      "toc_visible": true,
      "authorship_tag": "ABX9TyOhIQG7Kj47699iUaVddazv",
      "include_colab_link": true
    },
    "kernelspec": {
      "name": "python3",
      "display_name": "Python 3"
    },
    "language_info": {
      "name": "python"
    }
  },
  "cells": [
    {
      "cell_type": "markdown",
      "metadata": {
        "id": "view-in-github",
        "colab_type": "text"
      },
      "source": [
        "<a href=\"https://colab.research.google.com/github/BaronAWC95014/python_class_instructor/blob/main/day2.ipynb\" target=\"_parent\"><img src=\"https://colab.research.google.com/assets/colab-badge.svg\" alt=\"Open In Colab\"/></a>"
      ]
    },
    {
      "cell_type": "markdown",
      "metadata": {
        "id": "cl-VN-x5EXJs"
      },
      "source": [
        "# Assigning Variables"
      ]
    },
    {
      "cell_type": "markdown",
      "metadata": {
        "id": "tEAHTqytEfyL"
      },
      "source": [
        "Variables let us write flexible and repurposable code. If we wanted to store anything, like a name and age, we can assign a value to a variable as follows:"
      ]
    },
    {
      "cell_type": "code",
      "metadata": {
        "id": "JLUuwdFaEG4S"
      },
      "source": [
        "name = \"Susan\"\n",
        "age = 15"
      ],
      "execution_count": 12,
      "outputs": []
    },
    {
      "cell_type": "markdown",
      "metadata": {
        "id": "76aJcH9uFJ0z"
      },
      "source": [
        "Note that if you write it the other way around, it results in an error. You must assign variables as `variableName = value`."
      ]
    },
    {
      "cell_type": "code",
      "metadata": {
        "id": "dhn-GVztFKFS",
        "colab": {
          "base_uri": "https://localhost:8080/",
          "height": 130
        },
        "outputId": "8ea5d736-1b39-40fb-f34f-f3bbf80d9437"
      },
      "source": [
        "\"Susan\" = name"
      ],
      "execution_count": 14,
      "outputs": [
        {
          "output_type": "error",
          "ename": "SyntaxError",
          "evalue": "ignored",
          "traceback": [
            "\u001b[0;36m  File \u001b[0;32m\"<ipython-input-14-930edb449500>\"\u001b[0;36m, line \u001b[0;32m1\u001b[0m\n\u001b[0;31m    \"Susan\" = name\u001b[0m\n\u001b[0m                  ^\u001b[0m\n\u001b[0;31mSyntaxError\u001b[0m\u001b[0;31m:\u001b[0m can't assign to literal\n"
          ]
        }
      ]
    },
    {
      "cell_type": "markdown",
      "metadata": {
        "id": "cF6SNJgU1QKz"
      },
      "source": [
        "Variable names can contain the lowercase and uppercase letters, the digits 0-9, and underscores. A variable name can't start with a number."
      ]
    },
    {
      "cell_type": "code",
      "metadata": {
        "id": "hh3BWUJ52Yja"
      },
      "source": [
        "variable_with_underscores = \"this variable has underscores in it\""
      ],
      "execution_count": 15,
      "outputs": []
    },
    {
      "cell_type": "code",
      "metadata": {
        "id": "M3-1l3Rx1Qeg",
        "colab": {
          "base_uri": "https://localhost:8080/",
          "height": 130
        },
        "outputId": "2bc73586-8561-41e5-a320-2999a6ae4061"
      },
      "source": [
        "import random\n",
        "\n",
        "# illegal to have a number at the start\n",
        "6_sided_die_roll = random.randint(1, 6)"
      ],
      "execution_count": 17,
      "outputs": [
        {
          "output_type": "error",
          "ename": "SyntaxError",
          "evalue": "ignored",
          "traceback": [
            "\u001b[0;36m  File \u001b[0;32m\"<ipython-input-17-65acec64e948>\"\u001b[0;36m, line \u001b[0;32m4\u001b[0m\n\u001b[0;31m    6_sided_die_roll = random.randint(1, 6)\u001b[0m\n\u001b[0m     ^\u001b[0m\n\u001b[0;31mSyntaxError\u001b[0m\u001b[0;31m:\u001b[0m invalid token\n"
          ]
        }
      ]
    },
    {
      "cell_type": "code",
      "metadata": {
        "id": "HygJXDYT2mwD"
      },
      "source": [
        "import random\n",
        "\n",
        "die_roll_6 = random.randint(1, 6)"
      ],
      "execution_count": 20,
      "outputs": []
    },
    {
      "cell_type": "code",
      "metadata": {
        "id": "CbVs65Od12yV",
        "colab": {
          "base_uri": "https://localhost:8080/",
          "height": 130
        },
        "outputId": "8f85c512-6736-4f85-99ae-a4b1e41c3a9a"
      },
      "source": [
        "# illegal to have punctuation in a variable\n",
        "invalid?variable = 5"
      ],
      "execution_count": 21,
      "outputs": [
        {
          "output_type": "error",
          "ename": "SyntaxError",
          "evalue": "ignored",
          "traceback": [
            "\u001b[0;36m  File \u001b[0;32m\"<ipython-input-21-6af066e61fcd>\"\u001b[0;36m, line \u001b[0;32m2\u001b[0m\n\u001b[0;31m    invalid?variable = 5\u001b[0m\n\u001b[0m           ^\u001b[0m\n\u001b[0;31mSyntaxError\u001b[0m\u001b[0;31m:\u001b[0m invalid syntax\n"
          ]
        }
      ]
    },
    {
      "cell_type": "markdown",
      "metadata": {
        "id": "nJqTcDN14qQY"
      },
      "source": [
        "You also cannot name your own variable the same as a reserved name, including but not limited to these:\n",
        "\n",
        "```\n",
        "for, while, break, pass, continue\n",
        "in, is, not\n",
        "if, else, elif\n",
        "def, class, return, yield, raises\n",
        "import, from, as, with\n",
        "try, except, finally\n",
        "```"
      ]
    },
    {
      "cell_type": "markdown",
      "metadata": {
        "id": "Xn98ANks0HIj"
      },
      "source": [
        "**EXERCISE:** Assign the variable `fav_animal` to your favorite animal."
      ]
    },
    {
      "cell_type": "code",
      "metadata": {
        "id": "MhYmyCtN0Huu"
      },
      "source": [
        "fav_animal = \"dog\""
      ],
      "execution_count": 22,
      "outputs": []
    },
    {
      "cell_type": "markdown",
      "metadata": {
        "id": "Qoj4AnZkFkno"
      },
      "source": [
        "We usually say that `name` refers to `\"Susan\"`. What this means is that we can use `name` somewhere else and it will be `\"Susan\"`. In this example, we save 2 random numbers so that we can both see the original numbers and see the sum. The ability to save data to use multiple times and save for later is crucial for programs."
      ]
    },
    {
      "cell_type": "code",
      "metadata": {
        "id": "6XmIvvrlGPT6",
        "colab": {
          "base_uri": "https://localhost:8080/"
        },
        "outputId": "c4e790ed-f3fd-4f29-f65e-05c9f1ebd601"
      },
      "source": [
        "import random\n",
        "\n",
        "num1 = random.randint(1, 6)\n",
        "num2 = random.randint(1, 6)\n",
        "\n",
        "print(\"the first number is\", num1)\n",
        "print(\"the second number is\", num2)\n",
        "print(\"the sum is\", num1 + num2)"
      ],
      "execution_count": 25,
      "outputs": [
        {
          "output_type": "stream",
          "text": [
            "the first number is 3\n",
            "the second number is 2\n",
            "the sum is 5\n"
          ],
          "name": "stdout"
        }
      ]
    },
    {
      "cell_type": "markdown",
      "metadata": {
        "id": "MWbHdf6wGmRW"
      },
      "source": [
        "If we tried to do the same thing without variables, it would be impossible since when we call `random.randint()`, it always makes a new number."
      ]
    },
    {
      "cell_type": "code",
      "metadata": {
        "id": "vPjTFnsuGuQ5",
        "colab": {
          "base_uri": "https://localhost:8080/"
        },
        "outputId": "570f91ee-8f47-4664-8661-1dc5b1edbea8"
      },
      "source": [
        "import random\n",
        "\n",
        "print(\"the first number is\", random.randint(1, 6))\n",
        "print(\"the second number is\", random.randint(1, 6))\n",
        "print(\"the sum is\", random.randint(1, 6) + random.randint(1, 6))"
      ],
      "execution_count": 24,
      "outputs": [
        {
          "output_type": "stream",
          "text": [
            "the first number is 3\n",
            "the second number is 5\n",
            "the sum is 10\n"
          ],
          "name": "stdout"
        }
      ]
    },
    {
      "cell_type": "markdown",
      "metadata": {
        "id": "t02efnvA0nyH"
      },
      "source": [
        "**EXERCISE:** Print the rolls of a 4-sided die, 6-sided die,  and 10-sided die; and the sum of all the rolls."
      ]
    },
    {
      "cell_type": "code",
      "metadata": {
        "id": "nDKYfrCC1OQc",
        "colab": {
          "base_uri": "https://localhost:8080/"
        },
        "outputId": "11b11981-eb1f-4e48-f2b6-1b88f8885ebf"
      },
      "source": [
        "die_roll_4 = random.randint(1, 4)\n",
        "die_roll_6 = random.randint(1, 6)\n",
        "die_roll_10 = random.randint(1, 10)\n",
        "\n",
        "print(\"the 4-sided die rolled a\", die_roll_4)\n",
        "print(\"the 6-sided die rolled a\", die_roll_6)\n",
        "print(\"the 10-sided die rolled a\", die_roll_10)\n",
        "print(\"the sum of all the rolls is\", die_roll_4 + die_roll_6 + die_roll_10)"
      ],
      "execution_count": 26,
      "outputs": [
        {
          "output_type": "stream",
          "text": [
            "the 4-sided die rolled a 3\n",
            "the 6-sided die rolled a 5\n",
            "the 10-sided die rolled a 1\n",
            "the sum of all the rolls is 9\n"
          ],
          "name": "stdout"
        }
      ]
    },
    {
      "cell_type": "markdown",
      "metadata": {
        "id": "t6W3euiUxAT1"
      },
      "source": [
        "# Reassigning Variables"
      ]
    },
    {
      "cell_type": "markdown",
      "metadata": {
        "id": "-NCyhlDCwhYl"
      },
      "source": [
        "Variables don't have to stay constant. As the same suggests, they can change. You can reassign the value of a variable by typing it out the same way you assign it."
      ]
    },
    {
      "cell_type": "code",
      "metadata": {
        "id": "sO6w4WqgwwON"
      },
      "source": [
        "# assignment\n",
        "num_fruits = 5\n",
        "\n",
        "# reassignment\n",
        "num_fruits = 6"
      ],
      "execution_count": 27,
      "outputs": []
    },
    {
      "cell_type": "markdown",
      "metadata": {
        "id": "duP41u-YxHGX"
      },
      "source": [
        "For numbers and strings, you can add to the existing variable to reassign it."
      ]
    },
    {
      "cell_type": "code",
      "metadata": {
        "id": "sAY2FBkhxHcM",
        "colab": {
          "base_uri": "https://localhost:8080/"
        },
        "outputId": "01c4136b-2a84-4b03-e6da-612c5c175e8b"
      },
      "source": [
        "num1 = 1\n",
        "num2 = 1\n",
        "greeting1 = \"hello\"\n",
        "greeting2 = \"hello\"\n",
        "\n",
        "# it's okay, but it's longer\n",
        "num1 = num1 + 1\n",
        "\n",
        "# shortcut for first way\n",
        "num2 += 1\n",
        "\n",
        "# also okay but longer\n",
        "greeting1 = greeting1 + \" world\"\n",
        "\n",
        "# shortcut\n",
        "greeting2 += \" world\"\n",
        "\n",
        "print(num1)\n",
        "print(num2)\n",
        "print(greeting1)\n",
        "print(greeting2)"
      ],
      "execution_count": 28,
      "outputs": [
        {
          "output_type": "stream",
          "text": [
            "2\n",
            "2\n",
            "hello world\n",
            "hello world\n"
          ],
          "name": "stdout"
        }
      ]
    },
    {
      "cell_type": "markdown",
      "metadata": {
        "id": "dxwIyGszyEID"
      },
      "source": [
        "You can add different variables to the assigning and reassign of variables too, and you can add multiple things at once to variables."
      ]
    },
    {
      "cell_type": "code",
      "metadata": {
        "id": "TPOlWKHvyEZJ",
        "colab": {
          "base_uri": "https://localhost:8080/"
        },
        "outputId": "e51d7f82-fc8a-4747-eeeb-7ff5211b7808"
      },
      "source": [
        "num1 = 5\n",
        "num2 = num1 + 2\n",
        "\n",
        "print(num1)\n",
        "print(num2)"
      ],
      "execution_count": 29,
      "outputs": [
        {
          "output_type": "stream",
          "text": [
            "5\n",
            "7\n"
          ],
          "name": "stdout"
        }
      ]
    },
    {
      "cell_type": "code",
      "metadata": {
        "id": "wGH4m2yCyTmW",
        "colab": {
          "base_uri": "https://localhost:8080/"
        },
        "outputId": "d8b62554-2ec4-44db-9544-e6d59d6a4dbe"
      },
      "source": [
        "greeting1 = \"the cat\"\n",
        "greeting2 = greeting1 + \" in the hat\"\n",
        "greeting3 = \"knows a lot about that\"\n",
        "\n",
        "greeting2 += \" \" + greeting3\n",
        "\n",
        "print(greeting2.title())"
      ],
      "execution_count": 30,
      "outputs": [
        {
          "output_type": "stream",
          "text": [
            "The Cat In The Hat Knows A Lot About That\n"
          ],
          "name": "stdout"
        }
      ]
    },
    {
      "cell_type": "markdown",
      "metadata": {
        "id": "mXu0gFZxy342"
      },
      "source": [
        "For numbers, you can use any of the math operators and attach an `=` sign to the end, just like with the `+=` shortcut."
      ]
    },
    {
      "cell_type": "code",
      "metadata": {
        "id": "vFZeQui-y4Go",
        "colab": {
          "base_uri": "https://localhost:8080/"
        },
        "outputId": "02bfbfa1-6543-41d8-f379-6fc24010fa54"
      },
      "source": [
        "x = 1\n",
        "x -= 10\n",
        "print(x)\n",
        "\n",
        "x = 25\n",
        "x /= 5\n",
        "print(x)\n",
        "\n",
        "x = 23\n",
        "x %= 3\n",
        "print(x)\n",
        "\n",
        "x = 3\n",
        "\n",
        "import math\n",
        "x = 20\n",
        "x = math.cos(x)\n",
        "print(x)"
      ],
      "execution_count": 32,
      "outputs": [
        {
          "output_type": "stream",
          "text": [
            "-9\n",
            "5.0\n",
            "2\n",
            "0.40808206181339196\n"
          ],
          "name": "stdout"
        }
      ]
    },
    {
      "cell_type": "markdown",
      "metadata": {
        "id": "zwQa-mWxEcAj"
      },
      "source": [
        "# Variable Types"
      ]
    },
    {
      "cell_type": "markdown",
      "metadata": {
        "id": "I0nUV-rtti7m"
      },
      "source": [
        "## Finding the Type"
      ]
    },
    {
      "cell_type": "markdown",
      "metadata": {
        "id": "8A3H3hOSpZn8"
      },
      "source": [
        "There are different types of variables. We already messed with numbers and strings, and those are also examples of variable types. You can find the type of something by using `type()`."
      ]
    },
    {
      "cell_type": "code",
      "metadata": {
        "id": "_k3kOHUSpZ4H",
        "colab": {
          "base_uri": "https://localhost:8080/"
        },
        "outputId": "22eb7712-173a-445e-e4d2-897b6b90c627"
      },
      "source": [
        "# directly find the datatype without a variable\n",
        "print(type(11))\n",
        "\n",
        "print(type(\"hello\"))\n",
        "\n",
        "# find the type of what's inside a variable\n",
        "num1 = 15\n",
        "print(type(num1))\n",
        "\n",
        "num2 = 15.0\n",
        "print(type(num2))\n",
        "\n",
        "msg = \"this is a message\"\n",
        "print(type(msg))"
      ],
      "execution_count": 33,
      "outputs": [
        {
          "output_type": "stream",
          "text": [
            "<class 'int'>\n",
            "<class 'str'>\n",
            "<class 'int'>\n",
            "<class 'float'>\n",
            "<class 'str'>\n"
          ],
          "name": "stdout"
        }
      ]
    },
    {
      "cell_type": "markdown",
      "metadata": {
        "id": "XFSNMCpKqJCV"
      },
      "source": [
        "Like last time, we see that `15` and `15.0` are different types. That's because an integer/int is a number with no decimal, but a float is one that does. They behave similarly, but they are different types."
      ]
    },
    {
      "cell_type": "markdown",
      "metadata": {
        "id": "9L7TWCfOtO0v"
      },
      "source": [
        "## Duck Type"
      ]
    },
    {
      "cell_type": "markdown",
      "metadata": {
        "id": "lYLcgiBon1F1"
      },
      "source": [
        "There's a phrase that says that \"if it looks like a duck and it quacks like a duck, it's probably a duck.\" What this means is that you can tell that an animal is a duck just by looking at it.\n",
        "\n",
        "This is what Python's variables are like. In a language like Java, you have to declare a variable with its type, like this:\n",
        "```\n",
        "int x = 5;\n",
        "```\n",
        "\n",
        "However, in Python, that isn't the case. This is all it takes:\n",
        "```\n",
        "x = 5\n",
        "```\n",
        "\n",
        "Python's variables don't care about the type, but it's pretty obvious to figure out what type a variable is. That's why Python's variables are known as \"duck type.\"\n",
        "\n",
        "So what does this mean? In Java, a variable always stays as its starting variable type. That means that an integer variable will always be an integer, never a string or a different type. But in Python, you can change variables to whatever you want it to be."
      ]
    },
    {
      "cell_type": "code",
      "metadata": {
        "id": "m5ki1rJCJTfk",
        "colab": {
          "base_uri": "https://localhost:8080/"
        },
        "outputId": "eff079bc-be52-4789-89f4-e15e7f69cfbf"
      },
      "source": [
        "x = 5\n",
        "print(x)\n",
        "x = \"abc\"\n",
        "print(x)"
      ],
      "execution_count": 34,
      "outputs": [
        {
          "output_type": "stream",
          "text": [
            "5\n",
            "abc\n"
          ],
          "name": "stdout"
        }
      ]
    },
    {
      "cell_type": "markdown",
      "metadata": {
        "id": "U4rBPjsutGKd"
      },
      "source": [
        "## Booleans\n",
        "\n",
        "A boolean (shortened to `bool`) is another datatype. It only has 2 possible values, `True` and `False`. *They must be capitalized, `true` and `false` are not booleans.*"
      ]
    },
    {
      "cell_type": "code",
      "metadata": {
        "id": "n7P7_rQzvkOg",
        "colab": {
          "base_uri": "https://localhost:8080/"
        },
        "outputId": "3f90f0b2-4b30-4c2f-9d99-cdbdea23d147"
      },
      "source": [
        "print(type(True))\n",
        "\n",
        "bool1 = False\n",
        "print(type(bool1))"
      ],
      "execution_count": 35,
      "outputs": [
        {
          "output_type": "stream",
          "text": [
            "<class 'bool'>\n",
            "<class 'bool'>\n"
          ],
          "name": "stdout"
        }
      ]
    },
    {
      "cell_type": "code",
      "metadata": {
        "id": "HxBvTCzpxiiZ",
        "colab": {
          "base_uri": "https://localhost:8080/",
          "height": 181
        },
        "outputId": "c8b339e7-8009-431c-a66b-d388d3e11bb9"
      },
      "source": [
        "# true is not a boolean because it is not capitalized\n",
        "print(type(true))"
      ],
      "execution_count": 37,
      "outputs": [
        {
          "output_type": "error",
          "ename": "NameError",
          "evalue": "ignored",
          "traceback": [
            "\u001b[0;31m---------------------------------------------------------------------------\u001b[0m",
            "\u001b[0;31mNameError\u001b[0m                                 Traceback (most recent call last)",
            "\u001b[0;32m<ipython-input-37-a3d6e94b3ff4>\u001b[0m in \u001b[0;36m<module>\u001b[0;34m()\u001b[0m\n\u001b[1;32m      1\u001b[0m \u001b[0;31m# true is not a boolean because it is not capitalized\u001b[0m\u001b[0;34m\u001b[0m\u001b[0;34m\u001b[0m\u001b[0;34m\u001b[0m\u001b[0m\n\u001b[0;32m----> 2\u001b[0;31m \u001b[0mprint\u001b[0m\u001b[0;34m(\u001b[0m\u001b[0mtype\u001b[0m\u001b[0;34m(\u001b[0m\u001b[0mtrue\u001b[0m\u001b[0;34m)\u001b[0m\u001b[0;34m)\u001b[0m\u001b[0;34m\u001b[0m\u001b[0;34m\u001b[0m\u001b[0m\n\u001b[0m",
            "\u001b[0;31mNameError\u001b[0m: name 'true' is not defined"
          ]
        }
      ]
    },
    {
      "cell_type": "markdown",
      "metadata": {
        "id": "1qMoN71jvh-8"
      },
      "source": [
        "There are lots of boolean comparators used to compare data:\n",
        "- `<`: less than\n",
        "- `<=`: less than or equal to\n",
        "- `>`: greater than\n",
        "- `>=`: greater than or equal to\n",
        "- `==`: equal to (not the same as =)\n",
        "- `!=`: not equal to\n",
        "\n",
        "To check if something is equal to something else must be done with 2 equal signs, not 1. `=` is used to assign variables, and `==` is used to compare."
      ]
    },
    {
      "cell_type": "code",
      "metadata": {
        "id": "MgaJGWSAw63f",
        "colab": {
          "base_uri": "https://localhost:8080/"
        },
        "outputId": "8beea8ad-90e3-488d-e246-5659b561ea05"
      },
      "source": [
        "# 1 equal sign: assign variable\n",
        "num1 = 5\n",
        "\n",
        "# 2 equal signs: compare\n",
        "print(num1 == 5)"
      ],
      "execution_count": 38,
      "outputs": [
        {
          "output_type": "stream",
          "text": [
            "True\n"
          ],
          "name": "stdout"
        }
      ]
    },
    {
      "cell_type": "markdown",
      "metadata": {
        "id": "g8cYAVr0og9J"
      },
      "source": [
        "There are also logical operators to \"combine\" booleans:\n",
        "- `not`: flip boolean\n",
        "- `and`: if a and b are both true\n",
        "- `or`: if either a or b are true\n",
        "\n",
        "There is an order to the logical operators. `not` goes first, then `and`, then `or`. If there are multiple of the same operator, it is evaluated from left to right."
      ]
    },
    {
      "cell_type": "code",
      "metadata": {
        "id": "qm6OQFPYx4i6",
        "colab": {
          "base_uri": "https://localhost:8080/"
        },
        "outputId": "d03a4cd9-0ed2-4bd2-c7dd-8e4fc2728f00"
      },
      "source": [
        "# 3 >= 5: False\n",
        "# 10 == 10: True\n",
        "# False or True = True\n",
        "print(3 >= 5 or 10 == 10)"
      ],
      "execution_count": 39,
      "outputs": [
        {
          "output_type": "stream",
          "text": [
            "True\n"
          ],
          "name": "stdout"
        }
      ]
    },
    {
      "cell_type": "code",
      "metadata": {
        "colab": {
          "base_uri": "https://localhost:8080/"
        },
        "id": "XUFoTTMLoiiM",
        "outputId": "29d93362-b97d-4ae3-9675-723620881acc"
      },
      "source": [
        "print(False or not True and False)\n",
        "print(False or not (True and False))"
      ],
      "execution_count": 8,
      "outputs": [
        {
          "output_type": "stream",
          "text": [
            "False\n",
            "True\n"
          ],
          "name": "stdout"
        }
      ]
    },
    {
      "cell_type": "markdown",
      "metadata": {
        "id": "6OtTrJ83pva2"
      },
      "source": [
        "**EXERCISE:** Check if `133^3.2 < 6000000 or 33 * 7.8 >= 260`."
      ]
    },
    {
      "cell_type": "code",
      "metadata": {
        "colab": {
          "base_uri": "https://localhost:8080/"
        },
        "id": "iN8R17rtpvBC",
        "outputId": "cb8a9b2e-0c7e-4722-9159-80238c772aec"
      },
      "source": [
        "print(133 ** 3.2 < 6000000 or 33 * 7.8 >= 260)"
      ],
      "execution_count": 16,
      "outputs": [
        {
          "output_type": "stream",
          "text": [
            "False\n"
          ],
          "name": "stdout"
        }
      ]
    },
    {
      "cell_type": "markdown",
      "metadata": {
        "id": "QyBA8B4e0cwy"
      },
      "source": [
        "You can use `in` and `not in` to see if a string is in another string."
      ]
    },
    {
      "cell_type": "code",
      "metadata": {
        "colab": {
          "base_uri": "https://localhost:8080/"
        },
        "id": "p_U2h2Qn0dIf",
        "outputId": "9f0267d9-b207-4757-86e6-551a40771f50"
      },
      "source": [
        "msg = \"hello world\"\n",
        "part_of_msg = \"world\"\n",
        "\n",
        "isIn = part_of_msg in msg\n",
        "isNotIn = part_of_msg not in msg\n",
        "\n",
        "print(isIn)\n",
        "print(isNotIn)"
      ],
      "execution_count": 22,
      "outputs": [
        {
          "output_type": "stream",
          "text": [
            "True\n",
            "False\n"
          ],
          "name": "stdout"
        }
      ]
    },
    {
      "cell_type": "markdown",
      "metadata": {
        "id": "-lk2FGsLHcaG"
      },
      "source": [
        "# Review"
      ]
    },
    {
      "cell_type": "markdown",
      "metadata": {
        "id": "Jlf2cifprRwE"
      },
      "source": [
        "Set a variable to a number, then print it. Then, reassign the variable to become a string, then print that."
      ]
    },
    {
      "cell_type": "code",
      "metadata": {
        "id": "1xEdgEMDrSRU",
        "colab": {
          "base_uri": "https://localhost:8080/"
        },
        "outputId": "223cd538-2834-4b85-88f2-ee3e2cb27f8e"
      },
      "source": [
        "var1 = 5\n",
        "print(var1)\n",
        "\n",
        "var1 = \"five\"\n",
        "print(var1)"
      ],
      "execution_count": 40,
      "outputs": [
        {
          "output_type": "stream",
          "text": [
            "5\n",
            "five\n"
          ],
          "name": "stdout"
        }
      ]
    },
    {
      "cell_type": "markdown",
      "metadata": {
        "id": "rC2DpLfbFMr8"
      },
      "source": [
        "Remember the formula to add all the integers from 1 to 10? Assign a random number between 1 and 100 to `n` and add all the integers from 1 to `n`. Print `n` and the final sum."
      ]
    },
    {
      "cell_type": "code",
      "metadata": {
        "id": "ehM88BQFFM6v",
        "colab": {
          "base_uri": "https://localhost:8080/"
        },
        "outputId": "328943c4-8d97-4269-ecac-444494d0addb"
      },
      "source": [
        "n = random.randint(1, 100)\n",
        "\n",
        "print(\"n is\", n)\n",
        "print(\"the sum of the integers between 1 and\", n, \"is\", (1 + n) * n / 2)"
      ],
      "execution_count": 41,
      "outputs": [
        {
          "output_type": "stream",
          "text": [
            "n is 72\n",
            "the sum of the integers between 1 and 72 is 2628.0\n"
          ],
          "name": "stdout"
        }
      ]
    }
  ]
}