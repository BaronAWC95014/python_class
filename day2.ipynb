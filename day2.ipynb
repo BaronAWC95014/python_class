{
  "nbformat": 4,
  "nbformat_minor": 0,
  "metadata": {
    "colab": {
      "name": "day2.ipynb",
      "provenance": [],
      "collapsed_sections": [],
      "toc_visible": true,
      "authorship_tag": "ABX9TyPJw530TF40ixduchqxQ2/F",
      "include_colab_link": true
    },
    "kernelspec": {
      "name": "python3",
      "display_name": "Python 3"
    },
    "language_info": {
      "name": "python"
    }
  },
  "cells": [
    {
      "cell_type": "markdown",
      "metadata": {
        "id": "view-in-github",
        "colab_type": "text"
      },
      "source": [
        "<a href=\"https://colab.research.google.com/github/BaronAWC95014/python_class/blob/main/day2.ipynb\" target=\"_parent\"><img src=\"https://colab.research.google.com/assets/colab-badge.svg\" alt=\"Open In Colab\"/></a>"
      ]
    },
    {
      "cell_type": "markdown",
      "metadata": {
        "id": "cl-VN-x5EXJs"
      },
      "source": [
        "# Assigning Variables"
      ]
    },
    {
      "cell_type": "markdown",
      "metadata": {
        "id": "tEAHTqytEfyL"
      },
      "source": [
        "Variables let us write flexible and repurposable code. If we wanted to store anything, like a name and age, we can assign a value to a variable as follows:"
      ]
    },
    {
      "cell_type": "code",
      "metadata": {
        "id": "JLUuwdFaEG4S"
      },
      "source": [
        "name = \"Susan\"\n",
        "age = 15"
      ],
      "execution_count": null,
      "outputs": []
    },
    {
      "cell_type": "markdown",
      "metadata": {
        "id": "76aJcH9uFJ0z"
      },
      "source": [
        "Note that if you write it the other way around, it results in an error. You must assign variables as `variableName = value`."
      ]
    },
    {
      "cell_type": "code",
      "metadata": {
        "id": "dhn-GVztFKFS"
      },
      "source": [
        "\"Susan\" = name"
      ],
      "execution_count": null,
      "outputs": []
    },
    {
      "cell_type": "markdown",
      "metadata": {
        "id": "cF6SNJgU1QKz"
      },
      "source": [
        "Variable names can contain the lowercase and uppercase letters, the digits 0-9, and underscores. A variable name can't start with a number."
      ]
    },
    {
      "cell_type": "code",
      "metadata": {
        "id": "hh3BWUJ52Yja"
      },
      "source": [
        "variable_with_underscores = \"this variable has underscores in it\""
      ],
      "execution_count": null,
      "outputs": []
    },
    {
      "cell_type": "code",
      "metadata": {
        "id": "M3-1l3Rx1Qeg"
      },
      "source": [
        "# illegal to have a number at the start\n",
        "6_sided_die_roll = random.randint(1, 6)"
      ],
      "execution_count": null,
      "outputs": []
    },
    {
      "cell_type": "code",
      "metadata": {
        "id": "HygJXDYT2mwD"
      },
      "source": [
        "die_roll_6 = random.randint(1, 6)"
      ],
      "execution_count": null,
      "outputs": []
    },
    {
      "cell_type": "code",
      "metadata": {
        "id": "CbVs65Od12yV"
      },
      "source": [
        "# illegal to have punctuation in a variable\n",
        "invalid?variable = 5"
      ],
      "execution_count": null,
      "outputs": []
    },
    {
      "cell_type": "markdown",
      "metadata": {
        "id": "nJqTcDN14qQY"
      },
      "source": [
        "You also cannot name your own variable the same as a reserved name, including but not limited to these:\n",
        "\n",
        "```\n",
        "for, while, break, pass, continue\n",
        "in, is, not\n",
        "if, else, elif\n",
        "def, class, return, yield, raises\n",
        "import, from, as, with\n",
        "try, except, finally\n",
        "```"
      ]
    },
    {
      "cell_type": "markdown",
      "metadata": {
        "id": "Xn98ANks0HIj"
      },
      "source": [
        "**EXERCISE:** Assign the variable `fav_animal` to your favorite animal."
      ]
    },
    {
      "cell_type": "code",
      "metadata": {
        "id": "MhYmyCtN0Huu"
      },
      "source": [
        "fav_animal = \"dog\""
      ],
      "execution_count": null,
      "outputs": []
    },
    {
      "cell_type": "markdown",
      "metadata": {
        "id": "Qoj4AnZkFkno"
      },
      "source": [
        "We usually say that `name` refers to `\"Susan\"`. What this means is that we can use `name` somewhere else and it will be `\"Susan\"`. In this example, we save 2 random numbers so that we can both see the original numbers and see the sum. The ability to save data to use multiple times and save for later is crucial for programs."
      ]
    },
    {
      "cell_type": "code",
      "metadata": {
        "id": "6XmIvvrlGPT6"
      },
      "source": [
        "import random\n",
        "\n",
        "num1 = random.randint(1, 6)\n",
        "num2 = random.randint(1, 6)\n",
        "\n",
        "print(\"the first number is\", num1)\n",
        "print(\"the second number is\", num2)\n",
        "print(\"the sum is\", num1 + num2)"
      ],
      "execution_count": null,
      "outputs": []
    },
    {
      "cell_type": "markdown",
      "metadata": {
        "id": "MWbHdf6wGmRW"
      },
      "source": [
        "If we tried to do the same thing without variables, it would be impossible since when we call `random.randint()`, it always makes a new number."
      ]
    },
    {
      "cell_type": "code",
      "metadata": {
        "id": "vPjTFnsuGuQ5"
      },
      "source": [
        "import random\n",
        "\n",
        "print(\"the first number is\", random.randint(1, 6))\n",
        "print(\"the second number is\", random.randint(1, 6))\n",
        "print(\"the sum is\", random.randint(1, 6) + random.randint(1, 6))"
      ],
      "execution_count": null,
      "outputs": []
    },
    {
      "cell_type": "markdown",
      "metadata": {
        "id": "t02efnvA0nyH"
      },
      "source": [
        "**EXERCISE:** Print the rolls of a 4-sided die, 6-sided die,  and 10-sided die; and the sum of all the rolls."
      ]
    },
    {
      "cell_type": "code",
      "metadata": {
        "id": "nDKYfrCC1OQc"
      },
      "source": [
        "die_roll_4 = random.randint(1, 4)\n",
        "die_roll_6 = random.randint(1, 6)\n",
        "die_roll_10 = random.randint(1, 10)\n",
        "\n",
        "print(\"the 4-sided die rolled a\", die_roll_4)\n",
        "print(\"the 6-sided die rolled a\", die_roll_6)\n",
        "print(\"the 10-sided die rolled a\", die_roll_10)\n",
        "print(\"the sum of all the rolls is\", die_roll_4 + die_roll_6 + die_roll_10)"
      ],
      "execution_count": null,
      "outputs": []
    },
    {
      "cell_type": "markdown",
      "metadata": {
        "id": "t6W3euiUxAT1"
      },
      "source": [
        "# Reassigning Variables"
      ]
    },
    {
      "cell_type": "markdown",
      "metadata": {
        "id": "-NCyhlDCwhYl"
      },
      "source": [
        "Variables don't have to stay constant. As the same suggests, they can change. You can reassign the value of a variable by typing it out the same way you assign it."
      ]
    },
    {
      "cell_type": "code",
      "metadata": {
        "id": "sO6w4WqgwwON"
      },
      "source": [
        "# assignment\n",
        "num_fruits = 5\n",
        "\n",
        "# reassignment\n",
        "num_fruits = 6"
      ],
      "execution_count": null,
      "outputs": []
    },
    {
      "cell_type": "markdown",
      "metadata": {
        "id": "duP41u-YxHGX"
      },
      "source": [
        "For numbers and strings, you can add to the existing variable to reassign it."
      ]
    },
    {
      "cell_type": "code",
      "metadata": {
        "id": "sAY2FBkhxHcM"
      },
      "source": [
        "num1 = 1\n",
        "num2 = 1\n",
        "greeting1 = \"hello\"\n",
        "greeting2 = \"hello\"\n",
        "\n",
        "# it's okay, but it's longer\n",
        "num1 = num1 + 1\n",
        "\n",
        "# shortcut for first way\n",
        "num2 += 1\n",
        "\n",
        "# also okay but longer\n",
        "greeting1 = greeting1 + \" world\"\n",
        "\n",
        "# shortcut\n",
        "greeting2 += \" world\"\n",
        "\n",
        "print(num1)\n",
        "print(num2)\n",
        "print(greeting1)\n",
        "print(greeting2)"
      ],
      "execution_count": null,
      "outputs": []
    },
    {
      "cell_type": "markdown",
      "metadata": {
        "id": "dxwIyGszyEID"
      },
      "source": [
        "You can add different variables to the assigning and reassign of variables too, and you can add multiple things at once to variables."
      ]
    },
    {
      "cell_type": "code",
      "metadata": {
        "id": "TPOlWKHvyEZJ"
      },
      "source": [
        "num1 = 5\n",
        "num2 = num1 + 2\n",
        "\n",
        "print(num1)\n",
        "print(num2)"
      ],
      "execution_count": null,
      "outputs": []
    },
    {
      "cell_type": "code",
      "metadata": {
        "id": "wGH4m2yCyTmW"
      },
      "source": [
        "greeting1 = \"the cat\"\n",
        "greeting2 = greeting1 + \" in the hat\"\n",
        "greeting3 = \"knows a lot about that\"\n",
        "\n",
        "greeting2 += \" \" + greeting3\n",
        "\n",
        "print(greeting2.title())"
      ],
      "execution_count": null,
      "outputs": []
    },
    {
      "cell_type": "markdown",
      "metadata": {
        "id": "mXu0gFZxy342"
      },
      "source": [
        "For numbers, you can use any of the math operators and attach an `=` sign to the end, just like with the `+=` shortcut."
      ]
    },
    {
      "cell_type": "code",
      "metadata": {
        "id": "vFZeQui-y4Go"
      },
      "source": [
        "x = 1\n",
        "x -= 10\n",
        "print(x)\n",
        "\n",
        "x = 25\n",
        "x /= 5\n",
        "print(x)\n",
        "\n",
        "x = 23\n",
        "x %= 3\n",
        "print(x)\n",
        "\n",
        "x = 3\n",
        "\n",
        "import math\n",
        "x = 20\n",
        "# the shortcut can only be done with math operators\n",
        "x = math.cos(x)\n",
        "print(x)"
      ],
      "execution_count": null,
      "outputs": []
    },
    {
      "cell_type": "markdown",
      "metadata": {
        "id": "zwQa-mWxEcAj"
      },
      "source": [
        "# Variable Types"
      ]
    },
    {
      "cell_type": "markdown",
      "metadata": {
        "id": "I0nUV-rtti7m"
      },
      "source": [
        "## Finding the Type"
      ]
    },
    {
      "cell_type": "markdown",
      "metadata": {
        "id": "8A3H3hOSpZn8"
      },
      "source": [
        "There are different types of variables. We already messed with numbers and strings, and those are also examples of variable types. You can find the type of something by using `type()`."
      ]
    },
    {
      "cell_type": "code",
      "metadata": {
        "id": "_k3kOHUSpZ4H"
      },
      "source": [
        "# directly find the datatype without a variable\n",
        "print(type(11))\n",
        "\n",
        "print(type(\"hello\"))\n",
        "\n",
        "# find the type of what's inside a variable\n",
        "num1 = 15\n",
        "print(type(num1))\n",
        "\n",
        "num2 = 15.0\n",
        "print(type(num2))\n",
        "\n",
        "msg = \"this is a message\"\n",
        "print(type(msg))"
      ],
      "execution_count": null,
      "outputs": []
    },
    {
      "cell_type": "markdown",
      "metadata": {
        "id": "XFSNMCpKqJCV"
      },
      "source": [
        "You may notice that `15` and `15.0` are different types. That's because an integer/int is a number with no decimal, but a float is one that does."
      ]
    },
    {
      "cell_type": "markdown",
      "metadata": {
        "id": "9L7TWCfOtO0v"
      },
      "source": [
        "## Duck Type"
      ]
    },
    {
      "cell_type": "markdown",
      "metadata": {
        "id": "lYLcgiBon1F1"
      },
      "source": [
        "There's a phrase that says that \"if it looks like a duck and it quacks like a duck, it's probably a duck.\" What this means is that you can tell that an animal is a duck just by looking at it.\n",
        "\n",
        "This is what Python's variables are like. In a language like Java, you have to declare a variable with its type, like this:\n",
        "```\n",
        "int x = 5;\n",
        "```\n",
        "\n",
        "However, in Python, that isn't the case. This is all it takes:\n",
        "```\n",
        "x = 5\n",
        "```\n",
        "\n",
        "Python's variables don't care about the type, but it's pretty obvious to figure out what type a variable is. That's why Python's variables are known as \"duck type.\"\n",
        "\n",
        "So what does this mean? In Java, a variable always stays as its starting variable type. That means that an integer variable will always be an integer, never a string or a different type. But in Python, you can change variables to whatever you want it to be."
      ]
    },
    {
      "cell_type": "code",
      "metadata": {
        "id": "m5ki1rJCJTfk"
      },
      "source": [
        "x = 5\n",
        "print(x)\n",
        "x = \"abc\"\n",
        "print(x)"
      ],
      "execution_count": null,
      "outputs": []
    },
    {
      "cell_type": "markdown",
      "metadata": {
        "id": "U4rBPjsutGKd"
      },
      "source": [
        "## Booleans\n",
        "\n",
        "A boolean (shortened to `bool`) is another datatype. It only has 2 possible values, `True` and `False`. *They must be capitalized, `true` and `false` are not booleans.*"
      ]
    },
    {
      "cell_type": "code",
      "metadata": {
        "id": "n7P7_rQzvkOg"
      },
      "source": [
        "print(type(True))\n",
        "\n",
        "bool1 = False\n",
        "print(type(bool1))"
      ],
      "execution_count": null,
      "outputs": []
    },
    {
      "cell_type": "code",
      "metadata": {
        "id": "HxBvTCzpxiiZ"
      },
      "source": [
        "print(type(true))"
      ],
      "execution_count": null,
      "outputs": []
    },
    {
      "cell_type": "markdown",
      "metadata": {
        "id": "1qMoN71jvh-8"
      },
      "source": [
        "There are lots of boolean comparators used to compare data:\n",
        "- `<`: less than\n",
        "- `<=`: less than or equal to\n",
        "- `>`: greater than\n",
        "- `>=`: greater than or equal to\n",
        "- `==`: equal to (not the same as =)\n",
        "- `!=`: not equal to\n",
        "\n",
        "There are also boolean operators to \"combine\" booleans:\n",
        "- `and`: if a and b are both true\n",
        "- `or`: if either a or b are true\n",
        "- `not`: flip boolean\n",
        "\n",
        "To check if something is equal to something else must be done with 2 equal signs, not 1. `=` is used to assign variables, and `==` is used to compare."
      ]
    },
    {
      "cell_type": "code",
      "metadata": {
        "id": "MgaJGWSAw63f"
      },
      "source": [
        "# 1 equal sign: assign variable\n",
        "num1 = 5\n",
        "\n",
        "# 2 equal signs: compare\n",
        "print(num1 == 5)"
      ],
      "execution_count": null,
      "outputs": []
    },
    {
      "cell_type": "code",
      "metadata": {
        "id": "qm6OQFPYx4i6"
      },
      "source": [
        "# 3 >= 5: False\n",
        "# 10 == 10: True\n",
        "# False or True = True\n",
        "print(3 >= 5 or 10 == 10)"
      ],
      "execution_count": null,
      "outputs": []
    },
    {
      "cell_type": "markdown",
      "metadata": {
        "id": "HVh0HNP6zx75"
      },
      "source": [
        "We will go over this in more detail as the class goes on."
      ]
    },
    {
      "cell_type": "markdown",
      "metadata": {
        "id": "-lk2FGsLHcaG"
      },
      "source": [
        "# Review"
      ]
    },
    {
      "cell_type": "markdown",
      "metadata": {
        "id": "Jlf2cifprRwE"
      },
      "source": [
        "Set a variable to a number, then print it. Then, reassign the variable to become a string, then print that."
      ]
    },
    {
      "cell_type": "code",
      "metadata": {
        "id": "1xEdgEMDrSRU"
      },
      "source": [
        "var1 = 5\n",
        "print(var1)\n",
        "\n",
        "var1 = \"five\"\n",
        "print(var1)"
      ],
      "execution_count": null,
      "outputs": []
    },
    {
      "cell_type": "markdown",
      "metadata": {
        "id": "rC2DpLfbFMr8"
      },
      "source": [
        "Remember the formula to add all the integers from 1 to 10? Assign a random number between 1 and 100 to `n` and add all the integers from 1 to `n`. Print `n` and the final sum."
      ]
    },
    {
      "cell_type": "code",
      "metadata": {
        "id": "ehM88BQFFM6v"
      },
      "source": [
        "n = random.randint(1, 100)\n",
        "\n",
        "print(\"n is\", n)\n",
        "print(\"the sum of the integers between 1 and\", n, \"is\", (1 + n) * n / 2)"
      ],
      "execution_count": null,
      "outputs": []
    }
  ]
}