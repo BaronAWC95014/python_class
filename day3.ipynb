{
  "nbformat": 4,
  "nbformat_minor": 0,
  "metadata": {
    "colab": {
      "name": "day3.ipynb",
      "provenance": [],
      "collapsed_sections": [],
      "toc_visible": true,
      "authorship_tag": "ABX9TyOqbW3mIVFaPDzquU9a+d7M",
      "include_colab_link": true
    },
    "kernelspec": {
      "name": "python3",
      "display_name": "Python 3"
    },
    "language_info": {
      "name": "python"
    }
  },
  "cells": [
    {
      "cell_type": "markdown",
      "metadata": {
        "id": "view-in-github",
        "colab_type": "text"
      },
      "source": [
        "<a href=\"https://colab.research.google.com/github/BaronAWC95014/python_class/blob/main/day3.ipynb\" target=\"_parent\"><img src=\"https://colab.research.google.com/assets/colab-badge.svg\" alt=\"Open In Colab\"/></a>"
      ]
    },
    {
      "cell_type": "markdown",
      "metadata": {
        "id": "iU58B2-0q6gs"
      },
      "source": [
        "# Lists"
      ]
    },
    {
      "cell_type": "markdown",
      "metadata": {
        "id": "KXTzxGDkz4er"
      },
      "source": [
        "A list is a collection of items (int, float, string, bool, etc). They are very flexible, making them very good for programs.\n",
        "\n",
        "A collection of items is called an iterable. They come in very useful for loops, which will be the main subject of the next class."
      ]
    },
    {
      "cell_type": "markdown",
      "metadata": {
        "id": "B7XVz8T3CHqs"
      },
      "source": [
        "## Declaring Lists"
      ]
    },
    {
      "cell_type": "markdown",
      "metadata": {
        "id": "yyR9SZXtq58d"
      },
      "source": [
        "A list is declared using square brackets (`[]`), and the items inside are seperated with commas."
      ]
    },
    {
      "cell_type": "code",
      "metadata": {
        "id": "-AaTA76cp04Q"
      },
      "source": [
        "list1 = [\"this\", \"is\", \"a\", \"list\"]"
      ],
      "execution_count": null,
      "outputs": []
    },
    {
      "cell_type": "markdown",
      "metadata": {
        "id": "Ji3Ie7500Hbj"
      },
      "source": [
        "Lists can contain anything in them. You can put integers, strings, and even other lists. Just make sure you have the right amount of brackets."
      ]
    },
    {
      "cell_type": "code",
      "metadata": {
        "id": "HlEpf16M0HxR"
      },
      "source": [
        "list1 = [1, 1, 2, 3, 5, 8, 11]\n",
        "list2 = [12, False, 5.5, True, [\"hi\", \"bye\"], True]\n",
        "\n",
        "print(list1)\n",
        "print(list2)"
      ],
      "execution_count": null,
      "outputs": []
    },
    {
      "cell_type": "markdown",
      "metadata": {
        "id": "ahieJf631w7t"
      },
      "source": [
        "A list can contain repeated items."
      ]
    },
    {
      "cell_type": "code",
      "metadata": {
        "id": "dL3kRBrU1xJd"
      },
      "source": [
        "list1 = [1, 4, 3, 1, 1, 1, 3, 5, 4, 2]\n",
        "\n",
        "print(list1)"
      ],
      "execution_count": null,
      "outputs": []
    },
    {
      "cell_type": "markdown",
      "metadata": {
        "id": "M1cYjg9M1Ur9"
      },
      "source": [
        "Lists can have from 0 items to as many items as you want."
      ]
    },
    {
      "cell_type": "code",
      "metadata": {
        "id": "aAxhmiRv1U_4"
      },
      "source": [
        "list1 = []\n",
        "list2 = [0, 1, 2, 3, 4, 5, 6, 7, 8, 9, 10, 11, 12, 13, 14, 15, 16, 17, 18, 19, 20, 21, 22, 23, 24, 25, 26, 27, 28, 29, 30, 31, 32, 33, 34, 35, 36, 37, 38, 39, 40, 41, 42, 43, 44, 45, 46, 47, 48, 49, 50, 51, 52, 53, 54, 55, 56, 57, 58, 59, 60, 61, 62, 63, 64, 65, 66, 67, 68, 69, 70, 71, 72, 73, 74, 75, 76, 77, 78, 79, 80, 81, 82, 83, 84, 85, 86, 87, 88, 89, 90, 91, 92, 93, 94, 95, 96, 97, 98, 99, 100]\n",
        "\n",
        "print(list1)\n",
        "print(list2)"
      ],
      "execution_count": null,
      "outputs": []
    },
    {
      "cell_type": "markdown",
      "metadata": {
        "id": "0AbXFB2Uq99G"
      },
      "source": [
        "Lists have an order to them. Even if the same items are inside a list, they have to be in the same order to be considered the same. We can use our knowledge of booleans to compare lists to prove they are different."
      ]
    },
    {
      "cell_type": "code",
      "metadata": {
        "id": "jesMmLmeq-jy"
      },
      "source": [
        "print([1, 2, 3] == [1, 2, 3])\n",
        "print([1, 2, 3] == [3, 2, 1])"
      ],
      "execution_count": null,
      "outputs": []
    },
    {
      "cell_type": "markdown",
      "metadata": {
        "id": "G8Gaqcw_EBtQ"
      },
      "source": [
        "**EXERCISE:** Create a list of strings including a few things in your room, or wherever you are right now."
      ]
    },
    {
      "cell_type": "code",
      "metadata": {
        "id": "0X_-VB7lEB4d"
      },
      "source": [
        "items_around_me = [\"table\", \"chair\", \"window\"]"
      ],
      "execution_count": null,
      "outputs": []
    },
    {
      "cell_type": "markdown",
      "metadata": {
        "id": "aKmHfnuVCRFG"
      },
      "source": [
        "## Accessing Items from Lists"
      ]
    },
    {
      "cell_type": "markdown",
      "metadata": {
        "id": "oFZ1FkoJ9d_x"
      },
      "source": [
        "Items from a list can be accessed using indexes. List indexes start at index 0, not 1. The items can be accessed by typing the name of the list, then the index number surrounded by square brackets."
      ]
    },
    {
      "cell_type": "code",
      "metadata": {
        "id": "gnEJN0Yv9ecD"
      },
      "source": [
        "list_of_strings = [\"index 0\", \"index 1\", \"index 2\", \"index 3\"]\n",
        "\n",
        "print(list_of_strings[0])\n",
        "print(list_of_strings[3])\n",
        "# print(list_of_strings[4])"
      ],
      "execution_count": null,
      "outputs": []
    },
    {
      "cell_type": "markdown",
      "metadata": {
        "id": "hmBkmnrJ-pRH"
      },
      "source": [
        "When we tried to find the item with index 4 in `list_of_strings`, it didn't work since it only had up to index 3. But what if we try negative numbers? It works, but now it counts from the back, starting from -1 as the last item."
      ]
    },
    {
      "cell_type": "code",
      "metadata": {
        "id": "k7n7uiDi-pj4"
      },
      "source": [
        "list_of_strings = [\"index 0\", \"index 1\", \"index 2\", \"index 3\"]\n",
        "\n",
        "print(list_of_strings[-2])"
      ],
      "execution_count": null,
      "outputs": []
    },
    {
      "cell_type": "markdown",
      "metadata": {
        "id": "sJrtnMBjE0pt"
      },
      "source": [
        "If you have a nested list (a list with lists inside it), you can use multiple indexes to reach an item."
      ]
    },
    {
      "cell_type": "code",
      "metadata": {
        "id": "Mk3X6bSBE05h"
      },
      "source": [
        "list1 = [[\"aa\", \"bb\"], \"c\", \"d\", [[\"eee\"]]]\n",
        "\n",
        "print(list1[0])\n",
        "print(list1[0][1])\n",
        "\n",
        "print(list1[3])\n",
        "print(list1[3][0])\n",
        "print(list1[3][0][0])"
      ],
      "execution_count": null,
      "outputs": []
    },
    {
      "cell_type": "markdown",
      "metadata": {
        "id": "EyoUWaryEa4c"
      },
      "source": [
        "**EXERCISE:** From the list of things around you, print one of the items at random."
      ]
    },
    {
      "cell_type": "code",
      "metadata": {
        "id": "Kds0u6crEbZW"
      },
      "source": [
        "import random\n",
        "\n",
        "items_around_me = [\"table\", \"chair\", \"window\"]\n",
        "\n",
        "print(items_around_me[random.randrange(0, 3)])"
      ],
      "execution_count": null,
      "outputs": []
    },
    {
      "cell_type": "markdown",
      "metadata": {
        "id": "hSpG63j-Ccbg"
      },
      "source": [
        "## Changing/Adding/Removing Content of Lists"
      ]
    },
    {
      "cell_type": "markdown",
      "metadata": {
        "id": "9ivjKidPAof8"
      },
      "source": [
        "You can change the value of an element of a list by getting the index of an item and changing it as if it was a variable."
      ]
    },
    {
      "cell_type": "code",
      "metadata": {
        "id": "j5Fx1kFOAovo"
      },
      "source": [
        "list1 = [\"the\", \"quick\", \"brown\", \"fox\"]\n",
        "list1[1] = \"slow\"\n",
        "\n",
        "print(list1)"
      ],
      "execution_count": null,
      "outputs": []
    },
    {
      "cell_type": "code",
      "metadata": {
        "id": "Z12YbtSeLguN"
      },
      "source": [
        "list1 = [1, 2, 3, 5, 5, 3]\n",
        "list1[3] -= 1\n",
        "list1[5] *= 2\n",
        "\n",
        "print(list1)"
      ],
      "execution_count": null,
      "outputs": []
    },
    {
      "cell_type": "markdown",
      "metadata": {
        "id": "i8lWS8OBBFZ3"
      },
      "source": [
        "You can add items to the ends of lists with `append()`."
      ]
    },
    {
      "cell_type": "code",
      "metadata": {
        "id": "RKbtO6-cBTJc"
      },
      "source": [
        "list1 = [\"the\", \"quick\", \"brown\", \"fox\"]\n",
        "list1.append(\"jumps\")\n",
        "\n",
        "print(list1)"
      ],
      "execution_count": null,
      "outputs": []
    },
    {
      "cell_type": "markdown",
      "metadata": {
        "id": "B_bsW9RaF9io"
      },
      "source": [
        "You can also use `insert()` to add an item at a specific index. The index number goes first and the item goes second in the function."
      ]
    },
    {
      "cell_type": "code",
      "metadata": {
        "id": "KViR9p6tF9yU"
      },
      "source": [
        "list1 = [\"the\", \"brown\", \"fox\", \"jumps\"]\n",
        "list1.insert(1, \"quick\")\n",
        "\n",
        "print(list1)"
      ],
      "execution_count": null,
      "outputs": []
    },
    {
      "cell_type": "markdown",
      "metadata": {
        "id": "_Zy3DoerBpWd"
      },
      "source": [
        "Want to add a list to another list without having a nested list?"
      ]
    },
    {
      "cell_type": "code",
      "metadata": {
        "id": "-viVNsNKBpkr"
      },
      "source": [
        "list1 = [\"the\", \"quick\", \"brown\", \"fox\"]\n",
        "list1.append([\"jumps\", \"over\", \"the\", \"lazy\", \"dog\"])\n",
        "\n",
        "print(list1)"
      ],
      "execution_count": null,
      "outputs": []
    },
    {
      "cell_type": "markdown",
      "metadata": {
        "id": "TQj-ouZHB4Zv"
      },
      "source": [
        "Use `extend()` so that it stays as one list."
      ]
    },
    {
      "cell_type": "code",
      "metadata": {
        "id": "fnuGRxXkB4tR"
      },
      "source": [
        "list1 = [\"the\", \"quick\", \"brown\", \"fox\"]\n",
        "list1.extend([\"jumps\", \"over\", \"the\", \"lazy\", \"dog\"])\n",
        "\n",
        "print(list1)"
      ],
      "execution_count": null,
      "outputs": []
    },
    {
      "cell_type": "markdown",
      "metadata": {
        "id": "mSZFjpjqChUD"
      },
      "source": [
        "To remove from a list, use `remove()`."
      ]
    },
    {
      "cell_type": "code",
      "metadata": {
        "id": "lGMdUlVqCh1I"
      },
      "source": [
        "list1 = [\"apple\", \"orange\", \"banana\", \"lime\", \"blueberry\", \"grape\"]\n",
        "list1.remove(\"apple\")\n",
        "\n",
        "print(list1)"
      ],
      "execution_count": null,
      "outputs": []
    },
    {
      "cell_type": "markdown",
      "metadata": {
        "id": "-faY6xoQC7UG"
      },
      "source": [
        "Note that `remove()` only removes the first instance of the item."
      ]
    },
    {
      "cell_type": "code",
      "metadata": {
        "id": "s9dUPGVoC7kM"
      },
      "source": [
        "list1 = [\"apple\", \"orange\", \"banana\", \"apple\"]\n",
        "list1.remove(\"apple\")\n",
        "\n",
        "print(list1)"
      ],
      "execution_count": null,
      "outputs": []
    },
    {
      "cell_type": "markdown",
      "metadata": {
        "id": "ZweGVkubDPbM"
      },
      "source": [
        "To remove something of a specific index, use `pop()`, with the index number inside (use parentheses, not square brackets). If you don't put anything inside, it will remove the last item. It will also return the item it removes. It doesn't matter if you don't use a variable to store the popped item."
      ]
    },
    {
      "cell_type": "code",
      "metadata": {
        "id": "c_Ac1Bc0DPpY"
      },
      "source": [
        "list1 = [\"apple\", \"orange\", \"banana\", \"lime\", \"blueberry\", \"grape\"]\n",
        "popped_item = list1.pop(2)\n",
        "\n",
        "print(list1)\n",
        "print(popped_item)"
      ],
      "execution_count": null,
      "outputs": []
    },
    {
      "cell_type": "code",
      "metadata": {
        "id": "FPrPLXeWDo9D"
      },
      "source": [
        "list1 = [\"apple\", \"orange\", \"banana\", \"lime\", \"blueberry\", \"grape\"]\n",
        "list1.pop()\n",
        "\n",
        "print(list1)"
      ],
      "execution_count": null,
      "outputs": []
    },
    {
      "cell_type": "markdown",
      "metadata": {
        "id": "Oi-6jwkLDub1"
      },
      "source": [
        "An alternative to `pop()` is `del`. It is used like this."
      ]
    },
    {
      "cell_type": "code",
      "metadata": {
        "id": "aXZkipZlDuqv"
      },
      "source": [
        "list1 = [\"apple\", \"orange\", \"banana\", \"lime\", \"blueberry\", \"grape\"]\n",
        "del list1[2]\n",
        "\n",
        "print(list1)"
      ],
      "execution_count": 18,
      "outputs": []
    },
    {
      "cell_type": "markdown",
      "metadata": {
        "id": "UPK76NzpECKz"
      },
      "source": [
        "You can delete everything from a list with `clear()`."
      ]
    },
    {
      "cell_type": "code",
      "metadata": {
        "id": "Dvdl_7c6EClu"
      },
      "source": [
        "list1 = [\"apple\", \"orange\", \"banana\", \"lime\", \"blueberry\", \"grape\"]\n",
        "list1.clear()\n",
        "\n",
        "print(list1)"
      ],
      "execution_count": null,
      "outputs": []
    },
    {
      "cell_type": "markdown",
      "metadata": {
        "id": "pZJh3wumE6hy"
      },
      "source": [
        "**EXERCISE:** Remove the last item from your list of things around you and add it back to the front."
      ]
    },
    {
      "cell_type": "code",
      "metadata": {
        "id": "36RqYrTEE6um"
      },
      "source": [
        "items_around_me = [\"table\", \"chair\", \"window\"]\n",
        "print(items_around_me)\n",
        "\n",
        "popped_item = items_around_me.pop()\n",
        "print(items_around_me)\n",
        "\n",
        "items_around_me.insert(0, popped_item)\n",
        "print(items_around_me)"
      ],
      "execution_count": null,
      "outputs": []
    },
    {
      "cell_type": "markdown",
      "metadata": {
        "id": "-FFoGLOTq-_W"
      },
      "source": [
        "# Tuples"
      ]
    },
    {
      "cell_type": "markdown",
      "metadata": {
        "id": "Bp5gpqh6zt1I"
      },
      "source": [
        "A tuple is also an iterable. They are very similar to lists apart from the fact that you cannot change anything about a tuple once it is created. More on that later."
      ]
    },
    {
      "cell_type": "markdown",
      "metadata": {
        "id": "zSfeyWF6F7TD"
      },
      "source": [
        "## Declaring Tuples"
      ]
    },
    {
      "cell_type": "markdown",
      "metadata": {
        "id": "jtWV5GvYF-I-"
      },
      "source": [
        "Tuples are declared with parentheses."
      ]
    },
    {
      "cell_type": "code",
      "metadata": {
        "id": "Zq5c43h_F7lZ"
      },
      "source": [
        "tuple1 = (\"hi\", True, 12)"
      ],
      "execution_count": null,
      "outputs": []
    },
    {
      "cell_type": "markdown",
      "metadata": {
        "id": "3-z1RHIRGMbB"
      },
      "source": [
        "If a tuple has 1 item, it must end in a comma as if there was going to be another item. However, there is no harm in doing the same thing with tuples longer than 1 item."
      ]
    },
    {
      "cell_type": "code",
      "metadata": {
        "id": "1VauhNtUGMql"
      },
      "source": [
        "single_item_tuple = (\"hi\",)\n",
        "print(type(single_item_tuple))\n",
        "\n",
        "not_a_tuple = (\"hi\")\n",
        "print(type(not_a_tuple))"
      ],
      "execution_count": null,
      "outputs": []
    },
    {
      "cell_type": "markdown",
      "metadata": {
        "id": "NmT7M8daejKO"
      },
      "source": [
        "## Accessing Items from Tuples"
      ]
    },
    {
      "cell_type": "markdown",
      "metadata": {
        "id": "_S03RRcZeoSd"
      },
      "source": [
        "The way to access items from tuples is identical."
      ]
    },
    {
      "cell_type": "code",
      "metadata": {
        "id": "63a7ySibeoDR"
      },
      "source": [
        "tuple_of_strings = (\"index 0\", \"index 1\", \"index 2\", \"index 3\")\n",
        "print(tuple_of_strings[0])\n",
        "print(tuple_of_strings[3])\n",
        "print(tuple_of_strings[-2])\n",
        "\n",
        "list1 = [[\"aa\", \"bb\"], \"c\", \"d\", [[\"eee\"]]]\n",
        "print(list1[3][0][0])\n",
        "\n",
        "tuple1 = ((\"aa\", \"bb\"), \"c\", \"d\", ((\"eee\",),),)\n",
        "print(tuple1[3][0][0])"
      ],
      "execution_count": null,
      "outputs": []
    },
    {
      "cell_type": "markdown",
      "metadata": {
        "id": "H5zHEWY3MESb"
      },
      "source": [
        "## The Inability to Change/Add/Remove Content of Tuples"
      ]
    },
    {
      "cell_type": "markdown",
      "metadata": {
        "id": "lRgESBPcMOWc"
      },
      "source": [
        "So far, tuples have been effectively identical to lists, but this is the big difference. You cannot do anything to tuples once they are created."
      ]
    },
    {
      "cell_type": "code",
      "metadata": {
        "id": "yaabcURwMOlZ"
      },
      "source": [
        "tuple1 = (\"the\", \"quick\", \"brown\", \"fox\")\n",
        "tuple1[1] = \"slow\"\n",
        "\n",
        "print(list1)"
      ],
      "execution_count": null,
      "outputs": []
    },
    {
      "cell_type": "markdown",
      "metadata": {
        "id": "8Eb42THFMnkS"
      },
      "source": [
        "But why would this ever be important? What does a tuple do that could be useful?\n",
        "\n",
        "One possibility of using tuples is to make sure you don't accidentally change it when you aren't supposed to. For example, a tuple of all the digits 0-9 shouldn't need to change, so making it a tuple would be a good idea."
      ]
    },
    {
      "cell_type": "code",
      "metadata": {
        "id": "vkMcRMJ2Mn0T"
      },
      "source": [
        "nums = (0, 1, 2, 3, 4, 5, 6, 7, 8, 9)\n",
        "\n",
        "# if for some reason, somewhere in your code, you accidentally try\n",
        "# to change the contents of \"numbers\", it will make sure you don't\n",
        "# continue with it\n",
        "nums.append(10)"
      ],
      "execution_count": null,
      "outputs": []
    },
    {
      "cell_type": "markdown",
      "metadata": {
        "id": "yoXZ6ZsdNUTu"
      },
      "source": [
        "Even if you are absolutely sure you won't accidentally change things that should be permenant, you can also use tuples to make sure hackers don't change things to gain an advantage."
      ]
    },
    {
      "cell_type": "code",
      "metadata": {
        "id": "YWIP8nqQNUkM"
      },
      "source": [
        "# possible loadout for a game (level, coins, xp)\n",
        "startingLoadout = (1, 100, 0)\n",
        "\n",
        "# a hacker wouldn't be able to change how much they have at the start\n",
        "# of the game by changing what's in the tuple\n",
        "startingLoadout[1] = 100000"
      ],
      "execution_count": null,
      "outputs": []
    },
    {
      "cell_type": "markdown",
      "metadata": {
        "id": "OOHKpCD2G0G9"
      },
      "source": [
        "EXERCISE: Think of a parking lot of cars. Put the cars (in the form of strings) in either a list or tuple to represent the parking lot, whichever is more appropriate for the situation. If it's a list, change, add, or remove something in the list."
      ]
    },
    {
      "cell_type": "code",
      "metadata": {
        "id": "OU9ehHo3HXlP"
      },
      "source": [
        "cars_in_parking_lot = [\"Tesla Model 3\", \"Honda Civic\", \"\", \"Toyota Camry\", \"\"]\n",
        "\n",
        "cars_in_parking_lot[2] = \"Nissan Altima\""
      ],
      "execution_count": null,
      "outputs": []
    },
    {
      "cell_type": "markdown",
      "metadata": {
        "id": "hxGrUIPeItw9"
      },
      "source": [
        "## Functions that use Lists and Tuples"
      ]
    },
    {
      "cell_type": "markdown",
      "metadata": {
        "id": "qEq-2ydZJCD8"
      },
      "source": [
        "Here are some functions that use lists and tuples."
      ]
    },
    {
      "cell_type": "code",
      "metadata": {
        "id": "MVDmI1BhIucn"
      },
      "source": [
        "# split all the characters and put them in a list\n",
        "print(list(\"Python is cool\"))\n",
        "\n",
        "# find the sum of everything in a list (of numbers)\n",
        "print(sum([1, 2, 3, 4, 5]))\n",
        "\n",
        "# find the largest number\n",
        "print(max([1, 4, 5, 7, 12]))\n",
        "\n",
        "# find the letter farthest along the alphabet\n",
        "print(max([\"p\", \"y\", \"t\", \"h\", \"o\", \"n\"]))\n",
        "\n",
        "# find the smallest number\n",
        "print(min([1, 4, 5, 7, 12]))\n",
        "\n",
        "# find the letter closest along the alphabet\n",
        "print(min([\"p\", \"y\", \"t\", \"h\", \"o\", \"n\"]))\n",
        "\n",
        "# sort numbers\n",
        "print(sorted([1, 4, 5, 7, 12]))\n",
        "\n",
        "# sort letters\n",
        "print(sorted([\"p\", \"y\", \"t\", \"h\", \"o\", \"n\"]))\n",
        "\n",
        "# reverse list\n",
        "list1 = [\"p\", \"y\", \"t\", \"h\", \"o\", \"n\", 1, 2, 3, 4]\n",
        "list1.reverse()\n",
        "\n",
        "print(list1)"
      ],
      "execution_count": null,
      "outputs": []
    },
    {
      "cell_type": "markdown",
      "metadata": {
        "id": "qkKb_GEMrA6a"
      },
      "source": [
        "# Review"
      ]
    },
    {
      "cell_type": "markdown",
      "metadata": {
        "id": "6l3gpOYN_C0D"
      },
      "source": [
        "1. Make a list of 3 random numbers from 0 to 9.\n",
        "2. Multiply the first item by 2.\n",
        "3. Print the sum of all the numbers.\n",
        "\n",
        "Print the results along the way."
      ]
    },
    {
      "cell_type": "code",
      "metadata": {
        "id": "jeFVUM1x_DCt"
      },
      "source": [
        "import random\n",
        "\n",
        "random_numbers = [random.randint(0, 9), random.randint(0, 9), random.randint(0, 9)]\n",
        "print(random_numbers)\n",
        "\n",
        "random_numbers[0] *= 2\n",
        "print(random_numbers)\n",
        "\n",
        "print(sum(random_numbers))"
      ],
      "execution_count": null,
      "outputs": []
    }
  ]
}