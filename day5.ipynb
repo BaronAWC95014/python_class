{
  "nbformat": 4,
  "nbformat_minor": 0,
  "metadata": {
    "colab": {
      "name": "day5.ipynb",
      "provenance": [],
      "collapsed_sections": [
        "kRlYD3gpHlWr",
        "Z7yG5lROHthm",
        "ZABpSdL6Hy1T"
      ],
      "include_colab_link": true
    },
    "kernelspec": {
      "name": "python3",
      "display_name": "Python 3"
    },
    "language_info": {
      "name": "python"
    }
  },
  "cells": [
    {
      "cell_type": "markdown",
      "metadata": {
        "id": "view-in-github",
        "colab_type": "text"
      },
      "source": [
        "<a href=\"https://colab.research.google.com/github/BaronAWC95014/python_class_instructor/blob/main/day5.ipynb\" target=\"_parent\"><img src=\"https://colab.research.google.com/assets/colab-badge.svg\" alt=\"Open In Colab\"/></a>"
      ]
    },
    {
      "cell_type": "markdown",
      "metadata": {
        "id": "4QXDH-swuNqL"
      },
      "source": [
        "# Basics of Functions"
      ]
    },
    {
      "cell_type": "markdown",
      "metadata": {
        "id": "uQyGBznYjI7d"
      },
      "source": [
        "**Formal definition: a Python function is an object that encapsulates code. Calling the function will execute the encapsulated code and return an object. A function can be defined so that it accepts arguments, which are objects that are to be passed to the encapsulated code.**"
      ]
    },
    {
      "cell_type": "markdown",
      "metadata": {
        "id": "vos0YFqnuPrR"
      },
      "source": [
        "Defining a function allows you to encapsulate a segment of code, specifying the information that enters and leaves the code. You can make use of this “code capsule” repeatedly and in many different contexts. For example, suppose you want to count how many vowels are in a string. The following defines a function that accomplishes this:"
      ]
    },
    {
      "cell_type": "code",
      "metadata": {
        "id": "-xYC7hiTvYyM"
      },
      "source": [
        "def count_vowels(in_string):\n",
        "    \"\"\"Returns the number of vowels contained in `in_string`\"\"\"\n",
        "    num_vowels = 0\n",
        "    vowels = \"aeiouAEIOU\"\n",
        "\n",
        "    # iterate through each character from \"in_string\"\n",
        "    for char in in_string:\n",
        "        # check if \"char\" is a vowel\n",
        "        if char in vowels:\n",
        "            # if so, increment the number of vowels by 1\n",
        "            num_vowels += 1  # equivalent to num_vowels = num_vowels + 1\n",
        "    # give back \"num_vowels\"\n",
        "    return num_vowels"
      ],
      "execution_count": null,
      "outputs": []
    },
    {
      "cell_type": "markdown",
      "metadata": {
        "id": "BE7djMC-v3af"
      },
      "source": [
        "Executing this code will define the function `count_vowels`. This function expects to be passed one object, represented by `in_string`, as an input argument, and it will return the number of vowels stored in that object. Invoking `count_vowels`, passing it an input object, is referred to as calling the function:"
      ]
    },
    {
      "cell_type": "code",
      "metadata": {
        "id": "He1nfPMtwvDA",
        "colab": {
          "base_uri": "https://localhost:8080/"
        },
        "outputId": "98725efb-27eb-4007-a828-f272c954f30d"
      },
      "source": [
        "count_vowels(\"Hi my name is Arthur\")"
      ],
      "execution_count": null,
      "outputs": [
        {
          "output_type": "execute_result",
          "data": {
            "text/plain": [
              "6"
            ]
          },
          "metadata": {
            "tags": []
          },
          "execution_count": 5
        }
      ]
    },
    {
      "cell_type": "markdown",
      "metadata": {
        "id": "weWk24vjlBSl"
      },
      "source": [
        "A Python function is similar to a math function.\n",
        "\n",
        "```\n",
        "MATH\n",
        "\n",
        "f(x) = x + 2\n",
        "y = f(3)\n",
        "```\n",
        "\n",
        "```\n",
        "PYTHON\n",
        "\n",
        "def f(x):\n",
        "    return x + 2\n",
        "y = f(3)\n",
        "```"
      ]
    },
    {
      "cell_type": "markdown",
      "metadata": {
        "id": "8qqbdKYVLwfT"
      },
      "source": [
        "## Syntax"
      ]
    },
    {
      "cell_type": "markdown",
      "metadata": {
        "id": "TJr3_LRow464"
      },
      "source": [
        "Similar to `if`, `else`, and `for`, the `def` statement is reserved by the Python language to signify the definition of functions (and a few other things that we’ll cover later). The following is the general syntax for defining a Python function:\n",
        "\n",
        "```\n",
        "def <function name>(<function signature>):\n",
        "    \"\"\" documentation string \"\"\"\n",
        "    <encapsulated code>\n",
        "    return <object>\n",
        "```"
      ]
    },
    {
      "cell_type": "markdown",
      "metadata": {
        "id": "TWwA_1R7yQ2U"
      },
      "source": [
        "* `function name` can be any valid variable name, and must be followed by parentheses and then a colon.\n",
        "\n",
        "* `function signature` specifies the input arguments to the function, and may be left blank if the function does not accept any arguments (the parentheses must still be included, but will not encapsulate anything).\n",
        "\n",
        "* The documentation string (commonly referred to as a “docstring”) may span multiple lines, and should indicate what the function’s purpose is. It is optional, but if you type `<function name>?`, the docstring will be displayed.\n",
        "\n",
        "* `encapsulated code` can consist of general Python code, and is demarcated by being indented relative to the def statement.\n",
        "\n",
        "* `return`, if reached by the encapsulated code, triggers the function to return the specified object and end its own execution immediately. Returning something gives that value back to the called function for the code to use.\n",
        "\n",
        "Note that, like an if-statement and a for-loop, the `def` statment must end in a colon and the body of the function is delimited by whitespace."
      ]
    },
    {
      "cell_type": "markdown",
      "metadata": {
        "id": "1ljj7fIotsLp"
      },
      "source": [
        "**EXERCISE:** Make the following function:\n",
        "- name: getAverage\n",
        "- docstring: Finds the average of the numbers in the iterable 'numbers'\n",
        "- parameters: `numbers` (iterable)\n",
        "- returns: average/mean of the numbers"
      ]
    },
    {
      "cell_type": "code",
      "metadata": {
        "colab": {
          "base_uri": "https://localhost:8080/"
        },
        "id": "sJxQ6XQItUu-",
        "outputId": "8d72fb0f-d747-49cf-f8a7-a194abf65581"
      },
      "source": [
        "def getAverage(numbers):\n",
        "    \"\"\"Finds the average of the numbers in the iterable 'numbers'\"\"\"\n",
        "    return sum(numbers) / len(numbers)\n",
        "\n",
        "print(getAverage([3, 4, 8]))"
      ],
      "execution_count": null,
      "outputs": [
        {
          "output_type": "stream",
          "text": [
            "5.0\n"
          ],
          "name": "stdout"
        }
      ]
    },
    {
      "cell_type": "markdown",
      "metadata": {
        "id": "NILsNyodzv2t"
      },
      "source": [
        "**EXERCISE:** Write a function named `count_even`. It should accept one input argument, named `numbers`, which will be an iterable containing integers. Have the function return the number of even-valued integers contained in the list. Include a reasonable docstring.\n",
        "\n"
      ]
    },
    {
      "cell_type": "code",
      "metadata": {
        "id": "MSmuH4fjz8ji"
      },
      "source": [
        "def count_even(numbers):\n",
        "    \"\"\"Counts the number of even integers in an iterable\"\"\"\n",
        "    total = 0\n",
        "    for num in numbers:\n",
        "        if num % 2 == 0:\n",
        "            total += 1\n",
        "    return total\n",
        "\n",
        "print(count_even([2, 3, 4, 7, 10]))"
      ],
      "execution_count": null,
      "outputs": []
    },
    {
      "cell_type": "markdown",
      "metadata": {
        "id": "w6OnlAkOvQBc"
      },
      "source": [
        "## Arguments"
      ]
    },
    {
      "cell_type": "markdown",
      "metadata": {
        "id": "reVeDzp2vfBC"
      },
      "source": [
        "A sequence of comma-separated variable names can specified in the function signature to indicated positional arguments for the function. For example, the following specifies `x`, `lower`, and `upper` as input arguments to a function, `is_bounded`:"
      ]
    },
    {
      "cell_type": "code",
      "metadata": {
        "id": "ZdT7X5i-vlaB"
      },
      "source": [
        "def is_bounded(x, lower, upper):\n",
        "    return lower <= x <= upper\n",
        "\n",
        "print(is_bounded(3, 2, 4))"
      ],
      "execution_count": null,
      "outputs": []
    },
    {
      "cell_type": "markdown",
      "metadata": {
        "id": "BBevsTiYvond"
      },
      "source": [
        "The objects passed to `is_bounded` will be assigned to its input variables based on their positions. That is, `is_bounded(3, 2, 4)` will assign `x=3`, `lower=2`, and `upper=4`, in accordance with the positional ordering of the function’s input arguments. Feeding a function too few or too many arguments will raise a `TypeError`."
      ]
    },
    {
      "cell_type": "markdown",
      "metadata": {
        "id": "PpeKFcN5cnow"
      },
      "source": [
        "## Purpose"
      ]
    },
    {
      "cell_type": "markdown",
      "metadata": {
        "id": "pv11lSv4Ssn4"
      },
      "source": [
        "The purpose of using functions is mainly to **reuse code**. You can use a function multiple times in different places.\n",
        "\n",
        "Another good use of functions is to **make your code clearer** (easier to understand and read), given that you give the functions and variables good names. For example, to find the largest prime under a certain number, you first need to figure out if a number is prime.\n",
        "\n",
        "Using functions also **makes bug-fixing easier**. If `is_prime()` had a bug, I could just fix it there instead of fixing it in 2 places (`highest_prime_under_limit` and `lowest_prime_over_limit`)."
      ]
    },
    {
      "cell_type": "code",
      "metadata": {
        "colab": {
          "base_uri": "https://localhost:8080/"
        },
        "id": "Rmzu-v_PS3Yi",
        "outputId": "35813824-750a-4dc7-ac6d-a82d7710df13"
      },
      "source": [
        "def is_prime(num):\n",
        "    # figure out if the number is prime\n",
        "\n",
        "    prime = True\n",
        "    # if it's 2 or more, it might be prime\n",
        "    if num > 1:\n",
        "        for a in range(2, int(num/2)):\n",
        "            # if it is divisible by something, it's not prime\n",
        "            if (num % a) == 0:\n",
        "                prime = False\n",
        "                break\n",
        "    # if it's 1 or less, it's not prime\n",
        "    else:\n",
        "        prime = False\n",
        "    return prime\n",
        "\n",
        "def highest_prime_under_limit(limit):\n",
        "    # find the highest prime under \"num\"\n",
        "\n",
        "    # iterate starting from \"num - 1\" down to 2, including both ends\n",
        "    for num in reversed(range(2, limit)):\n",
        "        # if it's prime, return the number\n",
        "        if is_prime(num):\n",
        "            return num\n",
        "\n",
        "def lowest_prime_over_limit(limit):\n",
        "    # find the highest prime under \"num\"\n",
        "\n",
        "    # start at \"limit + 1\"\n",
        "    num = limit + 1\n",
        "    # keep incrementing by 1 until the number is prime\n",
        "    while not is_prime(num):\n",
        "        num += 1\n",
        "    # return result\n",
        "    return num\n",
        "\n",
        "print(highest_prime_under_limit(1000000)) # 1 million\n",
        "print(lowest_prime_over_limit(1000))"
      ],
      "execution_count": null,
      "outputs": [
        {
          "output_type": "stream",
          "text": [
            "999983\n",
            "1009\n"
          ],
          "name": "stdout"
        }
      ]
    },
    {
      "cell_type": "markdown",
      "metadata": {
        "id": "wnQv9bnHOd5g"
      },
      "source": [
        "# Functions as Objects"
      ]
    },
    {
      "cell_type": "markdown",
      "metadata": {
        "id": "QVnY1sZvOgkn"
      },
      "source": [
        "Once defined, a function behaves like any other Python object, like a list or string or integer. You can assign a variable to a function-object:"
      ]
    },
    {
      "cell_type": "code",
      "metadata": {
        "colab": {
          "base_uri": "https://localhost:8080/"
        },
        "id": "SgdqHWIUOiyM",
        "outputId": "53ce6799-542b-4ed6-8f81-ee8d0e2215ab"
      },
      "source": [
        "var = count_vowels  # `var` now references the function `count_vowels`\n",
        "var(\"Hello\")        # you can now \"call\" `var`"
      ],
      "execution_count": null,
      "outputs": [
        {
          "output_type": "execute_result",
          "data": {
            "text/plain": [
              "2"
            ]
          },
          "metadata": {
            "tags": []
          },
          "execution_count": 19
        }
      ]
    },
    {
      "cell_type": "markdown",
      "metadata": {
        "id": "UkJoh_GPOmxm"
      },
      "source": [
        "You can store functions in a list:"
      ]
    },
    {
      "cell_type": "code",
      "metadata": {
        "colab": {
          "base_uri": "https://localhost:8080/"
        },
        "id": "Tpe8i-LhOpdy",
        "outputId": "ab1e228e-e8b0-49c9-f02a-9200709e667a"
      },
      "source": [
        "my_list = [count_vowels, print]\n",
        "\n",
        "for func in my_list:\n",
        "    func(\"hello\")\n",
        "\n",
        "# iteration 0: calls `count_vowels(\"hello\")` (it doesn't print anything, it only returns something)\n",
        "# iteration 1: calls `print(\"hello\")`"
      ],
      "execution_count": null,
      "outputs": [
        {
          "output_type": "stream",
          "text": [
            "hello\n"
          ],
          "name": "stdout"
        }
      ]
    },
    {
      "cell_type": "markdown",
      "metadata": {
        "id": "zboSVPtSOr3r"
      },
      "source": [
        "You can also call functions anywhere, and their return-value will be returned in-place:"
      ]
    },
    {
      "cell_type": "code",
      "metadata": {
        "colab": {
          "base_uri": "https://localhost:8080/"
        },
        "id": "zny5poGBOzR5",
        "outputId": "3d1010e1-2250-4da4-d0b1-849ae674239b"
      },
      "source": [
        "if count_vowels(\"onomatopoeia\") > 5:\n",
        "    print(\"that's a lot of vowels!\")"
      ],
      "execution_count": null,
      "outputs": [
        {
          "output_type": "stream",
          "text": [
            "that's a lot of vowels!\n"
          ],
          "name": "stdout"
        }
      ]
    },
    {
      "cell_type": "markdown",
      "metadata": {
        "id": "xJmlQG2LO4Lv"
      },
      "source": [
        "You can print a function with its arguments to show what it returns, but “printing” the function name itself isn’t very revealing. It simply tells you the memory address where the function-object is stored."
      ]
    },
    {
      "cell_type": "code",
      "metadata": {
        "colab": {
          "base_uri": "https://localhost:8080/"
        },
        "id": "_TtNkWOr7UUA",
        "outputId": "58c2e2ab-865b-4efc-adeb-774ec5ca1d4e"
      },
      "source": [
        "print(count_vowels(\"hello world\"))\n",
        "print(count_vowels)"
      ],
      "execution_count": null,
      "outputs": [
        {
          "output_type": "stream",
          "text": [
            "3\n",
            "<function count_vowels at 0x7f34b75f0cb0>\n"
          ],
          "name": "stdout"
        }
      ]
    },
    {
      "cell_type": "markdown",
      "metadata": {
        "id": "lzstjzRxLioE"
      },
      "source": [
        "# Function Overloading"
      ]
    },
    {
      "cell_type": "markdown",
      "metadata": {
        "id": "YSF6DR55Lk8_"
      },
      "source": [
        "In Java, function overloading means that you can have 2 functions with the same name with different parameters, and you can use both functions based on what parameters you put in.\n",
        "\n",
        "Both of these are functions (in Java) that add 2 numbers, but 1 is for 2 integers and the other is for 2 doubles (basically floats). Since integers and doubles are different, Java knows which function to run.\n",
        "\n",
        "```\n",
        "static int add(int x, int y) {\n",
        "    return x + y;\n",
        "}\n",
        "\n",
        "static double add(double x, double y) {\n",
        "    return x + y;\n",
        "}\n",
        "```\n",
        "\n",
        "In Python, this is not the case. If 2 functions have the same name, the last one is the only function that works."
      ]
    },
    {
      "cell_type": "markdown",
      "metadata": {
        "id": "ZABpSdL6Hy1T"
      },
      "source": [
        "# Default Parameters"
      ]
    },
    {
      "cell_type": "markdown",
      "metadata": {
        "id": "Zi3mNf_CH27Y"
      },
      "source": [
        "You can specify default values for input arguments to a function. Their default values are utilized if a user does not specify these inputs when calling the function. Recall our `count_vowels` function. Suppose we want the ability to include “y” as a vowel. We know, however, that people will typically want to exclude “y” from their vowels, so we can exclude “y” by default:"
      ]
    },
    {
      "cell_type": "code",
      "metadata": {
        "id": "kEVhpyXPH-Hr"
      },
      "source": [
        "def count_vowels(in_string, include_y=False):\n",
        "    \"\"\" Returns the number of vowels contained in `in_string`\"\"\"\n",
        "    vowels = \"aeiouAEIOU\"\n",
        "    if include_y:\n",
        "        vowels += \"yY\"  # add \"y\" to vowels\n",
        "    # add 1 for each character in the string if that character is in \"vowels\"\n",
        "    return sum(1 for char in in_string if char in vowels)"
      ],
      "execution_count": null,
      "outputs": []
    },
    {
      "cell_type": "markdown",
      "metadata": {
        "id": "azJmxrabIDNI"
      },
      "source": [
        "Now, if only `in_string` is specified when calling `count_vowels`, `include_y` will be passed the value `False` by default."
      ]
    },
    {
      "cell_type": "markdown",
      "metadata": {
        "id": "7PRY6j8SIWOq"
      },
      "source": [
        "Default-valued input arguments must come after all positional input arguments in the function signature:"
      ]
    },
    {
      "cell_type": "code",
      "metadata": {
        "id": "pMGder5jIXno",
        "colab": {
          "base_uri": "https://localhost:8080/",
          "height": 130
        },
        "outputId": "c2a27e39-a07d-43b2-9069-99da1ac28535"
      },
      "source": [
        "# this is ok\n",
        "def f(x, y, z, count=1, upper=2):\n",
        "    pass\n",
        "\n",
        "# this will raise a syntax error\n",
        "def f(x, y, count=1, upper=2, z):\n",
        "    pass"
      ],
      "execution_count": null,
      "outputs": [
        {
          "output_type": "error",
          "ename": "SyntaxError",
          "evalue": "ignored",
          "traceback": [
            "\u001b[0;36m  File \u001b[0;32m\"<ipython-input-2-5fb77a56a240>\"\u001b[0;36m, line \u001b[0;32m6\u001b[0m\n\u001b[0;31m    def f(x, y, count=1, upper=2, z):\u001b[0m\n\u001b[0m         ^\u001b[0m\n\u001b[0;31mSyntaxError\u001b[0m\u001b[0;31m:\u001b[0m non-default argument follows default argument\n"
          ]
        }
      ]
    },
    {
      "cell_type": "markdown",
      "metadata": {
        "id": "zt2VvWIgIkPH"
      },
      "source": [
        "**EXERCISE:** Write a function, `max_or_min`, which accepts two positional arguments, `x` and `y` (which will hold numerical values), and a `mode` variable that has the default value `\"max\"`. This determines whether you find `min` or `max` of the 2 numbers.\n",
        "\n",
        "The function should return `min(x, y)` or `max(x, y)` according to `mode`. Have the function return `None` if mode is neither `\"max\"` nor `\"min\"`.\n",
        "\n"
      ]
    },
    {
      "cell_type": "code",
      "metadata": {
        "id": "Iw032eLAI_EG"
      },
      "source": [
        "def max_or_min(x, y, mode=\"max\"):\n",
        "    \"\"\" Return either `max(x,y)` or `min(x,y)`,\n",
        "        according to the `mode` argument.\n",
        "\n",
        "        Parameters\n",
        "        ----------\n",
        "        x : Number\n",
        "\n",
        "        y : Number\n",
        "\n",
        "        mode : str\n",
        "           Either 'max' or 'min'\n",
        "\n",
        "        Returns\n",
        "        -------\n",
        "        The max or min of the two values. `None` is\n",
        "        returned if an invalid mode was specified.\"\"\"\n",
        "    if mode == \"max\":\n",
        "        return max(x, y)\n",
        "    elif mode == \"min\":\n",
        "        return min(x, y)\n",
        "    else:\n",
        "        return None"
      ],
      "execution_count": null,
      "outputs": []
    },
    {
      "cell_type": "markdown",
      "source": [
        "# Functions with Turtle"
      ],
      "metadata": {
        "id": "2HmYUXHyZbkn"
      }
    },
    {
      "cell_type": "code",
      "source": [
        "!pip install ColabTurtlePlus\n",
        "from ColabTurtlePlus.Turtle import *"
      ],
      "metadata": {
        "colab": {
          "base_uri": "https://localhost:8080/"
        },
        "id": "ILqD9HMYZ7js",
        "outputId": "1183a36c-9714-44cd-d584-cfab02088f17"
      },
      "execution_count": null,
      "outputs": [
        {
          "output_type": "stream",
          "name": "stdout",
          "text": [
            "Looking in indexes: https://pypi.org/simple, https://us-python.pkg.dev/colab-wheels/public/simple/\n",
            "Collecting ColabTurtlePlus\n",
            "  Downloading ColabTurtlePlus-2.0.1-py3-none-any.whl (31 kB)\n",
            "Installing collected packages: ColabTurtlePlus\n",
            "Successfully installed ColabTurtlePlus-2.0.1\n",
            "Put clearscreen() as the first line in a cell (after the import command) to re-run turtle commands in the cell\n"
          ]
        }
      ]
    },
    {
      "cell_type": "markdown",
      "source": [
        "Here is a relatively complicated function that creates a star in the center of the canvas."
      ],
      "metadata": {
        "id": "-LeXRojMZ1Yd"
      }
    },
    {
      "cell_type": "code",
      "source": [
        "import math\n",
        "\n",
        "clearscreen()\n",
        "setup(400, 400)\n",
        "speed(0)\n",
        "pensize(2)\n",
        "\n",
        "def middle_star(side_len, sides):\n",
        "    if sides % 2 == 0:\n",
        "        raise Exception(\"middle_star() requires that 'sides' is an odd number\")\n",
        "    \n",
        "    # find inner/outer angle of each point\n",
        "    inner_angle = 180/sides\n",
        "    outer_angle = 180 - inner_angle # the program turns this many degrees every time it draws a line\n",
        "\n",
        "    # find x of the first point (leftmost, slightly above the center)\n",
        "    x_offset = side_len/2\n",
        "\n",
        "    # find y of the first point\n",
        "    y_offset = math.tan(math.radians(inner_angle/2)) * x_offset\n",
        "\n",
        "    # set up the environment correctly\n",
        "    penup()\n",
        "    face(0)\n",
        "    goto(-x_offset, y_offset)\n",
        "    pendown()\n",
        "\n",
        "    # draw a side and turn\n",
        "    for i in range(sides):\n",
        "        forward(side_len)\n",
        "        right(outer_angle)\n",
        "    done()\n",
        "\n",
        "rainbow = (\"red\", \"orange\", \"yellow\", \"green\", \"blue\", \"purple\")\n",
        "star_size = 150\n",
        "for c in rainbow:\n",
        "    color(c)\n",
        "    middle_star(star_size, 7)\n",
        "    star_size *= 1.2"
      ],
      "metadata": {
        "colab": {
          "base_uri": "https://localhost:8080/",
          "height": 421
        },
        "id": "kG5-3p4VZ3s5",
        "outputId": "5fa8bce8-7683-4f3a-adb0-fdc510c503ef"
      },
      "execution_count": null,
      "outputs": [
        {
          "output_type": "display_data",
          "data": {
            "text/plain": [
              "<IPython.core.display.HTML object>"
            ],
            "text/html": [
              "\n",
              "      <svg width=\"400\" height=\"400\">  \n",
              "        <rect width=\"100%\" height=\"100%\" style=\"fill:white;stroke:;stroke-width:1\"/>\n",
              "        \n",
              "        \n",
              "        <line x1=\"125.0\" y1=\"182.882\" x2=\"275.0\" y2=\"182.882\" stroke-linecap=\"round\" style=\"stroke:red;stroke-width:2\" /><line x1=\"275.0\" y1=\"182.882\" x2=\"139.855\" y2=\"247.965\" stroke-linecap=\"round\" style=\"stroke:red;stroke-width:2\" /><line x1=\"139.855\" y1=\"247.965\" x2=\"233.378\" y2=\"130.69\" stroke-linecap=\"round\" style=\"stroke:red;stroke-width:2\" /><line x1=\"233.378\" y1=\"130.69\" x2=\"200.0\" y2=\"276.929\" stroke-linecap=\"round\" style=\"stroke:red;stroke-width:2\" /><line x1=\"200.0\" y1=\"276.929\" x2=\"166.622\" y2=\"130.69\" stroke-linecap=\"round\" style=\"stroke:red;stroke-width:2\" /><line x1=\"166.622\" y1=\"130.69\" x2=\"260.145\" y2=\"247.965\" stroke-linecap=\"round\" style=\"stroke:red;stroke-width:2\" /><line x1=\"260.145\" y1=\"247.965\" x2=\"125.0\" y2=\"182.882\" stroke-linecap=\"round\" style=\"stroke:red;stroke-width:2\" /><line x1=\"110.0\" y1=\"179.458\" x2=\"290.0\" y2=\"179.458\" stroke-linecap=\"round\" style=\"stroke:orange;stroke-width:2\" /><line x1=\"290.0\" y1=\"179.458\" x2=\"127.826\" y2=\"257.557\" stroke-linecap=\"round\" style=\"stroke:orange;stroke-width:2\" /><line x1=\"127.826\" y1=\"257.557\" x2=\"240.054\" y2=\"116.827\" stroke-linecap=\"round\" style=\"stroke:orange;stroke-width:2\" /><line x1=\"240.054\" y1=\"116.827\" x2=\"200.0\" y2=\"292.314\" stroke-linecap=\"round\" style=\"stroke:orange;stroke-width:2\" /><line x1=\"200.0\" y1=\"292.314\" x2=\"159.946\" y2=\"116.827\" stroke-linecap=\"round\" style=\"stroke:orange;stroke-width:2\" /><line x1=\"159.946\" y1=\"116.827\" x2=\"272.174\" y2=\"257.557\" stroke-linecap=\"round\" style=\"stroke:orange;stroke-width:2\" /><line x1=\"272.174\" y1=\"257.557\" x2=\"110.0\" y2=\"179.458\" stroke-linecap=\"round\" style=\"stroke:orange;stroke-width:2\" /><line x1=\"92.0\" y1=\"175.35\" x2=\"308.0\" y2=\"175.35\" stroke-linecap=\"round\" style=\"stroke:yellow;stroke-width:2\" /><line x1=\"308.0\" y1=\"175.35\" x2=\"113.391\" y2=\"269.069\" stroke-linecap=\"round\" style=\"stroke:yellow;stroke-width:2\" /><line x1=\"113.391\" y1=\"269.069\" x2=\"248.065\" y2=\"100.193\" stroke-linecap=\"round\" style=\"stroke:yellow;stroke-width:2\" /><line x1=\"248.065\" y1=\"100.193\" x2=\"200.0\" y2=\"310.777\" stroke-linecap=\"round\" style=\"stroke:yellow;stroke-width:2\" /><line x1=\"200.0\" y1=\"310.777\" x2=\"151.935\" y2=\"100.193\" stroke-linecap=\"round\" style=\"stroke:yellow;stroke-width:2\" /><line x1=\"151.935\" y1=\"100.193\" x2=\"286.609\" y2=\"269.069\" stroke-linecap=\"round\" style=\"stroke:yellow;stroke-width:2\" /><line x1=\"286.609\" y1=\"269.069\" x2=\"92.0\" y2=\"175.35\" stroke-linecap=\"round\" style=\"stroke:yellow;stroke-width:2\" /><line x1=\"70.4\" y1=\"170.42\" x2=\"329.6\" y2=\"170.42\" stroke-linecap=\"round\" style=\"stroke:green;stroke-width:2\" /><line x1=\"329.6\" y1=\"170.42\" x2=\"96.069\" y2=\"282.883\" stroke-linecap=\"round\" style=\"stroke:green;stroke-width:2\" /><line x1=\"96.069\" y1=\"282.883\" x2=\"257.678\" y2=\"80.232\" stroke-linecap=\"round\" style=\"stroke:green;stroke-width:2\" /><line x1=\"257.678\" y1=\"80.232\" x2=\"200.001\" y2=\"332.933\" stroke-linecap=\"round\" style=\"stroke:green;stroke-width:2\" /><line x1=\"200.001\" y1=\"332.933\" x2=\"142.324\" y2=\"80.232\" stroke-linecap=\"round\" style=\"stroke:green;stroke-width:2\" /><line x1=\"142.324\" y1=\"80.232\" x2=\"303.933\" y2=\"282.883\" stroke-linecap=\"round\" style=\"stroke:green;stroke-width:2\" /><line x1=\"303.933\" y1=\"282.883\" x2=\"70.402\" y2=\"170.42\" stroke-linecap=\"round\" style=\"stroke:green;stroke-width:2\" /><line x1=\"44.48\" y1=\"164.504\" x2=\"355.52\" y2=\"164.504\" stroke-linecap=\"round\" style=\"stroke:blue;stroke-width:2\" /><line x1=\"355.52\" y1=\"164.504\" x2=\"75.283\" y2=\"299.459\" stroke-linecap=\"round\" style=\"stroke:blue;stroke-width:2\" /><line x1=\"75.283\" y1=\"299.459\" x2=\"269.213\" y2=\"56.278\" stroke-linecap=\"round\" style=\"stroke:blue;stroke-width:2\" /><line x1=\"269.213\" y1=\"56.278\" x2=\"200.0\" y2=\"359.52\" stroke-linecap=\"round\" style=\"stroke:blue;stroke-width:2\" /><line x1=\"200.0\" y1=\"359.52\" x2=\"130.787\" y2=\"56.278\" stroke-linecap=\"round\" style=\"stroke:blue;stroke-width:2\" /><line x1=\"130.787\" y1=\"56.278\" x2=\"324.717\" y2=\"299.459\" stroke-linecap=\"round\" style=\"stroke:blue;stroke-width:2\" /><line x1=\"324.717\" y1=\"299.459\" x2=\"44.48\" y2=\"164.504\" stroke-linecap=\"round\" style=\"stroke:blue;stroke-width:2\" /><line x1=\"13.376\" y1=\"157.404\" x2=\"386.624\" y2=\"157.404\" stroke-linecap=\"round\" style=\"stroke:purple;stroke-width:2\" /><line x1=\"386.624\" y1=\"157.404\" x2=\"50.339\" y2=\"319.35\" stroke-linecap=\"round\" style=\"stroke:purple;stroke-width:2\" /><line x1=\"50.339\" y1=\"319.35\" x2=\"283.055\" y2=\"27.533\" stroke-linecap=\"round\" style=\"stroke:purple;stroke-width:2\" /><line x1=\"283.055\" y1=\"27.533\" x2=\"200.0\" y2=\"391.423\" stroke-linecap=\"round\" style=\"stroke:purple;stroke-width:2\" /><line x1=\"200.0\" y1=\"391.423\" x2=\"116.945\" y2=\"27.533\" stroke-linecap=\"round\" style=\"stroke:purple;stroke-width:2\" /><line x1=\"116.945\" y1=\"27.533\" x2=\"349.661\" y2=\"319.35\" stroke-linecap=\"round\" style=\"stroke:purple;stroke-width:2\" /><line x1=\"349.661\" y1=\"319.35\" x2=\"13.376\" y2=\"157.404\" stroke-linecap=\"round\" style=\"stroke:purple;stroke-width:2\" />\n",
              "        \n",
              "        \n",
              "        <g id=\"classic\" visibility=\"visible\" transform=\"rotate(269.9999999999999,13.376,157.404) translate(13.376, 157.404)\">\n",
              "<polygon points=\"-5,-4.5 0,-2.5 5,-4.5 0,4.5\" transform=\"skewX(0) scale(1,1)\" style=\"stroke:purple;fill:purple;stroke-width:1\" />\n",
              "</g>\n",
              "      </svg>\n",
              "    "
            ]
          },
          "metadata": {}
        }
      ]
    },
    {
      "cell_type": "markdown",
      "metadata": {
        "id": "DUd57YFFPEAB"
      },
      "source": [
        "# Review"
      ]
    },
    {
      "cell_type": "markdown",
      "metadata": {
        "id": "oPOEA4A5atik"
      },
      "source": [
        "1. Write a Python function to sum all the numbers in a list, without `sum()`."
      ]
    },
    {
      "cell_type": "code",
      "metadata": {
        "id": "6PstmdpVauhB"
      },
      "source": [
        "def getSum(numbers):\n",
        "    total = 0\n",
        "    for x in numbers:\n",
        "        total += x\n",
        "    return total"
      ],
      "execution_count": null,
      "outputs": []
    },
    {
      "cell_type": "markdown",
      "metadata": {
        "id": "WC0k1GQXbRQU"
      },
      "source": [
        "2. Write a Python function to check whether a number is between 1 and 100 (inclusive)."
      ]
    },
    {
      "cell_type": "code",
      "metadata": {
        "id": "L99cnJyVbR7a"
      },
      "source": [
        "def test_range(n):\n",
        "    if n in range(1,101):\n",
        "        print(n, \"is in the range.\")\n",
        "    else:\n",
        "        print(n, \"is outside the given range.\")"
      ],
      "execution_count": null,
      "outputs": []
    },
    {
      "cell_type": "markdown",
      "metadata": {
        "id": "2bb77TCKcCIw"
      },
      "source": [
        "3. Write a function that takes a list and returns a version of that list with only the even numbers."
      ]
    },
    {
      "cell_type": "code",
      "metadata": {
        "id": "Kzur3RxicDDt"
      },
      "source": [
        "def keep_even_nums(numList):\n",
        "    evenNums = []\n",
        "    for n in numList:\n",
        "        if n % 2 == 0:\n",
        "            evenNums.append(n)\n",
        "    return evenNums"
      ],
      "execution_count": null,
      "outputs": []
    }
  ]
}