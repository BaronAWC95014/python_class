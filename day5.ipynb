{
  "nbformat": 4,
  "nbformat_minor": 0,
  "metadata": {
    "colab": {
      "name": "day5.ipynb",
      "provenance": [],
      "collapsed_sections": [],
      "toc_visible": true,
      "include_colab_link": true
    },
    "kernelspec": {
      "name": "python3",
      "display_name": "Python 3"
    },
    "language_info": {
      "name": "python"
    }
  },
  "cells": [
    {
      "cell_type": "markdown",
      "metadata": {
        "id": "view-in-github",
        "colab_type": "text"
      },
      "source": [
        "<a href=\"https://colab.research.google.com/github/BaronAWC95014/python_class_instructor/blob/main/day5.ipynb\" target=\"_parent\"><img src=\"https://colab.research.google.com/assets/colab-badge.svg\" alt=\"Open In Colab\"/></a>"
      ]
    },
    {
      "cell_type": "markdown",
      "metadata": {
        "id": "4QXDH-swuNqL"
      },
      "source": [
        "# Declaring Dictionaries"
      ]
    },
    {
      "cell_type": "markdown",
      "metadata": {
        "id": "vos0YFqnuPrR"
      },
      "source": [
        "You already know what a dictionary in real life is. They have a word on one side and its definition on the other side.\n",
        "\n",
        "In Python, the word is the \"key\" and the definition is the \"value\". The word corresponds to the definition as the key corresponds to the value.\n",
        "\n",
        "This is the syntax for a dictionary, in the context of a shopping list of items and the amount of each item.\n",
        "\n",
        "Make sure you are using curly braces, there are colons between the keys and values, and there are commas seperating the previous value and the next key."
      ]
    },
    {
      "cell_type": "code",
      "metadata": {
        "id": "-xYC7hiTvYyM"
      },
      "source": [
        "items_and_amount = {\"banana\": 4, \"milk\": 2, \"soda bottle\": 1}"
      ],
      "execution_count": null,
      "outputs": []
    },
    {
      "cell_type": "markdown",
      "metadata": {
        "id": "BE7djMC-v3af"
      },
      "source": [
        "You can neaten the dictionary out by using indents."
      ]
    },
    {
      "cell_type": "code",
      "metadata": {
        "id": "He1nfPMtwvDA"
      },
      "source": [
        "items_and_amount = {\"banana\": 4,\n",
        "                    \"milk\": 2,\n",
        "                    \"soda bottle\": 1}"
      ],
      "execution_count": null,
      "outputs": []
    },
    {
      "cell_type": "markdown",
      "metadata": {
        "id": "ixoMk7-yP0l3"
      },
      "source": [
        "If you put multiple of the same key in a dictionary, the last one overrides the others.\n",
        "\n"
      ]
    },
    {
      "cell_type": "code",
      "metadata": {
        "colab": {
          "base_uri": "https://localhost:8080/"
        },
        "id": "Ok4yiG9qQAV_",
        "outputId": "c53620a6-007f-4361-90d8-779b4814cf1c"
      },
      "source": [
        "items_and_amount = {\"banana\": 4,\n",
        "                    \"banana\": 6,\n",
        "                    \"milk\": 2,\n",
        "                    \"soda bottle\": 1}\n",
        "\n",
        "print(items_and_amount)"
      ],
      "execution_count": null,
      "outputs": [
        {
          "output_type": "stream",
          "text": [
            "{'banana': 6, 'milk': 2, 'soda bottle': 1}\n"
          ],
          "name": "stdout"
        }
      ]
    },
    {
      "cell_type": "markdown",
      "metadata": {
        "id": "NILsNyodzv2t"
      },
      "source": [
        "**EXERCISE:** Create a dictionary with some fruits and vegetables on the left side and whether it is a fruit or vegetable on the right side."
      ]
    },
    {
      "cell_type": "code",
      "metadata": {
        "id": "MSmuH4fjz8ji"
      },
      "source": [
        "fruit_or_vegetable = {\"apple\": \"fruit\",\n",
        "                      \"carrot\": \"vegetable\",\n",
        "                      \"lemon\": \"fruit\",\n",
        "                      \"lettuce\": \"vegetable\",\n",
        "                      \"blueberry\": \"fruit\",\n",
        "                      \"grape\": \"fruit\"}"
      ],
      "execution_count": null,
      "outputs": []
    },
    {
      "cell_type": "markdown",
      "metadata": {
        "id": "tTDL_CiifyPg"
      },
      "source": [
        "There is also an interesting way to make a dictionary by using the `zip()` function."
      ]
    },
    {
      "cell_type": "code",
      "metadata": {
        "colab": {
          "base_uri": "https://localhost:8080/"
        },
        "id": "t8-Y3g8efyfX",
        "outputId": "8df94d77-90cb-4f26-93b9-63c50f704d7e"
      },
      "source": [
        "keys = [\"seven\", \"eight\"]\n",
        "values = [7, 8]\n",
        "numbers = dict(zip(keys, values))\n",
        "print(numbers)"
      ],
      "execution_count": null,
      "outputs": [
        {
          "output_type": "stream",
          "text": [
            "{'seven': 7, 'eight': 8}\n"
          ],
          "name": "stdout"
        }
      ]
    },
    {
      "cell_type": "markdown",
      "metadata": {
        "id": "8qqbdKYVLwfT"
      },
      "source": [
        "# Accessing Items from Dictionaries"
      ]
    },
    {
      "cell_type": "markdown",
      "metadata": {
        "id": "TJr3_LRow464"
      },
      "source": [
        "Retrieving items from dictionaries is very similar to lists and tuples. You can easily retrieve values based on its key.\n",
        "\n",
        "This is just one way to make a dictionary. While there are other ways, I won't be going over them for simplicity."
      ]
    },
    {
      "cell_type": "code",
      "metadata": {
        "colab": {
          "base_uri": "https://localhost:8080/"
        },
        "id": "25Ys5uvfw4dC",
        "outputId": "bca6238d-f469-42a6-8fc2-0ea8616a393f"
      },
      "source": [
        "items_and_amount = {\"banana\": 4,\n",
        "                    \"milk\": 2,\n",
        "                    \"soda bottle\": 1}\n",
        "\n",
        "print(items_and_amount[\"banana\"])"
      ],
      "execution_count": null,
      "outputs": [
        {
          "output_type": "stream",
          "text": [
            "4\n"
          ],
          "name": "stdout"
        }
      ]
    },
    {
      "cell_type": "markdown",
      "metadata": {
        "id": "dNFILU8ebFT2"
      },
      "source": [
        "**EXERCISE:** print the value of one of the keys in your fruits and vegetables dictionary."
      ]
    },
    {
      "cell_type": "code",
      "metadata": {
        "colab": {
          "base_uri": "https://localhost:8080/"
        },
        "id": "zMjfT0O-bRJm",
        "outputId": "6f6d88f2-43b0-4375-ff92-1e56c3313086"
      },
      "source": [
        "fruit_or_vegetable = {\"apple\": \"fruit\",\n",
        "                      \"carrot\": \"vegetable\",\n",
        "                      \"lemon\": \"fruit\",\n",
        "                      \"lettuce\": \"vegetable\",\n",
        "                      \"blueberry\": \"fruit\",\n",
        "                      \"grape\": \"fruit\"}\n",
        "\n",
        "print(fruit_or_vegetable[\"lemon\"])"
      ],
      "execution_count": null,
      "outputs": [
        {
          "output_type": "stream",
          "text": [
            "fruit\n"
          ],
          "name": "stdout"
        }
      ]
    },
    {
      "cell_type": "markdown",
      "metadata": {
        "id": "TWwA_1R7yQ2U"
      },
      "source": [
        "There is a much more complex line of code that can obtain the key based on the value. If there are multiple of the same value, it returns the key of the first value.\n",
        "\n",
        "We won't be using this, but this is just to prove that it's possible."
      ]
    },
    {
      "cell_type": "code",
      "metadata": {
        "colab": {
          "base_uri": "https://localhost:8080/"
        },
        "id": "-AJH0TZtxz6o",
        "outputId": "72691fc8-72ad-42d4-f1d0-b6492a1251a7"
      },
      "source": [
        "items_and_amount = {\"banana\": 4,\n",
        "                    \"milk\": 2,\n",
        "                    \"soda bottle\": 1,\n",
        "                    \"orange juice\": 2}\n",
        "#      dict name vvv                 dict name vvv                 value vvv\n",
        "print(list(items_and_amount.keys())[list(items_and_amount.values()).index(2)])"
      ],
      "execution_count": null,
      "outputs": [
        {
          "output_type": "stream",
          "text": [
            "milk\n"
          ],
          "name": "stdout"
        }
      ]
    },
    {
      "cell_type": "markdown",
      "metadata": {
        "id": "Jpy02KWA03kZ"
      },
      "source": [
        "# Changing/Adding/Removing Content of/to/from Dictionaries"
      ]
    },
    {
      "cell_type": "markdown",
      "metadata": {
        "id": "vAw9X9Yt1VN-"
      },
      "source": [
        "To add to a dictionary, you use the following syntax. If the key already exists, it changes the value of that key."
      ]
    },
    {
      "cell_type": "code",
      "metadata": {
        "colab": {
          "base_uri": "https://localhost:8080/"
        },
        "id": "M0Lg58BkLA9A",
        "outputId": "3fd359dc-66f7-4aa8-db30-c080badf7a5c"
      },
      "source": [
        "items_and_amount = {\"banana\": 4,\n",
        "                    \"milk\": 2,\n",
        "                    \"soda bottle\": 1}\n",
        "\n",
        "# add a new key and value\n",
        "items_and_amount[\"orange juice\"] = 2\n",
        "# change the value of an existing key\n",
        "items_and_amount[\"banana\"] = 2\n",
        "\n",
        "print(items_and_amount[\"banana\"])"
      ],
      "execution_count": null,
      "outputs": [
        {
          "output_type": "stream",
          "text": [
            "2\n"
          ],
          "name": "stdout"
        }
      ]
    },
    {
      "cell_type": "markdown",
      "metadata": {
        "id": "QTykBlJPNrjN"
      },
      "source": [
        "To remove from a dictionary, use `pop()` with the key in the parentheses."
      ]
    },
    {
      "cell_type": "code",
      "metadata": {
        "colab": {
          "base_uri": "https://localhost:8080/"
        },
        "id": "CU309rpsNwLM",
        "outputId": "79de3438-50b4-4045-aec4-80c9b7915db7"
      },
      "source": [
        "items_and_amount = {\"banana\": 4,\n",
        "                    \"milk\": 2,\n",
        "                    \"soda bottle\": 1}\n",
        "\n",
        "# remove last item\n",
        "items_and_amount.pop(\"banana\")\n",
        "\n",
        "print(items_and_amount)"
      ],
      "execution_count": null,
      "outputs": [
        {
          "output_type": "stream",
          "text": [
            "{'milk': 2, 'soda bottle': 1}\n"
          ],
          "name": "stdout"
        }
      ]
    },
    {
      "cell_type": "markdown",
      "metadata": {
        "id": "-JH-zCAHOrMS"
      },
      "source": [
        "**EXERCISE:** Using your fruit and vegetable dictionary, add a new item."
      ]
    },
    {
      "cell_type": "code",
      "metadata": {
        "id": "DTnZaQDlO9uL"
      },
      "source": [
        "fruit_or_vegetable = {\"apple\": \"fruit\",\n",
        "                      \"carrot\": \"vegetable\",\n",
        "                      \"lemon\": \"fruit\",\n",
        "                      \"lettuce\": \"vegetable\",\n",
        "                      \"blueberry\": \"fruit\",\n",
        "                      \"grape\": \"fruit\"}\n",
        "\n",
        "fruit_or_vegetable[\"potato\"] = \"vegetable\""
      ],
      "execution_count": null,
      "outputs": []
    },
    {
      "cell_type": "markdown",
      "metadata": {
        "id": "OwFmAInTGoGj"
      },
      "source": [
        "# Which Iterable is the Best?"
      ]
    },
    {
      "cell_type": "markdown",
      "metadata": {
        "id": "fSnwk3tCGrib"
      },
      "source": [
        "We've talked about many iterables so far: lists, tuples, range, and dictionaries. Deciding on the best one to use depends on the situation.\n",
        "\n",
        "Lists and tuples will probably be used more than dictionaries for normal storage. If the data inside might or will change, use a list. Otherwise, use a tuple.\n",
        "\n",
        "Range is used a lot for loops. They are particularly useful for when you need to run the same code X times and/or you need a sequence of numbers.\n",
        "\n",
        "Dictionaries are good when it is better to use a specific key than an index, which is just a number."
      ]
    },
    {
      "cell_type": "markdown",
      "metadata": {
        "id": "BFppOiqbX-Tf"
      },
      "source": [
        "# Copying Iterables"
      ]
    },
    {
      "cell_type": "markdown",
      "metadata": {
        "id": "Hhg9nPqCYCkm"
      },
      "source": [
        "Before we look at copying iterables, let's look at this scenario first.\n",
        "\n",
        "Here, `y` is assigned to `x`, then `y` changes. What do you think will `x` and `y` be?"
      ]
    },
    {
      "cell_type": "code",
      "metadata": {
        "colab": {
          "base_uri": "https://localhost:8080/"
        },
        "id": "kTT52Ft1YRuw",
        "outputId": "fdc067f7-c6d9-40da-ee79-982a988a1541"
      },
      "source": [
        "x = 5\n",
        "y = x\n",
        "y += 1\n",
        "\n",
        "print(\"x is\", x)\n",
        "print(\"y is\", y)"
      ],
      "execution_count": null,
      "outputs": [
        {
          "output_type": "stream",
          "text": [
            "x is 5\n",
            "y is 6\n"
          ],
          "name": "stdout"
        }
      ]
    },
    {
      "cell_type": "markdown",
      "metadata": {
        "id": "k9OyAoj3YXxt"
      },
      "source": [
        "They are different. Nothing special. But if we do the same to a list, what will happen?"
      ]
    },
    {
      "cell_type": "code",
      "metadata": {
        "colab": {
          "base_uri": "https://localhost:8080/"
        },
        "id": "vhrSCk1WYiQi",
        "outputId": "a6a03884-bd23-499e-9a37-4be3dcb339b6"
      },
      "source": [
        "x = [5, 10]\n",
        "\n",
        "y = x\n",
        "\n",
        "y[0] = 6\n",
        "\n",
        "print(\"x is\", x)\n",
        "print(\"y is\", y)"
      ],
      "execution_count": null,
      "outputs": [
        {
          "output_type": "stream",
          "text": [
            "x is [6, 10]\n",
            "y is [6, 10]\n"
          ],
          "name": "stdout"
        }
      ]
    },
    {
      "cell_type": "markdown",
      "metadata": {
        "id": "gdtvWwO0YodI"
      },
      "source": [
        "They are the same now. This is the same with other iterables. This happens because Python tries to save storage by making both variables \"point\" to the same list. In reality, it's just 2 names for 1 list. This is called a \"shallow copy.\" For something like a number, Python doesn't do this. Instead, they do a \"hard copy,\" making a new instance of the number.\n",
        "\n",
        "So how do we hard copy a list? There is an interesting piece of code I recently discovered where you \"convert\" the list into a list. It isn't a conversion at all, but it is enough for Python to make a new instance of the list.\n",
        "\n"
      ]
    },
    {
      "cell_type": "code",
      "metadata": {
        "colab": {
          "base_uri": "https://localhost:8080/"
        },
        "id": "U1VhALjHIZpL",
        "outputId": "ca663d6a-2686-43ea-aff4-02539e029d94"
      },
      "source": [
        "x = [5, 10]\n",
        "\n",
        "y = list(x)\n",
        "\n",
        "y[0] = 6\n",
        "\n",
        "print(\"x is\", x)\n",
        "print(\"y is\", y)"
      ],
      "execution_count": null,
      "outputs": [
        {
          "output_type": "stream",
          "text": [
            "x is [5, 10]\n",
            "y is [6, 10]\n"
          ],
          "name": "stdout"
        }
      ]
    },
    {
      "cell_type": "markdown",
      "metadata": {
        "id": "io8_3v1nZtQF"
      },
      "source": [
        "This works for tuples and dictionaries too."
      ]
    },
    {
      "cell_type": "code",
      "metadata": {
        "colab": {
          "base_uri": "https://localhost:8080/"
        },
        "id": "wKvhfV04Zyso",
        "outputId": "91d7292c-463f-4572-8030-686b824d2c2d"
      },
      "source": [
        "items_and_amount = {\"banana\": 4,\n",
        "                    \"milk\": 2,\n",
        "                    \"soda bottle\": 1}\n",
        "\n",
        "items_and_amount_copy = dict(items_and_amount)\n",
        "\n",
        "items_and_amount_copy[\"banana\"] = 6\n",
        "\n",
        "print(\"items_and_amount is\", items_and_amount)\n",
        "print(\"items_and_amount_copy is\", items_and_amount_copy)"
      ],
      "execution_count": null,
      "outputs": [
        {
          "output_type": "stream",
          "text": [
            "items_and_amount is {'banana': 4, 'milk': 2, 'soda bottle': 1}\n",
            "items_and_amount_copy is {'banana': 6, 'milk': 2, 'soda bottle': 1}\n"
          ],
          "name": "stdout"
        }
      ]
    },
    {
      "cell_type": "markdown",
      "metadata": {
        "id": "RNfu-qZwbgdK"
      },
      "source": [
        "**EXERCISE:** Create a list with 4 booleans inside. Then, make a copy of it and use a loop to invert all the booleans. Print both the original list and the copy."
      ]
    },
    {
      "cell_type": "code",
      "metadata": {
        "colab": {
          "base_uri": "https://localhost:8080/"
        },
        "id": "WVFHBvtkb5L7",
        "outputId": "0183ae3d-09e7-4376-d23a-43f52b5b4efc"
      },
      "source": [
        "bool_list = [True, True, False, True]\n",
        "\n",
        "new_bool_list = list(bool_list)\n",
        "\n",
        "for idx in range(len(new_bool_list)):\n",
        "    new_bool_list[idx] = not new_bool_list[idx]\n",
        "\n",
        "print(bool_list)\n",
        "print(new_bool_list)"
      ],
      "execution_count": null,
      "outputs": [
        {
          "output_type": "stream",
          "text": [
            "[True, True, False, True]\n",
            "[False, False, True, False]\n"
          ],
          "name": "stdout"
        }
      ]
    }
  ]
}