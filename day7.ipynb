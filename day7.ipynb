{
  "nbformat": 4,
  "nbformat_minor": 0,
  "metadata": {
    "colab": {
      "name": "day7_new.ipynb",
      "provenance": [],
      "toc_visible": true,
      "authorship_tag": "ABX9TyOXHziPp3uRxkmcwv2d4D3q",
      "include_colab_link": true
    },
    "kernelspec": {
      "name": "python3",
      "display_name": "Python 3"
    },
    "language_info": {
      "name": "python"
    }
  },
  "cells": [
    {
      "cell_type": "markdown",
      "metadata": {
        "id": "view-in-github",
        "colab_type": "text"
      },
      "source": [
        "<a href=\"https://colab.research.google.com/github/BaronAWC95014/python_class_instructor/blob/main/day7.ipynb\" target=\"_parent\"><img src=\"https://colab.research.google.com/assets/colab-badge.svg\" alt=\"Open In Colab\"/></a>"
      ]
    },
    {
      "cell_type": "markdown",
      "metadata": {
        "id": "ZABpSdL6Hy1T"
      },
      "source": [
        "# Default Parameters"
      ]
    },
    {
      "cell_type": "markdown",
      "metadata": {
        "id": "Zi3mNf_CH27Y"
      },
      "source": [
        "You can specify default values for input arguments to a function. Their default values are utilized if a user does not specify these inputs when calling the function. Recall our `count_vowels` function. Suppose we want the ability to include “y” as a vowel. We know, however, that people will typically want to exclude “y” from their vowels, so we can exclude “y” by default:"
      ]
    },
    {
      "cell_type": "code",
      "metadata": {
        "id": "kEVhpyXPH-Hr"
      },
      "source": [
        "def count_vowels(in_string, include_y=False):\n",
        "    \"\"\" Returns the number of vowels contained in `in_string`\"\"\"\n",
        "    vowels = \"aeiouAEIOU\"\n",
        "    if include_y:\n",
        "        vowels += \"yY\"  # add \"y\" to vowels\n",
        "    # add 1 for each character in the string if that character is in \"vowels\"\n",
        "    return sum(1 for char in in_string if char in vowels)"
      ],
      "execution_count": null,
      "outputs": []
    },
    {
      "cell_type": "markdown",
      "metadata": {
        "id": "azJmxrabIDNI"
      },
      "source": [
        "Now, if only `in_string` is specified when calling `count_vowels`, `include_y` will be passed the value `False` by default."
      ]
    },
    {
      "cell_type": "markdown",
      "metadata": {
        "id": "7PRY6j8SIWOq"
      },
      "source": [
        "Default-valued input arguments must come after all positional input arguments in the function signature:"
      ]
    },
    {
      "cell_type": "code",
      "metadata": {
        "id": "pMGder5jIXno",
        "colab": {
          "base_uri": "https://localhost:8080/",
          "height": 130
        },
        "outputId": "c2a27e39-a07d-43b2-9069-99da1ac28535"
      },
      "source": [
        "# this is ok\n",
        "def f(x, y, z, count=1, upper=2):\n",
        "    pass\n",
        "\n",
        "# this will raise a syntax error\n",
        "def f(x, y, count=1, upper=2, z):\n",
        "    pass"
      ],
      "execution_count": 2,
      "outputs": [
        {
          "output_type": "error",
          "ename": "SyntaxError",
          "evalue": "ignored",
          "traceback": [
            "\u001b[0;36m  File \u001b[0;32m\"<ipython-input-2-5fb77a56a240>\"\u001b[0;36m, line \u001b[0;32m6\u001b[0m\n\u001b[0;31m    def f(x, y, count=1, upper=2, z):\u001b[0m\n\u001b[0m         ^\u001b[0m\n\u001b[0;31mSyntaxError\u001b[0m\u001b[0;31m:\u001b[0m non-default argument follows default argument\n"
          ]
        }
      ]
    },
    {
      "cell_type": "markdown",
      "metadata": {
        "id": "zt2VvWIgIkPH"
      },
      "source": [
        "**EXERCISE:** Write a function, `max_or_min`, which accepts two positional arguments, `x` and `y` (which will hold numerical values), and a `mode` variable that has the default value `\"max\"`.\n",
        "\n",
        "The function should return `min(x, y)` or `max(x, y)` according to the `mode`. Have the function return `None` if mode is neither `\"max\"` nor `\"min\"`.\n",
        "\n"
      ]
    },
    {
      "cell_type": "code",
      "metadata": {
        "id": "Iw032eLAI_EG"
      },
      "source": [
        "def max_or_min(x, y, mode=\"max\"):\n",
        "    \"\"\" Return either `max(x,y)` or `min(x,y)`,\n",
        "        according to the `mode` argument.\n",
        "\n",
        "        Parameters\n",
        "        ----------\n",
        "        x : Number\n",
        "\n",
        "        y : Number\n",
        "\n",
        "        mode : str\n",
        "           Either 'max' or 'min'\n",
        "\n",
        "        Returns\n",
        "        -------\n",
        "        The max or min of the two values. `None` is\n",
        "        returned if an invalid mode was specified.\"\"\"\n",
        "    if mode == \"max\":\n",
        "        return max(x, y)\n",
        "    elif mode == \"min\":\n",
        "        return min(x, y)\n",
        "    else:\n",
        "        return None"
      ],
      "execution_count": null,
      "outputs": []
    },
    {
      "cell_type": "markdown",
      "metadata": {
        "id": "4hj2aevM-wEM"
      },
      "source": [
        "# Forcing Users to Specify Arguments by Name"
      ]
    },
    {
      "cell_type": "markdown",
      "metadata": {
        "id": "ngW2fuLM_Pfm"
      },
      "source": [
        "You can specify arguments by name in functions any time if you want, even if it may be redundant."
      ]
    },
    {
      "cell_type": "code",
      "metadata": {
        "colab": {
          "base_uri": "https://localhost:8080/"
        },
        "id": "MhD4xlQG_YO7",
        "outputId": "cde94da5-a065-4ed7-e388-2524fd23a7af"
      },
      "source": [
        "def sum(a, b):\n",
        "    return a + b\n",
        "\n",
        "print(sum(2, 3))\n",
        "print(sum(a=2, b=3))"
      ],
      "execution_count": 6,
      "outputs": [
        {
          "output_type": "stream",
          "text": [
            "5\n",
            "5\n"
          ],
          "name": "stdout"
        }
      ]
    },
    {
      "cell_type": "markdown",
      "metadata": {
        "id": "WjepGsM8_ocy"
      },
      "source": [
        "But if you notice, many built-in functions require you to type the parameter name before the argument. What if we want to do this ourselves?"
      ]
    },
    {
      "cell_type": "code",
      "metadata": {
        "colab": {
          "base_uri": "https://localhost:8080/"
        },
        "id": "AwEpzAJ0_osw",
        "outputId": "5ca9ed33-7fc2-4c79-cc99-4f635a11f997"
      },
      "source": [
        "# you must type \"sep=\" to use it\n",
        "print(\"hello\", \"world\", sep=\"_\")"
      ],
      "execution_count": 8,
      "outputs": [
        {
          "output_type": "stream",
          "text": [
            "hello_world\n"
          ],
          "name": "stdout"
        }
      ]
    },
    {
      "cell_type": "markdown",
      "metadata": {
        "id": "SYovmVhP1uC8"
      },
      "source": [
        "If you want to force the user to include the name of the parameter when using a function, you can add `*,` somewhere with the function parameters. The parameters after it need their names included."
      ]
    },
    {
      "cell_type": "code",
      "metadata": {
        "id": "I0hrBmA01u7n",
        "colab": {
          "base_uri": "https://localhost:8080/"
        },
        "outputId": "50ac927d-9b0e-4ea1-8a9d-9b4ee32ef3b3"
      },
      "source": [
        "# no name-forcing\n",
        "def vehicle_wo_force_name(brand, model, num_wheels=4):\n",
        "    print(\"This\", brand, model, \"has\", num_wheels, \"wheels\")\n",
        "\n",
        "# \"*,\" is before \"num_wheels\" so only \"num_wheels\" needs its name\n",
        "def vehicle_with_some_force_name(brand, model, *, num_wheels=4):\n",
        "    print(\"This\", brand, model, \"has\", num_wheels, \"wheels\")\n",
        "\n",
        "# \"*,\" is the first thing in the function declaration, so all of them need their name\n",
        "def vehicle_with_all_force_name(*, brand, model, num_wheels=4):\n",
        "    print(\"This\", brand, model, \"has\", num_wheels, \"wheels\")\n",
        "\n",
        "vehicle_wo_force_name(\"Tesla\", \"Model 3\", 4)\n",
        "vehicle_with_some_force_name(\"Tesla\", \"Model X\", num_wheels=4)\n",
        "vehicle_with_some_force_name(\"Honda\", \"Civic\")\n",
        "vehicle_with_all_force_name(brand=\"BMW\", model=\"S 1000 RR\", num_wheels=2)"
      ],
      "execution_count": 4,
      "outputs": [
        {
          "output_type": "stream",
          "text": [
            "This Tesla Model 3 has 4 wheels\n",
            "This Tesla Model X has 4 wheels\n",
            "This Honda Civic has 4 wheels\n",
            "This BMW S 1000 RR has 2 wheels\n"
          ],
          "name": "stdout"
        }
      ]
    },
    {
      "cell_type": "markdown",
      "metadata": {
        "id": "J1EoNMenJCow"
      },
      "source": [
        "# Accommodating an Arbitrary Number of Positional Arguments"
      ]
    },
    {
      "cell_type": "markdown",
      "metadata": {
        "id": "vmIpQ-bCJPzl"
      },
      "source": [
        "Python provides us with a syntax for defining a function, which can be called with an arbitrary number of positional arguments. This is signaled by the syntax `def f(*<var_name>)`.\n",
        "\n"
      ]
    },
    {
      "cell_type": "code",
      "metadata": {
        "id": "48xII9ttJci2",
        "colab": {
          "base_uri": "https://localhost:8080/"
        },
        "outputId": "549a4fa3-4afe-4e66-bc67-d22635da8429"
      },
      "source": [
        "# The * symbol indicates that an arbitrary number of\n",
        "# arguments can be passed to `args`, when calling `f`.\n",
        "def f(*args):\n",
        "    #  All arguments passed to `f` will be \"packed\" into a\n",
        "    #  tuple that is assigned to the variable `args`.\n",
        "    # `f()`  will assign `args = tuple()`\n",
        "    # `f(x, y, ...)` will assign `args = (x, y, ...)`\n",
        "    return args\n",
        "\n",
        "# *args becomes the tuple (1, 2, 3), so that is what it returns\n",
        "print(f(1, 2, 3))"
      ],
      "execution_count": 3,
      "outputs": [
        {
          "output_type": "stream",
          "text": [
            "(1, 2, 3)\n"
          ],
          "name": "stdout"
        }
      ]
    },
    {
      "cell_type": "markdown",
      "metadata": {
        "id": "Hc6AE06gJkGP"
      },
      "source": [
        "Because Python cannot foresee how many arguments will be passed to `f`, all of the objects that are passed to it will be packed into a tuple, which is then assigned to the variable `args`."
      ]
    },
    {
      "cell_type": "markdown",
      "metadata": {
        "id": "GYkaM9lMJrTe"
      },
      "source": [
        "This syntax can be combined with positional arguments and default arguments. *Any variables specified after a packed variable must be called by name*."
      ]
    },
    {
      "cell_type": "markdown",
      "metadata": {
        "id": "WD7teTmTKAH5"
      },
      "source": [
        "**EXERCISE:** Write a function named `mean`, which accepts and arbitrary number of numerical arguments, and computes the mean of all of the values passed to the function. Thus `mean(1, 2, 3)` should return `2.0`.\n",
        "\n",
        "This function should return `0.` if no arguments are passed to it. Be sure to test your function, and include a docstring."
      ]
    },
    {
      "cell_type": "code",
      "metadata": {
        "id": "R3LUXVcjKY-B"
      },
      "source": [
        "def mean(*seq):\n",
        "    \"\"\" Returns the mean of the function's arguments \"\"\"\n",
        "    if len(seq) == 0:\n",
        "        return 0\n",
        "\n",
        "    total = 0\n",
        "    for num in seq:\n",
        "        total += num\n",
        "    return total / len(seq)"
      ],
      "execution_count": null,
      "outputs": []
    },
    {
      "cell_type": "markdown",
      "metadata": {
        "id": "7l9VZzvdMJK8"
      },
      "source": [
        "We see that `*` indicates the packing of an arbitrary number of arguments into a tuple, when used in the signature of a function definition. Simultaneously, `*` signals the unpacking of an iterable to pass each of its members as a positional argument to a function, when used in the context of calling a function:"
      ]
    },
    {
      "cell_type": "code",
      "metadata": {
        "colab": {
          "base_uri": "https://localhost:8080/"
        },
        "id": "Nf3LM8BhMQF5",
        "outputId": "6c4b1faf-2e7a-40cd-e970-104291bbf9bf"
      },
      "source": [
        "# Using `*` when calling a function, to unpack an\n",
        "# iterable. Passing its members as distinct arguments\n",
        "# to the function\n",
        "\n",
        "def f(x, y, z):\n",
        "    return x + y + z\n",
        "\n",
        "print(f(1, 2, 3))\n",
        "\n",
        "# `*` means: unpack the contents of [1, 2, 3]\n",
        "# passing each item as x, y, and z,\n",
        "# respectively\n",
        "print(f(*[1, 2, 3]))  # equivalent to: f(1, 2, 3)"
      ],
      "execution_count": null,
      "outputs": [
        {
          "output_type": "stream",
          "text": [
            "6\n",
            "6\n"
          ],
          "name": "stdout"
        }
      ]
    },
    {
      "cell_type": "markdown",
      "metadata": {
        "id": "grTCJdeoMaBu"
      },
      "source": [
        "# Accommodating an Arbitrary Number of Keyword Arguments"
      ]
    },
    {
      "cell_type": "markdown",
      "metadata": {
        "id": "7PPyo8xFMk88"
      },
      "source": [
        "We can also define a function that is able to accept an arbitrary number of keyword arguments, using the syntax: `def f(**<var_name>)`\n",
        "\n",
        "Note that a single asterisk, `*`, was used to denote an arbitrary number of positional arguments, whereas `**` signals the acceptance of an arbitrary number of keyword arguments."
      ]
    },
    {
      "cell_type": "code",
      "metadata": {
        "id": "7iVmoFtTMuYh"
      },
      "source": [
        "# The ** symbol indicates that an arbitrary number of\n",
        "# keyword arguments can be passed to `args`, when calling `f`.\n",
        "def f(**args):\n",
        "    #  All keyword arguments passed to `f` will be \"packed\" into a\n",
        "    #  dictionary that is assigned to the variable `args`.\n",
        "    # `f()`  will assign `args = {}` (an empty dictionary)\n",
        "    # `f(x=1, y=2, ...)` will assign `args = {\"x\":1, \"y\":2, ...}`\n",
        "    return args"
      ],
      "execution_count": null,
      "outputs": []
    },
    {
      "cell_type": "markdown",
      "metadata": {
        "id": "P9EgksASMwts"
      },
      "source": [
        "Because Python cannot foresee how many arguments will be passed to `f`, all of the keyword arguments that are passed to it will be packed into a dictionary, where a given keyword is set as a key (cast as a string) that maps to the corresponding value. This dictionary is then assigned to the variable `args`."
      ]
    },
    {
      "cell_type": "code",
      "metadata": {
        "colab": {
          "base_uri": "https://localhost:8080/"
        },
        "id": "UhDapbF_M-qd",
        "outputId": "207cc51f-b9fb-4a09-d4a6-dd95a11bba0f"
      },
      "source": [
        "f(x=(0, 1), val=True, moo=\"cow\")  # pass three arguments to `f`"
      ],
      "execution_count": null,
      "outputs": [
        {
          "output_type": "execute_result",
          "data": {
            "text/plain": [
              "{'moo': 'cow', 'val': True, 'x': (0, 1)}"
            ]
          },
          "metadata": {
            "tags": []
          },
          "execution_count": 18
        }
      ]
    },
    {
      "cell_type": "markdown",
      "metadata": {
        "id": "6QiDhpi8OAe8"
      },
      "source": [
        "This syntax can be combined with positional arguments and default arguments. No additional arguments may come after a `**` entry."
      ]
    },
    {
      "cell_type": "markdown",
      "metadata": {
        "id": "bRT7mIW3OTJu"
      },
      "source": [
        "We see that `**` indicates the packing of an arbitrary number of keyword arguments into a dictionary, when used in the signature of a function definition. Simultaneously, `**` signals the unpacking of a dictionary to pass each of its key-value pairs as a keyword argument to a function, when used in the context of calling a function."
      ]
    },
    {
      "cell_type": "markdown",
      "metadata": {
        "id": "OqqxPmbF45wu"
      },
      "source": [
        "# Lambda Expressions"
      ]
    },
    {
      "cell_type": "markdown",
      "metadata": {
        "id": "ARXr6xvn48f2"
      },
      "source": [
        "We won't cover this much because it is outside the scope of our workshop, but a lambda expression is a shorter version of a function that only has parameters and a return statement.\n",
        "\n",
        "A lambda expression can be represented by a function:"
      ]
    },
    {
      "cell_type": "code",
      "metadata": {
        "colab": {
          "base_uri": "https://localhost:8080/"
        },
        "id": "4Yi9Q2N-5Fo9",
        "outputId": "e3281352-0606-4b46-f620-df47beb01d6f"
      },
      "source": [
        "# lambda expression\n",
        "x = lambda a, b : a * b\n",
        "\n",
        "# lambda expression as a function\n",
        "def y(a, b):\n",
        "    return a * b\n",
        "\n",
        "print(x(3,4))\n",
        "print(y(3,4))"
      ],
      "execution_count": null,
      "outputs": [
        {
          "output_type": "stream",
          "text": [
            "12\n",
            "12\n"
          ],
          "name": "stdout"
        }
      ]
    }
  ]
}