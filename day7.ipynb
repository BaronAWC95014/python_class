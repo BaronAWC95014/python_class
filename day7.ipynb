{
  "nbformat": 4,
  "nbformat_minor": 0,
  "metadata": {
    "colab": {
      "name": "day7.ipynb",
      "provenance": [],
      "authorship_tag": "ABX9TyMBR/jP4HcrXob1qc4JHEEB",
      "include_colab_link": true
    },
    "kernelspec": {
      "name": "python3",
      "display_name": "Python 3"
    },
    "language_info": {
      "name": "python"
    }
  },
  "cells": [
    {
      "cell_type": "markdown",
      "metadata": {
        "id": "view-in-github",
        "colab_type": "text"
      },
      "source": [
        "<a href=\"https://colab.research.google.com/github/BaronAWC95014/python_class_instructor/blob/main/day7.ipynb\" target=\"_parent\"><img src=\"https://colab.research.google.com/assets/colab-badge.svg\" alt=\"Open In Colab\"/></a>"
      ]
    },
    {
      "cell_type": "markdown",
      "source": [
        "# Explaining Classes and Objects with Turtle"
      ],
      "metadata": {
        "id": "HSpQPBqhRd0V"
      }
    },
    {
      "cell_type": "markdown",
      "source": [
        "Before going into a more formal introduction to object-oriented programming, let's look at something we've already worked with, Turtle."
      ],
      "metadata": {
        "id": "7LQEsXTiRg_E"
      }
    },
    {
      "cell_type": "code",
      "source": [
        "!pip install ColabTurtlePlus\n",
        "from ColabTurtlePlus.Turtle import *"
      ],
      "metadata": {
        "colab": {
          "base_uri": "https://localhost:8080/"
        },
        "id": "-zQETy05R2nC",
        "outputId": "e457d9cf-8df8-4e53-a799-346a97a5be98"
      },
      "execution_count": null,
      "outputs": [
        {
          "output_type": "stream",
          "name": "stdout",
          "text": [
            "Looking in indexes: https://pypi.org/simple, https://us-python.pkg.dev/colab-wheels/public/simple/\n",
            "Collecting ColabTurtlePlus\n",
            "  Downloading ColabTurtlePlus-2.0.1-py3-none-any.whl (31 kB)\n",
            "Installing collected packages: ColabTurtlePlus\n",
            "Successfully installed ColabTurtlePlus-2.0.1\n",
            "Put clearscreen() as the first line in a cell (after the import command) to re-run turtle commands in the cell\n"
          ]
        }
      ]
    },
    {
      "cell_type": "markdown",
      "source": [
        "So far, we haven't used Turtle in an object-oriented way. We simply imported Turtle and ran its commands. But let's make a simple change.\n",
        "\n",
        "In the following example, `Turtle` is a class and `tim` is an object."
      ],
      "metadata": {
        "id": "GsaEmfMCSAA0"
      }
    },
    {
      "cell_type": "code",
      "source": [
        "clearscreen()\n",
        "setup(400, 200)\n",
        "\n",
        "tim = Turtle()\n",
        "\n",
        "tim.forward(100)"
      ],
      "metadata": {
        "colab": {
          "base_uri": "https://localhost:8080/",
          "height": 221
        },
        "id": "kxwnjcDvSdZZ",
        "outputId": "db5fb1e4-dd1d-44bd-c8a5-3a6581089db7"
      },
      "execution_count": null,
      "outputs": [
        {
          "output_type": "display_data",
          "data": {
            "text/plain": [
              "<IPython.core.display.HTML object>"
            ],
            "text/html": [
              "\n",
              "      <svg width=\"400\" height=\"200\">  \n",
              "        <rect width=\"100%\" height=\"100%\" style=\"fill:white;stroke:;stroke-width:1\"/>\n",
              "        \n",
              "        \n",
              "        <line x1=\"200.0\" y1=\"100.0\" x2=\"210.0\" y2=\"100.0\" stroke-linecap=\"round\" style=\"stroke:black;stroke-width:1\" /><line x1=\"210.0\" y1=\"100.0\" x2=\"220.0\" y2=\"100.0\" stroke-linecap=\"round\" style=\"stroke:black;stroke-width:1\" /><line x1=\"220.0\" y1=\"100.0\" x2=\"230.0\" y2=\"100.0\" stroke-linecap=\"round\" style=\"stroke:black;stroke-width:1\" /><line x1=\"230.0\" y1=\"100.0\" x2=\"240.0\" y2=\"100.0\" stroke-linecap=\"round\" style=\"stroke:black;stroke-width:1\" /><line x1=\"240.0\" y1=\"100.0\" x2=\"250.0\" y2=\"100.0\" stroke-linecap=\"round\" style=\"stroke:black;stroke-width:1\" /><line x1=\"250.0\" y1=\"100.0\" x2=\"260.0\" y2=\"100.0\" stroke-linecap=\"round\" style=\"stroke:black;stroke-width:1\" /><line x1=\"260.0\" y1=\"100.0\" x2=\"270.0\" y2=\"100.0\" stroke-linecap=\"round\" style=\"stroke:black;stroke-width:1\" /><line x1=\"270.0\" y1=\"100.0\" x2=\"280.0\" y2=\"100.0\" stroke-linecap=\"round\" style=\"stroke:black;stroke-width:1\" /><line x1=\"280.0\" y1=\"100.0\" x2=\"290.0\" y2=\"100.0\" stroke-linecap=\"round\" style=\"stroke:black;stroke-width:1\" /><line x1=\"290.0\" y1=\"100.0\" x2=\"300.0\" y2=\"100.0\" stroke-linecap=\"round\" style=\"stroke:black;stroke-width:1\" />\n",
              "        \n",
              "        \n",
              "        <g id=\"classic\" visibility=\"visible\" transform=\"rotate(-90,300.0,100.0) translate(300.0, 100.0)\">\n",
              "<polygon points=\"-5,-4.5 0,-2.5 5,-4.5 0,4.5\" transform=\"skewX(0) scale(1,1)\" style=\"stroke:black;fill:black;stroke-width:1\" />\n",
              "</g>\n",
              "      </svg>\n",
              "    "
            ]
          },
          "metadata": {}
        }
      ]
    },
    {
      "cell_type": "markdown",
      "source": [
        "On line 4, we created a new instance of `Turtle` and named the object `tim`. To use `tim`, we put the object's name, then a dot, then the command we wanted the Turtle to do.\n",
        "\n",
        "At a glance, it looks like we are being redundant by using `tim`. But by doing this, we can create more than one turtle at a time and manipulate them independently.\n",
        "\n",
        "Using `object.command()` tells Python exactly which Turtle is performing the command. This allows us to seperately set both of the Turtles' colors. Note that to set the same width for both Turtles, we have to run the same command for the two Turtles."
      ],
      "metadata": {
        "id": "aJhoLB32TKOC"
      }
    },
    {
      "cell_type": "code",
      "source": [
        "clearscreen()\n",
        "setup(400, 200)\n",
        "\n",
        "tim = Turtle()\n",
        "tom = Turtle()\n",
        "\n",
        "tim.color(\"green\")\n",
        "tom.color(\"blue\")\n",
        "\n",
        "tim.width(3)\n",
        "tom.width(3)\n",
        "\n",
        "tim.forward(100)\n",
        "tom.face(180)\n",
        "tom.forward(100)"
      ],
      "metadata": {
        "colab": {
          "base_uri": "https://localhost:8080/",
          "height": 221
        },
        "id": "he_BdOQWSzaU",
        "outputId": "c7b6e406-6a56-4075-ddc5-f40b01e16bcc"
      },
      "execution_count": null,
      "outputs": [
        {
          "output_type": "display_data",
          "data": {
            "text/plain": [
              "<IPython.core.display.HTML object>"
            ],
            "text/html": [
              "\n",
              "      <svg width=\"400\" height=\"200\">  \n",
              "        <rect width=\"100%\" height=\"100%\" style=\"fill:white;stroke:;stroke-width:1\"/>\n",
              "        \n",
              "        \n",
              "        <line x1=\"200.0\" y1=\"100.0\" x2=\"300.0\" y2=\"100.0\" stroke-linecap=\"round\" style=\"stroke:green;stroke-width:3\" /><line x1=\"200.0\" y1=\"100.0\" x2=\"190.0\" y2=\"100.0\" stroke-linecap=\"round\" style=\"stroke:blue;stroke-width:3\" /><line x1=\"190.0\" y1=\"100.0\" x2=\"180.0\" y2=\"100.0\" stroke-linecap=\"round\" style=\"stroke:blue;stroke-width:3\" /><line x1=\"180.0\" y1=\"100.0\" x2=\"170.0\" y2=\"100.0\" stroke-linecap=\"round\" style=\"stroke:blue;stroke-width:3\" /><line x1=\"170.0\" y1=\"100.0\" x2=\"160.0\" y2=\"100.0\" stroke-linecap=\"round\" style=\"stroke:blue;stroke-width:3\" /><line x1=\"160.0\" y1=\"100.0\" x2=\"150.0\" y2=\"100.0\" stroke-linecap=\"round\" style=\"stroke:blue;stroke-width:3\" /><line x1=\"150.0\" y1=\"100.0\" x2=\"140.0\" y2=\"100.0\" stroke-linecap=\"round\" style=\"stroke:blue;stroke-width:3\" /><line x1=\"140.0\" y1=\"100.0\" x2=\"130.0\" y2=\"100.0\" stroke-linecap=\"round\" style=\"stroke:blue;stroke-width:3\" /><line x1=\"130.0\" y1=\"100.0\" x2=\"120.0\" y2=\"100.0\" stroke-linecap=\"round\" style=\"stroke:blue;stroke-width:3\" /><line x1=\"120.0\" y1=\"100.0\" x2=\"110.0\" y2=\"100.0\" stroke-linecap=\"round\" style=\"stroke:blue;stroke-width:3\" /><line x1=\"110.0\" y1=\"100.0\" x2=\"100.0\" y2=\"100.0\" stroke-linecap=\"round\" style=\"stroke:blue;stroke-width:3\" />\n",
              "        \n",
              "        \n",
              "        <g id=\"classic\" visibility=\"visible\" transform=\"rotate(-90,300.0,100.0) translate(300.0, 100.0)\">\n",
              "<polygon points=\"-5,-4.5 0,-2.5 5,-4.5 0,4.5\" transform=\"skewX(0) scale(1,1)\" style=\"stroke:green;fill:green;stroke-width:1\" />\n",
              "</g><g id=\"classic\" visibility=\"visible\" transform=\"rotate(90,100.0,100.0) translate(100.0, 100.0)\">\n",
              "<polygon points=\"-5,-4.5 0,-2.5 5,-4.5 0,4.5\" transform=\"skewX(0) scale(1,1)\" style=\"stroke:blue;fill:blue;stroke-width:1\" />\n",
              "</g>\n",
              "      </svg>\n",
              "    "
            ]
          },
          "metadata": {}
        }
      ]
    },
    {
      "cell_type": "code",
      "source": [
        "clearscreen()\n",
        "setup(400, 600)\n",
        "\n",
        "tim = Turtle()\n",
        "tom = Turtle()\n",
        "tim.color(\"green\")\n",
        "tom.color(\"blue\")\n",
        "tim.width(3)\n",
        "tom.width(3)\n",
        "\n",
        "tom.face(180)\n",
        "\n",
        "tim.right(5)\n",
        "tom.forward(10)\n",
        "tom.left(5)\n",
        "while tim.getx() > tom.getx():\n",
        "    tim.forward(10)\n",
        "    tim.right(5)\n",
        "    tom.forward(10)\n",
        "    tom.left(5)"
      ],
      "metadata": {
        "colab": {
          "base_uri": "https://localhost:8080/",
          "height": 621
        },
        "id": "nrg7yWE-Um-Y",
        "outputId": "911d5b2c-ec2d-4a96-945b-d1672c26b236"
      },
      "execution_count": null,
      "outputs": [
        {
          "output_type": "display_data",
          "data": {
            "text/plain": [
              "<IPython.core.display.HTML object>"
            ],
            "text/html": [
              "\n",
              "      <svg width=\"400\" height=\"600\">  \n",
              "        <rect width=\"100%\" height=\"100%\" style=\"fill:white;stroke:;stroke-width:1\"/>\n",
              "        \n",
              "        \n",
              "        <line x1=\"200.0\" y1=\"300.0\" x2=\"209.962\" y2=\"300.872\" stroke-linecap=\"round\" style=\"stroke:green;stroke-width:3\" /><line x1=\"209.962\" y1=\"300.872\" x2=\"219.81\" y2=\"302.608\" stroke-linecap=\"round\" style=\"stroke:green;stroke-width:3\" /><line x1=\"219.81\" y1=\"302.608\" x2=\"229.469\" y2=\"305.196\" stroke-linecap=\"round\" style=\"stroke:green;stroke-width:3\" /><line x1=\"229.469\" y1=\"305.196\" x2=\"238.866\" y2=\"308.616\" stroke-linecap=\"round\" style=\"stroke:green;stroke-width:3\" /><line x1=\"238.866\" y1=\"308.616\" x2=\"247.929\" y2=\"312.842\" stroke-linecap=\"round\" style=\"stroke:green;stroke-width:3\" /><line x1=\"247.929\" y1=\"312.842\" x2=\"256.589\" y2=\"317.842\" stroke-linecap=\"round\" style=\"stroke:green;stroke-width:3\" /><line x1=\"256.589\" y1=\"317.842\" x2=\"264.781\" y2=\"323.578\" stroke-linecap=\"round\" style=\"stroke:green;stroke-width:3\" /><line x1=\"264.781\" y1=\"323.578\" x2=\"272.441\" y2=\"330.006\" stroke-linecap=\"round\" style=\"stroke:green;stroke-width:3\" /><line x1=\"272.441\" y1=\"330.006\" x2=\"279.512\" y2=\"337.077\" stroke-linecap=\"round\" style=\"stroke:green;stroke-width:3\" /><line x1=\"279.512\" y1=\"337.077\" x2=\"285.94\" y2=\"344.737\" stroke-linecap=\"round\" style=\"stroke:green;stroke-width:3\" /><line x1=\"285.94\" y1=\"344.737\" x2=\"291.676\" y2=\"352.929\" stroke-linecap=\"round\" style=\"stroke:green;stroke-width:3\" /><line x1=\"291.676\" y1=\"352.929\" x2=\"296.676\" y2=\"361.589\" stroke-linecap=\"round\" style=\"stroke:green;stroke-width:3\" /><line x1=\"296.676\" y1=\"361.589\" x2=\"300.902\" y2=\"370.652\" stroke-linecap=\"round\" style=\"stroke:green;stroke-width:3\" /><line x1=\"300.902\" y1=\"370.652\" x2=\"304.322\" y2=\"380.049\" stroke-linecap=\"round\" style=\"stroke:green;stroke-width:3\" /><line x1=\"304.322\" y1=\"380.049\" x2=\"306.91\" y2=\"389.708\" stroke-linecap=\"round\" style=\"stroke:green;stroke-width:3\" /><line x1=\"306.91\" y1=\"389.708\" x2=\"308.646\" y2=\"399.556\" stroke-linecap=\"round\" style=\"stroke:green;stroke-width:3\" /><line x1=\"308.646\" y1=\"399.556\" x2=\"309.518\" y2=\"409.518\" stroke-linecap=\"round\" style=\"stroke:green;stroke-width:3\" /><line x1=\"309.518\" y1=\"409.518\" x2=\"309.518\" y2=\"419.518\" stroke-linecap=\"round\" style=\"stroke:green;stroke-width:3\" /><line x1=\"309.518\" y1=\"419.518\" x2=\"308.646\" y2=\"429.48\" stroke-linecap=\"round\" style=\"stroke:green;stroke-width:3\" /><line x1=\"308.646\" y1=\"429.48\" x2=\"306.91\" y2=\"439.328\" stroke-linecap=\"round\" style=\"stroke:green;stroke-width:3\" /><line x1=\"306.91\" y1=\"439.328\" x2=\"304.322\" y2=\"448.987\" stroke-linecap=\"round\" style=\"stroke:green;stroke-width:3\" /><line x1=\"304.322\" y1=\"448.987\" x2=\"300.902\" y2=\"458.384\" stroke-linecap=\"round\" style=\"stroke:green;stroke-width:3\" /><line x1=\"300.902\" y1=\"458.384\" x2=\"296.676\" y2=\"467.447\" stroke-linecap=\"round\" style=\"stroke:green;stroke-width:3\" /><line x1=\"296.676\" y1=\"467.447\" x2=\"291.676\" y2=\"476.107\" stroke-linecap=\"round\" style=\"stroke:green;stroke-width:3\" /><line x1=\"291.676\" y1=\"476.107\" x2=\"285.94\" y2=\"484.299\" stroke-linecap=\"round\" style=\"stroke:green;stroke-width:3\" /><line x1=\"285.94\" y1=\"484.299\" x2=\"279.512\" y2=\"491.959\" stroke-linecap=\"round\" style=\"stroke:green;stroke-width:3\" /><line x1=\"279.512\" y1=\"491.959\" x2=\"272.441\" y2=\"499.03\" stroke-linecap=\"round\" style=\"stroke:green;stroke-width:3\" /><line x1=\"272.441\" y1=\"499.03\" x2=\"264.781\" y2=\"505.458\" stroke-linecap=\"round\" style=\"stroke:green;stroke-width:3\" /><line x1=\"264.781\" y1=\"505.458\" x2=\"256.589\" y2=\"511.194\" stroke-linecap=\"round\" style=\"stroke:green;stroke-width:3\" /><line x1=\"256.589\" y1=\"511.194\" x2=\"247.929\" y2=\"516.194\" stroke-linecap=\"round\" style=\"stroke:green;stroke-width:3\" /><line x1=\"247.929\" y1=\"516.194\" x2=\"238.866\" y2=\"520.42\" stroke-linecap=\"round\" style=\"stroke:green;stroke-width:3\" /><line x1=\"238.866\" y1=\"520.42\" x2=\"229.469\" y2=\"523.84\" stroke-linecap=\"round\" style=\"stroke:green;stroke-width:3\" /><line x1=\"229.469\" y1=\"523.84\" x2=\"219.81\" y2=\"526.428\" stroke-linecap=\"round\" style=\"stroke:green;stroke-width:3\" /><line x1=\"219.81\" y1=\"526.428\" x2=\"209.962\" y2=\"528.164\" stroke-linecap=\"round\" style=\"stroke:green;stroke-width:3\" /><line x1=\"209.962\" y1=\"528.164\" x2=\"200.0\" y2=\"529.036\" stroke-linecap=\"round\" style=\"stroke:green;stroke-width:3\" /><line x1=\"200.0\" y1=\"529.036\" x2=\"190.0\" y2=\"529.036\" stroke-linecap=\"round\" style=\"stroke:green;stroke-width:3\" /><line x1=\"200.0\" y1=\"300.0\" x2=\"190.0\" y2=\"300.0\" stroke-linecap=\"round\" style=\"stroke:blue;stroke-width:3\" /><line x1=\"190.0\" y1=\"300.0\" x2=\"180.038\" y2=\"300.872\" stroke-linecap=\"round\" style=\"stroke:blue;stroke-width:3\" /><line x1=\"180.038\" y1=\"300.872\" x2=\"170.19\" y2=\"302.608\" stroke-linecap=\"round\" style=\"stroke:blue;stroke-width:3\" /><line x1=\"170.19\" y1=\"302.608\" x2=\"160.531\" y2=\"305.196\" stroke-linecap=\"round\" style=\"stroke:blue;stroke-width:3\" /><line x1=\"160.531\" y1=\"305.196\" x2=\"151.134\" y2=\"308.616\" stroke-linecap=\"round\" style=\"stroke:blue;stroke-width:3\" /><line x1=\"151.134\" y1=\"308.616\" x2=\"142.071\" y2=\"312.842\" stroke-linecap=\"round\" style=\"stroke:blue;stroke-width:3\" /><line x1=\"142.071\" y1=\"312.842\" x2=\"133.411\" y2=\"317.842\" stroke-linecap=\"round\" style=\"stroke:blue;stroke-width:3\" /><line x1=\"133.411\" y1=\"317.842\" x2=\"125.219\" y2=\"323.578\" stroke-linecap=\"round\" style=\"stroke:blue;stroke-width:3\" /><line x1=\"125.219\" y1=\"323.578\" x2=\"117.559\" y2=\"330.006\" stroke-linecap=\"round\" style=\"stroke:blue;stroke-width:3\" /><line x1=\"117.559\" y1=\"330.006\" x2=\"110.488\" y2=\"337.077\" stroke-linecap=\"round\" style=\"stroke:blue;stroke-width:3\" /><line x1=\"110.488\" y1=\"337.077\" x2=\"104.06\" y2=\"344.737\" stroke-linecap=\"round\" style=\"stroke:blue;stroke-width:3\" /><line x1=\"104.06\" y1=\"344.737\" x2=\"98.324\" y2=\"352.929\" stroke-linecap=\"round\" style=\"stroke:blue;stroke-width:3\" /><line x1=\"98.324\" y1=\"352.929\" x2=\"93.324\" y2=\"361.589\" stroke-linecap=\"round\" style=\"stroke:blue;stroke-width:3\" /><line x1=\"93.324\" y1=\"361.589\" x2=\"89.098\" y2=\"370.652\" stroke-linecap=\"round\" style=\"stroke:blue;stroke-width:3\" /><line x1=\"89.098\" y1=\"370.652\" x2=\"85.678\" y2=\"380.049\" stroke-linecap=\"round\" style=\"stroke:blue;stroke-width:3\" /><line x1=\"85.678\" y1=\"380.049\" x2=\"83.09\" y2=\"389.708\" stroke-linecap=\"round\" style=\"stroke:blue;stroke-width:3\" /><line x1=\"83.09\" y1=\"389.708\" x2=\"81.354\" y2=\"399.556\" stroke-linecap=\"round\" style=\"stroke:blue;stroke-width:3\" /><line x1=\"81.354\" y1=\"399.556\" x2=\"80.482\" y2=\"409.518\" stroke-linecap=\"round\" style=\"stroke:blue;stroke-width:3\" /><line x1=\"80.482\" y1=\"409.518\" x2=\"80.482\" y2=\"419.518\" stroke-linecap=\"round\" style=\"stroke:blue;stroke-width:3\" /><line x1=\"80.482\" y1=\"419.518\" x2=\"81.354\" y2=\"429.48\" stroke-linecap=\"round\" style=\"stroke:blue;stroke-width:3\" /><line x1=\"81.354\" y1=\"429.48\" x2=\"83.09\" y2=\"439.328\" stroke-linecap=\"round\" style=\"stroke:blue;stroke-width:3\" /><line x1=\"83.09\" y1=\"439.328\" x2=\"85.678\" y2=\"448.987\" stroke-linecap=\"round\" style=\"stroke:blue;stroke-width:3\" /><line x1=\"85.678\" y1=\"448.987\" x2=\"89.098\" y2=\"458.384\" stroke-linecap=\"round\" style=\"stroke:blue;stroke-width:3\" /><line x1=\"89.098\" y1=\"458.384\" x2=\"93.324\" y2=\"467.447\" stroke-linecap=\"round\" style=\"stroke:blue;stroke-width:3\" /><line x1=\"93.324\" y1=\"467.447\" x2=\"98.324\" y2=\"476.107\" stroke-linecap=\"round\" style=\"stroke:blue;stroke-width:3\" /><line x1=\"98.324\" y1=\"476.107\" x2=\"104.06\" y2=\"484.299\" stroke-linecap=\"round\" style=\"stroke:blue;stroke-width:3\" /><line x1=\"104.06\" y1=\"484.299\" x2=\"110.488\" y2=\"491.959\" stroke-linecap=\"round\" style=\"stroke:blue;stroke-width:3\" /><line x1=\"110.488\" y1=\"491.959\" x2=\"117.559\" y2=\"499.03\" stroke-linecap=\"round\" style=\"stroke:blue;stroke-width:3\" /><line x1=\"117.559\" y1=\"499.03\" x2=\"125.219\" y2=\"505.458\" stroke-linecap=\"round\" style=\"stroke:blue;stroke-width:3\" /><line x1=\"125.219\" y1=\"505.458\" x2=\"133.411\" y2=\"511.194\" stroke-linecap=\"round\" style=\"stroke:blue;stroke-width:3\" /><line x1=\"133.411\" y1=\"511.194\" x2=\"142.071\" y2=\"516.194\" stroke-linecap=\"round\" style=\"stroke:blue;stroke-width:3\" /><line x1=\"142.071\" y1=\"516.194\" x2=\"151.134\" y2=\"520.42\" stroke-linecap=\"round\" style=\"stroke:blue;stroke-width:3\" /><line x1=\"151.134\" y1=\"520.42\" x2=\"160.531\" y2=\"523.84\" stroke-linecap=\"round\" style=\"stroke:blue;stroke-width:3\" /><line x1=\"160.531\" y1=\"523.84\" x2=\"170.19\" y2=\"526.428\" stroke-linecap=\"round\" style=\"stroke:blue;stroke-width:3\" /><line x1=\"170.19\" y1=\"526.428\" x2=\"180.038\" y2=\"528.164\" stroke-linecap=\"round\" style=\"stroke:blue;stroke-width:3\" /><line x1=\"180.038\" y1=\"528.164\" x2=\"190.0\" y2=\"529.036\" stroke-linecap=\"round\" style=\"stroke:blue;stroke-width:3\" /><line x1=\"190.0\" y1=\"529.036\" x2=\"200.0\" y2=\"529.036\" stroke-linecap=\"round\" style=\"stroke:blue;stroke-width:3\" />\n",
              "        \n",
              "        \n",
              "        <g id=\"classic\" visibility=\"visible\" transform=\"rotate(95,190.0,529.036) translate(190.0, 529.036)\">\n",
              "<polygon points=\"-5,-4.5 0,-2.5 5,-4.5 0,4.5\" transform=\"skewX(0) scale(1,1)\" style=\"stroke:green;fill:green;stroke-width:1\" />\n",
              "</g><g id=\"classic\" visibility=\"visible\" transform=\"rotate(-90,200.0,529.036) translate(200.0, 529.036)\">\n",
              "<polygon points=\"-5,-4.5 0,-2.5 5,-4.5 0,4.5\" transform=\"skewX(0) scale(1,1)\" style=\"stroke:blue;fill:blue;stroke-width:1\" />\n",
              "<animateTransform id = \"one\" attributeName=\"transform\" \n",
              "                      type=\"scale\"\n",
              "                      from=\"1 1\" to=\"1 1\"\n",
              "                      begin=\"0s\" dur=\"0.01s\"\n",
              "                      repeatCount=\"1\"\n",
              "                      additive=\"sum\"\n",
              "                      fill=\"freeze\"\n",
              "                /><animateTransform attributeName=\"transform\"\n",
              "                    type=\"rotate\"\n",
              "                    from=\"0 0 0\" to =\"-5 0 0\"\n",
              "                    begin=\"one.end\" dur=\"0.013888888888888888s\"\n",
              "                    repeatCount=\"1\"\n",
              "                    additive=\"sum\"\n",
              "                    fill=\"freeze\"\n",
              "                /></g>\n",
              "      </svg>\n",
              "    "
            ]
          },
          "metadata": {}
        }
      ]
    },
    {
      "cell_type": "markdown",
      "source": [
        "Classes and objects are useful because they hide complexity. That may sound unnecessary, but think about everything we've done with Turtle. Do we really need to know exactly how Turtle creates drawings? No, all we care about is the fact that it works."
      ],
      "metadata": {
        "id": "NE_9XEiaWI_9"
      }
    },
    {
      "cell_type": "markdown",
      "metadata": {
        "id": "BiFq-0olrqrG"
      },
      "source": [
        "# Intro to Object-Oriented Programming"
      ]
    },
    {
      "cell_type": "markdown",
      "metadata": {
        "id": "Y5lT52fCrtt_"
      },
      "source": [
        "According to the official documentation, \"classes provide a means of bundling data and functionality together. Creating a new class creates a new type of object, allowing new instances of that type to be made. Each class instance can have attributes attached to it for maintaining its state. Class instances can also have methods (defined by its class) for modifying its state.\"\n",
        "\n",
        "In short, a class is a bundle of variables and functions. When creating a new object, the user can manipulate its variables and use its functions. (Variables in classes are called \"attributes,\" and functions are called \"methods.\")\n",
        "\n",
        "We have actually been using classes this whole time. Pretend we have a list called `list1`. That list is an instance of a class called `list` (not very surprising). When we write `list1.sort()`, we are telling `list1` to run the method called `sort()`."
      ]
    },
    {
      "cell_type": "markdown",
      "source": [
        "## Simple Class/Object Example"
      ],
      "metadata": {
        "id": "CjHfogV_mdas"
      }
    },
    {
      "cell_type": "markdown",
      "source": [
        "In the example below, you may notice that there are a lot of places where `self` is used. This will be explained soon."
      ],
      "metadata": {
        "id": "JR2lf-BRmdy9"
      }
    },
    {
      "cell_type": "code",
      "metadata": {
        "id": "G_MvTZP8vDIj",
        "colab": {
          "base_uri": "https://localhost:8080/"
        },
        "outputId": "7e118dd5-c2e7-4f66-fae2-132d34848bb5"
      },
      "source": [
        "class Rectangle:\n",
        "    def __init__(self, width, height):\n",
        "        # these are attributes\n",
        "        self.width = width\n",
        "        self.height = height\n",
        "    \n",
        "    # these are methods\n",
        "    def get_area(self):\n",
        "        return self.width * self.height\n",
        "\n",
        "    def get_perimeter(self):\n",
        "        return 2 * self.width + 2 * self.height\n",
        "\n",
        "rect1 = Rectangle(5, 5)\n",
        "\n",
        "print(rect1.get_area())"
      ],
      "execution_count": null,
      "outputs": [
        {
          "output_type": "stream",
          "name": "stdout",
          "text": [
            "25\n"
          ]
        }
      ]
    },
    {
      "cell_type": "markdown",
      "metadata": {
        "id": "Tv_Zou2E53L_"
      },
      "source": [
        "The object `rect1` is an instance of the `Rectangle` class. Its attributes are its width and height, and its methods compute is perimeter and area.\n",
        "\n",
        "Just like any other Python object that we have encountered, we can put our Rectangles in lists, store them as values in dictionaries, pass them to functions, reference them with multiple variables, and so on."
      ]
    },
    {
      "cell_type": "markdown",
      "source": [
        "## Class vs Type"
      ],
      "metadata": {
        "id": "7k2GahvJmphD"
      }
    },
    {
      "cell_type": "markdown",
      "metadata": {
        "id": "Z1jElVZ37cN4"
      },
      "source": [
        "The terms \"type\" and \"class\" are practically synonymous in Python. So far, we have only encountered the term “type” to distinguish objects from one another. For example, the object `1` belongs to the type `int` and the object `\"cat\"` belongs to the type `str`. Looking at the example from above, we can also say that the object `rect1` belongs to the class `Rectangle`. That being said, know that \"class\" and \"type\" mean the same thing!\n",
        "\n",
        "In practice, people tend to use \"type\" to refer to built-in types (like `int` and `str`) and \"class\" to refer to user-defined types (like `Rectangle`)."
      ]
    },
    {
      "cell_type": "markdown",
      "metadata": {
        "id": "rxnMa2qTWb_D"
      },
      "source": [
        "# Making a Class"
      ]
    },
    {
      "cell_type": "markdown",
      "metadata": {
        "id": "EqM9rYCQ84f4"
      },
      "source": [
        "This section will introduce the basic syntax for defining a new class (a.k.a. type) of Python object. Recall that the phrase `def` is used to denote the definition of a function. Similarly, `class` is used to denote the beginning of a class definition.\n",
        "\n",
        "The body of the class definition, which is the indented region below a `class` statement, is used to define the class’ various attributes. Once you make an object of the class, you can use the attributes inside the class."
      ]
    },
    {
      "cell_type": "code",
      "metadata": {
        "id": "NwIx2e9_PLfV"
      },
      "source": [
        "class MyClass:\n",
        "    # attributes and methods will go here\n",
        "    pass\n",
        "\n",
        "# create object\n",
        "my_obj = MyClass()"
      ],
      "execution_count": null,
      "outputs": []
    },
    {
      "cell_type": "markdown",
      "source": [
        "**EXERCISE:** Create a class called `Dog`. For now, just put `pass` inside. We will be gradually expanding on this `Dog` class."
      ],
      "metadata": {
        "id": "GSW8OcT1It2o"
      }
    },
    {
      "cell_type": "markdown",
      "metadata": {
        "id": "rneH35IlW25L"
      },
      "source": [
        "## The `__init__` Method"
      ]
    },
    {
      "cell_type": "markdown",
      "metadata": {
        "id": "FRlMhiWVW_gu"
      },
      "source": [
        "Most classes are only useful when there is an `__init__`. It is not required for the program to run though.\n",
        "\n",
        "This method automatically runs when you create an object. It also controls the arguments you put in when you make the object. It must start with `self` as a \"parameter,\" as well as all the other attributes of the class. However, you don't ever actually input anything for `self`."
      ]
    },
    {
      "cell_type": "code",
      "metadata": {
        "id": "kpK9dkAtXrpO"
      },
      "source": [
        "class Person:\n",
        "    def __init__(self, name, age):\n",
        "        # doing self.x = x is needed so that other attributes in the class can use them\n",
        "        self.name = name # set the attribute `name` to the Person-instance `self`\n",
        "        self.age = age\n",
        "\n",
        "        # when making a person, it should always have 2 arms and legs\n",
        "        self.num_arms = 2\n",
        "        self.num_legs = 2\n",
        "\n",
        "        # from this point on, attributes have to be referred to as self.???\n",
        "        self.num_limbs = self.num_arms + self.num_legs\n",
        "\n",
        "        # __init__ cannot not return any value other than `None`. Its sole purpose is to affect\n",
        "        # `self`, the instance of `Person` that is being created.\n",
        "\n",
        "# \"self\" isn't actually an argument\n",
        "person1 = Person(\"Bob\", 15)"
      ],
      "execution_count": null,
      "outputs": []
    },
    {
      "cell_type": "markdown",
      "source": [
        "Lines 4 and 5 may seem very weird because it may look like we are assigning variables to themselves. However, we are actually creating new attributes. `self.name` (which the entire class can use) and `name` (inputted by the user) are not the same. `self.name` does not exist yet, so we assign it to `name`. (`self.name` is an example of an instance attribute.)\n",
        "\n",
        "If we change the input `age` to `years_old` but keep `self.age` the same, it will make more sense. However, doing this is not very conventional."
      ],
      "metadata": {
        "id": "PwJG3Yay_mqM"
      }
    },
    {
      "cell_type": "code",
      "source": [
        "class Person:\n",
        "    def __init__(self, name, years_old):\n",
        "        self.name = name\n",
        "        self.age = years_old"
      ],
      "metadata": {
        "id": "YYGFM3xk_1mv"
      },
      "execution_count": null,
      "outputs": []
    },
    {
      "cell_type": "markdown",
      "source": [
        "**EXERCISE:** In your `Dog` class, create an `__init__()` method that takes in `name`. Make an instance attribute `self.name` inside the method."
      ],
      "metadata": {
        "id": "6Klty9qHI9ir"
      }
    },
    {
      "cell_type": "markdown",
      "metadata": {
        "id": "SjU6MvGkZBBn"
      },
      "source": [
        "## More Methods"
      ]
    },
    {
      "cell_type": "markdown",
      "metadata": {
        "id": "Bykx1EJkZDtc"
      },
      "source": [
        "The main point of classes is to make methods yourself. You can do this as if you were going to make a function."
      ]
    },
    {
      "cell_type": "code",
      "metadata": {
        "colab": {
          "base_uri": "https://localhost:8080/"
        },
        "id": "qNMoW4kTZDgb",
        "outputId": "f5bda7bd-4b89-4ea4-9331-74ed3840a7f5"
      },
      "source": [
        "class Person:\n",
        "    def __init__(self, name, age):\n",
        "        \"\"\" This method is executed every time we create a new `Person` instance.\n",
        "            `self` is the object instance being created.\"\"\"\n",
        "        self.name = name\n",
        "        self.age = age\n",
        "\n",
        "        self.num_arms = 2\n",
        "        self.num_legs = 2\n",
        "        self.num_limbs = self.num_arms + self.num_legs\n",
        "    \n",
        "    def print_name_and_age(self):\n",
        "        print(\"Name:\", self.name, \"\\nAge:\", self.age)\n",
        "\n",
        "person1 = Person(\"Bob\", 15)\n",
        "\n",
        "person1.print_name_and_age()"
      ],
      "execution_count": null,
      "outputs": [
        {
          "output_type": "stream",
          "text": [
            "Name: Bob \n",
            "Age: 15\n"
          ],
          "name": "stdout"
        }
      ]
    },
    {
      "cell_type": "markdown",
      "metadata": {
        "id": "orKaqv8i_L49"
      },
      "source": [
        "**EXERCISE:** Create a method in your `Dog` class called `speak()`.\n",
        "\n",
        "The method should take a string as an input argument and return that string with `\"*woof*\"` added to either end of it. For example, inputting `\"hello\"` prints `\"*woof* hello *woof*\"`.\n",
        "\n",
        "There only needs to be 1 line inside the method."
      ]
    },
    {
      "cell_type": "code",
      "metadata": {
        "id": "MJg9n7zQTksU"
      },
      "source": [
        "class Dog:\n",
        "    def __init__(self, name):\n",
        "        self.name = name\n",
        "\n",
        "    def speak(self, message):\n",
        "        print(\"*woof* \" + message + \" *woof*\")"
      ],
      "execution_count": null,
      "outputs": []
    },
    {
      "cell_type": "markdown",
      "metadata": {
        "id": "eH-OVSjfabit"
      },
      "source": [
        "# Making an Object"
      ]
    },
    {
      "cell_type": "markdown",
      "metadata": {
        "id": "L_FKszBpaeCb"
      },
      "source": [
        "To make an object, type `obj_name = ClassName()`, with the arguments inside the parentheses. The arguments are determined by what's in the `__init__()` method. Even though all functions start with `self` as a \"parameter,\" you don't actually input anything for it."
      ]
    },
    {
      "cell_type": "markdown",
      "source": [
        "**EXERCISE:** Create an instance of `Dog` and give it a name. Print the attribute `name` and run the `speak()` method."
      ],
      "metadata": {
        "id": "OnUiGRYxKCtr"
      }
    },
    {
      "cell_type": "code",
      "source": [
        "dog1 = Dog(\"Floof\")\n",
        "print(dog1.name)\n",
        "dog1.speak(\"hello\")"
      ],
      "metadata": {
        "colab": {
          "base_uri": "https://localhost:8080/"
        },
        "id": "Ca1cmzkgKacz",
        "outputId": "d17059c5-fffd-49a4-a34b-266624778a4e"
      },
      "execution_count": null,
      "outputs": [
        {
          "output_type": "stream",
          "name": "stdout",
          "text": [
            "Floof\n",
            "*woof* hello *woof*\n"
          ]
        }
      ]
    },
    {
      "cell_type": "markdown",
      "metadata": {
        "id": "FmrcrWNHdvGs"
      },
      "source": [
        "## Changing (Variable) Attributes of an Object"
      ]
    },
    {
      "cell_type": "markdown",
      "metadata": {
        "id": "rAgI9nCtd14K"
      },
      "source": [
        "You can change the attribute by typing `obj.attr = value`. You can also use the math shortcuts (`+=`, etc). Essentially, you can treat these attributes exactly like variables."
      ]
    },
    {
      "cell_type": "code",
      "metadata": {
        "id": "BJJswuL4eCb3"
      },
      "source": [
        "class Tree:\n",
        "    def __init__(self, tree_type, height_cm):\n",
        "        self.tree_type = tree_type\n",
        "        self.height_cm = height_cm\n",
        "    \n",
        "    # make the tree grow 1 cm\n",
        "    def grow_1_cm(self):\n",
        "        self.height_cm += 1\n",
        "\n",
        "# make an object for \"Tree\"\n",
        "tree1 = Tree(\"apple\", 1000)\n",
        "\n",
        "print(tree1.height_cm)\n",
        "tree1.height_cm += 1\n",
        "print(tree1.height_cm)"
      ],
      "execution_count": null,
      "outputs": []
    },
    {
      "cell_type": "markdown",
      "metadata": {
        "id": "2ktJMUWfb7el"
      },
      "source": [
        "## Object Instances"
      ]
    },
    {
      "cell_type": "markdown",
      "metadata": {
        "id": "Jl9df_n8b9M0"
      },
      "source": [
        "When you make an object, you make a new instance of the class. Here, `tree1` and `tree2` are different instances, even though the inputs are identical."
      ]
    },
    {
      "cell_type": "code",
      "metadata": {
        "id": "6F1Btm-BcN8o"
      },
      "source": [
        "class Tree:\n",
        "    def __init__(self, tree_type, height_cm):\n",
        "        self.tree_type = tree_type\n",
        "        self.height_cm = height_cm\n",
        "\n",
        "# these are different trees\n",
        "tree1 = Tree(\"apple\", 100)\n",
        "tree2 = Tree(\"apple\", 100)"
      ],
      "execution_count": null,
      "outputs": []
    },
    {
      "cell_type": "markdown",
      "metadata": {
        "id": "IS0vQfU-cSdx"
      },
      "source": [
        "However, if you assign multiple variables to the same object, there is only 1 instance of the class. Here, `tree1` and `tree2` are simply 2 names for the same tree."
      ]
    },
    {
      "cell_type": "code",
      "metadata": {
        "id": "5YcMr_vfcSCM"
      },
      "source": [
        "class Tree:\n",
        "    def __init__(self, tree_type, height_cm):\n",
        "        self.tree_type = tree_type\n",
        "        self.height_cm = height_cm\n",
        "\n",
        "# there is only 1 tree\n",
        "tree1 = Tree(\"apple\", 100)\n",
        "tree2 = tree1"
      ],
      "execution_count": null,
      "outputs": []
    },
    {
      "cell_type": "markdown",
      "metadata": {
        "id": "I66OADw7YuiQ"
      },
      "source": [
        "# (Sort of) Private Attributes"
      ]
    },
    {
      "cell_type": "markdown",
      "metadata": {
        "id": "Bc9tQeEdY7dU"
      },
      "source": [
        "Suppose we don't want the user to be able to change an attribute. What we want to do is make the attribute private.\n",
        "\n",
        "In many languages, you can make attributes private. This means that you can access and change them while you are inside the class, but you can't access them outside. For example, in our `Tree` example, we probably don't want a user to be able to change the type and height of a tree at will. We would make these attributes private so that we can only change them inside the class, but they would be private outside the class.\n",
        "\n",
        "Can we also do this in Python? Well, sort of. For the most part, you can make a private variable and method by putting 2 underscores in front of the name (for example, `self.__tree_type`). But you can actually access the private variable by typing `[object]._[Class][attr]` (for example, `tree1._Tree__tree_type`). However, this way of making things \"private\" is still good practice. \n",
        "\n",
        "If we ignore this loophole, it is always better to:\n",
        "\n",
        "- make variables \"private\"\n",
        "- use getters (methods) to return the value of a private variable\n",
        "- use setters (methods) to let the user change the value of a private variable\n",
        "    - when we don't want something to be manually changed, we don't include a setter method\n",
        "\n",
        "Here is a good example of getters and setters."
      ]
    },
    {
      "cell_type": "code",
      "metadata": {
        "colab": {
          "base_uri": "https://localhost:8080/"
        },
        "id": "5QMt-UYKY7sZ",
        "outputId": "044a4e53-a843-436e-d8f0-3c5982e965b5"
      },
      "source": [
        "class Car:\n",
        "    # class constructor\n",
        "    def __init__(self, make, model, year, color, electric):\n",
        "        # object attributes/values: specific to object\n",
        "        # inputs\n",
        "        # it is always good to make the variables private (with 2 underscores in front) and to use getter and setter methods\n",
        "        self.__make = make\n",
        "        self.__model = model\n",
        "        self.__year = year\n",
        "        self.__color = \"red\"\n",
        "        self.__electric = electric\n",
        "\n",
        "        # always the same when object created\n",
        "        self.__no_of_tires = 4\n",
        "        self.__engine_running = False\n",
        "\n",
        "    # most things can't be changed, so there is only a getter\n",
        "    def get_no_of_tires(self):\n",
        "        return self.__no_of_tires\n",
        "\n",
        "    def get_make(self):\n",
        "        return self.__make\n",
        "    \n",
        "    def get_model(self):\n",
        "        return self.__model\n",
        "\n",
        "    def get_year(self):\n",
        "        return self.__year\n",
        "\n",
        "    # cars can be painted, so there is also a setter\n",
        "    def get_color(self):\n",
        "        return self.__color\n",
        "    def set_color(self, value):\n",
        "        self.__color = value\n",
        "\n",
        "    def get_electric(self):\n",
        "        return self.__electric\n",
        "\n",
        "    # engines can be turned on and off, so there is also a setter\n",
        "    def get_engine_running(self):\n",
        "        return self.__engine_running\n",
        "    def set_engine_running(self, value):\n",
        "        self.__engine_running = value\n",
        "\n",
        "car1 = Car(\"Honda\", \"Civic\", 2020, \"red\", False)\n",
        "# the normal way to get the number of tires\n",
        "print(car1.get_no_of_tires())\n",
        "# directly getting the private variable with the loophole\n",
        "print(car1._Car__no_of_tires)"
      ],
      "execution_count": null,
      "outputs": [
        {
          "output_type": "stream",
          "name": "stdout",
          "text": [
            "4\n",
            "4\n"
          ]
        }
      ]
    }
  ]
}