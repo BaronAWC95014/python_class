{
  "nbformat": 4,
  "nbformat_minor": 0,
  "metadata": {
    "colab": {
      "name": "day9.ipynb",
      "provenance": [],
      "toc_visible": true,
      "include_colab_link": true
    },
    "kernelspec": {
      "name": "python3",
      "display_name": "Python 3"
    },
    "language_info": {
      "name": "python"
    }
  },
  "cells": [
    {
      "cell_type": "markdown",
      "metadata": {
        "id": "view-in-github",
        "colab_type": "text"
      },
      "source": [
        "<a href=\"https://colab.research.google.com/github/BaronAWC95014/python_class_instructor/blob/main/day9.ipynb\" target=\"_parent\"><img src=\"https://colab.research.google.com/assets/colab-badge.svg\" alt=\"Open In Colab\"/></a>"
      ]
    },
    {
      "cell_type": "markdown",
      "metadata": {
        "id": "BiFq-0olrqrG"
      },
      "source": [
        "# Intro to Object-Oriented Programming"
      ]
    },
    {
      "cell_type": "markdown",
      "metadata": {
        "id": "Y5lT52fCrtt_"
      },
      "source": [
        "According to the official documentation, \"classes provide a means of bundling data and functionality together. Creating a new class creates a new type of object, allowing new instances of that type to be made. Each class instance can have attributes attached to it for maintaining its state. Class instances can also have methods (defined by its class) for modifying its state.\"\n",
        "\n",
        "We have actually been using classes this whole time. Everything we do in Python is based on classes. The types of everything say `<class 'type'>`. This is what lets us do things like `str1.sort()` and `list1.append()`. This is why learning to make classes is important."
      ]
    },
    {
      "cell_type": "code",
      "metadata": {
        "colab": {
          "base_uri": "https://localhost:8080/"
        },
        "id": "Tcsnbr0yoxQJ",
        "outputId": "1e182628-ddb1-41c4-e43e-adceb37e39f1"
      },
      "source": [
        "print(type([\"this is a list\"]))\n",
        "print(type(123))"
      ],
      "execution_count": 30,
      "outputs": [
        {
          "output_type": "stream",
          "text": [
            "<class 'list'>\n",
            "<class 'int'>\n"
          ],
          "name": "stdout"
        }
      ]
    },
    {
      "cell_type": "markdown",
      "metadata": {
        "id": "RiBNwO52oqU8"
      },
      "source": [
        "The goal of this class is to understand how to define and utilize our own class of Python objects. This will greatly mature our understanding of Python as an object-oriented language, and will expand our ability to fully leverage all of Python’s features.\n",
        "\n",
        "Functions bound to objects are known as methods. More generally, an object can possess data, known as attributes, which summarize information about that object."
      ]
    },
    {
      "cell_type": "code",
      "metadata": {
        "id": "G_MvTZP8vDIj"
      },
      "source": [
        "class Rectangle:\n",
        "    \"\"\" A Python object that describes the properties of a rectangle \"\"\"\n",
        "    def __init__(self, width, height, center=(0.0, 0.0)):\n",
        "        \"\"\" Sets the attributes of a particular instance of `Rectangle`.\n",
        "\n",
        "            Parameters\n",
        "            ----------\n",
        "            width : float\n",
        "                The x-extent of this rectangle instance.\n",
        "\n",
        "            height : float\n",
        "                The y-extent of this rectangle instance.\n",
        "\n",
        "            center : Tuple[float, float], optional (default=(0, 0))\n",
        "                The (x, y) position of this rectangle's center\"\"\"\n",
        "        self.width = width\n",
        "        self.height = height\n",
        "        self.center = center\n",
        "\n",
        "    def __repr__(self):\n",
        "        \"\"\" Returns a string to be used as a printable representation\n",
        "            of a given rectangle.\"\"\"\n",
        "        return \"Rectangle(width={w}, height={h}, center={c})\".format(h=self.height,\n",
        "                                                                     w=self.width,\n",
        "                                                                     c=self.center)\n",
        "\n",
        "    def compute_area(self):\n",
        "        \"\"\" Returns the area of this rectangle\n",
        "\n",
        "            Returns\n",
        "            -------\n",
        "            float\"\"\"\n",
        "        return self.width * self.height\n",
        "\n",
        "    def compute_perimeter(self):\n",
        "        \"\"\" Returns the perimeter of this rectangle\n",
        "\n",
        "            Returns\n",
        "            -------\n",
        "            float\"\"\"\n",
        "        return 2 * self.width + 2 * self.height\n",
        "\n",
        "    def compute_corners(self):\n",
        "        \"\"\" Computes the (x, y) corner-locations of this rectangle, starting with the\n",
        "            'top-right' corner, and proceeding clockwise.\n",
        "\n",
        "            Returns\n",
        "            -------\n",
        "            List[Tuple[float, float], Tuple[float, float], Tuple[float, float], Tuple[float, float]]\"\"\"\n",
        "        cx, cy = self.center\n",
        "        dx = self.width / 2.0\n",
        "        dy = self.height / 2.0\n",
        "        return [(cx + x, cy + y) for x,y in ((dx, dy), (dx, -dy), (-dx, -dy), (-dx, dy))]"
      ],
      "execution_count": null,
      "outputs": []
    },
    {
      "cell_type": "markdown",
      "metadata": {
        "id": "Tv_Zou2E53L_"
      },
      "source": [
        "An instance of this `Rectangle` class is an individual rectangle whose *attributes* include its width, height, and center-location. Additionally, we can use the rectangle’s *methods* (its attributes that are functions) to compute its area and the locations of its corners. When talking about classes and objects, we usually use \"method\" instead of \"function.\"\n",
        "\n",
        "Just like any other Python object that we have encountered, we can put our Rectangles in lists, store them as values in dictionaries, pass them to functions, reference them with multiple variables, and so on.\n",
        "\n",
        "Popular STEM, data analysis, and machine learning Python libraries rely heavily on the ability to define custom classes of Python objects."
      ]
    },
    {
      "cell_type": "markdown",
      "metadata": {
        "id": "Sjx-niiG6KMX"
      },
      "source": [
        "Moving forward, we will discuss the essential *class definition*, which will permit us to define our own class (a.k.a. type) of object. Next, we will learn about creating distinct instances of a given object type and about defining methods. This will lead to our first encounter with special methods, which enable us to affect how our object type behaves with Python’s various operators. For example, we can define how the `+` operator interacts with our objects. Lastly, we will briefly discuss the concept of class inheritance."
      ]
    },
    {
      "cell_type": "markdown",
      "metadata": {
        "id": "Z1jElVZ37cN4"
      },
      "source": [
        "**Class vs Type: An Important Note on Terminology**\n",
        "\n",
        "Before proceeding any further, it is worthwhile to draw our attention to the fact that the terms `“type”` and “class” are practically synonymous in Python. Thus far, we have only encountered the term “type” to distinguish objects from one another, e.g. `1` belongs to the type `int` and `\"cat\"` belongs to the type `str`. However, we will soon study class definitions for making new types objects. That being said, know that class and type mean the same thing! There are historical reasons for the coexistence of these two terms, but since Python 2.2 concepts of type and class have been unified.\n",
        "\n",
        "In practice, people tend to reserve the word “type” to refer to built-in types (e.g. `int` and `str`) and “class” to refer to user-defined types. Again, in the modern versions of Python, these terms carry no practical distinction."
      ]
    },
    {
      "cell_type": "markdown",
      "metadata": {
        "id": "W_tJ7jGu8xIE"
      },
      "source": [
        "# Defining a Class"
      ]
    },
    {
      "cell_type": "markdown",
      "metadata": {
        "id": "EqM9rYCQ84f4"
      },
      "source": [
        "This section will introduce the basic syntax for defining a new class (a.k.a. type) of Python object. Recall that the phrase `def` is used to denote the definition of a function. Similarly, `class` is used to denote the beginning of a class definition. The body of the class definition, which is the indented region below a `class` statement, is used to define the class’ various attributes. Once this definition for a new class of object is executed, you can proceed to reference that object in your code."
      ]
    },
    {
      "cell_type": "code",
      "metadata": {
        "id": "NwIx2e9_PLfV"
      },
      "source": [
        "class MyClass:\n",
        "    # attributes (variables and methods) will go here\n",
        "    pass\n",
        "\n",
        "myObj = MyClass()"
      ],
      "execution_count": 2,
      "outputs": []
    },
    {
      "cell_type": "markdown",
      "metadata": {
        "id": "j9HJr5uu98N7"
      },
      "source": [
        "See that all of the attributes can be accessed using the “dot” syntax: `object.attribute_name`. The attribute `compute_area` is a function, thus we can call it like this:\n",
        "\n",
        "\n",
        "\n",
        "```\n",
        "# create object (we will cover this later)\n",
        "rect = Rectangle(5, 5, (1, 2))\n",
        "\n",
        "# use a method in Rectangle using rect\n",
        "rect.compute_area()\n",
        "```\n",
        "\n"
      ]
    },
    {
      "cell_type": "markdown",
      "metadata": {
        "id": "V-AuKWHJ-VuR"
      },
      "source": [
        "An object attribute that is also a function is referred to as a method."
      ]
    },
    {
      "cell_type": "markdown",
      "metadata": {
        "id": "1cm6vakg-bMF"
      },
      "source": [
        "To sum it up, the class expression denotes the definition of a new class of object, which entails defining the attributes of that class. An attribute can “bind” to that class other Python objects (integers, strings, lists, etc), including functions. Attributes that are functions are called methods. The syntax `obj.attr` is the dot syntax for “getting” the attribute named `attr` from the object named `obj`."
      ]
    },
    {
      "cell_type": "markdown",
      "metadata": {
        "id": "Ag51rBWT-e2q"
      },
      "source": [
        "## The General Form of a Class Definition"
      ]
    },
    {
      "cell_type": "markdown",
      "metadata": {
        "id": "BWeBzN4w-j6D"
      },
      "source": [
        "The general form for a class definition is simply a collection of attribute definitions, which either take the form of variable assignments or function definitions, resulting in the formation of a new class of object, with its attributes and methods:\n",
        "\n",
        "\n",
        "\n",
        "```\n",
        "class ClassName:\n",
        "    \"\"\" class docstring \"\"\"\n",
        "    <statement-1>\n",
        "    .\n",
        "    .\n",
        "    .\n",
        "    <statement-N>\n",
        "```\n",
        "\n",
        "where each `<statement-j>` defines an attribute (e.g. `z = \"hi\"` defines the attribute `z`, or a function definition creates a method) for that class of object.\n",
        "\n",
        "Similar to function definitions, class definitions can contain effectively arbitrary Python code, and the definition has its own scope; however, any variables assigned within the class definition will be available as attributes."
      ]
    },
    {
      "cell_type": "markdown",
      "metadata": {
        "id": "JnL0s0z5_A7l"
      },
      "source": [
        "**Important:** The convention for naming a new class/type of object is to use PascalCase. Thus if I wanted to call my class of objects “pizza shop”, I would use the name `PizzaShop`. This is in contrast to variable names, function names, and instances of a class object (still to be introduced), where convention dictates the use of lower-case letters and underscores in place of spaces (snake_case) or starting the next word with an uppercase letter (camelCase)."
      ]
    },
    {
      "cell_type": "markdown",
      "metadata": {
        "id": "orKaqv8i_L49"
      },
      "source": [
        "**EXERCISE:** Create a definition for the class of object named `Dog`. This class should have two attributes: “name” and “speak”.\n",
        "\n",
        "The “name” attribute should bind a string to the object (the name of the dog). Since we haven't talked about `__init__` yet, just assign any name to `name`.\n",
        "\n",
        "The “speak” attribute should be a method, that takes a string as an input argument and returns that string with `\"*woof*\"` added to either end of it (e.g. `\"hello\"` -> `\"*woof* hello *woof*\"`)"
      ]
    },
    {
      "cell_type": "code",
      "metadata": {
        "colab": {
          "base_uri": "https://localhost:8080/"
        },
        "id": "MJg9n7zQTksU",
        "outputId": "293cc6f3-4629-4ce8-cadb-d282a2a53559"
      },
      "source": [
        "class Dog:\n",
        "    name = \"Floof\"\n",
        "\n",
        "    def speak(self, message):\n",
        "        print(\"*woof* \" + message + \" *woof*\")\n",
        "\n",
        "dog1 = Dog()\n",
        "print(dog1.name)\n",
        "dog1.speak(\"hello\")"
      ],
      "execution_count": 35,
      "outputs": [
        {
          "output_type": "stream",
          "text": [
            "Floof\n",
            "*woof* hello *woof*\n"
          ],
          "name": "stdout"
        }
      ]
    },
    {
      "cell_type": "markdown",
      "metadata": {
        "id": "Qej142ilAnOr"
      },
      "source": [
        "## Working with Object Attributes"
      ]
    },
    {
      "cell_type": "markdown",
      "metadata": {
        "id": "fqXzqxDNAu6w"
      },
      "source": [
        "Attempting to access an undefined attribute from an object will raise an `AttributeError`. We can use built-in function `hasattr` to inspect if an object possesses a particular attribute. In addition to using the dot-syntax for accessing attributes, the built-in function `getattr` can be used to the same effect:\n",
        "\n",
        "\n",
        "```\n",
        "getattr(Rectangle, compute_area())\n",
        "```\n",
        "\n",
        "It may be surprising to discover that new attributes can be bound (or “set”) to the object after that class of object has already been defined. This can be done using the built-in function `setattr`:\n",
        "\n",
        "\n",
        "```\n",
        "setattr(Rectangle, \"color\", \"red\")\n",
        "```\n",
        "\n",
        "Attributes can be defined/set even less formally, using a simple assignment syntax:\n",
        "\n",
        "\n",
        "```\n",
        "Rectangle.color = \"red\"\n",
        "```"
      ]
    },
    {
      "cell_type": "markdown",
      "metadata": {
        "id": "OcQH4UIiBek-"
      },
      "source": [
        "It may seem like the class definition is reduced to a mere formality, since attributes can be set to an object at so casually. Although Python is known for permitting this informal style of coding, know that it is generally bad form to create attributes for a class of object outside of its designated definition."
      ]
    },
    {
      "cell_type": "markdown",
      "metadata": {
        "id": "f5VrCVTfxTys"
      },
      "source": [
        "# Instances of a Class"
      ]
    },
    {
      "cell_type": "markdown",
      "metadata": {
        "id": "xY_FEuFwxWex"
      },
      "source": [
        "Thus far we have learned about the syntax for defining a new class of object, specifying its name, attributes, and methods (which are attributes that are functions). Once we leave the scope of the class definition, a class object is formed - the resulting class object is the singular object that encapsulates our class definition. We seldom will want to pass around or manipulate this class object once it is created. Rather, we will want to use it to create individual instances of that class. To be more concrete, `list` is a class object (remember that “class” and “type” are synonymous) - it is the same sort of object that is produced when a `class` definition is executed. We can use this class object to create individual instances of the list class, each one containing its own sequence of items."
      ]
    },
    {
      "cell_type": "markdown",
      "metadata": {
        "id": "HenXZiRVxl0y"
      },
      "source": [
        "Each of these instances share the common attributes `append`, `count`, `reverse`, and so on, as specified in the definition of Python’s list class, which is encapsulated by the `list` class object. That being said, the specific content of any given list is an attribute of that particular list instance; that is, the content of a particular list is an instance attribute rather than a class attribute. Thus far, we do not have the ability to create instance-level attributes. Let’s change that.\n",
        "\n",
        "Suppose that we want to make our own `Person` class. Each person should have her/his own name, thus the name should be an instance-level attribute. We will learn to define a special initialization method that allows us to define and set instance-level attributes. In the context of `Person`, this will allow us to give each person their own name:"
      ]
    },
    {
      "cell_type": "code",
      "metadata": {
        "id": "SyF6fXrbx_9Z"
      },
      "source": [
        "class Person:\n",
        "    def __init__(self, name):\n",
        "        self.name = name"
      ],
      "execution_count": null,
      "outputs": []
    },
    {
      "cell_type": "markdown",
      "metadata": {
        "id": "Gr0xhZr-yGtx"
      },
      "source": [
        "We will learn about the `__init__` method and that peculiar `self` argument momentarily. First, we will learn about creating an instance object from a class object."
      ]
    },
    {
      "cell_type": "markdown",
      "metadata": {
        "id": "2h8TQft7XgLx"
      },
      "source": [
        "**EXERCISE:** Using the code from above, add a new attribute under `self.name` and call it `self.fav_food`. Make sure you also pass in `fav_food` in the `__init__`."
      ]
    },
    {
      "cell_type": "code",
      "metadata": {
        "id": "D4tr3XcIXgfT"
      },
      "source": [
        "class Person:\n",
        "    def __init__(self, name, fav_food):\n",
        "        self.name = name\n",
        "        self.fav_food = fav_food"
      ],
      "execution_count": null,
      "outputs": []
    },
    {
      "cell_type": "markdown",
      "metadata": {
        "id": "kvhi_zl9yNay"
      },
      "source": [
        "## Object Identity and Creating an Instance"
      ]
    },
    {
      "cell_type": "markdown",
      "metadata": {
        "id": "W5M56t-dyRdo"
      },
      "source": [
        "We can use the “call” syntax on `Person`, `Person()`, to create individual instances of this class:"
      ]
    },
    {
      "cell_type": "code",
      "metadata": {
        "id": "d_vfS-lYyadl"
      },
      "source": [
        "p1 = Person(\"Arthur\")"
      ],
      "execution_count": null,
      "outputs": []
    },
    {
      "cell_type": "markdown",
      "metadata": {
        "id": "RVbviGHpyisN"
      },
      "source": [
        "Recall that the `is` operator checks to see if two items reference the exact same object in your computer’s memory. Also recall that the built-in `isinstance` function checks to see if an object is an instance of a class/type. These will help us understand the relationship between class objects, their instances, and references to objects."
      ]
    },
    {
      "cell_type": "markdown",
      "metadata": {
        "id": "VqFwbL6fy8oP"
      },
      "source": [
        "Python’s rules for referencing objects with variables still apply here: assigning an object to a variable, be it a class object or an instance, does not create a distinct copy of that object. The variable merely references that object, serving only as an alias for it."
      ]
    },
    {
      "cell_type": "markdown",
      "metadata": {
        "id": "t40ricZny-34"
      },
      "source": [
        "**EXERCISE:** Using the class called `ConstNumber` defined below, create a list consisting of 3 distinct instances of this type. Write code to explicitly verify that each entry is distinct from the other, and that each entry is an instance of the `ConstNumber` class.\n",
        "\n",
        "Then, create a tuple that contains a single instance of `ConstNumber` stored 3 times. Write code to explicitly verify that the entries all reference the exact same object, and that each entry is an instance of the `ConstNumber` class.\n",
        "\n",
        "\n",
        "\n",
        "```\n",
        "class ConstNumber:\n",
        "    x = 5\n",
        "```"
      ]
    },
    {
      "cell_type": "code",
      "metadata": {
        "colab": {
          "base_uri": "https://localhost:8080/"
        },
        "id": "ClFrcS7PF4oY",
        "outputId": "67c8f673-1efe-41a7-e583-908672c95198"
      },
      "source": [
        "class ConstNumber:\n",
        "    x = 5\n",
        "\n",
        "tuple1 = (ConstNumber(), ConstNumber(), ConstNumber())\n",
        "\n",
        "#constNum = ConstNumber()\n",
        "#tuple1 = (constNum, constNum, constNum)\n",
        "\n",
        "dict1 = dict(map(lambda a: (a, 0), tuple1))\n",
        "# no duplicates removed, so no duplicates\n",
        "if len(dict1) == len(tuple1):\n",
        "    print(\"all items unique\")\n",
        "# only 1 left, so everything is a duplicate\n",
        "elif len(dict1) == 1:\n",
        "    print(\"no items unique\")\n",
        "else:\n",
        "    print(\"some items unique\")\n",
        "\n",
        "for obj in tuple1:\n",
        "    if type(obj) != ConstNumber:\n",
        "        print(\"not all objects are type ConstNumber\")\n",
        "        break\n",
        "else:\n",
        "    print(\"all objects are type ConstNumber\")\n"
      ],
      "execution_count": 28,
      "outputs": [
        {
          "output_type": "stream",
          "text": [
            "no items unique\n",
            "all objects are type ConstNumber\n",
            "False\n"
          ],
          "name": "stdout"
        }
      ]
    },
    {
      "cell_type": "markdown",
      "metadata": {
        "id": "6IlRmbsfzNYC"
      },
      "source": [
        "## Defining Instance-Level Attributes: the `__init__` Method"
      ]
    },
    {
      "cell_type": "markdown",
      "metadata": {
        "id": "YoiECm9dzYGq"
      },
      "source": [
        "As demonstrated in the `Person` class and the `Rectangle` class that we defined earlier, there is a special method, `__init__`, that allows us to define instance-level attributes for our class. This is a critically-important method, which we will leverage often. Note that the name of this is: “underscore-underscore-init-underscore-underscore”, which can be pronounced as “dunder-init” (where “dunder” stands for double-underscore).\n",
        "\n",
        "Consider the slightly-modified definition of Person, which also includes the class-attribute x:"
      ]
    },
    {
      "cell_type": "code",
      "metadata": {
        "id": "_8IjFkiLzp2i"
      },
      "source": [
        "class Person:\n",
        "    x = 1  # this sets a class-level attribute, common to all instances of `Person`\n",
        "\n",
        "    def __init__(self, name):\n",
        "        \"\"\" This method is executed every time we create a new `Person` instance.\n",
        "            `self` is the object instance being created.\"\"\"\n",
        "        self.name = name   # set the attribute `name` to the Person-instance `self`\n",
        "\n",
        "        # __init__ cannot not return any value other than `None`. Its sole purpose is to affect\n",
        "        # `self`, the instance of `Person` that is being created."
      ],
      "execution_count": null,
      "outputs": []
    },
    {
      "cell_type": "markdown",
      "metadata": {
        "id": "nMUIjJEbztVx"
      },
      "source": [
        "Invoking `Person()` actually calls `__init__()` “under the hood”, and any argument that we feed to `Person()` gets passed to `__init__`. Looking at our definition of `__init__` it looks like we must pass two values to this method: `self` and `name`. This first argument, `self`, actually represents the object instance of `Person` that is being created. Python will pass the appropriate object for `self` to `__init__` automatically, thus we need only worry about passing a value for `name`.\n",
        "\n",
        "Let’s make an instance of our `Person` class, passing the string `\"Eric\"` as the name:"
      ]
    },
    {
      "cell_type": "code",
      "metadata": {
        "id": "9FLa0i6U0I98"
      },
      "source": [
        "# Creates the instance `self`,  passes it\n",
        "# and `\"Eric\"` to `Person.__init__`, and then\n",
        "# returns the instance-object that was created\n",
        "p = Person(\"Eric\")\n",
        "\n",
        "print(p.name)  # access the instance-attribute `name`\n",
        "print(p.x)     # access the class-attribute `x`"
      ],
      "execution_count": null,
      "outputs": []
    },
    {
      "cell_type": "markdown",
      "metadata": {
        "id": "4jRgUzUN0RQ-"
      },
      "source": [
        "Here is what is going on “under the hood” when we create this instance of `Person` (this is very important):\n",
        "\n",
        "1. Invoking `Person(\"Eric\")` first creates an instance of `Person` as if there was no `__init__` method specified. The resulting object does not yet have a `name` attribute. It only has the class-level attribute `x`.\n",
        "\n",
        "2. Next, that instance of `Person` is passed to `__init__` as the argument `self`, and `\"Eric\"`, which we provided explicitly, is passed as the argument `name`.\n",
        "\n",
        "3. With these arguments, `Person.__init__(self, \"Eric\")` executes its body of instructions. Specifically, `self.name = name` sets the attribute `name` on `self`, using the value `\"Eric\"`.\n",
        "\n",
        "4. Having finished executing the `__init__` method, `Person(\"Eric\")` resolves by returning the instance-object that was created.\n",
        "\n",
        "We now have the ability to define and set attributes on an instance-level! Understanding this process is critical to mastering object oriented programming in Python."
      ]
    },
    {
      "cell_type": "markdown",
      "metadata": {
        "id": "ifl1Fxsi1BsB"
      },
      "source": [
        "**Exercise:** Let’s create several `Person`-instances, all stored in a list:"
      ]
    },
    {
      "cell_type": "markdown",
      "metadata": {
        "id": "fhYzhrn91Ceg"
      },
      "source": [
        "Note: Updating the class-level attribute `x` of `Person` affects all instances of `Person`!"
      ]
    },
    {
      "cell_type": "markdown",
      "metadata": {
        "id": "I66OADw7YuiQ"
      },
      "source": [
        "# (Sort of) Private Attributes"
      ]
    },
    {
      "cell_type": "markdown",
      "metadata": {
        "id": "Bc9tQeEdY7dU"
      },
      "source": [
        "In other languages, you can make attributes private. This means that you can access and change them while you are inside the class, but you can't access them outside. Can we also do this in Python?\n",
        "\n",
        "Well, sort of. For the most part, you can make a private variable and method by putting 2 underscores in front of the name. But you can actually access the private variable by typing `<object>._<class><private_variable>`.\n",
        "\n",
        "However, this way of making things \"private\" is still good practice. It is better to make variables \"private\" and use getters (and setters if needed) to get and set variables."
      ]
    },
    {
      "cell_type": "code",
      "metadata": {
        "colab": {
          "base_uri": "https://localhost:8080/"
        },
        "id": "5QMt-UYKY7sZ",
        "outputId": "920f41ab-f51a-4006-f8b6-e9759aaba38b"
      },
      "source": [
        "class Car:\n",
        "    # class constructor\n",
        "    def __init__(self, make, model, year, color, electric):\n",
        "        # object attributes/values: specific to object\n",
        "        # inputs\n",
        "        # it is always good to make the variables private (with 2 underscores in front) and to use getter and setter values\n",
        "        self.__make = make\n",
        "        self.__model = model\n",
        "        self.__year = year\n",
        "        self.__color = \"red\"\n",
        "        self.__electric = electric\n",
        "\n",
        "        # always the same when object created\n",
        "        self.__no_of_tires = 4\n",
        "        self.__engine_running = False\n",
        "\n",
        "    # most things can't be changed, so there is only a getter\n",
        "    def get_no_of_tires(self):\n",
        "        return self.__no_of_tires\n",
        "\n",
        "    def get_make(self):\n",
        "        return self.__make\n",
        "    \n",
        "    def get_model(self):\n",
        "        return self.__model\n",
        "\n",
        "    def get_year(self):\n",
        "        return self.__year\n",
        "\n",
        "    # cars can be painted, so there is also a setter\n",
        "    def get_color(self):\n",
        "        return self.__model\n",
        "\n",
        "    def set_color(self, value):\n",
        "        self.__model = value\n",
        "\n",
        "    def get_electric(self):\n",
        "        return self.__electric\n",
        "\n",
        "    # engines can be turned on and off, so there is also a setter\n",
        "    def get_engine_running(self):\n",
        "        return self.__engine_running\n",
        "    \n",
        "    def set_engine_running(self, value):\n",
        "        self.engine_running = value\n",
        "\n",
        "car1 = Car(\"Honda\", \"Civic\", 2020, \"red\", False)\n",
        "# the normal way to get the number of tires\n",
        "print(car1.get_no_of_tires())\n",
        "# directly getting the private variable\n",
        "print(car1._Car__no_of_tires)"
      ],
      "execution_count": 1,
      "outputs": [
        {
          "output_type": "stream",
          "text": [
            "4\n",
            "4\n"
          ],
          "name": "stdout"
        }
      ]
    }
  ]
}