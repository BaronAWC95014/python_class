{
  "nbformat": 4,
  "nbformat_minor": 0,
  "metadata": {
    "colab": {
      "name": "day9.ipynb",
      "provenance": [],
      "toc_visible": true,
      "authorship_tag": "ABX9TyPdoN79cA8iHwt/m3BA2u0p",
      "include_colab_link": true
    },
    "kernelspec": {
      "name": "python3",
      "display_name": "Python 3"
    },
    "language_info": {
      "name": "python"
    }
  },
  "cells": [
    {
      "cell_type": "markdown",
      "metadata": {
        "id": "view-in-github",
        "colab_type": "text"
      },
      "source": [
        "<a href=\"https://colab.research.google.com/github/BaronAWC95014/python_class_instructor/blob/main/day9.ipynb\" target=\"_parent\"><img src=\"https://colab.research.google.com/assets/colab-badge.svg\" alt=\"Open In Colab\"/></a>"
      ]
    },
    {
      "cell_type": "markdown",
      "metadata": {
        "id": "BiFq-0olrqrG"
      },
      "source": [
        "# Intro to Object-Oriented Programming"
      ]
    },
    {
      "cell_type": "markdown",
      "metadata": {
        "id": "Y5lT52fCrtt_"
      },
      "source": [
        "According to the official documentation, \"classes provide a means of bundling data and functionality together. Creating a new class creates a new type of object, allowing new instances of that type to be made. Each class instance can have attributes attached to it for maintaining its state. Class instances can also have methods (defined by its class) for modifying its state.\"\n",
        "\n",
        "We have actually been using classes this whole time. Everything we do in Python is based on classes. The types of everything say `<class 'type'>`. This is what lets us do things like `str1.sort()` and `list1.append()`. This is why learning to make classes is important."
      ]
    },
    {
      "cell_type": "code",
      "metadata": {
        "colab": {
          "base_uri": "https://localhost:8080/"
        },
        "id": "Tcsnbr0yoxQJ",
        "outputId": "1e182628-ddb1-41c4-e43e-adceb37e39f1"
      },
      "source": [
        "print(type([\"this is a list\"]))\n",
        "print(type(123))"
      ],
      "execution_count": null,
      "outputs": [
        {
          "output_type": "stream",
          "text": [
            "<class 'list'>\n",
            "<class 'int'>\n"
          ],
          "name": "stdout"
        }
      ]
    },
    {
      "cell_type": "markdown",
      "metadata": {
        "id": "RiBNwO52oqU8"
      },
      "source": [
        "The goal of this class is to understand how to define and utilize our own class of Python objects. This will greatly mature our understanding of Python as an object-oriented language, and will expand our ability to fully leverage all of Python’s features.\n",
        "\n",
        "Functions bound to objects are known as methods. More generally, an object can possess data, known as attributes, which summarize information about that object."
      ]
    },
    {
      "cell_type": "code",
      "metadata": {
        "id": "G_MvTZP8vDIj",
        "colab": {
          "base_uri": "https://localhost:8080/"
        },
        "outputId": "c21dec44-dad3-437d-86f0-13890921ca72"
      },
      "source": [
        "class Rectangle:\n",
        "    \"\"\" A Python object that describes the properties of a rectangle \"\"\"\n",
        "    def __init__(self, width, height, center=(0.0, 0.0)):\n",
        "        \"\"\" Sets the attributes of a particular instance of `Rectangle`.\n",
        "\n",
        "            Parameters\n",
        "            ----------\n",
        "            width : float\n",
        "                The x-extent of this rectangle instance.\n",
        "\n",
        "            height : float\n",
        "                The y-extent of this rectangle instance.\n",
        "\n",
        "            center : Tuple[float, float], optional (default=(0, 0))\n",
        "                The (x, y) position of this rectangle's center\"\"\"\n",
        "        self.width = width\n",
        "        self.height = height\n",
        "        self.center = center\n",
        "    \n",
        "    def __repr__(self):\n",
        "        \"\"\" Returns a string to be used as a printable representation\n",
        "            of a given rectangle.\"\"\"\n",
        "        return \"Rectangle(width={w}, height={h}, center={c})\".format(h=self.height,\n",
        "                                                                     w=self.width,\n",
        "                                                                     c=self.center)\n",
        "    \n",
        "    def compute_area(self):\n",
        "        \"\"\" Returns the area of this rectangle\n",
        "\n",
        "            Returns\n",
        "            -------\n",
        "            float\"\"\"\n",
        "        return self.width * self.height\n",
        "\n",
        "    def compute_perimeter(self):\n",
        "        \"\"\" Returns the perimeter of this rectangle\n",
        "\n",
        "            Returns\n",
        "            -------\n",
        "            float\"\"\"\n",
        "        return 2 * self.width + 2 * self.height\n",
        "\n",
        "    def compute_corners(self):\n",
        "        \"\"\" Computes the (x, y) corner-locations of this rectangle, starting with the\n",
        "            'top-right' corner, and proceeding clockwise.\n",
        "\n",
        "            Returns\n",
        "            -------\n",
        "            List[Tuple[float, float], Tuple[float, float], Tuple[float, float], Tuple[float, float]]\"\"\"\n",
        "        cx, cy = self.center\n",
        "        dx = self.width / 2.0\n",
        "        dy = self.height / 2.0\n",
        "        return [(cx + x, cy + y) for x,y in ((dx, dy), (dx, -dy), (-dx, -dy), (-dx, dy))]\n",
        "\n",
        "\n",
        "\n",
        "rect1 = Rectangle(5, 5, (0, 0))\n",
        "\n",
        "# __repr__() automatically gets called when you try print the object\n",
        "# without this, the object's address will be printed\n",
        "print(rect1)"
      ],
      "execution_count": 6,
      "outputs": [
        {
          "output_type": "stream",
          "text": [
            "Rectangle(width=5, height=5, center=(0, 0))\n"
          ],
          "name": "stdout"
        }
      ]
    },
    {
      "cell_type": "markdown",
      "metadata": {
        "id": "Tv_Zou2E53L_"
      },
      "source": [
        "An instance of this `Rectangle` class is an individual rectangle whose *attributes* include its width, height, and center-location. Additionally, we can use the rectangle’s *methods* (its attributes that are functions) to compute its area and the locations of its corners. When talking about classes and objects, we usually use \"method\" instead of \"function.\"\n",
        "\n",
        "Just like any other Python object that we have encountered, we can put our Rectangles in lists, store them as values in dictionaries, pass them to functions, reference them with multiple variables, and so on.\n",
        "\n",
        "Popular STEM, data analysis, and machine learning Python libraries rely heavily on the ability to define custom classes of Python objects."
      ]
    },
    {
      "cell_type": "markdown",
      "metadata": {
        "id": "Sjx-niiG6KMX"
      },
      "source": [
        "Moving forward, we will discuss the essential *class definition*, which will permit us to define our own class (a.k.a. type) of object. Next, we will learn about creating distinct instances of a given object type and about defining methods. This will lead to our first encounter with special methods, which enable us to affect how our object type behaves with Python’s various operators. For example, we can define how the `+` operator interacts with our objects. Lastly, we will briefly discuss the concept of class inheritance."
      ]
    },
    {
      "cell_type": "markdown",
      "metadata": {
        "id": "Z1jElVZ37cN4"
      },
      "source": [
        "**Class vs Type: An Important Note on Terminology**\n",
        "\n",
        "Before proceeding any further, it is worthwhile to draw our attention to the fact that the terms \"type\" and \"class\" are practically synonymous in Python. Thus far, we have only encountered the term “type” to distinguish objects from one another, e.g. `1` belongs to the type `int` and `\"cat\"` belongs to the type `str`. However, we will soon study class definitions for making new types objects. That being said, know that class and type mean the same thing! There are historical reasons for the coexistence of these two terms, but since Python 2.2 concepts of type and class have been unified.\n",
        "\n",
        "In practice, people tend to reserve the word \"type\" to refer to built-in types (e.g. `int` and `str`) and \"class\" to refer to user-defined types. Again, in the modern versions of Python, these terms carry no practical distinction."
      ]
    },
    {
      "cell_type": "markdown",
      "metadata": {
        "id": "rxnMa2qTWb_D"
      },
      "source": [
        "# Making a Class"
      ]
    },
    {
      "cell_type": "markdown",
      "metadata": {
        "id": "EqM9rYCQ84f4"
      },
      "source": [
        "This section will introduce the basic syntax for defining a new class (a.k.a. type) of Python object. Recall that the phrase `def` is used to denote the definition of a function. Similarly, `class` is used to denote the beginning of a class definition.\n",
        "\n",
        "The body of the class definition, which is the indented region below a `class` statement, is used to define the class’ various attributes. Once you make an object of the class, you can use the attributes inside the class."
      ]
    },
    {
      "cell_type": "code",
      "metadata": {
        "id": "NwIx2e9_PLfV"
      },
      "source": [
        "class MyClass:\n",
        "    # attributes (variables and methods) will go here\n",
        "    pass\n",
        "\n",
        "# create object\n",
        "myObj = MyClass()"
      ],
      "execution_count": null,
      "outputs": []
    },
    {
      "cell_type": "markdown",
      "metadata": {
        "id": "rneH35IlW25L"
      },
      "source": [
        "## The `__init__` Method"
      ]
    },
    {
      "cell_type": "markdown",
      "metadata": {
        "id": "FRlMhiWVW_gu"
      },
      "source": [
        "Most methods are only useful when there is an `__init__`. It is not required for the program to run though.\n",
        "\n",
        "This method automatically runs when you create an object. It also controls the arguments you put in when you make the object. It must start with `self` as a \"parameter,\" as well as all the other attributes of the class. However, you don't ever actually input anything for `self`."
      ]
    },
    {
      "cell_type": "code",
      "metadata": {
        "id": "kpK9dkAtXrpO"
      },
      "source": [
        "class Person:\n",
        "    def __init__(self, name, age):\n",
        "        \"\"\" This method is executed every time we create a new `Person` instance.\n",
        "            `self` is the object instance being created.\"\"\"\n",
        "        # doing self.x = x is needed so that other attributes in the class can use them\n",
        "        self.name = name # set the attribute `name` to the Person-instance `self`\n",
        "        self.age = age\n",
        "\n",
        "        # when making a person, it should always have 2 arms and legs\n",
        "        self.num_arms = 2\n",
        "        self.num_legs = 2\n",
        "\n",
        "        # from this point on, attributes have to be referred to as self.???\n",
        "        self.num_limbs = self.num_arms + self.num_legs\n",
        "\n",
        "        # __init__ cannot not return any value other than `None`. Its sole purpose is to affect\n",
        "        # `self`, the instance of `Person` that is being created.\n",
        "\n",
        "# \"self\" isn't actually an argument\n",
        "person1 = Person(\"Bob\", 15)"
      ],
      "execution_count": null,
      "outputs": []
    },
    {
      "cell_type": "markdown",
      "metadata": {
        "id": "SjU6MvGkZBBn"
      },
      "source": [
        "## More Methods"
      ]
    },
    {
      "cell_type": "markdown",
      "metadata": {
        "id": "Bykx1EJkZDtc"
      },
      "source": [
        "The main point of classes is to make methods yourself. You can do this as if you were going to make a function."
      ]
    },
    {
      "cell_type": "code",
      "metadata": {
        "colab": {
          "base_uri": "https://localhost:8080/"
        },
        "id": "qNMoW4kTZDgb",
        "outputId": "f5bda7bd-4b89-4ea4-9331-74ed3840a7f5"
      },
      "source": [
        "class Person:\n",
        "    def __init__(self, name, age):\n",
        "        \"\"\" This method is executed every time we create a new `Person` instance.\n",
        "            `self` is the object instance being created.\"\"\"\n",
        "        self.name = name\n",
        "        self.age = age\n",
        "\n",
        "        self.num_arms = 2\n",
        "        self.num_legs = 2\n",
        "        self.num_limbs = self.num_arms + self.num_legs\n",
        "    \n",
        "    def print_name_and_age(self):\n",
        "        print(\"Name:\", self.name, \"\\nAge:\", self.age)\n",
        "\n",
        "person1 = Person(\"Bob\", 15)\n",
        "\n",
        "person1.print_name_and_age()"
      ],
      "execution_count": 1,
      "outputs": [
        {
          "output_type": "stream",
          "text": [
            "Name: Bob \n",
            "Age: 15\n"
          ],
          "name": "stdout"
        }
      ]
    },
    {
      "cell_type": "markdown",
      "metadata": {
        "id": "orKaqv8i_L49"
      },
      "source": [
        "**EXERCISE:** Create a definition for the class of object named `Dog`. This class should have an attribute `name` and a method `speak`.\n",
        "\n",
        "The `name` attribute should be passed in through the object. Use `__init__` for this. There should only be 1 line inside `__init__`.\n",
        "\n",
        "The `speak` method should take a string as an input argument and return that string with `\"*woof*\"` added to either end of it (e.g. `\"hello\"` -> `\"*woof* hello *woof*\"`). There should also only be 1 line inside the function.\n",
        "\n",
        "Then, create an object of the dog called `dog1`, print its name, and use `speak()`. To access those attributes, you should use `dog1.???`."
      ]
    },
    {
      "cell_type": "code",
      "metadata": {
        "id": "MJg9n7zQTksU"
      },
      "source": [
        "class Dog:\n",
        "    def __init__(self, name):\n",
        "        self.name = name\n",
        "\n",
        "    def speak(self, message):\n",
        "        print(\"*woof* \" + message + \" *woof*\")\n",
        "\n",
        "dog1 = Dog(\"Floof\")\n",
        "print(dog1.name)\n",
        "dog1.speak(\"hello\")"
      ],
      "execution_count": null,
      "outputs": []
    },
    {
      "cell_type": "markdown",
      "metadata": {
        "id": "eH-OVSjfabit"
      },
      "source": [
        "# Making an Object"
      ]
    },
    {
      "cell_type": "markdown",
      "metadata": {
        "id": "L_FKszBpaeCb"
      },
      "source": [
        "We already did this just now, but remember that to make an object, we type `obj_name = class_name()`, with the arguments inside the parentheses. The arguments are determined by what's in the `__init__` method. Even though all functions start with `self` as a \"parameter,\" you don't actually input anything for it."
      ]
    },
    {
      "cell_type": "markdown",
      "metadata": {
        "id": "0OudUqima7df"
      },
      "source": [
        "**EXERCISE:** Create a method for this class to make the tree grow 1 cm. Then, create an object for the following class.\n",
        "\n",
        "```\n",
        "class Tree:\n",
        "    def __init__(self, tree_type, height_cm):\n",
        "        self.tree_type = tree_type\n",
        "        self.height_cm = height_cm\n",
        "````"
      ]
    },
    {
      "cell_type": "code",
      "metadata": {
        "colab": {
          "base_uri": "https://localhost:8080/"
        },
        "id": "K_el7OdfbBuy",
        "outputId": "ee88c205-73b2-4eed-e164-31d4be5456e6"
      },
      "source": [
        "class Tree:\n",
        "    def __init__(self, tree_type, height_cm):\n",
        "        self.tree_type = tree_type\n",
        "        self.height_cm = height_cm\n",
        "    \n",
        "    # make the tree grow 1 cm\n",
        "    def grow_1_cm(self):\n",
        "        self.height_cm += 1\n",
        "\n",
        "# make an object for \"Tree\"\n",
        "tree1 = Tree(\"apple\", 1000)\n",
        "\n",
        "# the tree grew 1 cm\n",
        "print(tree1.height_cm)\n",
        "tree1.grow_1_cm()\n",
        "print(tree1.height_cm)"
      ],
      "execution_count": 4,
      "outputs": [
        {
          "output_type": "stream",
          "text": [
            "1000\n",
            "1001\n"
          ],
          "name": "stdout"
        }
      ]
    },
    {
      "cell_type": "markdown",
      "metadata": {
        "id": "FmrcrWNHdvGs"
      },
      "source": [
        "## Changing (Variable) Attributes of an Object"
      ]
    },
    {
      "cell_type": "markdown",
      "metadata": {
        "id": "rAgI9nCtd14K"
      },
      "source": [
        "You can change the attribute by typing `obj.attr = value`. You can also use the math shortcuts (`+=`, etc). However, it is usually not very good to leave variables public like this for the user to change at will. We will discuss what we do in our code to discourage this later."
      ]
    },
    {
      "cell_type": "code",
      "metadata": {
        "id": "BJJswuL4eCb3"
      },
      "source": [
        "class Tree:\n",
        "    def __init__(self, type, height_cm):\n",
        "        self.type = type\n",
        "        self.height_cm = height_cm\n",
        "    \n",
        "    # make the tree grow 1 cm\n",
        "    def grow_1_cm(self):\n",
        "        self.height_cm += 1\n",
        "\n",
        "# make an object for \"Tree\"\n",
        "tree1 = Tree(\"apple\", 1000)\n",
        "\n",
        "print(tree1.height_cm)\n",
        "tree1.height_cm += 1\n",
        "print(tree1.height_cm)"
      ],
      "execution_count": null,
      "outputs": []
    },
    {
      "cell_type": "markdown",
      "metadata": {
        "id": "2ktJMUWfb7el"
      },
      "source": [
        "## Object Instances"
      ]
    },
    {
      "cell_type": "markdown",
      "metadata": {
        "id": "Jl9df_n8b9M0"
      },
      "source": [
        "When you make an object, you make a new instance of the class."
      ]
    },
    {
      "cell_type": "code",
      "metadata": {
        "id": "6F1Btm-BcN8o"
      },
      "source": [
        "class Tree:\n",
        "    def __init__(self, tree_type, height_cm):\n",
        "        self.tree_type = tree_type\n",
        "        self.height_cm = height_cm\n",
        "\n",
        "# these are different trees\n",
        "tree1 = Tree(\"apple\", 1000)\n",
        "tree2 = Tree(\"apple\", 1000)"
      ],
      "execution_count": null,
      "outputs": []
    },
    {
      "cell_type": "markdown",
      "metadata": {
        "id": "IS0vQfU-cSdx"
      },
      "source": [
        "However, if you assign multiple variables to the same object, there is only 1 instance of the class."
      ]
    },
    {
      "cell_type": "code",
      "metadata": {
        "id": "5YcMr_vfcSCM"
      },
      "source": [
        "class Tree:\n",
        "    def __init__(self, type, height_cm):\n",
        "        self.type = type\n",
        "        self.height_cm = height_cm\n",
        "\n",
        "# there is only 1 tree\n",
        "tree1 = Tree(\"apple\", 1000)\n",
        "tree2 = tree1"
      ],
      "execution_count": null,
      "outputs": []
    },
    {
      "cell_type": "markdown",
      "metadata": {
        "id": "t40ricZny-34"
      },
      "source": [
        "**EXERCISE:** What's the difference between the objects in these 2 pieces of code?\n",
        "\n",
        "```\n",
        "tuple1 = (ConstNumber(), ConstNumber(), ConstNumber())\n",
        "```\n",
        "```\n",
        "#constNum = ConstNumber()\n",
        "#tuple1 = (constNum, constNum, constNum)\n",
        "```\n",
        "\n",
        "This is the class `ConstNumber`:\n",
        "```\n",
        "class ConstNumber:\n",
        "    x = 5\n",
        "```"
      ]
    },
    {
      "cell_type": "code",
      "metadata": {
        "colab": {
          "base_uri": "https://localhost:8080/"
        },
        "id": "ClFrcS7PF4oY",
        "outputId": "4525f9a0-1dad-4470-cf89-e6a8ff2d223c"
      },
      "source": [
        "class ConstNumber:\n",
        "    x = 5\n",
        "\n",
        "tuple1 = (ConstNumber(), ConstNumber(), ConstNumber())\n",
        "\n",
        "#constNum = ConstNumber()\n",
        "#tuple1 = (constNum, constNum, constNum)\n",
        "\n",
        "dict1 = dict(map(lambda a: (a, 0), tuple1))\n",
        "# no duplicates removed, so no duplicates\n",
        "if len(dict1) == len(tuple1):\n",
        "    print(\"all items unique\")\n",
        "# only 1 left, so everything is a duplicate\n",
        "elif len(dict1) == 1:\n",
        "    print(\"no items unique\")\n",
        "else:\n",
        "    print(\"some items unique\")\n",
        "\n",
        "for obj in tuple1:\n",
        "    if type(obj) != ConstNumber:\n",
        "        print(\"not all objects are type ConstNumber\")\n",
        "        break\n",
        "else:\n",
        "    print(\"all objects are type ConstNumber\")\n"
      ],
      "execution_count": 5,
      "outputs": [
        {
          "output_type": "stream",
          "text": [
            "all items unique\n",
            "all objects are type ConstNumber\n"
          ],
          "name": "stdout"
        }
      ]
    },
    {
      "cell_type": "markdown",
      "metadata": {
        "id": "I66OADw7YuiQ"
      },
      "source": [
        "# (Sort of) Private Attributes"
      ]
    },
    {
      "cell_type": "markdown",
      "metadata": {
        "id": "Bc9tQeEdY7dU"
      },
      "source": [
        "In other languages, you can make attributes private. This means that you can access and change them while you are inside the class, but you can't access them outside. Can we also do this in Python?\n",
        "\n",
        "Well, sort of. For the most part, you can make a private variable and method by putting 2 underscores in front of the name. But you can actually access the private variable by typing `<object>._<class><private_variable>`. However, this way of making things \"private\" is still good practice. \n",
        "\n",
        "If we ignore this loophole, it is always better to:\n",
        "\n",
        "- make variables \"private\"\n",
        "- use getters (methods) to return the value of a private variable\n",
        "- use setters (methods) to let the user change the value of a private variable\n",
        "    - when we don't want something to be manually changed, we don't include a setter method\n",
        "\n",
        "Here is a good example of getters and setters."
      ]
    },
    {
      "cell_type": "code",
      "metadata": {
        "colab": {
          "base_uri": "https://localhost:8080/"
        },
        "id": "5QMt-UYKY7sZ",
        "outputId": "920f41ab-f51a-4006-f8b6-e9759aaba38b"
      },
      "source": [
        "class Car:\n",
        "    # class constructor\n",
        "    def __init__(self, make, model, year, color, electric):\n",
        "        # object attributes/values: specific to object\n",
        "        # inputs\n",
        "        # it is always good to make the variables private (with 2 underscores in front) and to use getter and setter values\n",
        "        self.__make = make\n",
        "        self.__model = model\n",
        "        self.__year = year\n",
        "        self.__color = \"red\"\n",
        "        self.__electric = electric\n",
        "\n",
        "        # always the same when object created\n",
        "        self.__no_of_tires = 4\n",
        "        self.__engine_running = False\n",
        "\n",
        "    # most things can't be changed, so there is only a getter\n",
        "    def get_no_of_tires(self):\n",
        "        return self.__no_of_tires\n",
        "\n",
        "    def get_make(self):\n",
        "        return self.__make\n",
        "    \n",
        "    def get_model(self):\n",
        "        return self.__model\n",
        "\n",
        "    def get_year(self):\n",
        "        return self.__year\n",
        "\n",
        "    # cars can be painted, so there is also a setter\n",
        "    def get_color(self):\n",
        "        return self.__color\n",
        "\n",
        "    def set_color(self, value):\n",
        "        self.__color = value\n",
        "\n",
        "    def get_electric(self):\n",
        "        return self.__electric\n",
        "\n",
        "    # engines can be turned on and off, so there is also a setter\n",
        "    def get_engine_running(self):\n",
        "        return self.__engine_running\n",
        "    \n",
        "    def set_engine_running(self, value):\n",
        "        self.__engine_running = value\n",
        "\n",
        "car1 = Car(\"Honda\", \"Civic\", 2020, \"red\", False)\n",
        "# the normal way to get the number of tires\n",
        "print(car1.get_no_of_tires())\n",
        "# directly getting the private variable\n",
        "print(car1._Car__no_of_tires)"
      ],
      "execution_count": null,
      "outputs": [
        {
          "output_type": "stream",
          "text": [
            "4\n",
            "4\n"
          ],
          "name": "stdout"
        }
      ]
    }
  ]
}