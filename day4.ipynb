{
  "nbformat": 4,
  "nbformat_minor": 0,
  "metadata": {
    "colab": {
      "name": "day4.ipynb",
      "provenance": [],
      "collapsed_sections": [
        "KFku812PXEN3",
        "OwFmAInTGoGj",
        "BFppOiqbX-Tf"
      ],
      "include_colab_link": true
    },
    "kernelspec": {
      "name": "python3",
      "display_name": "Python 3"
    },
    "language_info": {
      "name": "python"
    }
  },
  "cells": [
    {
      "cell_type": "markdown",
      "metadata": {
        "id": "view-in-github",
        "colab_type": "text"
      },
      "source": [
        "<a href=\"https://colab.research.google.com/github/BaronAWC95014/python_class_instructor/blob/main/day4.ipynb\" target=\"_parent\"><img src=\"https://colab.research.google.com/assets/colab-badge.svg\" alt=\"Open In Colab\"/></a>"
      ]
    },
    {
      "cell_type": "markdown",
      "source": [
        "# Dictionaries"
      ],
      "metadata": {
        "id": "KFku812PXEN3"
      }
    },
    {
      "cell_type": "markdown",
      "metadata": {
        "id": "4QXDH-swuNqL"
      },
      "source": [
        "## Declaring Dictionaries"
      ]
    },
    {
      "cell_type": "markdown",
      "metadata": {
        "id": "vos0YFqnuPrR"
      },
      "source": [
        "You already know what a dictionary in real life is. They have a word on one side and its definition on the other side.\n",
        "\n",
        "In Python, the word is the \"key\" and the definition is the \"value\". The word corresponds to the definition as the key corresponds to the value.\n",
        "\n",
        "This is the syntax for a dictionary, in the context of a shopping list of items and the amount of each item.\n",
        "\n",
        "Make sure you are using curly braces, there are colons between the keys and values, and there are commas seperating the previous value and the next key."
      ]
    },
    {
      "cell_type": "code",
      "metadata": {
        "id": "-xYC7hiTvYyM"
      },
      "source": [
        "items_and_amount = {\"banana\": 4, \"milk\": 2, \"soda bottle\": 1}"
      ],
      "execution_count": null,
      "outputs": []
    },
    {
      "cell_type": "markdown",
      "metadata": {
        "id": "BE7djMC-v3af"
      },
      "source": [
        "You can neaten the dictionary out by using indents."
      ]
    },
    {
      "cell_type": "code",
      "metadata": {
        "id": "He1nfPMtwvDA"
      },
      "source": [
        "items_and_amount = {\"banana\": 4,\n",
        "                    \"milk\": 2,\n",
        "                    \"soda bottle\": 1}"
      ],
      "execution_count": null,
      "outputs": []
    },
    {
      "cell_type": "markdown",
      "metadata": {
        "id": "ixoMk7-yP0l3"
      },
      "source": [
        "If you put multiple of the same key in a dictionary, the last one overrides the others.\n",
        "\n"
      ]
    },
    {
      "cell_type": "code",
      "metadata": {
        "colab": {
          "base_uri": "https://localhost:8080/"
        },
        "id": "Ok4yiG9qQAV_",
        "outputId": "c53620a6-007f-4361-90d8-779b4814cf1c"
      },
      "source": [
        "items_and_amount = {\"banana\": 4,\n",
        "                    \"banana\": 6,\n",
        "                    \"milk\": 2,\n",
        "                    \"soda bottle\": 1}\n",
        "\n",
        "print(items_and_amount)"
      ],
      "execution_count": null,
      "outputs": [
        {
          "output_type": "stream",
          "text": [
            "{'banana': 6, 'milk': 2, 'soda bottle': 1}\n"
          ],
          "name": "stdout"
        }
      ]
    },
    {
      "cell_type": "markdown",
      "metadata": {
        "id": "NILsNyodzv2t"
      },
      "source": [
        "**EXERCISE:** Create a dictionary with some fruits and vegetables on the left side and whether it is a fruit or vegetable on the right side."
      ]
    },
    {
      "cell_type": "code",
      "metadata": {
        "id": "MSmuH4fjz8ji"
      },
      "source": [
        "fruit_or_vegetable = {\"apple\": \"fruit\",\n",
        "                      \"carrot\": \"vegetable\",\n",
        "                      \"lemon\": \"fruit\",\n",
        "                      \"lettuce\": \"vegetable\",\n",
        "                      \"blueberry\": \"fruit\",\n",
        "                      \"grape\": \"fruit\"}"
      ],
      "execution_count": null,
      "outputs": []
    },
    {
      "cell_type": "markdown",
      "metadata": {
        "id": "tTDL_CiifyPg"
      },
      "source": [
        "There is also an interesting way to make a dictionary by using the `zip()` function."
      ]
    },
    {
      "cell_type": "code",
      "metadata": {
        "colab": {
          "base_uri": "https://localhost:8080/"
        },
        "id": "t8-Y3g8efyfX",
        "outputId": "8df94d77-90cb-4f26-93b9-63c50f704d7e"
      },
      "source": [
        "keys = [\"seven\", \"eight\"]\n",
        "values = [7, 8]\n",
        "numbers = dict(zip(keys, values))\n",
        "print(numbers)"
      ],
      "execution_count": null,
      "outputs": [
        {
          "output_type": "stream",
          "text": [
            "{'seven': 7, 'eight': 8}\n"
          ],
          "name": "stdout"
        }
      ]
    },
    {
      "cell_type": "markdown",
      "metadata": {
        "id": "8qqbdKYVLwfT"
      },
      "source": [
        "## Accessing Items from Dictionaries"
      ]
    },
    {
      "cell_type": "markdown",
      "metadata": {
        "id": "TJr3_LRow464"
      },
      "source": [
        "Retrieving items from dictionaries is very similar to lists and tuples. You can easily retrieve values based on its key.\n",
        "\n",
        "This is just one way to make a dictionary. While there are other ways, I won't be going over them for simplicity."
      ]
    },
    {
      "cell_type": "code",
      "metadata": {
        "colab": {
          "base_uri": "https://localhost:8080/"
        },
        "id": "25Ys5uvfw4dC",
        "outputId": "bca6238d-f469-42a6-8fc2-0ea8616a393f"
      },
      "source": [
        "items_and_amount = {\"banana\": 4,\n",
        "                    \"milk\": 2,\n",
        "                    \"soda bottle\": 1}\n",
        "\n",
        "print(items_and_amount[\"banana\"])"
      ],
      "execution_count": null,
      "outputs": [
        {
          "output_type": "stream",
          "text": [
            "4\n"
          ],
          "name": "stdout"
        }
      ]
    },
    {
      "cell_type": "markdown",
      "metadata": {
        "id": "dNFILU8ebFT2"
      },
      "source": [
        "**EXERCISE:** print the value of one of the keys in your fruits and vegetables dictionary."
      ]
    },
    {
      "cell_type": "code",
      "metadata": {
        "colab": {
          "base_uri": "https://localhost:8080/"
        },
        "id": "zMjfT0O-bRJm",
        "outputId": "6f6d88f2-43b0-4375-ff92-1e56c3313086"
      },
      "source": [
        "fruit_or_vegetable = {\"apple\": \"fruit\",\n",
        "                      \"carrot\": \"vegetable\",\n",
        "                      \"lemon\": \"fruit\",\n",
        "                      \"lettuce\": \"vegetable\",\n",
        "                      \"blueberry\": \"fruit\",\n",
        "                      \"grape\": \"fruit\"}\n",
        "\n",
        "print(fruit_or_vegetable[\"lemon\"])"
      ],
      "execution_count": null,
      "outputs": [
        {
          "output_type": "stream",
          "text": [
            "fruit\n"
          ],
          "name": "stdout"
        }
      ]
    },
    {
      "cell_type": "markdown",
      "metadata": {
        "id": "Jpy02KWA03kZ"
      },
      "source": [
        "## Changing/Adding/Removing Content of/to/from Dictionaries"
      ]
    },
    {
      "cell_type": "markdown",
      "metadata": {
        "id": "TWwA_1R7yQ2U"
      },
      "source": [
        "There is a much more complex line of code that can obtain the key based on the value. If there are multiple of the same value, it returns the key of the first value.\n",
        "\n",
        "We won't be using this, but this is just to prove that it's possible."
      ]
    },
    {
      "cell_type": "code",
      "metadata": {
        "colab": {
          "base_uri": "https://localhost:8080/"
        },
        "id": "-AJH0TZtxz6o",
        "outputId": "72691fc8-72ad-42d4-f1d0-b6492a1251a7"
      },
      "source": [
        "items_and_amount = {\"banana\": 4,\n",
        "                    \"milk\": 2,\n",
        "                    \"soda bottle\": 1,\n",
        "                    \"orange juice\": 2}\n",
        "#      dict name vvv                 dict name vvv                 value vvv\n",
        "print(list(items_and_amount.keys())[list(items_and_amount.values()).index(2)])"
      ],
      "execution_count": null,
      "outputs": [
        {
          "output_type": "stream",
          "text": [
            "milk\n"
          ],
          "name": "stdout"
        }
      ]
    },
    {
      "cell_type": "markdown",
      "metadata": {
        "id": "vAw9X9Yt1VN-"
      },
      "source": [
        "To add to a dictionary, you use the following syntax. If the key already exists, it changes the value of that key."
      ]
    },
    {
      "cell_type": "code",
      "metadata": {
        "colab": {
          "base_uri": "https://localhost:8080/"
        },
        "id": "M0Lg58BkLA9A",
        "outputId": "3fd359dc-66f7-4aa8-db30-c080badf7a5c"
      },
      "source": [
        "items_and_amount = {\"banana\": 4,\n",
        "                    \"milk\": 2,\n",
        "                    \"soda bottle\": 1}\n",
        "\n",
        "# add a new key and value\n",
        "items_and_amount[\"orange juice\"] = 2\n",
        "# change the value of an existing key\n",
        "items_and_amount[\"banana\"] = 2\n",
        "\n",
        "print(items_and_amount[\"banana\"])"
      ],
      "execution_count": null,
      "outputs": [
        {
          "output_type": "stream",
          "text": [
            "2\n"
          ],
          "name": "stdout"
        }
      ]
    },
    {
      "cell_type": "markdown",
      "metadata": {
        "id": "QTykBlJPNrjN"
      },
      "source": [
        "To remove from a dictionary, use `pop()` with the key in the parentheses."
      ]
    },
    {
      "cell_type": "code",
      "metadata": {
        "colab": {
          "base_uri": "https://localhost:8080/"
        },
        "id": "CU309rpsNwLM",
        "outputId": "79de3438-50b4-4045-aec4-80c9b7915db7"
      },
      "source": [
        "items_and_amount = {\"banana\": 4,\n",
        "                    \"milk\": 2,\n",
        "                    \"soda bottle\": 1}\n",
        "\n",
        "# remove last item\n",
        "items_and_amount.pop(\"banana\")\n",
        "\n",
        "print(items_and_amount)"
      ],
      "execution_count": null,
      "outputs": [
        {
          "output_type": "stream",
          "text": [
            "{'milk': 2, 'soda bottle': 1}\n"
          ],
          "name": "stdout"
        }
      ]
    },
    {
      "cell_type": "markdown",
      "metadata": {
        "id": "-JH-zCAHOrMS"
      },
      "source": [
        "**EXERCISE:** Using your fruit and vegetable dictionary, add a new item."
      ]
    },
    {
      "cell_type": "code",
      "metadata": {
        "id": "DTnZaQDlO9uL"
      },
      "source": [
        "fruit_or_vegetable = {\"apple\": \"fruit\",\n",
        "                      \"carrot\": \"vegetable\",\n",
        "                      \"lemon\": \"fruit\",\n",
        "                      \"lettuce\": \"vegetable\",\n",
        "                      \"blueberry\": \"fruit\",\n",
        "                      \"grape\": \"fruit\"}\n",
        "\n",
        "fruit_or_vegetable[\"potato\"] = \"vegetable\""
      ],
      "execution_count": null,
      "outputs": []
    },
    {
      "cell_type": "markdown",
      "source": [
        "## Dictionary of Colors (Turtle)"
      ],
      "metadata": {
        "id": "yi21D-2PXOPX"
      }
    },
    {
      "cell_type": "markdown",
      "source": [
        "Some colors in Turtle have a string that means the same color. For example, `\"red\"` and `\"#ff0000\"` both give the same color."
      ],
      "metadata": {
        "id": "rg6ohBR8XRpI"
      }
    },
    {
      "cell_type": "code",
      "source": [
        "initializeTurtle()\n",
        "\n",
        "color(\"mediumpurple\")\n",
        "forward(100)\n",
        "color(\"white\")\n",
        "forward(100)"
      ],
      "metadata": {
        "colab": {
          "base_uri": "https://localhost:8080/",
          "height": 521
        },
        "id": "_WKb5Lx0XmH7",
        "outputId": "0479edf5-a436-4544-cb92-fd33c65b546d"
      },
      "execution_count": null,
      "outputs": [
        {
          "output_type": "display_data",
          "data": {
            "text/plain": [
              "<IPython.core.display.HTML object>"
            ],
            "text/html": [
              "\n",
              "      <svg width=\"800\" height=\"500\">\n",
              "        <rect width=\"100%\" height=\"100%\" fill=\"black\"/>\n",
              "        <line x1=\"400\" y1=\"250\" x2=\"400.0\" y2=\"150.0\" stroke-linecap=\"round\" style=\"stroke:mediumpurple;stroke-width:4\"/><line x1=\"400.0\" y1=\"150.0\" x2=\"400.0\" y2=\"50.0\" stroke-linecap=\"round\" style=\"stroke:white;stroke-width:4\"/>\n",
              "        <g visibility=visible transform=\"rotate(360,400.0,50.0) translate(382.0, 32.0)\">\n",
              "<path style=\" stroke:none;fill-rule:evenodd;fill:white;fill-opacity:1;\" d=\"M 18.214844 0.632812 C 16.109375 1.800781 15.011719 4.074219 15.074219 7.132812 L 15.085938 7.652344 L 14.785156 7.496094 C 13.476562 6.824219 11.957031 6.671875 10.40625 7.066406 C 8.46875 7.550781 6.515625 9.15625 4.394531 11.992188 C 3.0625 13.777344 2.679688 14.636719 3.042969 15.027344 L 3.15625 15.152344 L 3.519531 15.152344 C 4.238281 15.152344 4.828125 14.886719 8.1875 13.039062 C 9.386719 12.378906 10.371094 11.839844 10.378906 11.839844 C 10.386719 11.839844 10.355469 11.929688 10.304688 12.035156 C 9.832031 13.09375 9.257812 14.820312 8.96875 16.078125 C 7.914062 20.652344 8.617188 24.53125 11.070312 27.660156 C 11.351562 28.015625 11.363281 27.914062 10.972656 28.382812 C 8.925781 30.84375 7.945312 33.28125 8.238281 35.1875 C 8.289062 35.527344 8.28125 35.523438 8.917969 35.523438 C 10.941406 35.523438 13.074219 34.207031 15.136719 31.6875 C 15.359375 31.417969 15.328125 31.425781 15.5625 31.574219 C 16.292969 32.042969 18.023438 32.964844 18.175781 32.964844 C 18.335938 32.964844 19.941406 32.210938 20.828125 31.71875 C 20.996094 31.625 21.136719 31.554688 21.136719 31.558594 C 21.203125 31.664062 21.898438 32.414062 22.222656 32.730469 C 23.835938 34.300781 25.5625 35.132812 27.582031 35.300781 C 27.90625 35.328125 27.9375 35.308594 28.007812 34.984375 C 28.382812 33.242188 27.625 30.925781 25.863281 28.425781 L 25.542969 27.96875 L 25.699219 27.785156 C 28.945312 23.960938 29.132812 18.699219 26.257812 11.96875 L 26.207031 11.84375 L 27.945312 12.703125 C 31.53125 14.476562 32.316406 14.800781 33.03125 14.800781 C 33.976562 14.800781 33.78125 13.9375 32.472656 12.292969 C 28.519531 7.355469 25.394531 5.925781 21.921875 7.472656 L 21.558594 7.636719 L 21.578125 7.542969 C 21.699219 6.992188 21.761719 5.742188 21.699219 5.164062 C 21.496094 3.296875 20.664062 1.964844 19.003906 0.855469 C 18.480469 0.503906 18.457031 0.5 18.214844 0.632812\"/>\n",
              "</g>\n",
              "      </svg>\n",
              "    "
            ]
          },
          "metadata": {}
        }
      ]
    },
    {
      "cell_type": "markdown",
      "metadata": {
        "id": "OwFmAInTGoGj"
      },
      "source": [
        "# Which Iterable is the Best?"
      ]
    },
    {
      "cell_type": "markdown",
      "metadata": {
        "id": "fSnwk3tCGrib"
      },
      "source": [
        "We've talked about many iterables so far: lists, tuples, range, and dictionaries. Deciding on the best one to use depends on the situation.\n",
        "\n",
        "Lists and tuples will probably be used more than dictionaries for normal storage. If the data inside might or will change, use a list. Otherwise, use a tuple.\n",
        "\n",
        "Range is used a lot for loops. They are particularly useful for when you need to run the same code X times and/or you need a sequence of numbers.\n",
        "\n",
        "Dictionaries are good when it is better to use a specific key than an index, which is just a number."
      ]
    },
    {
      "cell_type": "markdown",
      "metadata": {
        "id": "BFppOiqbX-Tf"
      },
      "source": [
        "# Copying Iterables"
      ]
    },
    {
      "cell_type": "markdown",
      "metadata": {
        "id": "Hhg9nPqCYCkm"
      },
      "source": [
        "Before we look at copying iterables, let's look at this scenario first.\n",
        "\n",
        "Here, `y` is assigned to `x`, then `y` changes. What do you think will `x` and `y` be?"
      ]
    },
    {
      "cell_type": "code",
      "metadata": {
        "colab": {
          "base_uri": "https://localhost:8080/"
        },
        "id": "kTT52Ft1YRuw",
        "outputId": "fdc067f7-c6d9-40da-ee79-982a988a1541"
      },
      "source": [
        "x = 5\n",
        "y = x\n",
        "y += 1\n",
        "\n",
        "print(\"x is\", x)\n",
        "print(\"y is\", y)"
      ],
      "execution_count": null,
      "outputs": [
        {
          "output_type": "stream",
          "text": [
            "x is 5\n",
            "y is 6\n"
          ],
          "name": "stdout"
        }
      ]
    },
    {
      "cell_type": "markdown",
      "metadata": {
        "id": "k9OyAoj3YXxt"
      },
      "source": [
        "They are different. Nothing special. But if we do the same to a list, what will happen?"
      ]
    },
    {
      "cell_type": "code",
      "metadata": {
        "colab": {
          "base_uri": "https://localhost:8080/"
        },
        "id": "vhrSCk1WYiQi",
        "outputId": "a6a03884-bd23-499e-9a37-4be3dcb339b6"
      },
      "source": [
        "x = [5, 10]\n",
        "\n",
        "y = x\n",
        "\n",
        "y[0] = 6\n",
        "\n",
        "print(\"x is\", x)\n",
        "print(\"y is\", y)"
      ],
      "execution_count": null,
      "outputs": [
        {
          "output_type": "stream",
          "text": [
            "x is [6, 10]\n",
            "y is [6, 10]\n"
          ],
          "name": "stdout"
        }
      ]
    },
    {
      "cell_type": "markdown",
      "metadata": {
        "id": "gdtvWwO0YodI"
      },
      "source": [
        "They are the same now. This is the same with other iterables. This happens because Python tries to save storage by making both variables \"point\" to the same list. In reality, it's just 2 names for 1 list. This is called a \"shallow copy.\" For something like a number, Python doesn't do this. Instead, they do a \"hard copy,\" making a new instance of the number.\n",
        "\n",
        "So how do we hard copy a list? There is an interesting piece of code I recently discovered where you \"convert\" the list into a list. It isn't a conversion at all, but it is enough for Python to make a new instance of the list.\n",
        "\n"
      ]
    },
    {
      "cell_type": "code",
      "metadata": {
        "colab": {
          "base_uri": "https://localhost:8080/"
        },
        "id": "U1VhALjHIZpL",
        "outputId": "ca663d6a-2686-43ea-aff4-02539e029d94"
      },
      "source": [
        "x = [5, 10]\n",
        "\n",
        "y = list(x)\n",
        "\n",
        "y[0] = 6\n",
        "\n",
        "print(\"x is\", x)\n",
        "print(\"y is\", y)"
      ],
      "execution_count": null,
      "outputs": [
        {
          "output_type": "stream",
          "text": [
            "x is [5, 10]\n",
            "y is [6, 10]\n"
          ],
          "name": "stdout"
        }
      ]
    },
    {
      "cell_type": "markdown",
      "metadata": {
        "id": "io8_3v1nZtQF"
      },
      "source": [
        "This works for tuples and dictionaries too."
      ]
    },
    {
      "cell_type": "code",
      "metadata": {
        "colab": {
          "base_uri": "https://localhost:8080/"
        },
        "id": "wKvhfV04Zyso",
        "outputId": "91d7292c-463f-4572-8030-686b824d2c2d"
      },
      "source": [
        "items_and_amount = {\"banana\": 4,\n",
        "                    \"milk\": 2,\n",
        "                    \"soda bottle\": 1}\n",
        "\n",
        "items_and_amount_copy = dict(items_and_amount)\n",
        "\n",
        "items_and_amount_copy[\"banana\"] = 6\n",
        "\n",
        "print(\"items_and_amount is\", items_and_amount)\n",
        "print(\"items_and_amount_copy is\", items_and_amount_copy)"
      ],
      "execution_count": null,
      "outputs": [
        {
          "output_type": "stream",
          "text": [
            "items_and_amount is {'banana': 4, 'milk': 2, 'soda bottle': 1}\n",
            "items_and_amount_copy is {'banana': 6, 'milk': 2, 'soda bottle': 1}\n"
          ],
          "name": "stdout"
        }
      ]
    },
    {
      "cell_type": "markdown",
      "metadata": {
        "id": "RNfu-qZwbgdK"
      },
      "source": [
        "**EXERCISE:** Create a list with 4 booleans inside. Then, make a copy of it and use a loop to invert all the booleans. Print both the original list and the copy."
      ]
    },
    {
      "cell_type": "code",
      "metadata": {
        "colab": {
          "base_uri": "https://localhost:8080/"
        },
        "id": "WVFHBvtkb5L7",
        "outputId": "0183ae3d-09e7-4376-d23a-43f52b5b4efc"
      },
      "source": [
        "bool_list = [True, True, False, True]\n",
        "\n",
        "new_bool_list = list(bool_list)\n",
        "\n",
        "for idx in range(len(new_bool_list)):\n",
        "    new_bool_list[idx] = not new_bool_list[idx]\n",
        "\n",
        "print(bool_list)\n",
        "print(new_bool_list)"
      ],
      "execution_count": null,
      "outputs": [
        {
          "output_type": "stream",
          "text": [
            "[True, True, False, True]\n",
            "[False, False, True, False]\n"
          ],
          "name": "stdout"
        }
      ]
    },
    {
      "cell_type": "markdown",
      "source": [
        "# Control Flow with Turtle"
      ],
      "metadata": {
        "id": "3hC5q034ParM"
      }
    },
    {
      "cell_type": "code",
      "source": [
        "!pip install ColabTurtlePlus\n",
        "from ColabTurtlePlus.Turtle import *"
      ],
      "metadata": {
        "colab": {
          "base_uri": "https://localhost:8080/"
        },
        "id": "6NMjDLZnP1WG",
        "outputId": "85986080-f37f-427b-8580-6250c52aee0a"
      },
      "execution_count": null,
      "outputs": [
        {
          "output_type": "stream",
          "name": "stdout",
          "text": [
            "Looking in indexes: https://pypi.org/simple, https://us-python.pkg.dev/colab-wheels/public/simple/\n",
            "Collecting ColabTurtlePlus\n",
            "  Downloading ColabTurtlePlus-2.0.1-py3-none-any.whl (31 kB)\n",
            "Installing collected packages: ColabTurtlePlus\n",
            "Successfully installed ColabTurtlePlus-2.0.1\n",
            "Put clearscreen() as the first line in a cell (after the import command) to re-run turtle commands in the cell\n"
          ]
        }
      ]
    },
    {
      "cell_type": "markdown",
      "source": [
        "You can use loops and Turtle at the same time to repeat drawing actions. For example, this is a regular pentagon."
      ],
      "metadata": {
        "id": "HTIeM4pxPm0J"
      }
    },
    {
      "cell_type": "code",
      "source": [
        "clearscreen()\n",
        "setup(400, 400)\n",
        "speed(5)\n",
        "\n",
        "# draw a pentagon\n",
        "for i in range(5):\n",
        "    forward(100)\n",
        "    right(72)\n",
        "\n",
        "done()\n",
        "# 5 * 72 = 360, which is the amount of degrees needed to make a full loop"
      ],
      "metadata": {
        "colab": {
          "base_uri": "https://localhost:8080/",
          "height": 421
        },
        "id": "hUtUmoVq8f_Z",
        "outputId": "29df9875-3ff9-479e-a839-980225a9f5c0"
      },
      "execution_count": null,
      "outputs": [
        {
          "output_type": "display_data",
          "data": {
            "text/plain": [
              "<IPython.core.display.HTML object>"
            ],
            "text/html": [
              "\n",
              "      <svg width=\"400\" height=\"400\">  \n",
              "        <rect width=\"100%\" height=\"100%\" style=\"fill:white;stroke:;stroke-width:1\"/>\n",
              "        \n",
              "        \n",
              "        <line x1=\"200.0\" y1=\"200.0\" x2=\"300.0\" y2=\"200.0\" stroke-linecap=\"round\" style=\"stroke:black;stroke-width:1\" /><line x1=\"300.0\" y1=\"200.0\" x2=\"330.902\" y2=\"295.106\" stroke-linecap=\"round\" style=\"stroke:black;stroke-width:1\" /><line x1=\"330.902\" y1=\"295.106\" x2=\"250.0\" y2=\"353.885\" stroke-linecap=\"round\" style=\"stroke:black;stroke-width:1\" /><line x1=\"250.0\" y1=\"353.885\" x2=\"169.098\" y2=\"295.106\" stroke-linecap=\"round\" style=\"stroke:black;stroke-width:1\" /><line x1=\"169.098\" y1=\"295.106\" x2=\"200.0\" y2=\"200.0\" stroke-linecap=\"round\" style=\"stroke:black;stroke-width:1\" />\n",
              "        \n",
              "        \n",
              "        <g id=\"classic\" visibility=\"visible\" transform=\"rotate(-90,200.0,200.0) translate(200.0, 200.0)\">\n",
              "<polygon points=\"-5,-4.5 0,-2.5 5,-4.5 0,4.5\" transform=\"skewX(0) scale(1,1)\" style=\"stroke:black;fill:black;stroke-width:1\" />\n",
              "</g>\n",
              "      </svg>\n",
              "    "
            ]
          },
          "metadata": {}
        }
      ]
    },
    {
      "cell_type": "markdown",
      "source": [
        "**EXERCISE:** Make a hexagon."
      ],
      "metadata": {
        "id": "nImZiSraKC0v"
      }
    },
    {
      "cell_type": "code",
      "source": [
        "clearscreen()\n",
        "setup(400, 400)\n",
        "speed(0)\n",
        "\n",
        "# draw a pentagon\n",
        "for i in range(6):\n",
        "    forward(100)\n",
        "    right(60)\n",
        "\n",
        "done()"
      ],
      "metadata": {
        "colab": {
          "base_uri": "https://localhost:8080/",
          "height": 421
        },
        "id": "N81EIcuOQOXD",
        "outputId": "6e5e9140-73fd-467b-f02b-99d6fe847c6e"
      },
      "execution_count": null,
      "outputs": [
        {
          "output_type": "display_data",
          "data": {
            "text/plain": [
              "<IPython.core.display.HTML object>"
            ],
            "text/html": [
              "\n",
              "      <svg width=\"400\" height=\"400\">  \n",
              "        <rect width=\"100%\" height=\"100%\" style=\"fill:white;stroke:;stroke-width:1\"/>\n",
              "        \n",
              "        \n",
              "        <line x1=\"200.0\" y1=\"200.0\" x2=\"300.0\" y2=\"200.0\" stroke-linecap=\"round\" style=\"stroke:black;stroke-width:1\" /><line x1=\"300.0\" y1=\"200.0\" x2=\"350.0\" y2=\"286.603\" stroke-linecap=\"round\" style=\"stroke:black;stroke-width:1\" /><line x1=\"350.0\" y1=\"286.603\" x2=\"300.0\" y2=\"373.206\" stroke-linecap=\"round\" style=\"stroke:black;stroke-width:1\" /><line x1=\"300.0\" y1=\"373.206\" x2=\"200.0\" y2=\"373.206\" stroke-linecap=\"round\" style=\"stroke:black;stroke-width:1\" /><line x1=\"200.0\" y1=\"373.206\" x2=\"150.0\" y2=\"286.603\" stroke-linecap=\"round\" style=\"stroke:black;stroke-width:1\" /><line x1=\"150.0\" y1=\"286.603\" x2=\"200.0\" y2=\"200.0\" stroke-linecap=\"round\" style=\"stroke:black;stroke-width:1\" />\n",
              "        \n",
              "        \n",
              "        <g id=\"classic\" visibility=\"visible\" transform=\"rotate(-90,200.0,200.0) translate(200.0, 200.0)\">\n",
              "<polygon points=\"-5,-4.5 0,-2.5 5,-4.5 0,4.5\" transform=\"skewX(0) scale(1,1)\" style=\"stroke:black;fill:black;stroke-width:1\" />\n",
              "</g>\n",
              "      </svg>\n",
              "    "
            ]
          },
          "metadata": {}
        }
      ]
    },
    {
      "cell_type": "markdown",
      "source": [
        "**EXERCISE:** Make a polygon with some number of sides. The number of sides is determined by a variable."
      ],
      "metadata": {
        "id": "nKOPsTZKQZUp"
      }
    },
    {
      "cell_type": "code",
      "source": [
        "clearscreen()\n",
        "setup(400, 400)\n",
        "speed(0)\n",
        "\n",
        "# draw a polygon with some number of sides\n",
        "\n",
        "sides = 10\n",
        "\n",
        "for i in range(sides):\n",
        "    forward(500/sides) # this makes the shapes more consistently sized\n",
        "    right(360/sides)\n",
        "\n",
        "done()"
      ],
      "metadata": {
        "colab": {
          "base_uri": "https://localhost:8080/",
          "height": 421
        },
        "id": "Mod7OVGN8SVq",
        "outputId": "f58f4d1d-600e-4a95-ebe7-4792c3c7461c"
      },
      "execution_count": null,
      "outputs": [
        {
          "output_type": "display_data",
          "data": {
            "text/plain": [
              "<IPython.core.display.HTML object>"
            ],
            "text/html": [
              "\n",
              "      <svg width=\"400\" height=\"400\">  \n",
              "        <rect width=\"100%\" height=\"100%\" style=\"fill:white;stroke:;stroke-width:1\"/>\n",
              "        \n",
              "        \n",
              "        <line x1=\"200.0\" y1=\"200.0\" x2=\"250.0\" y2=\"200.0\" stroke-linecap=\"round\" style=\"stroke:black;stroke-width:1\" /><line x1=\"250.0\" y1=\"200.0\" x2=\"290.451\" y2=\"229.389\" stroke-linecap=\"round\" style=\"stroke:black;stroke-width:1\" /><line x1=\"290.451\" y1=\"229.389\" x2=\"305.902\" y2=\"276.942\" stroke-linecap=\"round\" style=\"stroke:black;stroke-width:1\" /><line x1=\"305.902\" y1=\"276.942\" x2=\"290.451\" y2=\"324.495\" stroke-linecap=\"round\" style=\"stroke:black;stroke-width:1\" /><line x1=\"290.451\" y1=\"324.495\" x2=\"250.0\" y2=\"353.884\" stroke-linecap=\"round\" style=\"stroke:black;stroke-width:1\" /><line x1=\"250.0\" y1=\"353.884\" x2=\"200.0\" y2=\"353.884\" stroke-linecap=\"round\" style=\"stroke:black;stroke-width:1\" /><line x1=\"200.0\" y1=\"353.884\" x2=\"159.549\" y2=\"324.495\" stroke-linecap=\"round\" style=\"stroke:black;stroke-width:1\" /><line x1=\"159.549\" y1=\"324.495\" x2=\"144.098\" y2=\"276.942\" stroke-linecap=\"round\" style=\"stroke:black;stroke-width:1\" /><line x1=\"144.098\" y1=\"276.942\" x2=\"159.549\" y2=\"229.389\" stroke-linecap=\"round\" style=\"stroke:black;stroke-width:1\" /><line x1=\"159.549\" y1=\"229.389\" x2=\"200.0\" y2=\"200.0\" stroke-linecap=\"round\" style=\"stroke:black;stroke-width:1\" />\n",
              "        \n",
              "        \n",
              "        <g id=\"classic\" visibility=\"visible\" transform=\"rotate(-90.0,200.0,200.0) translate(200.0, 200.0)\">\n",
              "<polygon points=\"-5,-4.5 0,-2.5 5,-4.5 0,4.5\" transform=\"skewX(0) scale(1,1)\" style=\"stroke:black;fill:black;stroke-width:1\" />\n",
              "</g>\n",
              "      </svg>\n",
              "    "
            ]
          },
          "metadata": {}
        }
      ]
    },
    {
      "cell_type": "markdown",
      "source": [
        "Playing with values can create interesting shapes, like this rainbow spiral.\n",
        "\n",
        "Line 7 runs through 12 rainbow colors.\n",
        "\n",
        "Line 8 makes it so that a slighly longer line is drawn every iteration, making the drawing spiral out."
      ],
      "metadata": {
        "id": "5qj0D5GdQ9Zb"
      }
    },
    {
      "cell_type": "code",
      "source": [
        "clearscreen()\n",
        "setup(400, 400)\n",
        "\n",
        "rainbow = (\"#ff0000\", \"#ff8800\", \"#ffff00\", \"#88ff00\",  \"#00ff00\", \"#00ff88\", \"#00ffff\", \"#0088ff\", \"#0000ff\", \"#8800ff\", \"#ff00ff\", \"#ff0088\")\n",
        "\n",
        "speed(13)\n",
        "pensize(5)\n",
        "for i in range(200):\n",
        "    color(rainbow[i%len(rainbow)])\n",
        "    forward(i/10)\n",
        "    right(8)\n",
        "\n",
        "done()"
      ],
      "metadata": {
        "colab": {
          "base_uri": "https://localhost:8080/",
          "height": 421
        },
        "id": "FbDZ2jDE3yBx",
        "outputId": "ff688ee9-a833-43d1-8858-6cf4c79b3070"
      },
      "execution_count": null,
      "outputs": [
        {
          "output_type": "display_data",
          "data": {
            "text/plain": [
              "<IPython.core.display.HTML object>"
            ],
            "text/html": [
              "\n",
              "      <svg width=\"400\" height=\"400\">  \n",
              "        <rect width=\"100%\" height=\"100%\" style=\"fill:white;stroke:;stroke-width:1\"/>\n",
              "        \n",
              "        \n",
              "        <line x1=\"200.0\" y1=\"200.0\" x2=\"200.0\" y2=\"200.0\" stroke-linecap=\"round\" style=\"stroke:#ff0000;stroke-width:5\" /><line x1=\"200.0\" y1=\"200.0\" x2=\"200.099\" y2=\"200.014\" stroke-linecap=\"round\" style=\"stroke:#ff8800;stroke-width:5\" /><line x1=\"200.099\" y1=\"200.014\" x2=\"200.291\" y2=\"200.069\" stroke-linecap=\"round\" style=\"stroke:#ffff00;stroke-width:5\" /><line x1=\"200.291\" y1=\"200.069\" x2=\"200.565\" y2=\"200.191\" stroke-linecap=\"round\" style=\"stroke:#88ff00;stroke-width:5\" /><line x1=\"200.565\" y1=\"200.191\" x2=\"200.904\" y2=\"200.403\" stroke-linecap=\"round\" style=\"stroke:#00ff00;stroke-width:5\" /><line x1=\"200.904\" y1=\"200.403\" x2=\"201.287\" y2=\"200.724\" stroke-linecap=\"round\" style=\"stroke:#00ff88;stroke-width:5\" /><line x1=\"201.287\" y1=\"200.724\" x2=\"201.688\" y2=\"201.17\" stroke-linecap=\"round\" style=\"stroke:#00ffff;stroke-width:5\" /><line x1=\"201.688\" y1=\"201.17\" x2=\"202.079\" y2=\"201.75\" stroke-linecap=\"round\" style=\"stroke:#0088ff;stroke-width:5\" /><line x1=\"202.079\" y1=\"201.75\" x2=\"202.43\" y2=\"202.469\" stroke-linecap=\"round\" style=\"stroke:#0000ff;stroke-width:5\" /><line x1=\"202.43\" y1=\"202.469\" x2=\"202.708\" y2=\"203.325\" stroke-linecap=\"round\" style=\"stroke:#8800ff;stroke-width:5\" /><line x1=\"202.708\" y1=\"203.325\" x2=\"202.882\" y2=\"204.31\" stroke-linecap=\"round\" style=\"stroke:#ff00ff;stroke-width:5\" /><line x1=\"202.882\" y1=\"204.31\" x2=\"202.92\" y2=\"205.409\" stroke-linecap=\"round\" style=\"stroke:#ff0088;stroke-width:5\" /><line x1=\"202.92\" y1=\"205.409\" x2=\"202.795\" y2=\"206.602\" stroke-linecap=\"round\" style=\"stroke:#ff0000;stroke-width:5\" /><line x1=\"202.795\" y1=\"206.602\" x2=\"202.481\" y2=\"207.863\" stroke-linecap=\"round\" style=\"stroke:#ff8800;stroke-width:5\" /><line x1=\"202.481\" y1=\"207.863\" x2=\"201.957\" y2=\"209.161\" stroke-linecap=\"round\" style=\"stroke:#ffff00;stroke-width:5\" /><line x1=\"201.957\" y1=\"209.161\" x2=\"201.207\" y2=\"210.46\" stroke-linecap=\"round\" style=\"stroke:#88ff00;stroke-width:5\" /><line x1=\"201.207\" y1=\"210.46\" x2=\"200.222\" y2=\"211.721\" stroke-linecap=\"round\" style=\"stroke:#00ff00;stroke-width:5\" /><line x1=\"200.222\" y1=\"211.721\" x2=\"198.999\" y2=\"212.902\" stroke-linecap=\"round\" style=\"stroke:#00ff88;stroke-width:5\" /><line x1=\"198.999\" y1=\"212.902\" x2=\"197.543\" y2=\"213.96\" stroke-linecap=\"round\" style=\"stroke:#00ffff;stroke-width:5\" /><line x1=\"197.543\" y1=\"213.96\" x2=\"195.865\" y2=\"214.852\" stroke-linecap=\"round\" style=\"stroke:#0088ff;stroke-width:5\" /><line x1=\"195.865\" y1=\"214.852\" x2=\"193.986\" y2=\"215.536\" stroke-linecap=\"round\" style=\"stroke:#0000ff;stroke-width:5\" /><line x1=\"193.986\" y1=\"215.536\" x2=\"191.932\" y2=\"215.973\" stroke-linecap=\"round\" style=\"stroke:#8800ff;stroke-width:5\" /><line x1=\"191.932\" y1=\"215.973\" x2=\"189.737\" y2=\"216.126\" stroke-linecap=\"round\" style=\"stroke:#ff00ff;stroke-width:5\" /><line x1=\"189.737\" y1=\"216.126\" x2=\"187.443\" y2=\"215.966\" stroke-linecap=\"round\" style=\"stroke:#ff0088;stroke-width:5\" /><line x1=\"187.443\" y1=\"215.966\" x2=\"185.095\" y2=\"215.467\" stroke-linecap=\"round\" style=\"stroke:#ff0000;stroke-width:5\" /><line x1=\"185.095\" y1=\"215.467\" x2=\"182.746\" y2=\"214.612\" stroke-linecap=\"round\" style=\"stroke:#ff8800;stroke-width:5\" /><line x1=\"182.746\" y1=\"214.612\" x2=\"180.45\" y2=\"213.391\" stroke-linecap=\"round\" style=\"stroke:#ffff00;stroke-width:5\" /><line x1=\"180.45\" y1=\"213.391\" x2=\"178.266\" y2=\"211.804\" stroke-linecap=\"round\" style=\"stroke:#88ff00;stroke-width:5\" /><line x1=\"178.266\" y1=\"211.804\" x2=\"176.252\" y2=\"209.859\" stroke-linecap=\"round\" style=\"stroke:#00ff00;stroke-width:5\" /><line x1=\"176.252\" y1=\"209.859\" x2=\"174.467\" y2=\"207.574\" stroke-linecap=\"round\" style=\"stroke:#00ff88;stroke-width:5\" /><line x1=\"174.467\" y1=\"207.574\" x2=\"172.967\" y2=\"204.976\" stroke-linecap=\"round\" style=\"stroke:#00ffff;stroke-width:5\" /><line x1=\"172.967\" y1=\"204.976\" x2=\"171.806\" y2=\"202.102\" stroke-linecap=\"round\" style=\"stroke:#0088ff;stroke-width:5\" /><line x1=\"171.806\" y1=\"202.102\" x2=\"171.032\" y2=\"198.997\" stroke-linecap=\"round\" style=\"stroke:#0000ff;stroke-width:5\" /><line x1=\"171.032\" y1=\"198.997\" x2=\"170.687\" y2=\"195.715\" stroke-linecap=\"round\" style=\"stroke:#8800ff;stroke-width:5\" /><line x1=\"170.687\" y1=\"195.715\" x2=\"170.806\" y2=\"192.317\" stroke-linecap=\"round\" style=\"stroke:#ff00ff;stroke-width:5\" /><line x1=\"170.806\" y1=\"192.317\" x2=\"171.414\" y2=\"188.87\" stroke-linecap=\"round\" style=\"stroke:#ff0088;stroke-width:5\" /><line x1=\"171.414\" y1=\"188.87\" x2=\"172.526\" y2=\"185.446\" stroke-linecap=\"round\" style=\"stroke:#ff0000;stroke-width:5\" /><line x1=\"172.526\" y1=\"185.446\" x2=\"174.148\" y2=\"182.12\" stroke-linecap=\"round\" style=\"stroke:#ff8800;stroke-width:5\" /><line x1=\"174.148\" y1=\"182.12\" x2=\"176.273\" y2=\"178.97\" stroke-linecap=\"round\" style=\"stroke:#ffff00;stroke-width:5\" /><line x1=\"176.273\" y1=\"178.97\" x2=\"178.883\" y2=\"176.072\" stroke-linecap=\"round\" style=\"stroke:#88ff00;stroke-width:5\" /><line x1=\"178.883\" y1=\"176.072\" x2=\"181.947\" y2=\"173.501\" stroke-linecap=\"round\" style=\"stroke:#00ff00;stroke-width:5\" /><line x1=\"181.947\" y1=\"173.501\" x2=\"185.424\" y2=\"171.328\" stroke-linecap=\"round\" style=\"stroke:#00ff88;stroke-width:5\" /><line x1=\"185.424\" y1=\"171.328\" x2=\"189.261\" y2=\"169.62\" stroke-linecap=\"round\" style=\"stroke:#00ffff;stroke-width:5\" /><line x1=\"189.261\" y1=\"169.62\" x2=\"193.394\" y2=\"168.435\" stroke-linecap=\"round\" style=\"stroke:#0088ff;stroke-width:5\" /><line x1=\"193.394\" y1=\"168.435\" x2=\"197.751\" y2=\"167.823\" stroke-linecap=\"round\" style=\"stroke:#0000ff;stroke-width:5\" /><line x1=\"197.751\" y1=\"167.823\" x2=\"202.251\" y2=\"167.823\" stroke-linecap=\"round\" style=\"stroke:#8800ff;stroke-width:5\" /><line x1=\"202.251\" y1=\"167.823\" x2=\"206.806\" y2=\"168.463\" stroke-linecap=\"round\" style=\"stroke:#ff00ff;stroke-width:5\" /><line x1=\"206.806\" y1=\"168.463\" x2=\"211.324\" y2=\"169.758\" stroke-linecap=\"round\" style=\"stroke:#ff0088;stroke-width:5\" /><line x1=\"211.324\" y1=\"169.758\" x2=\"215.709\" y2=\"171.71\" stroke-linecap=\"round\" style=\"stroke:#ff0000;stroke-width:5\" /><line x1=\"215.709\" y1=\"171.71\" x2=\"219.864\" y2=\"174.307\" stroke-linecap=\"round\" style=\"stroke:#ff8800;stroke-width:5\" /><line x1=\"219.864\" y1=\"174.307\" x2=\"223.694\" y2=\"177.521\" stroke-linecap=\"round\" style=\"stroke:#ffff00;stroke-width:5\" /><line x1=\"223.694\" y1=\"177.521\" x2=\"227.107\" y2=\"181.311\" stroke-linecap=\"round\" style=\"stroke:#88ff00;stroke-width:5\" /><line x1=\"227.107\" y1=\"181.311\" x2=\"230.015\" y2=\"185.622\" stroke-linecap=\"round\" style=\"stroke:#00ff00;stroke-width:5\" /><line x1=\"230.015\" y1=\"185.622\" x2=\"232.338\" y2=\"190.386\" stroke-linecap=\"round\" style=\"stroke:#00ff88;stroke-width:5\" /><line x1=\"232.338\" y1=\"190.386\" x2=\"234.007\" y2=\"195.522\" stroke-linecap=\"round\" style=\"stroke:#00ffff;stroke-width:5\" /><line x1=\"234.007\" y1=\"195.522\" x2=\"234.962\" y2=\"200.938\" stroke-linecap=\"round\" style=\"stroke:#0088ff;stroke-width:5\" /><line x1=\"234.962\" y1=\"200.938\" x2=\"235.157\" y2=\"206.535\" stroke-linecap=\"round\" style=\"stroke:#0000ff;stroke-width:5\" /><line x1=\"235.157\" y1=\"206.535\" x2=\"234.561\" y2=\"212.204\" stroke-linecap=\"round\" style=\"stroke:#8800ff;stroke-width:5\" /><line x1=\"234.561\" y1=\"212.204\" x2=\"233.158\" y2=\"217.832\" stroke-linecap=\"round\" style=\"stroke:#ff00ff;stroke-width:5\" /><line x1=\"233.158\" y1=\"217.832\" x2=\"230.948\" y2=\"223.302\" stroke-linecap=\"round\" style=\"stroke:#ff0088;stroke-width:5\" /><line x1=\"230.948\" y1=\"223.302\" x2=\"227.948\" y2=\"228.498\" stroke-linecap=\"round\" style=\"stroke:#ff0000;stroke-width:5\" /><line x1=\"227.948\" y1=\"228.498\" x2=\"224.192\" y2=\"233.305\" stroke-linecap=\"round\" style=\"stroke:#ff8800;stroke-width:5\" /><line x1=\"224.192\" y1=\"233.305\" x2=\"219.732\" y2=\"237.612\" stroke-linecap=\"round\" style=\"stroke:#ffff00;stroke-width:5\" /><line x1=\"219.732\" y1=\"237.612\" x2=\"214.635\" y2=\"241.315\" stroke-linecap=\"round\" style=\"stroke:#88ff00;stroke-width:5\" /><line x1=\"214.635\" y1=\"241.315\" x2=\"208.984\" y2=\"244.32\" stroke-linecap=\"round\" style=\"stroke:#00ff00;stroke-width:5\" /><line x1=\"208.984\" y1=\"244.32\" x2=\"202.876\" y2=\"246.543\" stroke-linecap=\"round\" style=\"stroke:#00ff88;stroke-width:5\" /><line x1=\"202.876\" y1=\"246.543\" x2=\"196.42\" y2=\"247.915\" stroke-linecap=\"round\" style=\"stroke:#00ffff;stroke-width:5\" /><line x1=\"196.42\" y1=\"247.915\" x2=\"189.736\" y2=\"248.382\" stroke-linecap=\"round\" style=\"stroke:#0088ff;stroke-width:5\" /><line x1=\"189.736\" y1=\"248.382\" x2=\"182.953\" y2=\"247.908\" stroke-linecap=\"round\" style=\"stroke:#0000ff;stroke-width:5\" /><line x1=\"182.953\" y1=\"247.908\" x2=\"176.204\" y2=\"246.473\" stroke-linecap=\"round\" style=\"stroke:#8800ff;stroke-width:5\" /><line x1=\"176.204\" y1=\"246.473\" x2=\"169.626\" y2=\"244.079\" stroke-linecap=\"round\" style=\"stroke:#ff00ff;stroke-width:5\" /><line x1=\"169.626\" y1=\"244.079\" x2=\"163.357\" y2=\"240.746\" stroke-linecap=\"round\" style=\"stroke:#ff0088;stroke-width:5\" /><line x1=\"163.357\" y1=\"240.746\" x2=\"157.532\" y2=\"236.514\" stroke-linecap=\"round\" style=\"stroke:#ff0000;stroke-width:5\" /><line x1=\"157.532\" y1=\"236.514\" x2=\"152.281\" y2=\"231.443\" stroke-linecap=\"round\" style=\"stroke:#ff8800;stroke-width:5\" /><line x1=\"152.281\" y1=\"231.443\" x2=\"147.725\" y2=\"225.612\" stroke-linecap=\"round\" style=\"stroke:#ffff00;stroke-width:5\" /><line x1=\"147.725\" y1=\"225.612\" x2=\"143.975\" y2=\"219.117\" stroke-linecap=\"round\" style=\"stroke:#88ff00;stroke-width:5\" /><line x1=\"143.975\" y1=\"219.117\" x2=\"141.128\" y2=\"212.07\" stroke-linecap=\"round\" style=\"stroke:#00ff00;stroke-width:5\" /><line x1=\"141.128\" y1=\"212.07\" x2=\"139.265\" y2=\"204.599\" stroke-linecap=\"round\" style=\"stroke:#00ff88;stroke-width:5\" /><line x1=\"139.265\" y1=\"204.599\" x2=\"138.45\" y2=\"196.842\" stroke-linecap=\"round\" style=\"stroke:#00ffff;stroke-width:5\" /><line x1=\"138.45\" y1=\"196.842\" x2=\"138.726\" y2=\"188.947\" stroke-linecap=\"round\" style=\"stroke:#0088ff;stroke-width:5\" /><line x1=\"138.726\" y1=\"188.947\" x2=\"140.115\" y2=\"181.069\" stroke-linecap=\"round\" style=\"stroke:#0000ff;stroke-width:5\" /><line x1=\"140.115\" y1=\"181.069\" x2=\"142.618\" y2=\"173.365\" stroke-linecap=\"round\" style=\"stroke:#8800ff;stroke-width:5\" /><line x1=\"142.618\" y1=\"173.365\" x2=\"146.213\" y2=\"165.995\" stroke-linecap=\"round\" style=\"stroke:#ff00ff;stroke-width:5\" /><line x1=\"146.213\" y1=\"165.995\" x2=\"150.854\" y2=\"159.114\" stroke-linecap=\"round\" style=\"stroke:#ff0088;stroke-width:5\" /><line x1=\"150.854\" y1=\"159.114\" x2=\"156.475\" y2=\"152.872\" stroke-linecap=\"round\" style=\"stroke:#ff0000;stroke-width:5\" /><line x1=\"156.475\" y1=\"152.872\" x2=\"162.986\" y2=\"147.408\" stroke-linecap=\"round\" style=\"stroke:#ff8800;stroke-width:5\" /><line x1=\"162.986\" y1=\"147.408\" x2=\"170.279\" y2=\"142.851\" stroke-linecap=\"round\" style=\"stroke:#ffff00;stroke-width:5\" /><line x1=\"170.279\" y1=\"142.851\" x2=\"178.227\" y2=\"139.312\" stroke-linecap=\"round\" style=\"stroke:#88ff00;stroke-width:5\" /><line x1=\"178.227\" y1=\"139.312\" x2=\"186.686\" y2=\"136.886\" stroke-linecap=\"round\" style=\"stroke:#00ff00;stroke-width:5\" /><line x1=\"186.686\" y1=\"136.886\" x2=\"195.499\" y2=\"135.647\" stroke-linecap=\"round\" style=\"stroke:#00ff88;stroke-width:5\" /><line x1=\"195.499\" y1=\"135.647\" x2=\"204.499\" y2=\"135.647\" stroke-linecap=\"round\" style=\"stroke:#00ffff;stroke-width:5\" /><line x1=\"204.499\" y1=\"135.647\" x2=\"213.51\" y2=\"136.913\" stroke-linecap=\"round\" style=\"stroke:#0088ff;stroke-width:5\" /><line x1=\"213.51\" y1=\"136.913\" x2=\"222.354\" y2=\"139.449\" stroke-linecap=\"round\" style=\"stroke:#0000ff;stroke-width:5\" /><line x1=\"222.354\" y1=\"139.449\" x2=\"230.85\" y2=\"143.232\" stroke-linecap=\"round\" style=\"stroke:#8800ff;stroke-width:5\" /><line x1=\"230.85\" y1=\"143.232\" x2=\"238.822\" y2=\"148.213\" stroke-linecap=\"round\" style=\"stroke:#ff00ff;stroke-width:5\" /><line x1=\"238.822\" y1=\"148.213\" x2=\"246.099\" y2=\"154.319\" stroke-linecap=\"round\" style=\"stroke:#ff0088;stroke-width:5\" /><line x1=\"246.099\" y1=\"154.319\" x2=\"252.523\" y2=\"161.453\" stroke-linecap=\"round\" style=\"stroke:#ff0000;stroke-width:5\" /><line x1=\"252.523\" y1=\"161.453\" x2=\"257.947\" y2=\"169.495\" stroke-linecap=\"round\" style=\"stroke:#ff8800;stroke-width:5\" /><line x1=\"257.947\" y1=\"169.495\" x2=\"262.243\" y2=\"178.303\" stroke-linecap=\"round\" style=\"stroke:#ffff00;stroke-width:5\" /><line x1=\"262.243\" y1=\"178.303\" x2=\"265.302\" y2=\"187.718\" stroke-linecap=\"round\" style=\"stroke:#88ff00;stroke-width:5\" /><line x1=\"265.302\" y1=\"187.718\" x2=\"267.038\" y2=\"197.566\" stroke-linecap=\"round\" style=\"stroke:#00ff00;stroke-width:5\" /><line x1=\"267.038\" y1=\"197.566\" x2=\"267.39\" y2=\"207.66\" stroke-linecap=\"round\" style=\"stroke:#00ff88;stroke-width:5\" /><line x1=\"267.39\" y1=\"207.66\" x2=\"266.324\" y2=\"217.804\" stroke-linecap=\"round\" style=\"stroke:#00ffff;stroke-width:5\" /><line x1=\"266.324\" y1=\"217.804\" x2=\"263.832\" y2=\"227.798\" stroke-linecap=\"round\" style=\"stroke:#0088ff;stroke-width:5\" /><line x1=\"263.832\" y1=\"227.798\" x2=\"259.936\" y2=\"237.441\" stroke-linecap=\"round\" style=\"stroke:#0000ff;stroke-width:5\" /><line x1=\"259.936\" y1=\"237.441\" x2=\"254.686\" y2=\"246.534\" stroke-linecap=\"round\" style=\"stroke:#8800ff;stroke-width:5\" /><line x1=\"254.686\" y1=\"246.534\" x2=\"248.16\" y2=\"254.887\" stroke-linecap=\"round\" style=\"stroke:#ff00ff;stroke-width:5\" /><line x1=\"248.16\" y1=\"254.887\" x2=\"240.463\" y2=\"262.32\" stroke-linecap=\"round\" style=\"stroke:#ff0088;stroke-width:5\" /><line x1=\"240.463\" y1=\"262.32\" x2=\"231.726\" y2=\"268.668\" stroke-linecap=\"round\" style=\"stroke:#ff0000;stroke-width:5\" /><line x1=\"231.726\" y1=\"268.668\" x2=\"222.102\" y2=\"273.785\" stroke-linecap=\"round\" style=\"stroke:#ff8800;stroke-width:5\" /><line x1=\"222.102\" y1=\"273.785\" x2=\"211.765\" y2=\"277.547\" stroke-linecap=\"round\" style=\"stroke:#ffff00;stroke-width:5\" /><line x1=\"211.765\" y1=\"277.547\" x2=\"200.908\" y2=\"279.855\" stroke-linecap=\"round\" style=\"stroke:#88ff00;stroke-width:5\" /><line x1=\"200.908\" y1=\"279.855\" x2=\"189.735\" y2=\"280.636\" stroke-linecap=\"round\" style=\"stroke:#00ff00;stroke-width:5\" /><line x1=\"189.735\" y1=\"280.636\" x2=\"178.463\" y2=\"279.848\" stroke-linecap=\"round\" style=\"stroke:#00ff88;stroke-width:5\" /><line x1=\"178.463\" y1=\"279.848\" x2=\"167.312\" y2=\"277.478\" stroke-linecap=\"round\" style=\"stroke:#00ffff;stroke-width:5\" /><line x1=\"167.312\" y1=\"277.478\" x2=\"156.506\" y2=\"273.545\" stroke-linecap=\"round\" style=\"stroke:#0088ff;stroke-width:5\" /><line x1=\"156.506\" y1=\"273.545\" x2=\"146.264\" y2=\"268.099\" stroke-linecap=\"round\" style=\"stroke:#0000ff;stroke-width:5\" /><line x1=\"146.264\" y1=\"268.099\" x2=\"136.799\" y2=\"261.222\" stroke-linecap=\"round\" style=\"stroke:#8800ff;stroke-width:5\" /><line x1=\"136.799\" y1=\"261.222\" x2=\"128.311\" y2=\"253.025\" stroke-linecap=\"round\" style=\"stroke:#ff00ff;stroke-width:5\" /><line x1=\"128.311\" y1=\"253.025\" x2=\"120.985\" y2=\"243.648\" stroke-linecap=\"round\" style=\"stroke:#ff0088;stroke-width:5\" /><line x1=\"120.985\" y1=\"243.648\" x2=\"114.985\" y2=\"233.256\" stroke-linecap=\"round\" style=\"stroke:#ff0000;stroke-width:5\" /><line x1=\"114.985\" y1=\"233.256\" x2=\"110.452\" y2=\"222.037\" stroke-linecap=\"round\" style=\"stroke:#ff8800;stroke-width:5\" /><line x1=\"110.452\" y1=\"222.037\" x2=\"107.501\" y2=\"210.199\" stroke-linecap=\"round\" style=\"stroke:#ffff00;stroke-width:5\" /><line x1=\"107.501\" y1=\"210.199\" x2=\"106.215\" y2=\"197.966\" stroke-linecap=\"round\" style=\"stroke:#88ff00;stroke-width:5\" /><line x1=\"106.215\" y1=\"197.966\" x2=\"106.648\" y2=\"185.574\" stroke-linecap=\"round\" style=\"stroke:#00ff00;stroke-width:5\" /><line x1=\"106.648\" y1=\"185.574\" x2=\"108.819\" y2=\"173.264\" stroke-linecap=\"round\" style=\"stroke:#00ff88;stroke-width:5\" /><line x1=\"108.819\" y1=\"173.264\" x2=\"112.713\" y2=\"161.281\" stroke-linecap=\"round\" style=\"stroke:#00ffff;stroke-width:5\" /><line x1=\"112.713\" y1=\"161.281\" x2=\"118.28\" y2=\"149.866\" stroke-linecap=\"round\" style=\"stroke:#0088ff;stroke-width:5\" /><line x1=\"118.28\" y1=\"149.866\" x2=\"125.438\" y2=\"139.254\" stroke-linecap=\"round\" style=\"stroke:#0000ff;stroke-width:5\" /><line x1=\"125.438\" y1=\"139.254\" x2=\"134.07\" y2=\"129.667\" stroke-linecap=\"round\" style=\"stroke:#8800ff;stroke-width:5\" /><line x1=\"134.07\" y1=\"129.667\" x2=\"144.029\" y2=\"121.311\" stroke-linecap=\"round\" style=\"stroke:#ff00ff;stroke-width:5\" /><line x1=\"144.029\" y1=\"121.311\" x2=\"155.138\" y2=\"114.369\" stroke-linecap=\"round\" style=\"stroke:#ff0088;stroke-width:5\" /><line x1=\"155.138\" y1=\"114.369\" x2=\"167.197\" y2=\"109.0\" stroke-linecap=\"round\" style=\"stroke:#ff0000;stroke-width:5\" /><line x1=\"167.197\" y1=\"109.0\" x2=\"179.982\" y2=\"105.334\" stroke-linecap=\"round\" style=\"stroke:#ff8800;stroke-width:5\" /><line x1=\"179.982\" y1=\"105.334\" x2=\"193.252\" y2=\"103.469\" stroke-linecap=\"round\" style=\"stroke:#ffff00;stroke-width:5\" /><line x1=\"193.252\" y1=\"103.469\" x2=\"206.752\" y2=\"103.469\" stroke-linecap=\"round\" style=\"stroke:#88ff00;stroke-width:5\" /><line x1=\"206.752\" y1=\"103.469\" x2=\"220.22\" y2=\"105.362\" stroke-linecap=\"round\" style=\"stroke:#00ff00;stroke-width:5\" /><line x1=\"220.22\" y1=\"105.362\" x2=\"233.389\" y2=\"109.138\" stroke-linecap=\"round\" style=\"stroke:#00ff88;stroke-width:5\" /><line x1=\"233.389\" y1=\"109.138\" x2=\"245.996\" y2=\"114.751\" stroke-linecap=\"round\" style=\"stroke:#00ffff;stroke-width:5\" /><line x1=\"245.996\" y1=\"114.751\" x2=\"257.784\" y2=\"122.117\" stroke-linecap=\"round\" style=\"stroke:#0088ff;stroke-width:5\" /><line x1=\"257.784\" y1=\"122.117\" x2=\"268.509\" y2=\"131.116\" stroke-linecap=\"round\" style=\"stroke:#0000ff;stroke-width:5\" /><line x1=\"268.509\" y1=\"131.116\" x2=\"277.944\" y2=\"141.594\" stroke-linecap=\"round\" style=\"stroke:#8800ff;stroke-width:5\" /><line x1=\"277.944\" y1=\"141.594\" x2=\"285.885\" y2=\"153.366\" stroke-linecap=\"round\" style=\"stroke:#ff00ff;stroke-width:5\" /><line x1=\"285.885\" y1=\"153.366\" x2=\"292.154\" y2=\"166.219\" stroke-linecap=\"round\" style=\"stroke:#ff0088;stroke-width:5\" /><line x1=\"292.154\" y1=\"166.219\" x2=\"296.604\" y2=\"179.914\" stroke-linecap=\"round\" style=\"stroke:#ff0000;stroke-width:5\" /><line x1=\"296.604\" y1=\"179.914\" x2=\"299.122\" y2=\"194.194\" stroke-linecap=\"round\" style=\"stroke:#ff8800;stroke-width:5\" /><line x1=\"299.122\" y1=\"194.194\" x2=\"299.632\" y2=\"208.785\" stroke-linecap=\"round\" style=\"stroke:#ffff00;stroke-width:5\" /><line x1=\"299.632\" y1=\"208.785\" x2=\"298.095\" y2=\"223.404\" stroke-linecap=\"round\" style=\"stroke:#88ff00;stroke-width:5\" /><line x1=\"298.095\" y1=\"223.404\" x2=\"294.515\" y2=\"237.764\" stroke-linecap=\"round\" style=\"stroke:#00ff00;stroke-width:5\" /><line x1=\"294.515\" y1=\"237.764\" x2=\"288.933\" y2=\"251.579\" stroke-linecap=\"round\" style=\"stroke:#00ff88;stroke-width:5\" /><line x1=\"288.933\" y1=\"251.579\" x2=\"281.433\" y2=\"264.569\" stroke-linecap=\"round\" style=\"stroke:#00ffff;stroke-width:5\" /><line x1=\"281.433\" y1=\"264.569\" x2=\"272.137\" y2=\"276.468\" stroke-linecap=\"round\" style=\"stroke:#0088ff;stroke-width:5\" /><line x1=\"272.137\" y1=\"276.468\" x2=\"261.203\" y2=\"287.027\" stroke-linecap=\"round\" style=\"stroke:#0000ff;stroke-width:5\" /><line x1=\"261.203\" y1=\"287.027\" x2=\"248.825\" y2=\"296.02\" stroke-linecap=\"round\" style=\"stroke:#8800ff;stroke-width:5\" /><line x1=\"248.825\" y1=\"296.02\" x2=\"235.228\" y2=\"303.25\" stroke-linecap=\"round\" style=\"stroke:#ff00ff;stroke-width:5\" /><line x1=\"235.228\" y1=\"303.25\" x2=\"220.663\" y2=\"308.551\" stroke-linecap=\"round\" style=\"stroke:#ff0088;stroke-width:5\" /><line x1=\"220.663\" y1=\"308.551\" x2=\"205.404\" y2=\"311.794\" stroke-linecap=\"round\" style=\"stroke:#ff0000;stroke-width:5\" /><line x1=\"205.404\" y1=\"311.794\" x2=\"189.742\" y2=\"312.889\" stroke-linecap=\"round\" style=\"stroke:#ff8800;stroke-width:5\" /><line x1=\"189.742\" y1=\"312.889\" x2=\"173.98\" y2=\"311.787\" stroke-linecap=\"round\" style=\"stroke:#ffff00;stroke-width:5\" /><line x1=\"173.98\" y1=\"311.787\" x2=\"158.427\" y2=\"308.481\" stroke-linecap=\"round\" style=\"stroke:#88ff00;stroke-width:5\" /><line x1=\"158.427\" y1=\"308.481\" x2=\"143.392\" y2=\"303.009\" stroke-linecap=\"round\" style=\"stroke:#00ff00;stroke-width:5\" /><line x1=\"143.392\" y1=\"303.009\" x2=\"129.177\" y2=\"295.451\" stroke-linecap=\"round\" style=\"stroke:#00ff88;stroke-width:5\" /><line x1=\"129.177\" y1=\"295.451\" x2=\"116.071\" y2=\"285.929\" stroke-linecap=\"round\" style=\"stroke:#00ffff;stroke-width:5\" /><line x1=\"116.071\" y1=\"285.929\" x2=\"104.346\" y2=\"274.606\" stroke-linecap=\"round\" style=\"stroke:#0088ff;stroke-width:5\" /><line x1=\"104.346\" y1=\"274.606\" x2=\"94.249\" y2=\"261.683\" stroke-linecap=\"round\" style=\"stroke:#0000ff;stroke-width:5\" /><line x1=\"94.249\" y1=\"261.683\" x2=\"85.999\" y2=\"247.394\" stroke-linecap=\"round\" style=\"stroke:#8800ff;stroke-width:5\" /><line x1=\"85.999\" y1=\"247.394\" x2=\"79.781\" y2=\"232.003\" stroke-linecap=\"round\" style=\"stroke:#ff00ff;stroke-width:5\" /><line x1=\"79.781\" y1=\"232.003\" x2=\"75.741\" y2=\"215.799\" stroke-linecap=\"round\" style=\"stroke:#ff0088;stroke-width:5\" /><line x1=\"75.741\" y1=\"215.799\" x2=\"73.985\" y2=\"199.091\" stroke-linecap=\"round\" style=\"stroke:#ff0000;stroke-width:5\" /><line x1=\"73.985\" y1=\"199.091\" x2=\"74.575\" y2=\"182.201\" stroke-linecap=\"round\" style=\"stroke:#ff8800;stroke-width:5\" /><line x1=\"74.575\" y1=\"182.201\" x2=\"77.527\" y2=\"165.459\" stroke-linecap=\"round\" style=\"stroke:#ffff00;stroke-width:5\" /><line x1=\"77.527\" y1=\"165.459\" x2=\"82.811\" y2=\"149.196\" stroke-linecap=\"round\" style=\"stroke:#88ff00;stroke-width:5\" /><line x1=\"82.811\" y1=\"149.196\" x2=\"90.351\" y2=\"133.737\" stroke-linecap=\"round\" style=\"stroke:#00ff00;stroke-width:5\" /><line x1=\"90.351\" y1=\"133.737\" x2=\"100.025\" y2=\"119.395\" stroke-linecap=\"round\" style=\"stroke:#00ff88;stroke-width:5\" /><line x1=\"100.025\" y1=\"119.395\" x2=\"111.668\" y2=\"106.464\" stroke-linecap=\"round\" style=\"stroke:#00ffff;stroke-width:5\" /><line x1=\"111.668\" y1=\"106.464\" x2=\"125.074\" y2=\"95.215\" stroke-linecap=\"round\" style=\"stroke:#0088ff;stroke-width:5\" /><line x1=\"125.074\" y1=\"95.215\" x2=\"140.0\" y2=\"85.888\" stroke-linecap=\"round\" style=\"stroke:#0000ff;stroke-width:5\" /><line x1=\"140.0\" y1=\"85.888\" x2=\"156.17\" y2=\"78.689\" stroke-linecap=\"round\" style=\"stroke:#8800ff;stroke-width:5\" /><line x1=\"156.17\" y1=\"78.689\" x2=\"173.28\" y2=\"73.783\" stroke-linecap=\"round\" style=\"stroke:#ff00ff;stroke-width:5\" /><line x1=\"173.28\" y1=\"73.783\" x2=\"191.006\" y2=\"71.292\" stroke-linecap=\"round\" style=\"stroke:#ff0088;stroke-width:5\" /><line x1=\"191.006\" y1=\"71.292\" x2=\"209.006\" y2=\"71.292\" stroke-linecap=\"round\" style=\"stroke:#ff0000;stroke-width:5\" /><line x1=\"209.006\" y1=\"71.292\" x2=\"226.93\" y2=\"73.811\" stroke-linecap=\"round\" style=\"stroke:#ff8800;stroke-width:5\" /><line x1=\"226.93\" y1=\"73.811\" x2=\"244.425\" y2=\"78.828\" stroke-linecap=\"round\" style=\"stroke:#ffff00;stroke-width:5\" /><line x1=\"244.425\" y1=\"78.828\" x2=\"261.143\" y2=\"86.271\" stroke-linecap=\"round\" style=\"stroke:#88ff00;stroke-width:5\" /><line x1=\"261.143\" y1=\"86.271\" x2=\"276.747\" y2=\"96.022\" stroke-linecap=\"round\" style=\"stroke:#00ff00;stroke-width:5\" /><line x1=\"276.747\" y1=\"96.022\" x2=\"290.919\" y2=\"107.914\" stroke-linecap=\"round\" style=\"stroke:#00ff88;stroke-width:5\" /><line x1=\"290.919\" y1=\"107.914\" x2=\"303.365\" y2=\"121.736\" stroke-linecap=\"round\" style=\"stroke:#00ffff;stroke-width:5\" /><line x1=\"303.365\" y1=\"121.736\" x2=\"313.822\" y2=\"137.239\" stroke-linecap=\"round\" style=\"stroke:#0088ff;stroke-width:5\" /><line x1=\"313.822\" y1=\"137.239\" x2=\"322.063\" y2=\"154.136\" stroke-linecap=\"round\" style=\"stroke:#0000ff;stroke-width:5\" /><line x1=\"322.063\" y1=\"154.136\" x2=\"327.903\" y2=\"172.111\" stroke-linecap=\"round\" style=\"stroke:#8800ff;stroke-width:5\" /><line x1=\"327.903\" y1=\"172.111\" x2=\"331.202\" y2=\"190.822\" stroke-linecap=\"round\" style=\"stroke:#ff00ff;stroke-width:5\" /><line x1=\"331.202\" y1=\"190.822\" x2=\"331.869\" y2=\"209.91\" stroke-linecap=\"round\" style=\"stroke:#ff0088;stroke-width:5\" /><line x1=\"331.869\" y1=\"209.91\" x2=\"329.862\" y2=\"229.005\" stroke-linecap=\"round\" style=\"stroke:#ff0000;stroke-width:5\" /><line x1=\"329.862\" y1=\"229.005\" x2=\"325.193\" y2=\"247.732\" stroke-linecap=\"round\" style=\"stroke:#ff8800;stroke-width:5\" /><line x1=\"325.193\" y1=\"247.732\" x2=\"317.926\" y2=\"265.719\" stroke-linecap=\"round\" style=\"stroke:#ffff00;stroke-width:5\" /><line x1=\"317.926\" y1=\"265.719\" x2=\"308.176\" y2=\"282.606\" stroke-linecap=\"round\" style=\"stroke:#88ff00;stroke-width:5\" /><line x1=\"308.176\" y1=\"282.606\" x2=\"296.109\" y2=\"298.051\" stroke-linecap=\"round\" style=\"stroke:#00ff00;stroke-width:5\" /><line x1=\"296.109\" y1=\"298.051\" x2=\"281.938\" y2=\"311.736\" stroke-linecap=\"round\" style=\"stroke:#00ff88;stroke-width:5\" /><line x1=\"281.938\" y1=\"311.736\" x2=\"265.919\" y2=\"323.374\" stroke-linecap=\"round\" style=\"stroke:#00ffff;stroke-width:5\" /><line x1=\"265.919\" y1=\"323.374\" x2=\"248.348\" y2=\"332.716\" stroke-linecap=\"round\" style=\"stroke:#0088ff;stroke-width:5\" />\n",
              "        \n",
              "        \n",
              "        <g id=\"classic\" visibility=\"visible\" transform=\"rotate(70,248.348,332.716) translate(248.348, 332.716)\">\n",
              "<polygon points=\"-5,-4.5 0,-2.5 5,-4.5 0,4.5\" transform=\"skewX(0) scale(1,1)\" style=\"stroke:#0088ff;fill:#0088ff;stroke-width:1\" />\n",
              "</g>\n",
              "      </svg>\n",
              "    "
            ]
          },
          "metadata": {}
        }
      ]
    }
  ]
}