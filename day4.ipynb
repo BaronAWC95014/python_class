{
  "nbformat": 4,
  "nbformat_minor": 0,
  "metadata": {
    "colab": {
      "name": "day4.ipynb",
      "provenance": [],
      "toc_visible": true,
      "authorship_tag": "ABX9TyOjMcaNRk4eQ2w6I5fXrkdM",
      "include_colab_link": true
    },
    "kernelspec": {
      "name": "python3",
      "display_name": "Python 3"
    },
    "language_info": {
      "name": "python"
    }
  },
  "cells": [
    {
      "cell_type": "markdown",
      "metadata": {
        "id": "view-in-github",
        "colab_type": "text"
      },
      "source": [
        "<a href=\"https://colab.research.google.com/github/BaronAWC95014/python_class/blob/main/day4.ipynb\" target=\"_parent\"><img src=\"https://colab.research.google.com/assets/colab-badge.svg\" alt=\"Open In Colab\"/></a>"
      ]
    },
    {
      "cell_type": "markdown",
      "metadata": {
        "id": "WvAH_P46T4ei"
      },
      "source": [
        "# Loops"
      ]
    },
    {
      "cell_type": "markdown",
      "metadata": {
        "id": "kHpi2jGoUhtn"
      },
      "source": [
        "A loop, as the name suggests, runs code multiple times. There are 2 ways to make loops."
      ]
    },
    {
      "cell_type": "markdown",
      "metadata": {
        "id": "Frs4nOn2cR8L"
      },
      "source": [
        "The first one is called a for loop, as you can see in the syntax."
      ]
    },
    {
      "cell_type": "code",
      "metadata": {
        "id": "-moYMIqbUh64"
      },
      "source": [
        "list1 = [1, 2, 3, 4]\n",
        "\n",
        "for var1 in list1:\n",
        "    print(var1)"
      ],
      "execution_count": null,
      "outputs": []
    },
    {
      "cell_type": "markdown",
      "metadata": {
        "id": "0SrpvlxfT_La"
      },
      "source": [
        "# If/Else Statements"
      ]
    },
    {
      "cell_type": "markdown",
      "metadata": {
        "id": "Vif1AnG5UBGM"
      },
      "source": [
        "# Review"
      ]
    }
  ]
}