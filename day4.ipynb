{
  "nbformat": 4,
  "nbformat_minor": 0,
  "metadata": {
    "colab": {
      "name": "day4.ipynb",
      "provenance": [],
      "toc_visible": true,
      "authorship_tag": "ABX9TyMqGdCI9FOpTZ2gUwuJzWyN",
      "include_colab_link": true
    },
    "kernelspec": {
      "name": "python3",
      "display_name": "Python 3"
    },
    "language_info": {
      "name": "python"
    }
  },
  "cells": [
    {
      "cell_type": "markdown",
      "metadata": {
        "id": "view-in-github",
        "colab_type": "text"
      },
      "source": [
        "<a href=\"https://colab.research.google.com/github/BaronAWC95014/python_class_instructor/blob/main/day4.ipynb\" target=\"_parent\"><img src=\"https://colab.research.google.com/assets/colab-badge.svg\" alt=\"Open In Colab\"/></a>"
      ]
    },
    {
      "cell_type": "markdown",
      "metadata": {
        "id": "WvAH_P46T4ei"
      },
      "source": [
        "# Introduction to For Loops"
      ]
    },
    {
      "cell_type": "markdown",
      "metadata": {
        "id": "kHpi2jGoUhtn"
      },
      "source": [
        "A loop, as the name suggests, runs code multiple times. There are 2 ways to make loops."
      ]
    },
    {
      "cell_type": "markdown",
      "metadata": {
        "id": "Frs4nOn2cR8L"
      },
      "source": [
        "The first one is called a for loop, as you can see in the syntax below.\n",
        "\n",
        "```\n",
        "for var1 in iterable1:\n",
        "    # something\n",
        "```\n",
        "\n",
        "`var1` doesn't have to be declared before the loop, `var1` is created on the spot. `iterable1` can either be hard coded or a variable (provided the variable is an iterable). The only difference between these 2 blocks of code is that in one of them, the iterable is hard coded, and in the other, the iterable is a variable."
      ]
    },
    {
      "cell_type": "code",
      "metadata": {
        "id": "-moYMIqbUh64",
        "colab": {
          "base_uri": "https://localhost:8080/"
        },
        "outputId": "f0a3e63e-d071-4b99-de0f-2b7886a021ec"
      },
      "source": [
        "for var1 in [5, 10, 15]:\n",
        "    print(var1)"
      ],
      "execution_count": 1,
      "outputs": [
        {
          "output_type": "stream",
          "text": [
            "5\n",
            "10\n",
            "15\n"
          ],
          "name": "stdout"
        }
      ]
    },
    {
      "cell_type": "code",
      "metadata": {
        "id": "16wcRpgd1CV7",
        "colab": {
          "base_uri": "https://localhost:8080/"
        },
        "outputId": "f57797fd-6ae5-4709-a955-e79700793a45"
      },
      "source": [
        "iterable1 = [5, 10, 15]\n",
        "for var1 in iterable1:\n",
        "    print(var1)"
      ],
      "execution_count": 2,
      "outputs": [
        {
          "output_type": "stream",
          "text": [
            "5\n",
            "10\n",
            "15\n"
          ],
          "name": "stdout"
        }
      ]
    },
    {
      "cell_type": "markdown",
      "metadata": {
        "id": "pA7Nl3Ki1Sly"
      },
      "source": [
        "So what does this code even do?\n",
        "\n",
        "If we take the first line and turn it into a sentence, we get this:\n",
        "\n",
        "\"**For** each item (called **`var1`**) **in `iterable1`**, do the following\"\n",
        "\n",
        "This means that we take the first value of `iterable1` and call it `var1`. We do whatever is in the loop, then we go to the next item in `iterable1` and reassign `var1` to that.\n",
        "\n",
        "Here is a version of the same code before with comments explaining each part."
      ]
    },
    {
      "cell_type": "code",
      "metadata": {
        "id": "lP5yLE6l2iRJ",
        "colab": {
          "base_uri": "https://localhost:8080/"
        },
        "outputId": "bb0fb0b9-278b-4972-fb85-2f958a19605b"
      },
      "source": [
        "# create an iterable\n",
        "iterable1 = [5, 10, 15]\n",
        "\n",
        "# for each item in the iterable...\n",
        "for var1 in iterable1:\n",
        "    # ... print it\n",
        "    print(var1)"
      ],
      "execution_count": 3,
      "outputs": [
        {
          "output_type": "stream",
          "text": [
            "5\n",
            "10\n",
            "15\n"
          ],
          "name": "stdout"
        }
      ]
    },
    {
      "cell_type": "markdown",
      "metadata": {
        "id": "qchMuL5Fdg8E"
      },
      "source": [
        "**EXERCISE:** Using a for loop and variables, find the sum of 1, 3, 4, 5, 8, and 10."
      ]
    },
    {
      "cell_type": "code",
      "metadata": {
        "colab": {
          "base_uri": "https://localhost:8080/"
        },
        "id": "sjYUnIFidpGJ",
        "outputId": "2e60f153-1c10-4783-f87f-119eed9199e7"
      },
      "source": [
        "sum_of_nums = 0\n",
        "\n",
        "for num in [1, 3, 4, 5, 8, 10]:\n",
        "    sum_of_nums += num\n",
        "\n",
        "print(sum_of_nums)"
      ],
      "execution_count": 4,
      "outputs": [
        {
          "output_type": "stream",
          "text": [
            "31\n"
          ],
          "name": "stdout"
        }
      ]
    },
    {
      "cell_type": "markdown",
      "metadata": {
        "id": "Tc5GX4qa5ADg"
      },
      "source": [
        "# Indents"
      ]
    },
    {
      "cell_type": "markdown",
      "metadata": {
        "id": "icKFky2L2ySi"
      },
      "source": [
        "Before we go any further, there is something important about loops (and if-else statements). Notice how there is an indent for the inside of the for loop. This is how Python determines what's inside the for loop and what's not.\n",
        "\n",
        "It is important to get the indentations right or Python will be confused, like with this."
      ]
    },
    {
      "cell_type": "code",
      "metadata": {
        "id": "yUkJxn9u2_0y",
        "colab": {
          "base_uri": "https://localhost:8080/",
          "height": 130
        },
        "outputId": "0d72f88c-126b-4788-ab56-6bbccf70de44"
      },
      "source": [
        "iterable1 = [5, 10, 15]\n",
        "\n",
        "    for var1 in iterable1:\n",
        "print(var1)"
      ],
      "execution_count": 5,
      "outputs": [
        {
          "output_type": "error",
          "ename": "IndentationError",
          "evalue": "ignored",
          "traceback": [
            "\u001b[0;36m  File \u001b[0;32m\"<ipython-input-5-0d0cd368c006>\"\u001b[0;36m, line \u001b[0;32m3\u001b[0m\n\u001b[0;31m    for var1 in iterable1:\u001b[0m\n\u001b[0m    ^\u001b[0m\n\u001b[0;31mIndentationError\u001b[0m\u001b[0;31m:\u001b[0m unexpected indent\n"
          ]
        }
      ]
    },
    {
      "cell_type": "markdown",
      "metadata": {
        "id": "AdemOqZs3fd0"
      },
      "source": [
        "While some indentations are technically okay, you should **never** make your indentations confusing. Indents should always be 4 (or 2, depending on your settings) spaces in front of the loop it is inside."
      ]
    },
    {
      "cell_type": "code",
      "metadata": {
        "id": "HRn-uJc63G7D",
        "colab": {
          "base_uri": "https://localhost:8080/"
        },
        "outputId": "5f3ae33d-2dda-4b0c-b148-ab3e3aa4daf8"
      },
      "source": [
        "iterable1 = [5, 10, 15]\n",
        "\n",
        "for var1 in iterable1:\n",
        "    print(var1)\n",
        "    print(var1 + 1)"
      ],
      "execution_count": 6,
      "outputs": [
        {
          "output_type": "stream",
          "text": [
            "5\n",
            "6\n",
            "10\n",
            "11\n",
            "15\n",
            "16\n"
          ],
          "name": "stdout"
        }
      ]
    },
    {
      "cell_type": "markdown",
      "metadata": {
        "id": "FjtzhSqA7SHz"
      },
      "source": [
        "There is another way to make code clearer with indents, and that is with 2D lists and tuples. They are the same as nested lists and tuples, but there is an exact width and height.\n",
        "\n",
        "In this example, we have a 2D list of width 3 and height 2. While it's runnable, it's not as easy to visualize it as a line of code as it would be if it was made neatly in an actual grid. This is especially true with much bigger 2D lists and tuples."
      ]
    },
    {
      "cell_type": "code",
      "metadata": {
        "id": "V19NZ7vMfzVz"
      },
      "source": [
        "grid = [[\"A1\", \"A2\", \"A3\"], [\"B1\", \"B2\", \"B3\"]]"
      ],
      "execution_count": 7,
      "outputs": []
    },
    {
      "cell_type": "markdown",
      "metadata": {
        "id": "BIGVtjQRiDqM"
      },
      "source": [
        "We can take the exact same code but put it on multiple lines. All of a sudden, it's much easier to visualize a grid! Colab will automatically create an indent to align the values."
      ]
    },
    {
      "cell_type": "code",
      "metadata": {
        "id": "CNotN7pxiRvN"
      },
      "source": [
        "grid = [[\"A1\", \"A2\", \"A3\"],\n",
        "        [\"B1\", \"B2\", \"B3\"]]"
      ],
      "execution_count": 8,
      "outputs": []
    },
    {
      "cell_type": "markdown",
      "metadata": {
        "id": "WiWWvFhbePlA"
      },
      "source": [
        "**EXERCISE:** Indent the following code to make it neat and runnable.\n",
        "\n",
        "```\n",
        "two_dimensional_list = [[\"A1\", \"A2\"], [\"B1\", \"B2\"], [\"C1\", \"C2\"], [\"D1\", \"D2\"]]\n",
        "\n",
        "for row in two_dimensional_list:\n",
        "print(row)\n",
        "```"
      ]
    },
    {
      "cell_type": "code",
      "metadata": {
        "colab": {
          "base_uri": "https://localhost:8080/"
        },
        "id": "4QuNGZ02e2kP",
        "outputId": "754580e3-6659-412b-832e-73d1257bdcbe"
      },
      "source": [
        "two_dimensional_list = [[\"A1\", \"A2\"],\n",
        "                        [\"B1\", \"B2\"],\n",
        "                        [\"C1\", \"C2\"],\n",
        "                        [\"D1\", \"D2\"]]\n",
        "\n",
        "for row in two_dimensional_list:\n",
        "    print(row)"
      ],
      "execution_count": 9,
      "outputs": [
        {
          "output_type": "stream",
          "text": [
            "['A1', 'A2']\n",
            "['B1', 'B2']\n",
            "['C1', 'C2']\n",
            "['D1', 'D2']\n"
          ],
          "name": "stdout"
        }
      ]
    },
    {
      "cell_type": "markdown",
      "metadata": {
        "id": "XepIUYrUfslF"
      },
      "source": [
        "Now that we know what the indents are for, we can continue with loops."
      ]
    },
    {
      "cell_type": "markdown",
      "metadata": {
        "id": "z9_7I5Cl6ZCu"
      },
      "source": [
        "# Introduction to While Loops"
      ]
    },
    {
      "cell_type": "markdown",
      "metadata": {
        "id": "0A7Z8NNM6YeX"
      },
      "source": [
        "The second type of loop is the while loop. The syntax is as follows.\n",
        "\n",
        "```\n",
        "while condition:\n",
        "    # something\n",
        "```\n",
        "\n",
        "`condition` simply is a boolean. It is usually something that will change over time. When the condition fails, the loop ends. In this example, `num1` keeps changing until the condition is no longer met. When `x` becomes `5`, the condition fails and it doesn't print `5`."
      ]
    },
    {
      "cell_type": "code",
      "metadata": {
        "id": "tgJRyHOn8iOf",
        "colab": {
          "base_uri": "https://localhost:8080/"
        },
        "outputId": "4c7ce308-cd73-4b9f-d389-43b2010d94dd"
      },
      "source": [
        "num1 = 0\n",
        "\n",
        "while num1 < 5:\n",
        "    print(num1)\n",
        "    num1 += 1"
      ],
      "execution_count": 10,
      "outputs": [
        {
          "output_type": "stream",
          "text": [
            "0\n",
            "1\n",
            "2\n",
            "3\n",
            "4\n"
          ],
          "name": "stdout"
        }
      ]
    },
    {
      "cell_type": "markdown",
      "metadata": {
        "id": "WrRnoOxe84yv"
      },
      "source": [
        "While loops can be risky if your condition never becomes false. For example, if I forgot to add 1 each time in the previous while loop, it would run forever."
      ]
    },
    {
      "cell_type": "markdown",
      "metadata": {
        "id": "iiXQrud6UYtN"
      },
      "source": [
        "I could create the exact same result with a for loop in fewer lines by using the `range()` function."
      ]
    },
    {
      "cell_type": "code",
      "metadata": {
        "colab": {
          "base_uri": "https://localhost:8080/"
        },
        "id": "NT8BLnMjUnfE",
        "outputId": "ab6c8277-4bc2-437a-9cdd-039f24c966dc"
      },
      "source": [
        "for num1 in range(5):\n",
        "    print(num1)"
      ],
      "execution_count": 12,
      "outputs": [
        {
          "output_type": "stream",
          "text": [
            "0\n",
            "1\n",
            "2\n",
            "3\n",
            "4\n"
          ],
          "name": "stdout"
        }
      ]
    },
    {
      "cell_type": "markdown",
      "metadata": {
        "id": "PQ4MkLaXcj79"
      },
      "source": [
        "For this reason, I will be primarily using for loops. However, you may use while loops if you prefer them."
      ]
    },
    {
      "cell_type": "markdown",
      "metadata": {
        "id": "z7hBb8OffAF6"
      },
      "source": [
        "**EXERCISE:**\n",
        "1. Make a list with the following numbers inside: `4, 7, 3, 4, 2, 1, 6, 8, 7, 9, 9`\n",
        "2. Reassign the list to a sorted version of the list (using a Python function from last time)\n",
        "3. Use a while loop to iterate through the sorted list, printing the number. Stop when the number is more than 6."
      ]
    },
    {
      "cell_type": "code",
      "metadata": {
        "colab": {
          "base_uri": "https://localhost:8080/"
        },
        "id": "o6AoTDqvf5P7",
        "outputId": "b48d8070-eda0-4956-abe1-10ac6d4b0866"
      },
      "source": [
        "nums = [4, 7, 3, 4, 2, 1, 6, 8, 7, 9, 9]\n",
        "nums = sorted(nums)\n",
        "\n",
        "idx = 0\n",
        "while nums[idx] <= 6:\n",
        "    print(nums[idx])\n",
        "    idx += 1"
      ],
      "execution_count": 13,
      "outputs": [
        {
          "output_type": "stream",
          "text": [
            "1\n",
            "2\n",
            "3\n",
            "4\n",
            "4\n",
            "6\n"
          ],
          "name": "stdout"
        }
      ]
    },
    {
      "cell_type": "markdown",
      "metadata": {
        "id": "pT2WjGkG9npz"
      },
      "source": [
        "# Nested (For) Loops"
      ]
    },
    {
      "cell_type": "markdown",
      "metadata": {
        "id": "uHBqKyOS9qxQ"
      },
      "source": [
        "What makes a loop nested? A nested for loop means that there is a for loop inside a for loop. For example:"
      ]
    },
    {
      "cell_type": "code",
      "metadata": {
        "id": "jc2BOHIW-B3G",
        "colab": {
          "base_uri": "https://localhost:8080/"
        },
        "outputId": "0fd1f7df-da69-44e6-ad89-3a82dbc8af0f"
      },
      "source": [
        "for i in range(3):\n",
        "    for j in range(3):\n",
        "        print(i, j)"
      ],
      "execution_count": 14,
      "outputs": [
        {
          "output_type": "stream",
          "text": [
            "0 0\n",
            "0 1\n",
            "0 2\n",
            "1 0\n",
            "1 1\n",
            "1 2\n",
            "2 0\n",
            "2 1\n",
            "2 2\n"
          ],
          "name": "stdout"
        }
      ]
    },
    {
      "cell_type": "markdown",
      "metadata": {
        "id": "TvwiBbyWU5Ap"
      },
      "source": [
        "So what's happening here?\n",
        "\n",
        "The first loop will run 3 times, and inside it, another loop is being run 3 times. 3 * 3 = 9, so that is why we see 9 prints.\n",
        "\n",
        "Each time, the print statement prints `i` and `j`. Since the 2nd for loop runs 3 times when the first one runs once, `i` is printed 3 times in a row, each with a different `j`. Then, the cycle repeats with a different `i`."
      ]
    },
    {
      "cell_type": "markdown",
      "metadata": {
        "id": "YX9QsfdXczTf"
      },
      "source": [
        "In this example, I was able to print a 2D tuple to make it look like a grid with a nested for loop."
      ]
    },
    {
      "cell_type": "code",
      "metadata": {
        "colab": {
          "base_uri": "https://localhost:8080/"
        },
        "id": "N7wocc7kczkt",
        "outputId": "e106c2d3-8274-432f-f721-fa77b5486e63"
      },
      "source": [
        "grid = ((\"00\", \"01\", \"02\", \"03\"),\n",
        "        (\"10\", \"11\", \"12\", \"13\"),\n",
        "        (\"20\", \"21\", \"22\", \"23\"))\n",
        "\n",
        "for row in grid:\n",
        "    for cell in row:\n",
        "        # print cell\n",
        "        print(cell, end=\" \")\n",
        "    # make new line\n",
        "    print(\"\")"
      ],
      "execution_count": 15,
      "outputs": [
        {
          "output_type": "stream",
          "text": [
            "00 01 02 03 \n",
            "10 11 12 13 \n",
            "20 21 22 23 \n"
          ],
          "name": "stdout"
        }
      ]
    },
    {
      "cell_type": "markdown",
      "metadata": {
        "id": "e7xWbsUUj2D8"
      },
      "source": [
        "You can also use indexes to go through a 2D iterable."
      ]
    },
    {
      "cell_type": "code",
      "metadata": {
        "colab": {
          "base_uri": "https://localhost:8080/"
        },
        "id": "2XbwlzDtj2TX",
        "outputId": "a82ff21a-7bf9-45d9-ff0a-ac8baa4cb72e"
      },
      "source": [
        "grid = ((\"00\", \"01\", \"02\", \"03\"),\n",
        "        (\"10\", \"11\", \"12\", \"13\"),\n",
        "        (\"20\", \"21\", \"22\", \"23\"))\n",
        "\n",
        "           # number of rows (3)\n",
        "for row in range(len(grid)):\n",
        "               # number of columns (4)\n",
        "    for col in range(len(grid[row])):\n",
        "        # print cell\n",
        "        print(grid[row][col], end=\" \")\n",
        "    # make new line\n",
        "    print(\"\")"
      ],
      "execution_count": 16,
      "outputs": [
        {
          "output_type": "stream",
          "text": [
            "00 01 02 03 \n",
            "10 11 12 13 \n",
            "20 21 22 23 \n"
          ],
          "name": "stdout"
        }
      ]
    },
    {
      "cell_type": "markdown",
      "metadata": {
        "id": "MfSaxbh6i0Ig"
      },
      "source": [
        "You can keep going to 3D and beyond, but we won't go into that."
      ]
    },
    {
      "cell_type": "markdown",
      "metadata": {
        "id": "YWbozMx8itM6"
      },
      "source": [
        "**EXERCISE:** Using the following 2D list, print it out neatly, adding 1 to each item:\n",
        "\n",
        "`[[1, 2, 3, 4], [5, 6, 7, 8]]`"
      ]
    },
    {
      "cell_type": "code",
      "metadata": {
        "colab": {
          "base_uri": "https://localhost:8080/"
        },
        "id": "oqghwyL3itdy",
        "outputId": "8f9c18aa-7a39-4d08-fa08-8530b3765338"
      },
      "source": [
        "grid = [[1, 2, 3, 4], [5, 6, 7, 8]]\n",
        "\n",
        "for row in grid:\n",
        "    for cell in row:\n",
        "        # print cell + 1\n",
        "        print(cell + 1, end=\" \")\n",
        "    # make new line\n",
        "    print(\"\")"
      ],
      "execution_count": 17,
      "outputs": [
        {
          "output_type": "stream",
          "text": [
            "2 3 4 5 \n",
            "6 7 8 9 \n"
          ],
          "name": "stdout"
        }
      ]
    },
    {
      "cell_type": "markdown",
      "metadata": {
        "id": "0SrpvlxfT_La"
      },
      "source": [
        "# If, Else, and Elif Statements\n",
        "\n"
      ]
    },
    {
      "cell_type": "markdown",
      "metadata": {
        "id": "SdjXwODJh4gt"
      },
      "source": [
        "Let's start by leaving out elif and else statements and focusing on what an if statement is.\n",
        "\n",
        "An if statement, as the name suggests, runs code if a condition is true. Let's look at an example."
      ]
    },
    {
      "cell_type": "code",
      "metadata": {
        "colab": {
          "base_uri": "https://localhost:8080/"
        },
        "id": "QXhb9vA6lqsv",
        "outputId": "155ef461-7506-4a41-f8df-746684015b03"
      },
      "source": [
        "num1 = 5\n",
        "\n",
        "# if num1 is equal to 5, do the following\n",
        "if num1 == 5:\n",
        "    print(\"num1 is 5\")"
      ],
      "execution_count": 18,
      "outputs": [
        {
          "output_type": "stream",
          "text": [
            "num1 is 5\n"
          ],
          "name": "stdout"
        }
      ]
    },
    {
      "cell_type": "markdown",
      "metadata": {
        "id": "T7nYTV4Ql64f"
      },
      "source": [
        "And what happens when the condition is false?"
      ]
    },
    {
      "cell_type": "code",
      "metadata": {
        "id": "MftojlBFmAiz"
      },
      "source": [
        "num1 = 4\n",
        "\n",
        "# if num1 is equal to 5, do the following\n",
        "if num1 == 5:\n",
        "    print(\"num1 is 5\")"
      ],
      "execution_count": 19,
      "outputs": []
    },
    {
      "cell_type": "markdown",
      "metadata": {
        "id": "usSvuO8NmMGw"
      },
      "source": [
        "`\"num1 is 5\"` prints when the condition `num1 == 5` is true, and it doesn't when it's false. The syntax is as simple as that.\n",
        "\n",
        "What if we want to do something if the condition is false? We could make a new if statement that uses the exact opposite condition, but it would be annoying to change the condition for both if statements."
      ]
    },
    {
      "cell_type": "markdown",
      "metadata": {
        "id": "KHFmxKhnnInc"
      },
      "source": [
        "An else statement runs when the previous condition is false. Its syntax is also very simple."
      ]
    },
    {
      "cell_type": "code",
      "metadata": {
        "colab": {
          "base_uri": "https://localhost:8080/"
        },
        "id": "c0DaXxWDnXou",
        "outputId": "f7da2f54-ba56-43af-bee6-cc2cbd784bc6"
      },
      "source": [
        "num1 = 4\n",
        "\n",
        "# if num1 is equal to 5, do the following\n",
        "if num1 == 5:\n",
        "    print(\"num1 is 5\")\n",
        "# otherwise, do the following\n",
        "else:\n",
        "    print(\"num1 is not 5\")"
      ],
      "execution_count": 20,
      "outputs": [
        {
          "output_type": "stream",
          "text": [
            "num1 is not 5\n"
          ],
          "name": "stdout"
        }
      ]
    },
    {
      "cell_type": "markdown",
      "metadata": {
        "id": "DYTecDkXndCF"
      },
      "source": [
        "An elif statement simply means \"else if\". This means that if the previous if statement is false, it will run another if statement."
      ]
    },
    {
      "cell_type": "code",
      "metadata": {
        "colab": {
          "base_uri": "https://localhost:8080/"
        },
        "id": "uDg2IwvuoAxv",
        "outputId": "aa27ca7b-71ac-4bb4-f792-e8b754d595f5"
      },
      "source": [
        "num1 = 4\n",
        "\n",
        "# if num1 is equal to 5, do the following\n",
        "if num1 == 5:\n",
        "    print(\"num1 is 5\")\n",
        "# otherwise, if num1 is equal to 4, do the followinb\n",
        "elif num1 == 4:\n",
        "    print(\"num1 is 4\")\n",
        "else:\n",
        "# otherwise, do the following\n",
        "    print(\"num1 is not 5 or 4\")"
      ],
      "execution_count": 21,
      "outputs": [
        {
          "output_type": "stream",
          "text": [
            "num1 is 4\n"
          ],
          "name": "stdout"
        }
      ]
    },
    {
      "cell_type": "markdown",
      "metadata": {
        "id": "uwIlLs_hpfch"
      },
      "source": [
        "There is a certain order each statement must come in.\n",
        "\n",
        "```\n",
        "# for every if condition...\n",
        "if <condition>:\n",
        "    # something\n",
        "\n",
        "# ... you can have from 0 to as many elif conditions after it...\n",
        "elif <condition>:\n",
        "    # something\n",
        "# and at most 1 else statement after all of it.\n",
        "else:\n",
        "    # something\n",
        "```"
      ]
    },
    {
      "cell_type": "markdown",
      "metadata": {
        "id": "qFkViM9xnDyz"
      },
      "source": [
        "You can use the `and`, `or`, and `not` operators, which we talked about on day 2:\n",
        "- `and`: if a and b are both true\n",
        "- `or`: if either a or b are true\n",
        "- `not`: flip boolean\n",
        "\n",
        "It is always best to use parentheses for readability, even if they aren't needed."
      ]
    },
    {
      "cell_type": "code",
      "metadata": {
        "colab": {
          "base_uri": "https://localhost:8080/"
        },
        "id": "vldtFKpMnSvq",
        "outputId": "6f3d0b61-9093-447e-d661-4e70049ec742"
      },
      "source": [
        "x = 2\n",
        "\n",
        "#   False   or    True     = True\n",
        "if (x == 5) or (not x > 2):\n",
        "    print(\"hello\")"
      ],
      "execution_count": 22,
      "outputs": [
        {
          "output_type": "stream",
          "text": [
            "hello\n"
          ],
          "name": "stdout"
        }
      ]
    },
    {
      "cell_type": "markdown",
      "metadata": {
        "id": "Ib5oaXgGmt4e"
      },
      "source": [
        "**EXERCISE:** Assign a variable as a random number between 1 and 6, including 6. Print the number. Then, if the number is 1, print `number is 1`. Otherwise, if the number is 2, print `number is 2`. Otherwise, print `number is not 1 or 2`."
      ]
    },
    {
      "cell_type": "code",
      "metadata": {
        "colab": {
          "base_uri": "https://localhost:8080/"
        },
        "id": "NCzhbrbVmsRY",
        "outputId": "ed8a12af-75b2-486b-e9dc-14996a568eaa"
      },
      "source": [
        "import random\n",
        "num1 = random.randint(1, 6)\n",
        "print(num1)\n",
        "\n",
        "if num1 == 1:\n",
        "    print(\"number is 1\")\n",
        "elif num1 == 2:\n",
        "    print(\"number is 2\")\n",
        "else:\n",
        "    print(\"number is not 1 or 2\")"
      ],
      "execution_count": 23,
      "outputs": [
        {
          "output_type": "stream",
          "text": [
            "6\n",
            "number is not 1 or 2\n"
          ],
          "name": "stdout"
        }
      ]
    },
    {
      "cell_type": "markdown",
      "metadata": {
        "id": "QDxap1uPq6Uy"
      },
      "source": [
        "# More with Control Flow"
      ]
    },
    {
      "cell_type": "markdown",
      "metadata": {
        "id": "7bR_g3YdtrxO"
      },
      "source": [
        "You can combine loops with if statements (if/else/elif as a whole, not just if statements)."
      ]
    },
    {
      "cell_type": "code",
      "metadata": {
        "colab": {
          "base_uri": "https://localhost:8080/"
        },
        "id": "u5iDHxletsC0",
        "outputId": "43cb0fe9-35f5-4269-8a7a-276639ce7fe0"
      },
      "source": [
        "for num in range(6):\n",
        "    # X mod 2 can check if a number is even or odd\n",
        "    if num % 2 == 0:\n",
        "        print(num, \"is even\")\n",
        "    else:\n",
        "        print(num, \"is odd\")"
      ],
      "execution_count": 24,
      "outputs": [
        {
          "output_type": "stream",
          "text": [
            "0 is even\n",
            "1 is odd\n",
            "2 is even\n",
            "3 is odd\n",
            "4 is even\n",
            "5 is odd\n"
          ],
          "name": "stdout"
        }
      ]
    },
    {
      "cell_type": "markdown",
      "metadata": {
        "id": "jS8oA2r3vq2B"
      },
      "source": [
        "Since control flow depends on indentation, you can't leave a loop or if statement empty. You can put `pass` in there so that it is *effectively* empty while it isn't *actually* empty."
      ]
    },
    {
      "cell_type": "code",
      "metadata": {
        "id": "LwSdfb0rvrLK"
      },
      "source": [
        "for num in range(6):\n",
        "    pass\n",
        "\n",
        "if 5 == 5:\n",
        "    pass"
      ],
      "execution_count": 25,
      "outputs": []
    },
    {
      "cell_type": "markdown",
      "metadata": {
        "id": "Fh0CRvcMq9Qp"
      },
      "source": [
        "You can use `break` to exit the current loop early. If there are multiple loops it is inside of (like being inside a nested loop), it only breaks out the innermost loop."
      ]
    },
    {
      "cell_type": "code",
      "metadata": {
        "colab": {
          "base_uri": "https://localhost:8080/"
        },
        "id": "ZUVPPYX-q9cS",
        "outputId": "d534b570-b96a-4d32-ba6d-245d1967074e"
      },
      "source": [
        "for num in range(6):\n",
        "    if num == 4:\n",
        "        print(\"break at 4\")\n",
        "        break\n",
        "    else:\n",
        "        print(num)"
      ],
      "execution_count": 26,
      "outputs": [
        {
          "output_type": "stream",
          "text": [
            "0\n",
            "1\n",
            "2\n",
            "3\n",
            "break at 4\n"
          ],
          "name": "stdout"
        }
      ]
    },
    {
      "cell_type": "markdown",
      "metadata": {
        "id": "IFz2o0H-vFyU"
      },
      "source": [
        "You can use `continue` to skip the current iteration of the loop. Nothing else in the current iteration will run."
      ]
    },
    {
      "cell_type": "code",
      "metadata": {
        "colab": {
          "base_uri": "https://localhost:8080/"
        },
        "id": "C_uAI1q1vGDH",
        "outputId": "cb1d80d5-0a29-49f5-bee7-a18c8e215af6"
      },
      "source": [
        "for num in range(6):\n",
        "    if num == 4:\n",
        "        print(\"continue at 4\")\n",
        "        continue\n",
        "    else:\n",
        "        print(num)\n",
        "    # if the loop continued, it would skip this\n",
        "    print(\"loop didn't continue\")"
      ],
      "execution_count": 27,
      "outputs": [
        {
          "output_type": "stream",
          "text": [
            "0\n",
            "loop didn't continue\n",
            "1\n",
            "loop didn't continue\n",
            "2\n",
            "loop didn't continue\n",
            "3\n",
            "loop didn't continue\n",
            "continue at 4\n",
            "5\n",
            "loop didn't continue\n"
          ],
          "name": "stdout"
        }
      ]
    },
    {
      "cell_type": "markdown",
      "metadata": {
        "id": "Vif1AnG5UBGM"
      },
      "source": [
        "# Different Ways to Find Prime Numbers"
      ]
    },
    {
      "cell_type": "code",
      "metadata": {
        "colab": {
          "base_uri": "https://localhost:8080/"
        },
        "id": "Sc7vyasG3M47",
        "outputId": "b1219a91-dce7-4c9b-8621-2c4af6d19fc1"
      },
      "source": [
        "# slow and too many repeated print statements (~8 seconds)\n",
        "\n",
        "number = 74430773\n",
        "if number > 1:\n",
        "    # when number = 2, range(2, 2) is nothing, so it won't loop and will go to \"else\"\n",
        "    for a in range(2, number):\n",
        "        # if it is divisible by something, it's not prime\n",
        "        if (number % a) == 0:\n",
        "            print(number, \"is not a prime number\")\n",
        "            break\n",
        "    # if the loop doesn't break, it's prime\n",
        "    else:\n",
        "        print(number, \"is a prime number\")\n",
        "# if it's 1 or less, it's not prime\n",
        "else:\n",
        "    print(number, \"is not a prime number\")"
      ],
      "execution_count": 28,
      "outputs": [
        {
          "output_type": "stream",
          "text": [
            "74430773 is a prime number\n"
          ],
          "name": "stdout"
        }
      ]
    },
    {
      "cell_type": "code",
      "metadata": {
        "colab": {
          "base_uri": "https://localhost:8080/"
        },
        "id": "FIo9FKa63jYE",
        "outputId": "8e9cc07d-9ea6-46ba-cd6d-cb0acbeec621"
      },
      "source": [
        "# cleaner and faster code (~4 seconds)\n",
        "\n",
        "number = 74430773\n",
        "isPrime = True\n",
        "# if it's 2 or more, it might be prime\n",
        "if number > 1:\n",
        "    for a in range(2, int(number/2)):\n",
        "        # if it is divisible by something, it's not prime\n",
        "        if (number % a) == 0:\n",
        "            isPrime = False\n",
        "            break\n",
        "# if it's 1 or less, it's not prime\n",
        "else:\n",
        "    isPrime = False\n",
        "    \n",
        "print(number, \" is \", \"\" if isPrime else \"not \", \"a prime number\", sep=\"\")"
      ],
      "execution_count": 29,
      "outputs": [
        {
          "output_type": "stream",
          "text": [
            "74430773 is a prime number\n"
          ],
          "name": "stdout"
        }
      ]
    },
    {
      "cell_type": "code",
      "metadata": {
        "colab": {
          "base_uri": "https://localhost:8080/"
        },
        "id": "31ZyZaR2tqA2",
        "outputId": "0755647c-8cf8-4e68-ec98-a3247ff89a27"
      },
      "source": [
        "# fastest, but code is more complicated (~2 seconds)\n",
        "\n",
        "number = 74430773\n",
        "isPrime = True\n",
        "if number > 1:\n",
        "    # if it's 2, it's prime\n",
        "    if number == 2:\n",
        "        pass\n",
        "    # if it's odd, it might be prime\n",
        "    elif (number % 2) != 0:\n",
        "        # since it's odd, it isn't divisible by 2, so only check odd numbers\n",
        "        for a in range(3, int(number/2), 2):\n",
        "            if (number % a) == 0:\n",
        "                isPrime = False\n",
        "                break\n",
        "    # if it's even and not 2, it's not prime\n",
        "    else:\n",
        "        isPrime = False\n",
        "# if it's 1 or less, it's not prime\n",
        "else:\n",
        "    isPrime = False\n",
        "    \n",
        "print(number, \" is \", \"\" if isPrime else \"not \", \"a prime number\", sep=\"\")"
      ],
      "execution_count": 30,
      "outputs": [
        {
          "output_type": "stream",
          "text": [
            "74430773 is a prime number\n"
          ],
          "name": "stdout"
        }
      ]
    },
    {
      "cell_type": "markdown",
      "metadata": {
        "id": "w64w4FiC0eDp"
      },
      "source": [
        "Since computers are fast now, shorter and cleaner code is preferred, even if it takes longer to run. However, for performance bottlenecks (code that is run often but is slow), you may need to sacrifice readability for performance."
      ]
    },
    {
      "cell_type": "markdown",
      "metadata": {
        "id": "0_CnTdSd2hmn"
      },
      "source": [
        "# Review"
      ]
    },
    {
      "cell_type": "markdown",
      "metadata": {
        "id": "6NHgoiCRquBs"
      },
      "source": [
        "Write a loop to print each number from 10 to 15, including 15."
      ]
    },
    {
      "cell_type": "code",
      "metadata": {
        "colab": {
          "base_uri": "https://localhost:8080/"
        },
        "id": "m0V2PMcaquRv",
        "outputId": "2dcf0148-75bc-4d09-aa5e-280273881018"
      },
      "source": [
        "for num in range(10, 16):\n",
        "    print(num)"
      ],
      "execution_count": 31,
      "outputs": [
        {
          "output_type": "stream",
          "text": [
            "10\n",
            "11\n",
            "12\n",
            "13\n",
            "14\n",
            "15\n"
          ],
          "name": "stdout"
        }
      ]
    },
    {
      "cell_type": "code",
      "metadata": {
        "colab": {
          "base_uri": "https://localhost:8080/"
        },
        "id": "KZGFfvF4q_Mv",
        "outputId": "e7e8ad82-81d3-4687-eae0-7f755eb4b432"
      },
      "source": [
        "num = 10\n",
        "\n",
        "while num <= 15:\n",
        "    print(num)\n",
        "    num += 1"
      ],
      "execution_count": 32,
      "outputs": [
        {
          "output_type": "stream",
          "text": [
            "10\n",
            "11\n",
            "12\n",
            "13\n",
            "14\n",
            "15\n"
          ],
          "name": "stdout"
        }
      ]
    },
    {
      "cell_type": "markdown",
      "metadata": {
        "id": "xSx6jp9RrWn6"
      },
      "source": [
        "Write a nested loop to print the following (use the seperator in the print statements):\n",
        "```\n",
        "0, 0\n",
        "0, 1\n",
        "0, 2\n",
        "1, 0\n",
        "1, 1\n",
        "1, 2\n",
        "```"
      ]
    },
    {
      "cell_type": "code",
      "metadata": {
        "colab": {
          "base_uri": "https://localhost:8080/"
        },
        "id": "gSCqIZ0UrW4o",
        "outputId": "0a3aafc9-a99c-4eda-ea8e-d21e2e384d67"
      },
      "source": [
        "for i in range(2):\n",
        "    for j in range(3):\n",
        "        print(i, j, sep=\", \")"
      ],
      "execution_count": 35,
      "outputs": [
        {
          "output_type": "stream",
          "text": [
            "0, 0\n",
            "0, 1\n",
            "0, 2\n",
            "1, 0\n",
            "1, 1\n",
            "1, 2\n"
          ],
          "name": "stdout"
        }
      ]
    },
    {
      "cell_type": "markdown",
      "metadata": {
        "id": "ZoLk3EKNslUF"
      },
      "source": [
        "For all the numbers from 1 to 100 (not including 100), print them if the square root of the number is a whole number (use modulus)."
      ]
    },
    {
      "cell_type": "code",
      "metadata": {
        "colab": {
          "base_uri": "https://localhost:8080/"
        },
        "id": "6WMyuX8pslkx",
        "outputId": "f2963214-5ab8-47e0-e58a-afe3107b328d"
      },
      "source": [
        "import math\n",
        "for num in range(1, 100):\n",
        "    if math.sqrt(num) % 1 == 0:\n",
        "        print(num)"
      ],
      "execution_count": 41,
      "outputs": [
        {
          "output_type": "stream",
          "text": [
            "1\n",
            "4\n",
            "9\n",
            "16\n",
            "25\n",
            "36\n",
            "49\n",
            "64\n",
            "81\n"
          ],
          "name": "stdout"
        }
      ]
    },
    {
      "cell_type": "markdown",
      "metadata": {
        "id": "dNeE1cME2o8t"
      },
      "source": [
        "If you had to find the largest prime under 10000, where should you start? Should you skip any numbers?"
      ]
    },
    {
      "cell_type": "markdown",
      "metadata": {
        "id": "tgM-zu3F28ab"
      },
      "source": [
        "Possible answers, from least to most efficient:\n",
        "- start from 1 and go up by 1 each time, recording the highest prime\n",
        "- start from 1 and go up by 2 each time (skipping even numbers), recording the highest prime\n",
        "- start from 10000 and go down by 1 each time, stopping when a prime is found\n",
        "- **start from 9999 and go down by 2 each time (skipping even numbers), stopping when a prime is found**"
      ]
    }
  ]
}