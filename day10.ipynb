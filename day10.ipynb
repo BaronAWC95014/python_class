{
  "nbformat": 4,
  "nbformat_minor": 0,
  "metadata": {
    "colab": {
      "name": "day10.ipynb",
      "provenance": [],
      "toc_visible": true,
      "include_colab_link": true
    },
    "kernelspec": {
      "name": "python3",
      "display_name": "Python 3"
    },
    "language_info": {
      "name": "python"
    }
  },
  "cells": [
    {
      "cell_type": "markdown",
      "metadata": {
        "id": "view-in-github",
        "colab_type": "text"
      },
      "source": [
        "<a href=\"https://colab.research.google.com/github/BaronAWC95014/python_class_instructor/blob/main/day10.ipynb\" target=\"_parent\"><img src=\"https://colab.research.google.com/assets/colab-badge.svg\" alt=\"Open In Colab\"/></a>"
      ]
    },
    {
      "cell_type": "markdown",
      "metadata": {
        "id": "6neDCzjweqzv"
      },
      "source": [
        "# Printing Objects and String Representation"
      ]
    },
    {
      "cell_type": "markdown",
      "metadata": {
        "id": "8UgGy1ukewH2"
      },
      "source": [
        "The methods `__repr__` and `__str__` are methods that produce a string representation of an object. More specifically, `__repr__` is the \"official\" representation, while `__str__` is the \"informal\" representation. When there is no `__str__` method in a class, its `__repr__` is called instead."
      ]
    },
    {
      "cell_type": "code",
      "metadata": {
        "colab": {
          "base_uri": "https://localhost:8080/"
        },
        "id": "YaXUpTfsgwbT",
        "outputId": "b3fea538-bf6a-4e86-ee83-c9559cd0528b"
      },
      "source": [
        "class Rectangle:\n",
        "    \"\"\" A Python object that describes the properties of a rectangle \"\"\"\n",
        "    def __init__(self, width, height, center=(0.0, 0.0)):\n",
        "        \"\"\" Sets the attributes of a particular instance of `Rectangle`.\n",
        "\n",
        "            Parameters\n",
        "            ----------\n",
        "            width : float\n",
        "                The x-extent of this rectangle instance.\n",
        "\n",
        "            height : float\n",
        "                The y-extent of this rectangle instance.\n",
        "\n",
        "            center : Tuple[float, float], optional (default=(0, 0))\n",
        "                The (x, y) position of this rectangle's center\"\"\"\n",
        "        self.width = width\n",
        "        self.height = height\n",
        "        self.center = center\n",
        "\n",
        "    def __repr__(self):\n",
        "        \"\"\" Returns a string to be used as a printable representation\n",
        "            of a given rectangle.\"\"\"\n",
        "        return \"Rectangle(width={w}, height={h}, center={c})\".format(h=self.height,\n",
        "                                                                     w=self.width,\n",
        "                                                                     c=self.center)\n",
        "    \n",
        "    def __str__(self):\n",
        "        \"\"\" Returns a string to be used as a printable representation\n",
        "            of a given rectangle.\"\"\"\n",
        "        return \"Rectangle with width {w}, height {h}, and center {c}\".format(h=self.height,\n",
        "                                                                     w=self.width,\n",
        "                                                                     c=self.center)\n",
        "\n",
        "    def compute_area(self):\n",
        "        \"\"\" Returns the area of this rectangle\n",
        "\n",
        "            Returns\n",
        "            -------\n",
        "            float\"\"\"\n",
        "        return self.width * self.height\n",
        "\n",
        "    def compute_corners(self):\n",
        "        \"\"\" Computes the (x, y) corner-locations of this rectangle, starting with the\n",
        "            'top-right' corner, and proceeding clockwise.\n",
        "\n",
        "            Returns\n",
        "            -------\n",
        "            List[Tuple[float, float], Tuple[float, float], Tuple[float, float], Tuple[float, float]]\"\"\"\n",
        "        cx, cy = self.center\n",
        "        dx = self.width / 2.0\n",
        "        dy = self.height / 2.0\n",
        "        return [(cx + x, cy + y) for x,y in ((dx, dy), (dx, -dy), (-dx, -dy), (-dx, dy))]\n",
        "\n",
        "test = Rectangle(4,5)\n",
        "print(test)"
      ],
      "execution_count": null,
      "outputs": [
        {
          "output_type": "stream",
          "text": [
            "Rectangle with width 4, height 5, and center (0.0, 0.0)\n"
          ],
          "name": "stdout"
        }
      ]
    },
    {
      "cell_type": "markdown",
      "metadata": {
        "id": "rAiiX7Dd2qcs"
      },
      "source": [
        "# Methods"
      ]
    },
    {
      "cell_type": "markdown",
      "metadata": {
        "id": "Mrr0p7oH3Enc"
      },
      "source": [
        "Recall that a method is an attribute of a class that is a function. For example, “append” is a method that is defined for the `list` class and “capitalize” is a method of the `str` (string) class."
      ]
    },
    {
      "cell_type": "code",
      "metadata": {
        "colab": {
          "base_uri": "https://localhost:8080/"
        },
        "id": "hVGKAcpvxSbm",
        "outputId": "20acd145-4621-4cc2-d692-2ef3c19f818e"
      },
      "source": [
        "example_list = [1, 2, 3, 4, 5]\n",
        "example_list.append(6)\n",
        "print(example_list)\n",
        "\n",
        "example_str = \"hello world\"\n",
        "example_str = example_str.capitalize()\n",
        "print(example_str)"
      ],
      "execution_count": null,
      "outputs": [
        {
          "output_type": "stream",
          "text": [
            "[1, 2, 3, 4, 5, 6]\n",
            "Hello world\n"
          ],
          "name": "stdout"
        }
      ]
    },
    {
      "cell_type": "markdown",
      "metadata": {
        "id": "lVYKVz5C3abg"
      },
      "source": [
        "Here we will encounter three varieties of methods:\n",
        "\n",
        "* instance methods\n",
        "* class methods\n",
        "* static methods\n",
        "\n",
        "whose differences are relatively minor but are important to understand. The functions “append” and “capitalize” are both examples of instance methods, specifically, as they are designed to be invoked by a particular list instance and string instance, respectively.\n",
        "\n",
        "We have already worked with the instance method `__init__`, which is special in that it is reserved by Python to be executed whenever class-initialization is invoked. Similarly, the special instance method `__add__` informs how an object interacts with the `+` operator. For example, `float.__add__` specifies that `+` will sum the values of `float` instances, whereas `list.__add__` specifies that `+` will concatenate `list` instances together. We will conclude our discussion of methods by surveying a number of these special methods - they will greatly bolster our ability to define convenient, user-friendly classes.\n",
        "\n"
      ]
    },
    {
      "cell_type": "markdown",
      "metadata": {
        "id": "4CcvAWwY3xc_"
      },
      "source": [
        "## Instance Methods"
      ]
    },
    {
      "cell_type": "markdown",
      "metadata": {
        "id": "e5xmHB8R3zWz"
      },
      "source": [
        "An instance method is defined whenever a function definition is specified within the body of a class. Just like the `__init__` method, `self` is the defacto first-argument for any instance method. When you call an instance method from an instance object, Python automatically passes that instance object as the first argument, in addition to any other arguments that were passed in by the user. This only applies when the method is called through and instance of an object."
      ]
    },
    {
      "cell_type": "code",
      "metadata": {
        "id": "NTTCEdTJkQ9u",
        "colab": {
          "base_uri": "https://localhost:8080/",
          "height": 215
        },
        "outputId": "51743625-c6d7-4fe8-9588-042a2ff56b0c"
      },
      "source": [
        "class InstanceMethodExample:\n",
        "\n",
        "    def example_inst_method(self):\n",
        "        print(\"this only works as obj.method()\")\n",
        "\n",
        "obj = InstanceMethodExample()\n",
        "obj.example_inst_method()\n",
        "\n",
        "InstanceMethodExample.example_inst_method()"
      ],
      "execution_count": null,
      "outputs": [
        {
          "output_type": "stream",
          "text": [
            "this only works as obj.method()\n"
          ],
          "name": "stdout"
        },
        {
          "output_type": "error",
          "ename": "TypeError",
          "evalue": "ignored",
          "traceback": [
            "\u001b[0;31m---------------------------------------------------------------------------\u001b[0m",
            "\u001b[0;31mTypeError\u001b[0m                                 Traceback (most recent call last)",
            "\u001b[0;32m<ipython-input-2-409dc48fc6ce>\u001b[0m in \u001b[0;36m<module>\u001b[0;34m()\u001b[0m\n\u001b[1;32m      7\u001b[0m \u001b[0mobj\u001b[0m\u001b[0;34m.\u001b[0m\u001b[0mexample_inst_method\u001b[0m\u001b[0;34m(\u001b[0m\u001b[0;34m)\u001b[0m\u001b[0;34m\u001b[0m\u001b[0;34m\u001b[0m\u001b[0m\n\u001b[1;32m      8\u001b[0m \u001b[0;34m\u001b[0m\u001b[0m\n\u001b[0;32m----> 9\u001b[0;31m \u001b[0mInstanceMethodExample\u001b[0m\u001b[0;34m.\u001b[0m\u001b[0mexample_inst_method\u001b[0m\u001b[0;34m(\u001b[0m\u001b[0;34m)\u001b[0m\u001b[0;34m\u001b[0m\u001b[0;34m\u001b[0m\u001b[0m\n\u001b[0m",
            "\u001b[0;31mTypeError\u001b[0m: example_inst_method() missing 1 required positional argument: 'self'"
          ]
        }
      ]
    },
    {
      "cell_type": "markdown",
      "metadata": {
        "id": "JurZjvDK4pVb"
      },
      "source": [
        "## Class Methods"
      ]
    },
    {
      "cell_type": "markdown",
      "metadata": {
        "id": "11_cRlc44pMi"
      },
      "source": [
        "A class method is similar to an instance method, but it has a class object passed as its first argument. Recall that, when an instance method is called from an instance object, that instance object is automatically passed as the first argument to the method. By contrast, when a class method is called from a either a class object or an instance object, the class object is automatically passed as the first argument to the method. Instead of calling this first argument `self`, the convention is to name it `cls`.\n",
        "\n",
        "To define a class method you must decorate the method definition with a special built-in decorator `@classmethod`. We have not discussed decorators. Suffice it to know that this simply “tags” the method, so that Python knows to treat it like a class method instead of an instance method. The following demonstrates this decoration process:"
      ]
    },
    {
      "cell_type": "code",
      "metadata": {
        "id": "2-3KRJYGkF_g",
        "colab": {
          "base_uri": "https://localhost:8080/"
        },
        "outputId": "9f199dad-9704-451c-94d5-3614f9ba2ae9"
      },
      "source": [
        "class ClassMethodExample:\n",
        "\n",
        "    @classmethod\n",
        "    def example_class_method(cls):\n",
        "        print(\"this works as either class.method() or obj.method()\")\n",
        "\n",
        "ClassMethodExample.example_class_method()\n",
        "\n",
        "obj = ClassMethodExample()\n",
        "obj.example_class_method()"
      ],
      "execution_count": null,
      "outputs": [
        {
          "output_type": "stream",
          "text": [
            "this works as either class.method() or obj.method()\n",
            "this works as either class.method() or obj.method()\n"
          ],
          "name": "stdout"
        }
      ]
    },
    {
      "cell_type": "markdown",
      "metadata": {
        "id": "SwlI99314ovJ"
      },
      "source": [
        "## Static Methods"
      ]
    },
    {
      "cell_type": "markdown",
      "metadata": {
        "id": "vs03kief4vNz"
      },
      "source": [
        "A static method is simply a method whose arguments must all be passed explicitly by the user. That is, Python doesn’t pass anything to a static method automatically. The built-in decorator `@staticmethod` is used to distinguish a method as being static rather than an instance method."
      ]
    },
    {
      "cell_type": "code",
      "metadata": {
        "id": "qYmIpbAWlDyK",
        "colab": {
          "base_uri": "https://localhost:8080/"
        },
        "outputId": "2ef335c0-e243-47ed-b360-635c454e908e"
      },
      "source": [
        "class StaticMethodExample:\n",
        "\n",
        "    @staticmethod\n",
        "    def example_static_method():\n",
        "        print(\"this only works as class.method() and can't use any class attributes\")\n",
        "\n",
        "StaticMethodExample.example_static_method()\n",
        "\n",
        "obj = ClassMethodExample()\n",
        "obj.example_static_method()"
      ],
      "execution_count": null,
      "outputs": [
        {
          "output_type": "stream",
          "text": [
            "this only works as class.method()\n",
            "hi\n"
          ],
          "name": "stdout"
        }
      ]
    },
    {
      "cell_type": "markdown",
      "metadata": {
        "id": "mq48ofXCoW2e"
      },
      "source": [
        "## Class Methods vs. Static Methods"
      ]
    },
    {
      "cell_type": "markdown",
      "metadata": {
        "id": "Wdk0CvBLoaLf"
      },
      "source": [
        "Both class methods and static methods do not need an instance of the object created in order to be called. However, there is one key difference: class methods take the class as an intrinsic parameter while static methods have no association to the class. Therefore, if you need to access something within the class you create the method in, use the class method over the static method."
      ]
    },
    {
      "cell_type": "markdown",
      "metadata": {
        "id": "ejP4G1asMzd3"
      },
      "source": [
        "**EXERCISE:** Add a method to `Rectangle` to decide whether the `Rectangle` instance is a square. Return a boolean."
      ]
    },
    {
      "cell_type": "code",
      "metadata": {
        "id": "4bU8E66jNngT"
      },
      "source": [
        "def isSquare(self):\n",
        "    if (self.width == self.height):\n",
        "        return True\n",
        "    \n",
        "    return False"
      ],
      "execution_count": null,
      "outputs": []
    },
    {
      "cell_type": "markdown",
      "metadata": {
        "id": "B1mT1MVxN2Bf"
      },
      "source": [
        "**EXERCISE:** Add a method to `Rectangle` to determine the perimeter and return it."
      ]
    },
    {
      "cell_type": "code",
      "metadata": {
        "id": "i1MX0S1pN2VJ"
      },
      "source": [
        "def compute_perimeter(self):\n",
        "    return 2 * self.width + 2 * self.height"
      ],
      "execution_count": null,
      "outputs": []
    },
    {
      "cell_type": "markdown",
      "metadata": {
        "id": "xNnzM-DLPGf8"
      },
      "source": [
        "**EXERCISE:** Add a `getWidth()` and `getHeight()`."
      ]
    },
    {
      "cell_type": "code",
      "metadata": {
        "id": "hUgih56MPGyH"
      },
      "source": [
        "def getWidth(self):\n",
        "    return self.width\n",
        "\n",
        "def getHeight(self):\n",
        "    return self.height"
      ],
      "execution_count": null,
      "outputs": []
    },
    {
      "cell_type": "markdown",
      "metadata": {
        "id": "g50PQj-0rlkd"
      },
      "source": [
        "# Inheritance"
      ]
    },
    {
      "cell_type": "markdown",
      "metadata": {
        "id": "5-VfFw4UrpSH"
      },
      "source": [
        "A final topic for us to discuss in this introduction to object oriented programming is the concept of inheritance. Working with inheritance provides powerful abstractions and elegant code re-use - it permits a class to inherit and build off of the attributes of another class."
      ]
    },
    {
      "cell_type": "markdown",
      "metadata": {
        "id": "U8xSJledFHZe"
      },
      "source": [
        "Building off of the `Rectangle` class from earlier, we will be creating a `Square` class. Remember that a square is a special type of rectangle - one with equal widths and heights. Because of this, we can leverage the code that we already wrote for `Rectangle`. We can do this by defining a `Square` class that is a *subclass* of `Rectangle`. This means that `Square` will *inherit* all of the attributes of `Rectangle`, including its methods."
      ]
    },
    {
      "cell_type": "code",
      "metadata": {
        "id": "FaiupUeTFtPB",
        "colab": {
          "base_uri": "https://localhost:8080/"
        },
        "outputId": "b6dff34c-b142-410c-b624-30310c2e661f"
      },
      "source": [
        "class Square(Rectangle):\n",
        "    def __init__(self, side, center=(0.0, 0.0)):\n",
        "        # super() looks at its parent class\n",
        "        # in this case, Square will do the same initialization as Rectangle\n",
        "        super().__init__(side, side, center)\n",
        "square1 = Square(5)"
      ],
      "execution_count": null,
      "outputs": [
        {
          "output_type": "stream",
          "text": [
            "5\n"
          ],
          "name": "stdout"
        }
      ]
    },
    {
      "cell_type": "markdown",
      "metadata": {
        "id": "b05Q6L_DF9xj"
      },
      "source": [
        "Specifying class `Square(Rectangle)` signals that `Square` is a subclass of `Rectangle` and thus it will have inherited the attributes of `Rectangle`. Next, see that we overwrote the `__init__` method that `Square` inherited; instead of accepting a height and a width, `Square` should by specified by a single side length. Within this new `__init__` method, we pass in that single side length as both the width and height to `Rectangle.__init__`. `super` always refers to the “superclass” or “parent class” of a given class, thus `super` is `Rectangle` here."
      ]
    },
    {
      "cell_type": "markdown",
      "metadata": {
        "id": "QBhxZSf9I7YV"
      },
      "source": [
        "You can use all of `Rectangle`'s methods normally in `Square`: they do not need to redefined. However, if you want to change what a method does, you can override it by redefining it, just like what we did to `__init__`."
      ]
    },
    {
      "cell_type": "code",
      "metadata": {
        "colab": {
          "base_uri": "https://localhost:8080/"
        },
        "id": "kyFgVoLaJQdd",
        "outputId": "a79cf260-e26f-4802-a7aa-fbd38f31240d"
      },
      "source": [
        "square = Square(2)\n",
        "\n",
        "print(square.compute_area())"
      ],
      "execution_count": null,
      "outputs": [
        {
          "output_type": "stream",
          "text": [
            "4\n"
          ],
          "name": "stdout"
        }
      ]
    },
    {
      "cell_type": "markdown",
      "metadata": {
        "id": "om-X4fKpOYez"
      },
      "source": [
        "**EXERCISE:** Override the `__repr__` method in the `Square` class so that it prints the correct words (but follow the template in `Rectangle`)."
      ]
    },
    {
      "cell_type": "code",
      "metadata": {
        "id": "d2m4DgLhOsBf"
      },
      "source": [
        "def __repr__(self):\n",
        "    return \"Square(side={s}, center={c})\".format(s=self.width, c=self.center)"
      ],
      "execution_count": null,
      "outputs": []
    },
    {
      "cell_type": "markdown",
      "metadata": {
        "id": "tn6RuSN1PexP"
      },
      "source": [
        "**EXERCISE:** Add a method that prints out `\"I'm a square!\"` to `Square`. Make sure you use the appropriate type of method."
      ]
    },
    {
      "cell_type": "code",
      "metadata": {
        "id": "kllBekN9Psl7"
      },
      "source": [
        "@classmethod\n",
        "def printSquareString(cls):\n",
        "    print(\"I'm a square!\")"
      ],
      "execution_count": null,
      "outputs": []
    },
    {
      "cell_type": "markdown",
      "metadata": {
        "id": "DoZcWqvqJlfT"
      },
      "source": [
        "There is also a built-in `issubclass` function to verify the relationship between 2 classes."
      ]
    },
    {
      "cell_type": "code",
      "metadata": {
        "colab": {
          "base_uri": "https://localhost:8080/"
        },
        "id": "iMIJnMDSJyJa",
        "outputId": "b6a3f0de-486d-4558-f635-1debaaad9b2c"
      },
      "source": [
        "issubclass(Square, Rectangle)"
      ],
      "execution_count": null,
      "outputs": [
        {
          "output_type": "execute_result",
          "data": {
            "text/plain": [
              "True"
            ]
          },
          "metadata": {
            "tags": []
          },
          "execution_count": 9
        }
      ]
    },
    {
      "cell_type": "markdown",
      "metadata": {
        "id": "QGsND9MlJzLB"
      },
      "source": [
        "A quick note: a `Square` is not a `Rectangle` like in Java. However, an instance of `Square` is also an instance of `Rectangle`."
      ]
    },
    {
      "cell_type": "markdown",
      "metadata": {
        "id": "k-CtRtbyKT8I"
      },
      "source": [
        "This is barely a scratch on the surface of inheritance, but this is a good starting point."
      ]
    },
    {
      "cell_type": "markdown",
      "metadata": {
        "id": "DJZCxXkOW0IK"
      },
      "source": [
        "# Review"
      ]
    },
    {
      "cell_type": "markdown",
      "metadata": {
        "id": "YGcFbcu2W2q8"
      },
      "source": [
        "Make a `Triangle` class that contains a constructor, a `__repr__` method, and a method that returns the perimeter. Next,create a subclass called `EquilateralTriangle` with a new constructor and a new method that computes the area. The area formula is `(sqrt(3)/2)l * l/2`."
      ]
    }
  ]
}