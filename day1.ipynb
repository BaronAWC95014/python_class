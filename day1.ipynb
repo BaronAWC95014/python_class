{
  "nbformat": 4,
  "nbformat_minor": 0,
  "metadata": {
    "colab": {
      "name": "day1.ipynb",
      "provenance": [],
      "collapsed_sections": [],
      "toc_visible": true,
      "authorship_tag": "ABX9TyMOf/go2kZrh1QCk3q1QGJW",
      "include_colab_link": true
    },
    "kernelspec": {
      "name": "python3",
      "display_name": "Python 3"
    },
    "language_info": {
      "name": "python"
    }
  },
  "cells": [
    {
      "cell_type": "markdown",
      "metadata": {
        "id": "view-in-github",
        "colab_type": "text"
      },
      "source": [
        "<a href=\"https://colab.research.google.com/github/BaronAWC95014/python_class/blob/main/day1.ipynb\" target=\"_parent\"><img src=\"https://colab.research.google.com/assets/colab-badge.svg\" alt=\"Open In Colab\"/></a>"
      ]
    },
    {
      "cell_type": "markdown",
      "metadata": {
        "id": "mJjBC2DhedHw"
      },
      "source": [
        "# Set up Colab"
      ]
    },
    {
      "cell_type": "markdown",
      "metadata": {
        "id": "IJTIwNzqeg_A"
      },
      "source": [
        "[insert screenshots for how to set up]"
      ]
    },
    {
      "cell_type": "markdown",
      "metadata": {
        "id": "xEGowo3PfbyH"
      },
      "source": [
        "# Intro to the Python Language"
      ]
    },
    {
      "cell_type": "markdown",
      "metadata": {
        "id": "Z3FJ46NGf1GX"
      },
      "source": [
        "## What is Python?\n",
        "- Python is a programming language (a way to provide instructions to the computer).\n",
        "- Python is a scripting language. In a scripting language, the code always runs and only stops when it runs into an issue. When it runs into an error, it stops, and none of the code after it runs."
      ]
    },
    {
      "cell_type": "code",
      "metadata": {
        "id": "oVqxp5i9VruR"
      },
      "source": [
        "# an example of how a scripting language works\n",
        "print(\"hello\") # runs successfully\n",
        "abc # throws error, code stops\n",
        "print(\"world\") # never gets run"
      ],
      "execution_count": null,
      "outputs": []
    },
    {
      "cell_type": "markdown",
      "metadata": {
        "id": "XumHQAyhcZ8u"
      },
      "source": [
        "## Why Python?\n",
        "- Python is one of the most popular programming languages for colleges.\n",
        "- Python's syntax (language/grammar) is intuitive and easy to get started with."
      ]
    },
    {
      "cell_type": "markdown",
      "metadata": {
        "id": "AYBExM8bcijd"
      },
      "source": [
        "## What is Google Colab?\n",
        "- Programmers usually use integrated development environments (IDE's), which suggest autocompletes for you (example below).\n",
        "- Python interpreters read code and perform the given actions. Google Colab is a Python interpreter.\n",
        "\n",
        "![example of what an IDE does](https://drive.google.com/uc?export=view&id=18Qb1gQhZDhZ1FLAvTFmPVQJrKQHiQdvv)"
      ]
    },
    {
      "cell_type": "markdown",
      "metadata": {
        "id": "UNJJL7sSyJ7U"
      },
      "source": [
        "# Writing Comments"
      ]
    },
    {
      "cell_type": "markdown",
      "metadata": {
        "id": "Uvz4CBF5yNNv"
      },
      "source": [
        "At any point, if you have a `#` sign, the rest of the line will be ignored by the Python interpreter. This is used for programmers to clarify code (line 1) or make code not run without deleting it (line 3)."
      ]
    },
    {
      "cell_type": "code",
      "metadata": {
        "colab": {
          "base_uri": "https://localhost:8080/",
          "height": 130
        },
        "id": "_BrAFwUwyNgd",
        "outputId": "9c621889-9c18-4672-a469-130ebb1cd34e"
      },
      "source": [
        "2 + 5 # add 2 and 5\n",
        "\n",
        "# 10 - 5"
      ],
      "execution_count": null,
      "outputs": [
        {
          "output_type": "error",
          "ename": "SyntaxError",
          "evalue": "ignored",
          "traceback": [
            "\u001b[0;36m  File \u001b[0;32m\"<ipython-input-4-c5772be326e2>\"\u001b[0;36m, line \u001b[0;32m5\u001b[0m\n\u001b[0;31m    *sdf*(/)\u001b[0m\n\u001b[0m          ^\u001b[0m\n\u001b[0;31mSyntaxError\u001b[0m\u001b[0;31m:\u001b[0m invalid syntax\n"
          ]
        }
      ]
    },
    {
      "cell_type": "markdown",
      "metadata": {
        "id": "H6E-bqCalU4p"
      },
      "source": [
        "# Using Python as a Calculator"
      ]
    },
    {
      "cell_type": "markdown",
      "metadata": {
        "id": "YakNnntRczqQ"
      },
      "source": [
        "## Basic Arithmetic"
      ]
    },
    {
      "cell_type": "markdown",
      "metadata": {
        "id": "YpvV6hy0lqRf"
      },
      "source": [
        "You can simply type something like an equation in a code cell and it will print it out for you."
      ]
    },
    {
      "cell_type": "code",
      "metadata": {
        "colab": {
          "base_uri": "https://localhost:8080/"
        },
        "id": "ft-hEXlxlcmZ",
        "outputId": "1eda02e8-e293-4c35-c6ad-50c8dca84cb5"
      },
      "source": [
        "5 + 5"
      ],
      "execution_count": null,
      "outputs": [
        {
          "output_type": "execute_result",
          "data": {
            "text/plain": [
              "10"
            ]
          },
          "metadata": {
            "tags": []
          },
          "execution_count": 1
        }
      ]
    },
    {
      "cell_type": "markdown",
      "metadata": {
        "id": "eYtW9-pBl3L2"
      },
      "source": [
        "However, keep in mind that it only works for the very last one. In this cell, the first line doesn't print, but the second one does."
      ]
    },
    {
      "cell_type": "code",
      "metadata": {
        "colab": {
          "base_uri": "https://localhost:8080/"
        },
        "id": "6E3jyzLsl3p5",
        "outputId": "e867eb6c-0b3c-402c-a013-aa39da68a283"
      },
      "source": [
        "1 + 2\n",
        "13 - 5"
      ],
      "execution_count": null,
      "outputs": [
        {
          "output_type": "execute_result",
          "data": {
            "text/plain": [
              "8"
            ]
          },
          "metadata": {
            "tags": []
          },
          "execution_count": 2
        }
      ]
    },
    {
      "cell_type": "markdown",
      "metadata": {
        "id": "Vin3wWatmGZ5"
      },
      "source": [
        "In math, you usually write the multiply symbol as either `x` or `•`. However, this is not the case for coding, and the interpreter will be confused. Instead, you use `*` (`SHIFT` + `8`) (asterisk) to show multiplication. To show division, you use `/`. Spacing between the symbols and numbers don't matter, so `2 + 3` is the same as `2+3` and `2+ 3`."
      ]
    },
    {
      "cell_type": "code",
      "metadata": {
        "colab": {
          "base_uri": "https://localhost:8080/"
        },
        "id": "AukK-BSImG-K",
        "outputId": "9b5912b4-e534-4832-cf01-90493de3bee0"
      },
      "source": [
        "5 * -4"
      ],
      "execution_count": null,
      "outputs": [
        {
          "output_type": "execute_result",
          "data": {
            "text/plain": [
              "-20"
            ]
          },
          "metadata": {
            "tags": []
          },
          "execution_count": 20
        }
      ]
    },
    {
      "cell_type": "code",
      "metadata": {
        "colab": {
          "base_uri": "https://localhost:8080/"
        },
        "id": "JZb0DIOpoSJ_",
        "outputId": "b19baa81-d70c-4c62-a8c2-135efa18053f"
      },
      "source": [
        "9/3"
      ],
      "execution_count": null,
      "outputs": [
        {
          "output_type": "stream",
          "text": [
            "3.0\n"
          ],
          "name": "stdout"
        }
      ]
    },
    {
      "cell_type": "markdown",
      "metadata": {
        "id": "Nqtp4tJAluf1"
      },
      "source": [
        "You may notice that the last expression gave `3.0`, not `3`. `3.0` is a float, a number that has a decimal. Since `20` has no decimal, it is an integer (int). We will go over integers and floats later."
      ]
    },
    {
      "cell_type": "code",
      "metadata": {
        "colab": {
          "base_uri": "https://localhost:8080/"
        },
        "id": "SMHUwagmlu0q",
        "outputId": "433c29e3-da8e-4425-9a45-404e13dfe644"
      },
      "source": [
        "type(3.0)"
      ],
      "execution_count": null,
      "outputs": [
        {
          "output_type": "execute_result",
          "data": {
            "text/plain": [
              "float"
            ]
          },
          "metadata": {
            "tags": []
          },
          "execution_count": 16
        }
      ]
    },
    {
      "cell_type": "code",
      "metadata": {
        "colab": {
          "base_uri": "https://localhost:8080/"
        },
        "id": "_yIXYQ-4mcvb",
        "outputId": "6880aba0-b2de-4bec-f8f4-226a336d7336"
      },
      "source": [
        "type(3)"
      ],
      "execution_count": null,
      "outputs": [
        {
          "output_type": "execute_result",
          "data": {
            "text/plain": [
              "int"
            ]
          },
          "metadata": {
            "tags": []
          },
          "execution_count": 17
        }
      ]
    },
    {
      "cell_type": "markdown",
      "metadata": {
        "id": "RQ48r-QHuVuC"
      },
      "source": [
        "These are all the math symbols.\n",
        "- Parentheses: `()`\n",
        "- Exponent: `x ** y` or `pow(x, y)`\n",
        "- Multiply: `x * y`\n",
        "- Divide: `x / y`\n",
        "- Add: `x + y`\n",
        "- Subtract: `x - y`\n",
        "- Modulus (remainder after division): `x % y`\n"
      ]
    },
    {
      "cell_type": "markdown",
      "metadata": {
        "id": "jqQ-Z5szsjVu"
      },
      "source": [
        "**EXERCISE:** Find the value of `52 + 4 ** (10 - 2)`. After that, calculate the same expression without the parentheses."
      ]
    },
    {
      "cell_type": "code",
      "metadata": {
        "colab": {
          "base_uri": "https://localhost:8080/"
        },
        "id": "FDSwnrwSsjnt",
        "outputId": "4fcc157e-920c-4066-fb20-ba41f79c2af5"
      },
      "source": [
        "# 52 + 4 ** (10 - 2)\n",
        "# 52 + 4 ** 10 - 2"
      ],
      "execution_count": null,
      "outputs": [
        {
          "output_type": "execute_result",
          "data": {
            "text/plain": [
              "65588"
            ]
          },
          "metadata": {
            "tags": []
          },
          "execution_count": 15
        }
      ]
    },
    {
      "cell_type": "markdown",
      "metadata": {
        "id": "jsDLrWC4Fhv6"
      },
      "source": [
        "**EXERCISE:** Find the sum of all the numbers from 1 to 10."
      ]
    },
    {
      "cell_type": "code",
      "metadata": {
        "colab": {
          "base_uri": "https://localhost:8080/"
        },
        "id": "GEWZShhlFiBJ",
        "outputId": "c954256b-fb4d-4d54-e9a2-3500fef91178"
      },
      "source": [
        "# brute force (not a good way to do it)\n",
        "# 1 + 2 + 3 + 4 + 5 + 6 + 7 + 8 + 9 + 10\n",
        "\n",
        "# formula (better way)\n",
        "(1 + 10) * 10 / 2"
      ],
      "execution_count": null,
      "outputs": [
        {
          "output_type": "execute_result",
          "data": {
            "text/plain": [
              "55.0"
            ]
          },
          "metadata": {
            "tags": []
          },
          "execution_count": 5
        }
      ]
    },
    {
      "cell_type": "markdown",
      "metadata": {
        "id": "G0Qf1JmYc7Im"
      },
      "source": [
        "## Importing Math"
      ]
    },
    {
      "cell_type": "markdown",
      "metadata": {
        "id": "pLxwJKyga-9a"
      },
      "source": [
        "It doesn't end there though. You can import more ways to use numbers by typing `import math`. When you type `math.` (the period is important), you should get a window with some autocompletes of functions and constants.\n",
        "\n",
        "You don't need to worry about what functions are yet, those will come later. Constants are numbers that don't change, like pi.\n",
        "\n",
        "If the autocompletes don't show up, you probably have to run the cell first, then type `math.` again. If you click away from the `math.` and the autcompletes disappear, delete the period and add it back, and you should get the autcompletes.\n",
        "\n",
        "By importing math, you now have constants (pi, infinity, NaN, etc), trigonometric functions (sin, cos, etc), and other important operations (sqrt, etc)."
      ]
    },
    {
      "cell_type": "code",
      "metadata": {
        "colab": {
          "base_uri": "https://localhost:8080/"
        },
        "id": "MWDB1mw7a_VY",
        "outputId": "4537388b-1094-48f6-9ca9-233d8bd2a0b2"
      },
      "source": [
        "import math\n",
        "\n",
        "print(math.sqrt(1234))"
      ],
      "execution_count": null,
      "outputs": [
        {
          "output_type": "stream",
          "text": [
            "35.12833614050059\n"
          ],
          "name": "stdout"
        }
      ]
    },
    {
      "cell_type": "markdown",
      "metadata": {
        "id": "JaZND92GgYEY"
      },
      "source": [
        "Don't know what something is or does? Put a question mark at the end of the function or constant (without the parentheses) and run the program, and you will be given a help manual. This works for any function, not just for math. We will be exploring more of these later.\n",
        "\n",
        "This probably only works in Google Colab.\n",
        "\n",
        "For this example, I typed the following and ran it:\n",
        "\n",
        "```\n",
        "import math\n",
        "\n",
        "math.exp?\n",
        "```\n",
        "\n",
        "![example of what the help manual looks like](https://drive.google.com/uc?export=view&id=1qyC6aKoDdsWi3-55L9icqvnPb3KRyNDf)"
      ]
    },
    {
      "cell_type": "code",
      "metadata": {
        "id": "eWbNTJ1ugYV6"
      },
      "source": [
        "import math\n",
        "\n",
        "# bring up the Google Colab help manual for this function\n",
        "math.exp?"
      ],
      "execution_count": null,
      "outputs": []
    },
    {
      "cell_type": "markdown",
      "metadata": {
        "id": "d8GkrB16mq3j"
      },
      "source": [
        "## Random Numbers"
      ]
    },
    {
      "cell_type": "markdown",
      "metadata": {
        "id": "LjwJ-78SmtGD"
      },
      "source": [
        "Python can generate random numbers, which can be useful in some situations. The following are likely the most useful."
      ]
    },
    {
      "cell_type": "code",
      "metadata": {
        "id": "won26r9SodIG"
      },
      "source": [
        "import random\n",
        "\n",
        "# returns an integer between 0 (by default) and 4 (not including 5)\n",
        "#random.randrange(5)\n",
        "\n",
        "# returns an integer between 2 and 11 (not including 12)\n",
        "#random.randrange(2, 12)\n",
        "\n",
        "# returns an integer between 1 and 19, skipping every 2nd number\n",
        "#random.randrange(1, 20, 2)\n",
        "\n",
        "# returns an integer between 5 and 10, both included\n",
        "#random.randint(5, 10)"
      ],
      "execution_count": null,
      "outputs": []
    },
    {
      "cell_type": "markdown",
      "metadata": {
        "id": "OGo6hMeArGjF"
      },
      "source": [
        "**EXERCISE:** Use random numbers to simulate rolling 2 6-sided dice."
      ]
    },
    {
      "cell_type": "code",
      "metadata": {
        "id": "bhocNU8IrSM6"
      },
      "source": [
        "random.randint(1, 6) + random.randint(1, 6)"
      ],
      "execution_count": null,
      "outputs": []
    },
    {
      "cell_type": "markdown",
      "metadata": {
        "id": "NQqleoiSF3R8"
      },
      "source": [
        "# Strings and Printing"
      ]
    },
    {
      "cell_type": "markdown",
      "metadata": {
        "id": "vfGNRLbmHXqw"
      },
      "source": [
        "To type a string, you either use single quotes or double quotes."
      ]
    },
    {
      "cell_type": "code",
      "metadata": {
        "id": "KyN2woWMH-Jw"
      },
      "source": [
        "\"Hello World\""
      ],
      "execution_count": null,
      "outputs": []
    },
    {
      "cell_type": "code",
      "metadata": {
        "id": "vgB_QiShJi9_"
      },
      "source": [
        "'Hello World'"
      ],
      "execution_count": null,
      "outputs": []
    },
    {
      "cell_type": "markdown",
      "metadata": {
        "id": "UMI-WVgbJkiD"
      },
      "source": [
        "However, you cannot use a single quote to start a string and a double quote to end the same string, and vice versa."
      ]
    },
    {
      "cell_type": "code",
      "metadata": {
        "id": "Ks832WeZJqJG"
      },
      "source": [
        "'Hello World\""
      ],
      "execution_count": null,
      "outputs": []
    },
    {
      "cell_type": "markdown",
      "metadata": {
        "id": "gGpXqtntKdqe"
      },
      "source": [
        "With this rule, if you use single quotes to make the string, you can use double quotes inside it, and vice versa."
      ]
    },
    {
      "cell_type": "code",
      "metadata": {
        "id": "dGK9sArFKzaY"
      },
      "source": [
        "\"Bob's phone started ringing.\""
      ],
      "execution_count": null,
      "outputs": []
    },
    {
      "cell_type": "markdown",
      "metadata": {
        "id": "91XkaMA8Lf14"
      },
      "source": [
        "If you want to use both single and double quotes in a string, you can use a backslash (`\\`) before the quotation mark. However, there might be a formatting problem."
      ]
    },
    {
      "cell_type": "code",
      "metadata": {
        "id": "y2g5_Jr-LRyt"
      },
      "source": [
        "\"\\\"Hello, who's this?\\\" he asked.\""
      ],
      "execution_count": null,
      "outputs": []
    },
    {
      "cell_type": "markdown",
      "metadata": {
        "id": "9LLdhtnROKzu"
      },
      "source": [
        "The formatting problem comes from the fact that directly typing the string returns what the computer sees, not what the human is supposed to see.\n",
        "\n",
        "Printing like this wasn't a very good way to do so in the first place, since it only prints the last command. But if you use `print()`, you can print at any time, and the formatting is now correct."
      ]
    },
    {
      "cell_type": "code",
      "metadata": {
        "id": "5bye5QdxLfOm"
      },
      "source": [
        "print(\"\\\"Hello, who's this?\\\" he asked.\")"
      ],
      "execution_count": null,
      "outputs": []
    },
    {
      "cell_type": "markdown",
      "metadata": {
        "id": "aXrT0SFMPGMq"
      },
      "source": [
        "You can print multiple times, and they don't just have to be strings."
      ]
    },
    {
      "cell_type": "code",
      "metadata": {
        "id": "dEHqXJsxPGdn"
      },
      "source": [
        "print(\"the quick brown fox jumps over the lazy dog\")\n",
        "print(2 + 3)"
      ],
      "execution_count": null,
      "outputs": []
    },
    {
      "cell_type": "markdown",
      "metadata": {
        "id": "yx9sljkvUz6s"
      },
      "source": [
        "In the following code:\n",
        "\n",
        "Line 1 prints exactly what is put in, but line 2 the other evaluates the equation. This is because the first one is a string, denoted by the quotes, and one is a number.\n",
        "\n",
        "Line 4 shows that you can \"add\" 2 strings together to combine them. Line 5 is similar, but there is a space in between. This is because the strings were connected using a comma. This could potentially be annoying in some situations, but this method allows you to connect different data types (int, string, etc) easily.\n",
        "\n",
        "Line 7 and 8 show that you cannot attach a number to a string with `print(a + b)`, but you can with `print(a, b)`.\n",
        "\n",
        "Line 10 shows that you cannot use math operators between strings and math. However, you can use the `int()` function to change a string to a number, as line 11 demonstrates."
      ]
    },
    {
      "cell_type": "code",
      "metadata": {
        "colab": {
          "base_uri": "https://localhost:8080/",
          "height": 283
        },
        "id": "zyt67nGpUzYa",
        "outputId": "8d73f7c9-55d6-4be0-87a5-b5d4801f5487"
      },
      "source": [
        "print(\"3 ** 2\")\n",
        "print(3 ** 2)\n",
        "\n",
        "print(\"3\" + \"2\")\n",
        "print(\"3\", \"2\")\n",
        "\n",
        "# print(\"3\" + 2)\n",
        "print(\"3\", 2)\n",
        "\n",
        "# print(\"3\" ** 2)\n",
        "print(int(\"3\") ** 2)"
      ],
      "execution_count": null,
      "outputs": [
        {
          "output_type": "stream",
          "text": [
            "3 ** 2\n",
            "9\n",
            "32\n",
            "3 2\n",
            "3 2\n"
          ],
          "name": "stdout"
        },
        {
          "output_type": "error",
          "ename": "ValueError",
          "evalue": "ignored",
          "traceback": [
            "\u001b[0;31m---------------------------------------------------------------------------\u001b[0m",
            "\u001b[0;31mValueError\u001b[0m                                Traceback (most recent call last)",
            "\u001b[0;32m<ipython-input-14-ccba0b70ee3f>\u001b[0m in \u001b[0;36m<module>\u001b[0;34m()\u001b[0m\n\u001b[1;32m      9\u001b[0m \u001b[0;34m\u001b[0m\u001b[0m\n\u001b[1;32m     10\u001b[0m \u001b[0;31m# print(\"3\" ** 2)\u001b[0m\u001b[0;34m\u001b[0m\u001b[0;34m\u001b[0m\u001b[0;34m\u001b[0m\u001b[0m\n\u001b[0;32m---> 11\u001b[0;31m \u001b[0mprint\u001b[0m\u001b[0;34m(\u001b[0m\u001b[0mint\u001b[0m\u001b[0;34m(\u001b[0m\u001b[0;34m\"3.5\"\u001b[0m\u001b[0;34m)\u001b[0m \u001b[0;34m**\u001b[0m \u001b[0;36m2\u001b[0m\u001b[0;34m)\u001b[0m\u001b[0;34m\u001b[0m\u001b[0;34m\u001b[0m\u001b[0m\n\u001b[0m",
            "\u001b[0;31mValueError\u001b[0m: invalid literal for int() with base 10: '3.5'"
          ]
        }
      ]
    },
    {
      "cell_type": "markdown",
      "metadata": {
        "id": "cpDwPkrmBaXK"
      },
      "source": [
        "If you want to print multiple lines, you can type `\\n` to make a new line. This is an alternative to using multiple print statements at once, but in general, stick to using multiple print statements when it makes sense to."
      ]
    },
    {
      "cell_type": "code",
      "metadata": {
        "colab": {
          "base_uri": "https://localhost:8080/"
        },
        "id": "gHb4I_vnBapa",
        "outputId": "a16a1bf9-16ea-40d9-b3a7-183edd1017cf"
      },
      "source": [
        "print(\"Hello\\nWorld\")"
      ],
      "execution_count": null,
      "outputs": [
        {
          "output_type": "stream",
          "text": [
            "Hello\n",
            "World\n"
          ],
          "name": "stdout"
        }
      ]
    },
    {
      "cell_type": "markdown",
      "metadata": {
        "id": "f5oborhdniza"
      },
      "source": [
        "**EXERCISE:** Print `1584 squared = [answer]`, replacing `[answer]` with the answer (use math to find the answer)."
      ]
    },
    {
      "cell_type": "code",
      "metadata": {
        "colab": {
          "base_uri": "https://localhost:8080/"
        },
        "id": "gxKN78jGnjU-",
        "outputId": "fe38c4f6-63a4-4dd1-f2c9-632368a973e1"
      },
      "source": [
        "print(\"1584 squared =\", 1584 * 1584)"
      ],
      "execution_count": null,
      "outputs": [
        {
          "output_type": "stream",
          "text": [
            "1584 squared = 2509056\n"
          ],
          "name": "stdout"
        }
      ]
    },
    {
      "cell_type": "markdown",
      "metadata": {
        "id": "4P1xPg1psljP"
      },
      "source": [
        "**EXERCISE:** Print the values of 2 seperate dice using only 1 print command in this format, replacing `num1` and `num2` with the actual rolls:\n",
        "```\n",
        "the first roll is [num1]\n",
        "the second roll is [num2]\n",
        "```"
      ]
    },
    {
      "cell_type": "code",
      "metadata": {
        "colab": {
          "base_uri": "https://localhost:8080/"
        },
        "id": "9cu3sVB4slzA",
        "outputId": "b604010f-4901-465f-8fed-a7d52feba5ce"
      },
      "source": [
        "import random\n",
        "\n",
        "print(\"the first roll is\", random.randint(1, 6), \"\\nthe second roll is\", random.randint(1, 6))"
      ],
      "execution_count": null,
      "outputs": [
        {
          "output_type": "stream",
          "text": [
            "the first roll is 5 \n",
            "the second roll is 1\n"
          ],
          "name": "stdout"
        }
      ]
    },
    {
      "cell_type": "markdown",
      "metadata": {
        "id": "x0VYswvu9j-y"
      },
      "source": [
        "# Review"
      ]
    },
    {
      "cell_type": "markdown",
      "metadata": {
        "id": "Yd-jKvif9nev"
      },
      "source": [
        "Find the value of `3 * (2 ** 4) / 12` (include all the decimals)."
      ]
    },
    {
      "cell_type": "code",
      "metadata": {
        "colab": {
          "base_uri": "https://localhost:8080/"
        },
        "id": "X2GzL8Bg94T-",
        "outputId": "c432c250-34a8-4078-a1c6-dbd6c8a64951"
      },
      "source": [
        "print(3 * (2 ** 4) / 12)"
      ],
      "execution_count": null,
      "outputs": [
        {
          "output_type": "stream",
          "text": [
            "4.0\n"
          ],
          "name": "stdout"
        }
      ]
    },
    {
      "cell_type": "markdown",
      "metadata": {
        "id": "8tPG-cM3-FyY"
      },
      "source": [
        "Find the value of `√(385) ** (2/3)` (include all the decimals)."
      ]
    },
    {
      "cell_type": "code",
      "metadata": {
        "colab": {
          "base_uri": "https://localhost:8080/"
        },
        "id": "cNa4Q6op-FAI",
        "outputId": "d8ac81c4-dd62-4a73-f053-8183945f8a4c"
      },
      "source": [
        "import math\n",
        "\n",
        "math.sqrt(385) ** (2/3)"
      ],
      "execution_count": null,
      "outputs": [
        {
          "output_type": "execute_result",
          "data": {
            "text/plain": [
              "7.274786348791456"
            ]
          },
          "metadata": {
            "tags": []
          },
          "execution_count": 8
        }
      ]
    },
    {
      "cell_type": "markdown",
      "metadata": {
        "id": "s6kEnvDO-m5x"
      },
      "source": [
        "Find the the cosine (`math.cos()`) of a random number between 1 and 20."
      ]
    },
    {
      "cell_type": "code",
      "metadata": {
        "colab": {
          "base_uri": "https://localhost:8080/"
        },
        "id": "d6NnagPN-osa",
        "outputId": "1ffa316b-15d7-44d1-e3ff-09faaa9daa1e"
      },
      "source": [
        "import math\n",
        "import random\n",
        "\n",
        "print(math.cos(random.randint(1, 20)))"
      ],
      "execution_count": null,
      "outputs": [
        {
          "output_type": "stream",
          "text": [
            "0.004425697988050785\n"
          ],
          "name": "stdout"
        }
      ]
    },
    {
      "cell_type": "markdown",
      "metadata": {
        "id": "lLjQsDFxAC5g"
      },
      "source": [
        "Print the following (including the quotes): `\"Emily likes riding her bike.\"`"
      ]
    },
    {
      "cell_type": "code",
      "metadata": {
        "colab": {
          "base_uri": "https://localhost:8080/"
        },
        "id": "goh8MRSyADKr",
        "outputId": "e17af1df-20c5-405d-d719-85cc493ac8fb"
      },
      "source": [
        "print(\"Emily likes riding her bike.\")"
      ],
      "execution_count": null,
      "outputs": [
        {
          "output_type": "stream",
          "text": [
            "Emily likes riding her bike.\n"
          ],
          "name": "stdout"
        }
      ]
    },
    {
      "cell_type": "markdown",
      "metadata": {
        "id": "G2ROPHJL-8Az"
      },
      "source": [
        "Print the following (including the quotes): `\"Hey, how are you? I'm doing alright,\" I said.`"
      ]
    },
    {
      "cell_type": "code",
      "metadata": {
        "colab": {
          "base_uri": "https://localhost:8080/"
        },
        "id": "MWk8zCKq-8O7",
        "outputId": "4025437a-2005-4012-e1ea-61a0ef6fb8bf"
      },
      "source": [
        "print('\"Hey, how are you? I\\'m doing alright.\"')"
      ],
      "execution_count": null,
      "outputs": [
        {
          "output_type": "stream",
          "text": [
            "\"Hey, how are you? I'm doing alright.\"\n"
          ],
          "name": "stdout"
        }
      ]
    },
    {
      "cell_type": "markdown",
      "metadata": {
        "id": "mnCoU19OAeuM"
      },
      "source": [
        "Print the following in one print statement (including the quotes):\n",
        "\n",
        "```\n",
        "\"Jay left his friend's house to go back home.\"\n",
        "\"But just before he left, he rememberd that he left his jacket inside.\"\n",
        "```"
      ]
    }
  ]
}