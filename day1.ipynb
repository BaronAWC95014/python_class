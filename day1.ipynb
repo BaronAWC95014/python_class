{
  "nbformat": 4,
  "nbformat_minor": 0,
  "metadata": {
    "colab": {
      "name": "day1.ipynb",
      "provenance": [],
      "collapsed_sections": [],
      "authorship_tag": "ABX9TyM1kh/0actj+rwXeEZIPdG1",
      "include_colab_link": true
    },
    "kernelspec": {
      "name": "python3",
      "display_name": "Python 3"
    },
    "language_info": {
      "name": "python"
    }
  },
  "cells": [
    {
      "cell_type": "markdown",
      "metadata": {
        "id": "view-in-github",
        "colab_type": "text"
      },
      "source": [
        "<a href=\"https://colab.research.google.com/github/BaronAWC95014/python_class_instructor/blob/main/day1.ipynb\" target=\"_parent\"><img src=\"https://colab.research.google.com/assets/colab-badge.svg\" alt=\"Open In Colab\"/></a>"
      ]
    },
    {
      "cell_type": "markdown",
      "metadata": {
        "id": "mJjBC2DhedHw"
      },
      "source": [
        "# Set up Colab"
      ]
    },
    {
      "cell_type": "markdown",
      "metadata": {
        "id": "IJTIwNzqeg_A"
      },
      "source": [
        "[Use this to get started.](https://docs.google.com/document/d/1FEs2t7_EnjgQXGkdL_ypF65_5yMGiT1TOIEQB8pLTMU/edit?ts=60c6d875) \n",
        "\n"
      ]
    },
    {
      "cell_type": "markdown",
      "metadata": {
        "id": "xEGowo3PfbyH"
      },
      "source": [
        "# Intro to the Python Language"
      ]
    },
    {
      "cell_type": "markdown",
      "metadata": {
        "id": "Z3FJ46NGf1GX"
      },
      "source": [
        "## What is Python?\n",
        "- Python is a programming language (a way to provide instructions to the computer).\n",
        "- Python is a scripting language. In a scripting language, the code always runs and only stops when it runs into an issue. When it runs into an error, it stops, and none of the code after it runs."
      ]
    },
    {
      "cell_type": "code",
      "metadata": {
        "id": "oVqxp5i9VruR",
        "colab": {
          "base_uri": "https://localhost:8080/",
          "height": 232
        },
        "outputId": "1ac96e3a-b67c-4558-dac4-00b4e630ed4c"
      },
      "source": [
        "# an example of how a scripting language works\n",
        "print(\"hello\") # runs successfully\n",
        "abc # throws error, code stops\n",
        "print(\"world\") # never gets run"
      ],
      "execution_count": 3,
      "outputs": [
        {
          "output_type": "stream",
          "text": [
            "hello\n"
          ],
          "name": "stdout"
        },
        {
          "output_type": "error",
          "ename": "NameError",
          "evalue": "ignored",
          "traceback": [
            "\u001b[0;31m---------------------------------------------------------------------------\u001b[0m",
            "\u001b[0;31mNameError\u001b[0m                                 Traceback (most recent call last)",
            "\u001b[0;32m<ipython-input-3-8d8548a31a5f>\u001b[0m in \u001b[0;36m<module>\u001b[0;34m()\u001b[0m\n\u001b[1;32m      1\u001b[0m \u001b[0;31m# an example of how a scripting language works\u001b[0m\u001b[0;34m\u001b[0m\u001b[0;34m\u001b[0m\u001b[0;34m\u001b[0m\u001b[0m\n\u001b[1;32m      2\u001b[0m \u001b[0mprint\u001b[0m\u001b[0;34m(\u001b[0m\u001b[0;34m\"hello\"\u001b[0m\u001b[0;34m)\u001b[0m \u001b[0;31m# runs successfully\u001b[0m\u001b[0;34m\u001b[0m\u001b[0;34m\u001b[0m\u001b[0m\n\u001b[0;32m----> 3\u001b[0;31m \u001b[0mabc\u001b[0m \u001b[0;31m# throws error, code stops\u001b[0m\u001b[0;34m\u001b[0m\u001b[0;34m\u001b[0m\u001b[0m\n\u001b[0m\u001b[1;32m      4\u001b[0m \u001b[0mprint\u001b[0m\u001b[0;34m(\u001b[0m\u001b[0;34m\"world\"\u001b[0m\u001b[0;34m)\u001b[0m \u001b[0;31m# never gets run\u001b[0m\u001b[0;34m\u001b[0m\u001b[0;34m\u001b[0m\u001b[0m\n",
            "\u001b[0;31mNameError\u001b[0m: name 'abc' is not defined"
          ]
        }
      ]
    },
    {
      "cell_type": "markdown",
      "metadata": {
        "id": "XumHQAyhcZ8u"
      },
      "source": [
        "## Why Python?\n",
        "- Python is one of the most popular programming languages for colleges.\n",
        "- Python's syntax (language/grammar) is intuitive and easy to get started with."
      ]
    },
    {
      "cell_type": "markdown",
      "metadata": {
        "id": "AYBExM8bcijd"
      },
      "source": [
        "## What is Google Colab?\n",
        "- Programmers usually use integrated development environments (IDE's). which suggest autocompletes for you.\n",
        "- Python interpreters read code and perform the given actions. Google Colab is a Python interpreter."
      ]
    },
    {
      "cell_type": "markdown",
      "metadata": {
        "id": "UNJJL7sSyJ7U"
      },
      "source": [
        "# Writing Comments"
      ]
    },
    {
      "cell_type": "markdown",
      "metadata": {
        "id": "Uvz4CBF5yNNv"
      },
      "source": [
        "At any point, if you have a `#` sign, the rest of the line will be ignored by the Python interpreter. This is used for programmers to clarify code (line 1) or make code not run without deleting it (line 3)."
      ]
    },
    {
      "cell_type": "code",
      "metadata": {
        "id": "_BrAFwUwyNgd",
        "colab": {
          "base_uri": "https://localhost:8080/"
        },
        "outputId": "f1156e4c-93ad-48bf-e11b-91b960b92685"
      },
      "source": [
        "2 + 5 # add 2 and 5\n",
        "\n",
        "# 10 - 5"
      ],
      "execution_count": 4,
      "outputs": [
        {
          "output_type": "execute_result",
          "data": {
            "text/plain": [
              "7"
            ]
          },
          "metadata": {
            "tags": []
          },
          "execution_count": 4
        }
      ]
    },
    {
      "cell_type": "markdown",
      "metadata": {
        "id": "H6E-bqCalU4p"
      },
      "source": [
        "# Using Python as a Calculator"
      ]
    },
    {
      "cell_type": "markdown",
      "metadata": {
        "id": "YakNnntRczqQ"
      },
      "source": [
        "## Basic Arithmetic"
      ]
    },
    {
      "cell_type": "markdown",
      "metadata": {
        "id": "YpvV6hy0lqRf"
      },
      "source": [
        "You can simply type something like an equation in a code cell and it will print it out for you."
      ]
    },
    {
      "cell_type": "code",
      "metadata": {
        "id": "ft-hEXlxlcmZ",
        "colab": {
          "base_uri": "https://localhost:8080/"
        },
        "outputId": "efe2d854-7c6d-4cd2-8d20-a14b5497532f"
      },
      "source": [
        "5 + 5"
      ],
      "execution_count": 5,
      "outputs": [
        {
          "output_type": "execute_result",
          "data": {
            "text/plain": [
              "10"
            ]
          },
          "metadata": {
            "tags": []
          },
          "execution_count": 5
        }
      ]
    },
    {
      "cell_type": "markdown",
      "metadata": {
        "id": "eYtW9-pBl3L2"
      },
      "source": [
        "However, keep in mind that it only works for the very last one. In this cell, the first line doesn't print, but the second one does."
      ]
    },
    {
      "cell_type": "code",
      "metadata": {
        "id": "6E3jyzLsl3p5",
        "colab": {
          "base_uri": "https://localhost:8080/"
        },
        "outputId": "ff79047f-2a83-47ac-9989-fdbc5fe4fc10"
      },
      "source": [
        "1 + 2\n",
        "13 - 5"
      ],
      "execution_count": 6,
      "outputs": [
        {
          "output_type": "execute_result",
          "data": {
            "text/plain": [
              "8"
            ]
          },
          "metadata": {
            "tags": []
          },
          "execution_count": 6
        }
      ]
    },
    {
      "cell_type": "markdown",
      "metadata": {
        "id": "Vin3wWatmGZ5"
      },
      "source": [
        "In math, you usually write the multiply symbol as either `x` or `•`. However, this is not the case for coding, and the interpreter will be confused. Instead, you use `*` (`SHIFT` + `8`) (asterisk) to show multiplication. To show division, you use `/`. Spacing between the symbols and numbers don't matter, so `2 + 3` is the same as `2+3` and `2+ 3`."
      ]
    },
    {
      "cell_type": "code",
      "metadata": {
        "id": "AukK-BSImG-K",
        "colab": {
          "base_uri": "https://localhost:8080/"
        },
        "outputId": "e3c4e395-ada9-4b83-a402-b88b736928f4"
      },
      "source": [
        "5 * -4"
      ],
      "execution_count": 7,
      "outputs": [
        {
          "output_type": "execute_result",
          "data": {
            "text/plain": [
              "-20"
            ]
          },
          "metadata": {
            "tags": []
          },
          "execution_count": 7
        }
      ]
    },
    {
      "cell_type": "code",
      "metadata": {
        "id": "JZb0DIOpoSJ_",
        "colab": {
          "base_uri": "https://localhost:8080/"
        },
        "outputId": "2a8b5299-3f12-4795-98ea-4a6fe18dc9ec"
      },
      "source": [
        "9/3"
      ],
      "execution_count": 8,
      "outputs": [
        {
          "output_type": "execute_result",
          "data": {
            "text/plain": [
              "3.0"
            ]
          },
          "metadata": {
            "tags": []
          },
          "execution_count": 8
        }
      ]
    },
    {
      "cell_type": "markdown",
      "metadata": {
        "id": "Nqtp4tJAluf1"
      },
      "source": [
        "You may notice that the last expression gave `3.0`, not `3`. `3.0` is a float, a number that has a decimal. Since `20` has no decimal, it is an integer (int). This is not very important for the time being, but we will go over integers and floats later."
      ]
    },
    {
      "cell_type": "code",
      "metadata": {
        "id": "SMHUwagmlu0q",
        "colab": {
          "base_uri": "https://localhost:8080/"
        },
        "outputId": "63c9dc79-a448-48a3-9342-ea6e3058d535"
      },
      "source": [
        "type(3.0)"
      ],
      "execution_count": 9,
      "outputs": [
        {
          "output_type": "execute_result",
          "data": {
            "text/plain": [
              "float"
            ]
          },
          "metadata": {
            "tags": []
          },
          "execution_count": 9
        }
      ]
    },
    {
      "cell_type": "code",
      "metadata": {
        "id": "_yIXYQ-4mcvb",
        "colab": {
          "base_uri": "https://localhost:8080/"
        },
        "outputId": "34ea9e4c-4795-40ab-d25c-dd9b52328b51"
      },
      "source": [
        "type(3)"
      ],
      "execution_count": 10,
      "outputs": [
        {
          "output_type": "execute_result",
          "data": {
            "text/plain": [
              "int"
            ]
          },
          "metadata": {
            "tags": []
          },
          "execution_count": 10
        }
      ]
    },
    {
      "cell_type": "markdown",
      "metadata": {
        "id": "RQ48r-QHuVuC"
      },
      "source": [
        "These are all the math symbols.\n",
        "- Parentheses: `()`\n",
        "- Exponent: `x ** y` or `pow(x, y)`\n",
        "- Multiply: `x * y`\n",
        "- Divide: `x / y`\n",
        "- Add: `x + y`\n",
        "- Subtract: `x - y`\n",
        "- Modulus (remainder after division): `x % y`\n"
      ]
    },
    {
      "cell_type": "markdown",
      "metadata": {
        "id": "jqQ-Z5szsjVu"
      },
      "source": [
        "**EXERCISE:** Find the value of `52 + 4 ** (10 - 2)`. After that, calculate the same expression without the parentheses."
      ]
    },
    {
      "cell_type": "code",
      "metadata": {
        "id": "FDSwnrwSsjnt",
        "colab": {
          "base_uri": "https://localhost:8080/"
        },
        "outputId": "d2efbe7d-fa7f-4fdd-e653-cde14db00692"
      },
      "source": [
        "52 + 4 ** (10 - 2)"
      ],
      "execution_count": 11,
      "outputs": [
        {
          "output_type": "execute_result",
          "data": {
            "text/plain": [
              "65588"
            ]
          },
          "metadata": {
            "tags": []
          },
          "execution_count": 11
        }
      ]
    },
    {
      "cell_type": "code",
      "metadata": {
        "id": "5aVWCkJHDKpP",
        "colab": {
          "base_uri": "https://localhost:8080/"
        },
        "outputId": "9a390991-d527-4401-d007-6b3071cf8b02"
      },
      "source": [
        "52 + 4 ** 10 - 2"
      ],
      "execution_count": 12,
      "outputs": [
        {
          "output_type": "execute_result",
          "data": {
            "text/plain": [
              "1048626"
            ]
          },
          "metadata": {
            "tags": []
          },
          "execution_count": 12
        }
      ]
    },
    {
      "cell_type": "markdown",
      "metadata": {
        "id": "jsDLrWC4Fhv6"
      },
      "source": [
        "**EXERCISE:** Find the sum of all the numbers from 1 to 10."
      ]
    },
    {
      "cell_type": "code",
      "metadata": {
        "id": "GEWZShhlFiBJ",
        "colab": {
          "base_uri": "https://localhost:8080/"
        },
        "outputId": "9beb5bf2-399b-40f5-b348-12c9cd9b2fad"
      },
      "source": [
        "# brute force (not a good way to do it)\n",
        "1 + 2 + 3 + 4 + 5 + 6 + 7 + 8 + 9 + 10"
      ],
      "execution_count": 13,
      "outputs": [
        {
          "output_type": "execute_result",
          "data": {
            "text/plain": [
              "55"
            ]
          },
          "metadata": {
            "tags": []
          },
          "execution_count": 13
        }
      ]
    },
    {
      "cell_type": "code",
      "metadata": {
        "colab": {
          "base_uri": "https://localhost:8080/"
        },
        "id": "O-5Im1_-ruLV",
        "outputId": "9858534b-99ee-443b-949f-9d62fc5f929b"
      },
      "source": [
        "# formula (better way)\n",
        "(1 + 10) * 10 / 2"
      ],
      "execution_count": 14,
      "outputs": [
        {
          "output_type": "execute_result",
          "data": {
            "text/plain": [
              "55.0"
            ]
          },
          "metadata": {
            "tags": []
          },
          "execution_count": 14
        }
      ]
    },
    {
      "cell_type": "markdown",
      "metadata": {
        "id": "G0Qf1JmYc7Im"
      },
      "source": [
        "## Importing Math"
      ]
    },
    {
      "cell_type": "markdown",
      "metadata": {
        "id": "pLxwJKyga-9a"
      },
      "source": [
        "It doesn't end there though. You can import more ways to use numbers by typing `import math`. When you type `math.` (the period is important), you should get a window with some autocompletes of functions and constants.\n",
        "\n",
        "You don't need to worry about what functions are yet, those will come later. Constants are numbers that don't change, like pi.\n",
        "\n",
        "If the autocompletes don't show up, you probably have to run the cell first, then type `math.` again. If you click away from the `math.` and the autcompletes disappear, delete the period and add it back, and you should get the autcompletes.\n",
        "\n",
        "By importing math, you now have constants (pi, infinity, NaN, etc), trigonometric functions (sin, cos, etc), and other important operations (sqrt, etc)."
      ]
    },
    {
      "cell_type": "code",
      "metadata": {
        "id": "MWDB1mw7a_VY",
        "colab": {
          "base_uri": "https://localhost:8080/"
        },
        "outputId": "ce3f4ae9-e941-49ed-994f-200d1b19d9b5"
      },
      "source": [
        "import math\n",
        "\n",
        "print(math.sqrt(1234))"
      ],
      "execution_count": 15,
      "outputs": [
        {
          "output_type": "stream",
          "text": [
            "35.12833614050059\n"
          ],
          "name": "stdout"
        }
      ]
    },
    {
      "cell_type": "markdown",
      "metadata": {
        "id": "JaZND92GgYEY"
      },
      "source": [
        "If you don't know what something is or what it does, a question mark at the end of the function or constant (without the parentheses) and run the program, and you will be given a help manual. This works for any function, not just for math. We will be exploring more of these later.\n",
        "\n",
        "This probably only works in Google Colab.\n",
        "\n",
        "For this example, I typed the following and ran it:"
      ]
    },
    {
      "cell_type": "code",
      "metadata": {
        "id": "eWbNTJ1ugYV6"
      },
      "source": [
        "import math\n",
        "\n",
        "# bring up the Google Colab help manual for this function\n",
        "math.exp?"
      ],
      "execution_count": 16,
      "outputs": []
    },
    {
      "cell_type": "markdown",
      "metadata": {
        "id": "dYRlIk1RsLFD"
      },
      "source": [
        "![example of what the help manual looks like](https://drive.google.com/uc?export=view&id=1qyC6aKoDdsWi3-55L9icqvnPb3KRyNDf)"
      ]
    },
    {
      "cell_type": "markdown",
      "metadata": {
        "id": "d8GkrB16mq3j"
      },
      "source": [
        "## Random Numbers"
      ]
    },
    {
      "cell_type": "markdown",
      "metadata": {
        "id": "LjwJ-78SmtGD"
      },
      "source": [
        "Python can generate random numbers, which can be useful in some situations. The following are likely the most useful."
      ]
    },
    {
      "cell_type": "code",
      "metadata": {
        "id": "won26r9SodIG",
        "colab": {
          "base_uri": "https://localhost:8080/"
        },
        "outputId": "2f437d63-cfe4-499a-c728-251105e06218"
      },
      "source": [
        "import random\n",
        "\n",
        "# returns an integer between 0 (by default) and 4 (not including 5)\n",
        "random.randrange(5)"
      ],
      "execution_count": 17,
      "outputs": [
        {
          "output_type": "execute_result",
          "data": {
            "text/plain": [
              "3"
            ]
          },
          "metadata": {
            "tags": []
          },
          "execution_count": 17
        }
      ]
    },
    {
      "cell_type": "code",
      "metadata": {
        "colab": {
          "base_uri": "https://localhost:8080/"
        },
        "id": "Kj8qrCi0sUwc",
        "outputId": "20bbc057-00f9-4a1d-c546-66e1bd739990"
      },
      "source": [
        "import random\n",
        "\n",
        "# returns an integer between 2 and 11 (not including 12)\n",
        "random.randrange(2, 12)"
      ],
      "execution_count": 18,
      "outputs": [
        {
          "output_type": "execute_result",
          "data": {
            "text/plain": [
              "11"
            ]
          },
          "metadata": {
            "tags": []
          },
          "execution_count": 18
        }
      ]
    },
    {
      "cell_type": "code",
      "metadata": {
        "colab": {
          "base_uri": "https://localhost:8080/"
        },
        "id": "1jo27YofsXnb",
        "outputId": "1a790676-2cee-4fda-f30e-e14b496495d5"
      },
      "source": [
        "import random\n",
        "\n",
        "# returns an integer between 1 and 19, skipping every 2nd number\n",
        "random.randrange(1, 20, 2)"
      ],
      "execution_count": 19,
      "outputs": [
        {
          "output_type": "execute_result",
          "data": {
            "text/plain": [
              "17"
            ]
          },
          "metadata": {
            "tags": []
          },
          "execution_count": 19
        }
      ]
    },
    {
      "cell_type": "code",
      "metadata": {
        "colab": {
          "base_uri": "https://localhost:8080/"
        },
        "id": "OAZeaI5KsZ1C",
        "outputId": "1f9565ed-65ad-4109-c2d0-28d8fd4ca9b9"
      },
      "source": [
        "import random\n",
        "\n",
        "# returns an integer between 5 and 10, both included\n",
        "random.randint(5, 10)"
      ],
      "execution_count": 20,
      "outputs": [
        {
          "output_type": "execute_result",
          "data": {
            "text/plain": [
              "9"
            ]
          },
          "metadata": {
            "tags": []
          },
          "execution_count": 20
        }
      ]
    },
    {
      "cell_type": "markdown",
      "metadata": {
        "id": "OGo6hMeArGjF"
      },
      "source": [
        "**EXERCISE:** Use random numbers to simulate rolling 2 6-sided dice."
      ]
    },
    {
      "cell_type": "code",
      "metadata": {
        "id": "bhocNU8IrSM6",
        "colab": {
          "base_uri": "https://localhost:8080/"
        },
        "outputId": "42e9bfa7-4a5e-44cb-b8bf-37e6c8a81fc8"
      },
      "source": [
        "random.randint(1, 6) + random.randint(1, 6)"
      ],
      "execution_count": 21,
      "outputs": [
        {
          "output_type": "execute_result",
          "data": {
            "text/plain": [
              "5"
            ]
          },
          "metadata": {
            "tags": []
          },
          "execution_count": 21
        }
      ]
    },
    {
      "cell_type": "markdown",
      "metadata": {
        "id": "NQqleoiSF3R8"
      },
      "source": [
        "# Strings and Printing"
      ]
    },
    {
      "cell_type": "markdown",
      "metadata": {
        "id": "vfGNRLbmHXqw"
      },
      "source": [
        "To type a string, you either use single quotes or double quotes."
      ]
    },
    {
      "cell_type": "code",
      "metadata": {
        "id": "KyN2woWMH-Jw",
        "colab": {
          "base_uri": "https://localhost:8080/",
          "height": 35
        },
        "outputId": "ab46f50e-3dc8-4c14-c149-fc836d2344b8"
      },
      "source": [
        "\"Hello World\""
      ],
      "execution_count": 22,
      "outputs": [
        {
          "output_type": "execute_result",
          "data": {
            "application/vnd.google.colaboratory.intrinsic+json": {
              "type": "string"
            },
            "text/plain": [
              "'Hello World'"
            ]
          },
          "metadata": {
            "tags": []
          },
          "execution_count": 22
        }
      ]
    },
    {
      "cell_type": "code",
      "metadata": {
        "id": "vgB_QiShJi9_",
        "colab": {
          "base_uri": "https://localhost:8080/",
          "height": 35
        },
        "outputId": "a69d1225-3d0d-413b-9a39-fdbf31f7b85e"
      },
      "source": [
        "'Hello World'"
      ],
      "execution_count": 23,
      "outputs": [
        {
          "output_type": "execute_result",
          "data": {
            "application/vnd.google.colaboratory.intrinsic+json": {
              "type": "string"
            },
            "text/plain": [
              "'Hello World'"
            ]
          },
          "metadata": {
            "tags": []
          },
          "execution_count": 23
        }
      ]
    },
    {
      "cell_type": "markdown",
      "metadata": {
        "id": "UMI-WVgbJkiD"
      },
      "source": [
        "However, you cannot use a single quote to start a string and a double quote to end the same string, and vice versa."
      ]
    },
    {
      "cell_type": "code",
      "metadata": {
        "id": "Ks832WeZJqJG",
        "colab": {
          "base_uri": "https://localhost:8080/",
          "height": 130
        },
        "outputId": "97037d9e-8ddf-4117-c8b8-c1a868344642"
      },
      "source": [
        "'Hello World\""
      ],
      "execution_count": 24,
      "outputs": [
        {
          "output_type": "error",
          "ename": "SyntaxError",
          "evalue": "ignored",
          "traceback": [
            "\u001b[0;36m  File \u001b[0;32m\"<ipython-input-24-44dd3834fbac>\"\u001b[0;36m, line \u001b[0;32m1\u001b[0m\n\u001b[0;31m    'Hello World\"\u001b[0m\n\u001b[0m                 ^\u001b[0m\n\u001b[0;31mSyntaxError\u001b[0m\u001b[0;31m:\u001b[0m EOL while scanning string literal\n"
          ]
        }
      ]
    },
    {
      "cell_type": "markdown",
      "metadata": {
        "id": "gGpXqtntKdqe"
      },
      "source": [
        "With this rule, if you use single quotes to make the string, you can use double quotes inside it, and vice versa."
      ]
    },
    {
      "cell_type": "code",
      "metadata": {
        "id": "dGK9sArFKzaY"
      },
      "source": [
        "\"Bob's phone started ringing.\""
      ],
      "execution_count": null,
      "outputs": []
    },
    {
      "cell_type": "markdown",
      "metadata": {
        "id": "91XkaMA8Lf14"
      },
      "source": [
        "If you want to use both single and double quotes in a string, you can use a backslash (`\\`) before the quotation mark. However, there might be a formatting problem."
      ]
    },
    {
      "cell_type": "code",
      "metadata": {
        "id": "y2g5_Jr-LRyt"
      },
      "source": [
        "\"\\\"Hello, who's this?\\\" he asked.\""
      ],
      "execution_count": null,
      "outputs": []
    },
    {
      "cell_type": "markdown",
      "metadata": {
        "id": "9LLdhtnROKzu"
      },
      "source": [
        "The formatting problem comes from the fact that directly typing the string returns what the computer sees, not what the human is supposed to see.\n",
        "\n",
        "Printing like this wasn't a very good way to do so in the first place, since it only prints the last command. But if you use `print()`, you can print at any time, and the formatting is now correct."
      ]
    },
    {
      "cell_type": "code",
      "metadata": {
        "id": "5bye5QdxLfOm"
      },
      "source": [
        "print(\"\\\"Hello, who's this?\\\" he asked.\")"
      ],
      "execution_count": null,
      "outputs": []
    },
    {
      "cell_type": "markdown",
      "metadata": {
        "id": "aXrT0SFMPGMq"
      },
      "source": [
        "You can print multiple times, and they don't just have to be strings."
      ]
    },
    {
      "cell_type": "code",
      "metadata": {
        "id": "dEHqXJsxPGdn"
      },
      "source": [
        "print(\"the quick brown fox jumps over the lazy dog\")\n",
        "print(2 + 3)"
      ],
      "execution_count": null,
      "outputs": []
    },
    {
      "cell_type": "markdown",
      "metadata": {
        "id": "yx9sljkvUz6s"
      },
      "source": [
        "In the following code:\n",
        "\n",
        "Line 1 prints exactly what is put in, but line 2 the other evaluates the equation. This is because the first one is a string, denoted by the quotes, and one is a number.\n",
        "\n",
        "Line 4 shows that you can \"add\" 2 strings together to combine them. Line 5 is similar, but there is a space in between. This is because the strings were connected using a comma. This could potentially be annoying in some situations, but this method allows you to connect different data types (int, string, etc) easily.\n",
        "\n",
        "Line 7 and 8 show that you cannot attach a number to a string with `print(a + b)`, but you can with `print(a, b)`.\n",
        "\n",
        "Line 10 shows that you cannot use math operators between strings and math. However, you can use the `int()` function to change a string to a number, as line 11 demonstrates."
      ]
    },
    {
      "cell_type": "code",
      "metadata": {
        "id": "zyt67nGpUzYa"
      },
      "source": [
        "print(\"3 ** 2\")\n",
        "print(3 ** 2)\n",
        "\n",
        "print(\"3\" + \"2\")\n",
        "print(\"3\", \"2\")\n",
        "\n",
        "# print(\"3\" + 2)\n",
        "print(\"3\", 2)\n",
        "\n",
        "# print(\"3\" ** 2)\n",
        "print(int(\"3\") ** 2)"
      ],
      "execution_count": null,
      "outputs": []
    },
    {
      "cell_type": "markdown",
      "metadata": {
        "id": "cpDwPkrmBaXK"
      },
      "source": [
        "If you want to print multiple lines, you can type `\\n` to make a new line. This is an alternative to using multiple print statements at once, but in general, stick to using multiple print statements when it makes sense to."
      ]
    },
    {
      "cell_type": "code",
      "metadata": {
        "id": "gHb4I_vnBapa"
      },
      "source": [
        "print(\"Hello\\nWorld\")"
      ],
      "execution_count": null,
      "outputs": []
    },
    {
      "cell_type": "markdown",
      "metadata": {
        "id": "f5oborhdniza"
      },
      "source": [
        "**EXERCISE:** Print `1584 squared = [answer]`, replacing `[answer]` with the answer (use math to find the answer)."
      ]
    },
    {
      "cell_type": "code",
      "metadata": {
        "id": "gxKN78jGnjU-"
      },
      "source": [
        "print(\"1584 squared =\", 1584 * 1584)"
      ],
      "execution_count": null,
      "outputs": []
    },
    {
      "cell_type": "markdown",
      "metadata": {
        "id": "4P1xPg1psljP"
      },
      "source": [
        "**EXERCISE:** Print the values of 2 seperate dice using only 1 print command in this format, replacing `num1` and `num2` with the actual rolls:\n",
        "```\n",
        "the first roll is [num1]\n",
        "the second roll is [num2]\n",
        "```"
      ]
    },
    {
      "cell_type": "code",
      "metadata": {
        "id": "9cu3sVB4slzA"
      },
      "source": [
        "import random\n",
        "\n",
        "print(\"the first roll is\", random.randint(1, 6), \"\\nthe second roll is\", random.randint(1, 6))"
      ],
      "execution_count": null,
      "outputs": []
    },
    {
      "cell_type": "markdown",
      "metadata": {
        "id": "x0VYswvu9j-y"
      },
      "source": [
        "# Review"
      ]
    },
    {
      "cell_type": "markdown",
      "metadata": {
        "id": "Yd-jKvif9nev"
      },
      "source": [
        "Find the value of `3 * (2 ** 4) / 12` (include all the decimals)."
      ]
    },
    {
      "cell_type": "code",
      "metadata": {
        "id": "X2GzL8Bg94T-"
      },
      "source": [
        "print(3 * (2 ** 4) / 12)"
      ],
      "execution_count": null,
      "outputs": []
    },
    {
      "cell_type": "markdown",
      "metadata": {
        "id": "8tPG-cM3-FyY"
      },
      "source": [
        "Find the value of `√(385) ** (2/3)` (include all the decimals)."
      ]
    },
    {
      "cell_type": "code",
      "metadata": {
        "id": "cNa4Q6op-FAI"
      },
      "source": [
        "import math\n",
        "\n",
        "math.sqrt(385) ** (2/3)"
      ],
      "execution_count": null,
      "outputs": []
    },
    {
      "cell_type": "markdown",
      "metadata": {
        "id": "s6kEnvDO-m5x"
      },
      "source": [
        "Find the the cosine (`math.cos()`) of a random number between 1 and 20."
      ]
    },
    {
      "cell_type": "code",
      "metadata": {
        "id": "d6NnagPN-osa"
      },
      "source": [
        "import math\n",
        "import random\n",
        "\n",
        "print(math.cos(random.randint(1, 20)))"
      ],
      "execution_count": null,
      "outputs": []
    },
    {
      "cell_type": "markdown",
      "metadata": {
        "id": "lLjQsDFxAC5g"
      },
      "source": [
        "Print the following (including the quotes): `\"Emily likes riding her bike.\"`"
      ]
    },
    {
      "cell_type": "code",
      "metadata": {
        "id": "goh8MRSyADKr"
      },
      "source": [
        "print(\"Emily likes riding her bike.\")"
      ],
      "execution_count": null,
      "outputs": []
    },
    {
      "cell_type": "markdown",
      "metadata": {
        "id": "G2ROPHJL-8Az"
      },
      "source": [
        "Print the following (including the quotes): `\"Hey, how are you? I'm doing alright,\" I said.`"
      ]
    },
    {
      "cell_type": "code",
      "metadata": {
        "id": "MWk8zCKq-8O7"
      },
      "source": [
        "print('\"Hey, how are you? I\\'m doing alright.\"')"
      ],
      "execution_count": null,
      "outputs": []
    }
  ]
}